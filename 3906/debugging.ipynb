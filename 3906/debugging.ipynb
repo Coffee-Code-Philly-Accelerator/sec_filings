{
 "cells": [
  {
   "cell_type": "code",
   "execution_count": 180,
   "metadata": {},
   "outputs": [
    {
     "name": "stdout",
     "output_type": "stream",
     "text": [
      "[CIK==debugging:INFO] Initializing ok.\n",
      "[CIK==debugging:INFO] Initializing ok.\n",
      "[CIK==debugging:INFO] Initializing ok.\n",
      "[CIK==debugging:INFO] Initializing ok.\n",
      "[CIK==debugging:INFO] Initializing ok.\n",
      "[CIK==debugging:INFO] Initializing ok.\n",
      "[CIK==debugging:INFO] Initializing ok.\n",
      "[CIK==debugging:INFO] Initializing ok.\n",
      "[CIK==debugging:INFO] Initializing ok.\n",
      "[CIK==debugging:INFO] Initializing ok.\n",
      "[CIK==debugging:INFO] Initializing ok.\n",
      "[CIK==debugging:INFO] Initializing ok.\n",
      "[CIK==debugging:INFO] Initializing ok.\n",
      "[CIK==debugging:INFO] Initializing ok.\n",
      "[CIK==debugging:INFO] Initializing ok.\n",
      "[CIK==debugging:INFO] Initializing ok.\n",
      "[CIK==debugging:INFO] Initializing ok.\n",
      "[CIK==debugging:INFO] Initializing ok.\n",
      "[CIK==debugging:INFO] Initializing ok.\n",
      "[CIK==debugging:INFO] Initializing ok.\n",
      "[CIK==debugging:INFO] Initializing ok.\n"
     ]
    },
    {
     "name": "stderr",
     "output_type": "stream",
     "text": [
      "INFO:CIK==debugging:Initializing ok.\n"
     ]
    },
    {
     "name": "stdout",
     "output_type": "stream",
     "text": [
      "[CIK==debugging:INFO] debugging\n",
      "[CIK==debugging:INFO] debugging\n",
      "[CIK==debugging:INFO] debugging\n",
      "[CIK==debugging:INFO] debugging\n",
      "[CIK==debugging:INFO] debugging\n",
      "[CIK==debugging:INFO] debugging\n",
      "[CIK==debugging:INFO] debugging\n",
      "[CIK==debugging:INFO] debugging\n",
      "[CIK==debugging:INFO] debugging\n",
      "[CIK==debugging:INFO] debugging\n",
      "[CIK==debugging:INFO] debugging\n",
      "[CIK==debugging:INFO] debugging\n",
      "[CIK==debugging:INFO] debugging\n",
      "[CIK==debugging:INFO] debugging\n",
      "[CIK==debugging:INFO] debugging\n",
      "[CIK==debugging:INFO] debugging\n",
      "[CIK==debugging:INFO] debugging\n",
      "[CIK==debugging:INFO] debugging\n",
      "[CIK==debugging:INFO] debugging\n",
      "[CIK==debugging:INFO] debugging\n",
      "[CIK==debugging:INFO] debugging\n"
     ]
    },
    {
     "name": "stderr",
     "output_type": "stream",
     "text": [
      "INFO:CIK==debugging:debugging\n"
     ]
    },
    {
     "name": "stdout",
     "output_type": "stream",
     "text": [
      "[CIK==debugging:INFO] PROCESSING - 2002-06-30\n",
      "[CIK==debugging:INFO] PROCESSING - 2002-06-30\n",
      "[CIK==debugging:INFO] PROCESSING - 2002-06-30\n",
      "[CIK==debugging:INFO] PROCESSING - 2002-06-30\n",
      "[CIK==debugging:INFO] PROCESSING - 2002-06-30\n",
      "[CIK==debugging:INFO] PROCESSING - 2002-06-30\n",
      "[CIK==debugging:INFO] PROCESSING - 2002-06-30\n",
      "[CIK==debugging:INFO] PROCESSING - 2002-06-30\n",
      "[CIK==debugging:INFO] PROCESSING - 2002-06-30\n",
      "[CIK==debugging:INFO] PROCESSING - 2002-06-30\n",
      "[CIK==debugging:INFO] PROCESSING - 2002-06-30\n",
      "[CIK==debugging:INFO] PROCESSING - 2002-06-30\n",
      "[CIK==debugging:INFO] PROCESSING - 2002-06-30\n",
      "[CIK==debugging:INFO] PROCESSING - 2002-06-30\n",
      "[CIK==debugging:INFO] PROCESSING - 2002-06-30\n",
      "[CIK==debugging:INFO] PROCESSING - 2002-06-30\n",
      "[CIK==debugging:INFO] PROCESSING - 2002-06-30\n",
      "[CIK==debugging:INFO] PROCESSING - 2002-06-30\n",
      "[CIK==debugging:INFO] PROCESSING - 2002-06-30\n",
      "[CIK==debugging:INFO] PROCESSING - 2002-06-30\n",
      "[CIK==debugging:INFO] PROCESSING - 2002-06-30\n"
     ]
    },
    {
     "name": "stderr",
     "output_type": "stream",
     "text": [
      "INFO:CIK==debugging:PROCESSING - 2002-06-30\n",
      "WARNING:root:Applied processor reduces input query to empty string, all comparisons will have score 0. [Query: '']\n",
      "WARNING:root:Applied processor reduces input query to empty string, all comparisons will have score 0. [Query: '']\n",
      "WARNING:root:Applied processor reduces input query to empty string, all comparisons will have score 0. [Query: '']\n",
      "/home/tony/anaconda3/envs/sec/lib/python3.6/site-packages/ipykernel_launcher.py:191: SettingWithCopyWarning: \n",
      "A value is trying to be set on a copy of a slice from a DataFrame.\n",
      "Try using .loc[row_indexer,col_indexer] = value instead\n",
      "\n",
      "See the caveats in the documentation: https://pandas.pydata.org/pandas-docs/stable/user_guide/indexing.html#returning-a-view-versus-a-copy\n"
     ]
    },
    {
     "name": "stdout",
     "output_type": "stream",
     "text": [
      "[CIK==debugging:INFO] 3906/2002-06-30/Schedule_of_Investments_1.csv\n",
      "[CIK==debugging:INFO] 3906/2002-06-30/Schedule_of_Investments_1.csv\n",
      "[CIK==debugging:INFO] 3906/2002-06-30/Schedule_of_Investments_1.csv\n",
      "[CIK==debugging:INFO] 3906/2002-06-30/Schedule_of_Investments_1.csv\n",
      "[CIK==debugging:INFO] 3906/2002-06-30/Schedule_of_Investments_1.csv\n",
      "[CIK==debugging:INFO] 3906/2002-06-30/Schedule_of_Investments_1.csv\n",
      "[CIK==debugging:INFO] 3906/2002-06-30/Schedule_of_Investments_1.csv\n",
      "[CIK==debugging:INFO] 3906/2002-06-30/Schedule_of_Investments_1.csv\n",
      "[CIK==debugging:INFO] 3906/2002-06-30/Schedule_of_Investments_1.csv\n",
      "[CIK==debugging:INFO] 3906/2002-06-30/Schedule_of_Investments_1.csv\n",
      "[CIK==debugging:INFO] 3906/2002-06-30/Schedule_of_Investments_1.csv\n",
      "[CIK==debugging:INFO] 3906/2002-06-30/Schedule_of_Investments_1.csv\n",
      "[CIK==debugging:INFO] 3906/2002-06-30/Schedule_of_Investments_1.csv\n",
      "[CIK==debugging:INFO] 3906/2002-06-30/Schedule_of_Investments_1.csv\n",
      "[CIK==debugging:INFO] 3906/2002-06-30/Schedule_of_Investments_1.csv\n",
      "[CIK==debugging:INFO] 3906/2002-06-30/Schedule_of_Investments_1.csv\n",
      "[CIK==debugging:INFO] 3906/2002-06-30/Schedule_of_Investments_1.csv\n",
      "[CIK==debugging:INFO] 3906/2002-06-30/Schedule_of_Investments_1.csv\n",
      "[CIK==debugging:INFO] 3906/2002-06-30/Schedule_of_Investments_1.csv\n",
      "[CIK==debugging:INFO] 3906/2002-06-30/Schedule_of_Investments_1.csv\n",
      "[CIK==debugging:INFO] 3906/2002-06-30/Schedule_of_Investments_1.csv\n"
     ]
    },
    {
     "name": "stderr",
     "output_type": "stream",
     "text": [
      "INFO:CIK==debugging:3906/2002-06-30/Schedule_of_Investments_1.csv\n",
      "WARNING:root:Applied processor reduces input query to empty string, all comparisons will have score 0. [Query: '']\n",
      "WARNING:root:Applied processor reduces input query to empty string, all comparisons will have score 0. [Query: '']\n",
      "WARNING:root:Applied processor reduces input query to empty string, all comparisons will have score 0. [Query: '']\n",
      "/home/tony/anaconda3/envs/sec/lib/python3.6/site-packages/ipykernel_launcher.py:191: SettingWithCopyWarning: \n",
      "A value is trying to be set on a copy of a slice from a DataFrame.\n",
      "Try using .loc[row_indexer,col_indexer] = value instead\n",
      "\n",
      "See the caveats in the documentation: https://pandas.pydata.org/pandas-docs/stable/user_guide/indexing.html#returning-a-view-versus-a-copy\n"
     ]
    },
    {
     "data": {
      "text/plain": [
       "0"
      ]
     },
     "metadata": {},
     "output_type": "display_data"
    },
    {
     "name": "stdout",
     "output_type": "stream",
     "text": [
      "[CIK==debugging:INFO] 3906/2002-06-30/Schedule_of_Investments_2.csv\n",
      "[CIK==debugging:INFO] 3906/2002-06-30/Schedule_of_Investments_2.csv\n",
      "[CIK==debugging:INFO] 3906/2002-06-30/Schedule_of_Investments_2.csv\n",
      "[CIK==debugging:INFO] 3906/2002-06-30/Schedule_of_Investments_2.csv\n",
      "[CIK==debugging:INFO] 3906/2002-06-30/Schedule_of_Investments_2.csv\n",
      "[CIK==debugging:INFO] 3906/2002-06-30/Schedule_of_Investments_2.csv\n",
      "[CIK==debugging:INFO] 3906/2002-06-30/Schedule_of_Investments_2.csv\n",
      "[CIK==debugging:INFO] 3906/2002-06-30/Schedule_of_Investments_2.csv\n",
      "[CIK==debugging:INFO] 3906/2002-06-30/Schedule_of_Investments_2.csv\n",
      "[CIK==debugging:INFO] 3906/2002-06-30/Schedule_of_Investments_2.csv\n",
      "[CIK==debugging:INFO] 3906/2002-06-30/Schedule_of_Investments_2.csv\n",
      "[CIK==debugging:INFO] 3906/2002-06-30/Schedule_of_Investments_2.csv\n",
      "[CIK==debugging:INFO] 3906/2002-06-30/Schedule_of_Investments_2.csv\n",
      "[CIK==debugging:INFO] 3906/2002-06-30/Schedule_of_Investments_2.csv\n",
      "[CIK==debugging:INFO] 3906/2002-06-30/Schedule_of_Investments_2.csv\n",
      "[CIK==debugging:INFO] 3906/2002-06-30/Schedule_of_Investments_2.csv\n",
      "[CIK==debugging:INFO] 3906/2002-06-30/Schedule_of_Investments_2.csv\n",
      "[CIK==debugging:INFO] 3906/2002-06-30/Schedule_of_Investments_2.csv\n",
      "[CIK==debugging:INFO] 3906/2002-06-30/Schedule_of_Investments_2.csv\n",
      "[CIK==debugging:INFO] 3906/2002-06-30/Schedule_of_Investments_2.csv\n",
      "[CIK==debugging:INFO] 3906/2002-06-30/Schedule_of_Investments_2.csv\n"
     ]
    },
    {
     "name": "stderr",
     "output_type": "stream",
     "text": [
      "INFO:CIK==debugging:3906/2002-06-30/Schedule_of_Investments_2.csv\n",
      "WARNING:root:Applied processor reduces input query to empty string, all comparisons will have score 0. [Query: '']\n",
      "WARNING:root:Applied processor reduces input query to empty string, all comparisons will have score 0. [Query: '']\n",
      "WARNING:root:Applied processor reduces input query to empty string, all comparisons will have score 0. [Query: '']\n",
      "/home/tony/anaconda3/envs/sec/lib/python3.6/site-packages/ipykernel_launcher.py:191: SettingWithCopyWarning: \n",
      "A value is trying to be set on a copy of a slice from a DataFrame.\n",
      "Try using .loc[row_indexer,col_indexer] = value instead\n",
      "\n",
      "See the caveats in the documentation: https://pandas.pydata.org/pandas-docs/stable/user_guide/indexing.html#returning-a-view-versus-a-copy\n"
     ]
    },
    {
     "data": {
      "text/plain": [
       "0"
      ]
     },
     "metadata": {},
     "output_type": "display_data"
    },
    {
     "name": "stdout",
     "output_type": "stream",
     "text": [
      "[CIK==debugging:INFO] 3906/2002-06-30/Schedule_of_Investments_3.csv\n",
      "[CIK==debugging:INFO] 3906/2002-06-30/Schedule_of_Investments_3.csv\n",
      "[CIK==debugging:INFO] 3906/2002-06-30/Schedule_of_Investments_3.csv\n",
      "[CIK==debugging:INFO] 3906/2002-06-30/Schedule_of_Investments_3.csv\n",
      "[CIK==debugging:INFO] 3906/2002-06-30/Schedule_of_Investments_3.csv\n",
      "[CIK==debugging:INFO] 3906/2002-06-30/Schedule_of_Investments_3.csv\n",
      "[CIK==debugging:INFO] 3906/2002-06-30/Schedule_of_Investments_3.csv\n",
      "[CIK==debugging:INFO] 3906/2002-06-30/Schedule_of_Investments_3.csv\n",
      "[CIK==debugging:INFO] 3906/2002-06-30/Schedule_of_Investments_3.csv\n",
      "[CIK==debugging:INFO] 3906/2002-06-30/Schedule_of_Investments_3.csv\n",
      "[CIK==debugging:INFO] 3906/2002-06-30/Schedule_of_Investments_3.csv\n",
      "[CIK==debugging:INFO] 3906/2002-06-30/Schedule_of_Investments_3.csv\n",
      "[CIK==debugging:INFO] 3906/2002-06-30/Schedule_of_Investments_3.csv\n",
      "[CIK==debugging:INFO] 3906/2002-06-30/Schedule_of_Investments_3.csv\n",
      "[CIK==debugging:INFO] 3906/2002-06-30/Schedule_of_Investments_3.csv\n",
      "[CIK==debugging:INFO] 3906/2002-06-30/Schedule_of_Investments_3.csv\n",
      "[CIK==debugging:INFO] 3906/2002-06-30/Schedule_of_Investments_3.csv\n",
      "[CIK==debugging:INFO] 3906/2002-06-30/Schedule_of_Investments_3.csv\n",
      "[CIK==debugging:INFO] 3906/2002-06-30/Schedule_of_Investments_3.csv\n",
      "[CIK==debugging:INFO] 3906/2002-06-30/Schedule_of_Investments_3.csv\n",
      "[CIK==debugging:INFO] 3906/2002-06-30/Schedule_of_Investments_3.csv\n"
     ]
    },
    {
     "name": "stderr",
     "output_type": "stream",
     "text": [
      "INFO:CIK==debugging:3906/2002-06-30/Schedule_of_Investments_3.csv\n",
      "/home/tony/anaconda3/envs/sec/lib/python3.6/site-packages/ipykernel_launcher.py:191: SettingWithCopyWarning: \n",
      "A value is trying to be set on a copy of a slice from a DataFrame.\n",
      "Try using .loc[row_indexer,col_indexer] = value instead\n",
      "\n",
      "See the caveats in the documentation: https://pandas.pydata.org/pandas-docs/stable/user_guide/indexing.html#returning-a-view-versus-a-copy\n",
      "/home/tony/anaconda3/envs/sec/lib/python3.6/site-packages/ipykernel_launcher.py:232: DeprecationWarning: The default dtype for empty Series will be 'object' instead of 'float64' in a future version. Specify a dtype explicitly to silence this warning.\n"
     ]
    },
    {
     "data": {
      "text/plain": [
       "0"
      ]
     },
     "metadata": {},
     "output_type": "display_data"
    },
    {
     "name": "stdout",
     "output_type": "stream",
     "text": [
      "[CIK==debugging:INFO] 3906/2002-06-30/Schedule_of_Investments_4.csv\n",
      "[CIK==debugging:INFO] 3906/2002-06-30/Schedule_of_Investments_4.csv\n",
      "[CIK==debugging:INFO] 3906/2002-06-30/Schedule_of_Investments_4.csv\n",
      "[CIK==debugging:INFO] 3906/2002-06-30/Schedule_of_Investments_4.csv\n",
      "[CIK==debugging:INFO] 3906/2002-06-30/Schedule_of_Investments_4.csv\n",
      "[CIK==debugging:INFO] 3906/2002-06-30/Schedule_of_Investments_4.csv\n",
      "[CIK==debugging:INFO] 3906/2002-06-30/Schedule_of_Investments_4.csv\n",
      "[CIK==debugging:INFO] 3906/2002-06-30/Schedule_of_Investments_4.csv\n",
      "[CIK==debugging:INFO] 3906/2002-06-30/Schedule_of_Investments_4.csv\n",
      "[CIK==debugging:INFO] 3906/2002-06-30/Schedule_of_Investments_4.csv\n",
      "[CIK==debugging:INFO] 3906/2002-06-30/Schedule_of_Investments_4.csv\n",
      "[CIK==debugging:INFO] 3906/2002-06-30/Schedule_of_Investments_4.csv\n",
      "[CIK==debugging:INFO] 3906/2002-06-30/Schedule_of_Investments_4.csv\n",
      "[CIK==debugging:INFO] 3906/2002-06-30/Schedule_of_Investments_4.csv\n",
      "[CIK==debugging:INFO] 3906/2002-06-30/Schedule_of_Investments_4.csv\n",
      "[CIK==debugging:INFO] 3906/2002-06-30/Schedule_of_Investments_4.csv\n",
      "[CIK==debugging:INFO] 3906/2002-06-30/Schedule_of_Investments_4.csv\n",
      "[CIK==debugging:INFO] 3906/2002-06-30/Schedule_of_Investments_4.csv\n",
      "[CIK==debugging:INFO] 3906/2002-06-30/Schedule_of_Investments_4.csv\n",
      "[CIK==debugging:INFO] 3906/2002-06-30/Schedule_of_Investments_4.csv\n",
      "[CIK==debugging:INFO] 3906/2002-06-30/Schedule_of_Investments_4.csv\n"
     ]
    },
    {
     "name": "stderr",
     "output_type": "stream",
     "text": [
      "INFO:CIK==debugging:3906/2002-06-30/Schedule_of_Investments_4.csv\n",
      "WARNING:root:Applied processor reduces input query to empty string, all comparisons will have score 0. [Query: '']\n",
      "WARNING:root:Applied processor reduces input query to empty string, all comparisons will have score 0. [Query: '']\n",
      "WARNING:root:Applied processor reduces input query to empty string, all comparisons will have score 0. [Query: '']\n",
      "/home/tony/anaconda3/envs/sec/lib/python3.6/site-packages/ipykernel_launcher.py:191: SettingWithCopyWarning: \n",
      "A value is trying to be set on a copy of a slice from a DataFrame.\n",
      "Try using .loc[row_indexer,col_indexer] = value instead\n",
      "\n",
      "See the caveats in the documentation: https://pandas.pydata.org/pandas-docs/stable/user_guide/indexing.html#returning-a-view-versus-a-copy\n"
     ]
    },
    {
     "data": {
      "text/plain": [
       "0"
      ]
     },
     "metadata": {},
     "output_type": "display_data"
    },
    {
     "name": "stdout",
     "output_type": "stream",
     "text": [
      "[CIK==debugging:INFO] 3906/2002-06-30/Schedule_of_Investments_5.csv\n",
      "[CIK==debugging:INFO] 3906/2002-06-30/Schedule_of_Investments_5.csv\n",
      "[CIK==debugging:INFO] 3906/2002-06-30/Schedule_of_Investments_5.csv\n",
      "[CIK==debugging:INFO] 3906/2002-06-30/Schedule_of_Investments_5.csv\n",
      "[CIK==debugging:INFO] 3906/2002-06-30/Schedule_of_Investments_5.csv\n",
      "[CIK==debugging:INFO] 3906/2002-06-30/Schedule_of_Investments_5.csv\n",
      "[CIK==debugging:INFO] 3906/2002-06-30/Schedule_of_Investments_5.csv\n",
      "[CIK==debugging:INFO] 3906/2002-06-30/Schedule_of_Investments_5.csv\n",
      "[CIK==debugging:INFO] 3906/2002-06-30/Schedule_of_Investments_5.csv\n",
      "[CIK==debugging:INFO] 3906/2002-06-30/Schedule_of_Investments_5.csv\n",
      "[CIK==debugging:INFO] 3906/2002-06-30/Schedule_of_Investments_5.csv\n",
      "[CIK==debugging:INFO] 3906/2002-06-30/Schedule_of_Investments_5.csv\n",
      "[CIK==debugging:INFO] 3906/2002-06-30/Schedule_of_Investments_5.csv\n",
      "[CIK==debugging:INFO] 3906/2002-06-30/Schedule_of_Investments_5.csv\n",
      "[CIK==debugging:INFO] 3906/2002-06-30/Schedule_of_Investments_5.csv\n",
      "[CIK==debugging:INFO] 3906/2002-06-30/Schedule_of_Investments_5.csv\n",
      "[CIK==debugging:INFO] 3906/2002-06-30/Schedule_of_Investments_5.csv\n",
      "[CIK==debugging:INFO] 3906/2002-06-30/Schedule_of_Investments_5.csv\n",
      "[CIK==debugging:INFO] 3906/2002-06-30/Schedule_of_Investments_5.csv\n",
      "[CIK==debugging:INFO] 3906/2002-06-30/Schedule_of_Investments_5.csv\n",
      "[CIK==debugging:INFO] 3906/2002-06-30/Schedule_of_Investments_5.csv\n"
     ]
    },
    {
     "name": "stderr",
     "output_type": "stream",
     "text": [
      "INFO:CIK==debugging:3906/2002-06-30/Schedule_of_Investments_5.csv\n",
      "/home/tony/anaconda3/envs/sec/lib/python3.6/site-packages/ipykernel_launcher.py:191: SettingWithCopyWarning: \n",
      "A value is trying to be set on a copy of a slice from a DataFrame.\n",
      "Try using .loc[row_indexer,col_indexer] = value instead\n",
      "\n",
      "See the caveats in the documentation: https://pandas.pydata.org/pandas-docs/stable/user_guide/indexing.html#returning-a-view-versus-a-copy\n",
      "/home/tony/anaconda3/envs/sec/lib/python3.6/site-packages/ipykernel_launcher.py:232: DeprecationWarning: The default dtype for empty Series will be 'object' instead of 'float64' in a future version. Specify a dtype explicitly to silence this warning.\n"
     ]
    },
    {
     "data": {
      "text/plain": [
       "0"
      ]
     },
     "metadata": {},
     "output_type": "display_data"
    },
    {
     "name": "stdout",
     "output_type": "stream",
     "text": [
      "[CIK==debugging:INFO] 3906/2002-06-30/Schedule_of_Investments_6.csv\n",
      "[CIK==debugging:INFO] 3906/2002-06-30/Schedule_of_Investments_6.csv\n",
      "[CIK==debugging:INFO] 3906/2002-06-30/Schedule_of_Investments_6.csv\n",
      "[CIK==debugging:INFO] 3906/2002-06-30/Schedule_of_Investments_6.csv\n",
      "[CIK==debugging:INFO] 3906/2002-06-30/Schedule_of_Investments_6.csv\n",
      "[CIK==debugging:INFO] 3906/2002-06-30/Schedule_of_Investments_6.csv\n",
      "[CIK==debugging:INFO] 3906/2002-06-30/Schedule_of_Investments_6.csv\n",
      "[CIK==debugging:INFO] 3906/2002-06-30/Schedule_of_Investments_6.csv\n",
      "[CIK==debugging:INFO] 3906/2002-06-30/Schedule_of_Investments_6.csv\n",
      "[CIK==debugging:INFO] 3906/2002-06-30/Schedule_of_Investments_6.csv\n",
      "[CIK==debugging:INFO] 3906/2002-06-30/Schedule_of_Investments_6.csv\n",
      "[CIK==debugging:INFO] 3906/2002-06-30/Schedule_of_Investments_6.csv\n",
      "[CIK==debugging:INFO] 3906/2002-06-30/Schedule_of_Investments_6.csv\n",
      "[CIK==debugging:INFO] 3906/2002-06-30/Schedule_of_Investments_6.csv\n",
      "[CIK==debugging:INFO] 3906/2002-06-30/Schedule_of_Investments_6.csv\n",
      "[CIK==debugging:INFO] 3906/2002-06-30/Schedule_of_Investments_6.csv\n",
      "[CIK==debugging:INFO] 3906/2002-06-30/Schedule_of_Investments_6.csv\n",
      "[CIK==debugging:INFO] 3906/2002-06-30/Schedule_of_Investments_6.csv\n",
      "[CIK==debugging:INFO] 3906/2002-06-30/Schedule_of_Investments_6.csv\n",
      "[CIK==debugging:INFO] 3906/2002-06-30/Schedule_of_Investments_6.csv\n",
      "[CIK==debugging:INFO] 3906/2002-06-30/Schedule_of_Investments_6.csv\n"
     ]
    },
    {
     "name": "stderr",
     "output_type": "stream",
     "text": [
      "INFO:CIK==debugging:3906/2002-06-30/Schedule_of_Investments_6.csv\n",
      "WARNING:root:Applied processor reduces input query to empty string, all comparisons will have score 0. [Query: '']\n",
      "WARNING:root:Applied processor reduces input query to empty string, all comparisons will have score 0. [Query: '']\n",
      "WARNING:root:Applied processor reduces input query to empty string, all comparisons will have score 0. [Query: '']\n",
      "/home/tony/anaconda3/envs/sec/lib/python3.6/site-packages/ipykernel_launcher.py:191: SettingWithCopyWarning: \n",
      "A value is trying to be set on a copy of a slice from a DataFrame.\n",
      "Try using .loc[row_indexer,col_indexer] = value instead\n",
      "\n",
      "See the caveats in the documentation: https://pandas.pydata.org/pandas-docs/stable/user_guide/indexing.html#returning-a-view-versus-a-copy\n"
     ]
    },
    {
     "data": {
      "text/plain": [
       "0"
      ]
     },
     "metadata": {},
     "output_type": "display_data"
    },
    {
     "name": "stdout",
     "output_type": "stream",
     "text": [
      "[CIK==debugging:INFO] 3906/2002-06-30/Schedule_of_Investments_7.csv\n",
      "[CIK==debugging:INFO] 3906/2002-06-30/Schedule_of_Investments_7.csv\n",
      "[CIK==debugging:INFO] 3906/2002-06-30/Schedule_of_Investments_7.csv\n",
      "[CIK==debugging:INFO] 3906/2002-06-30/Schedule_of_Investments_7.csv\n",
      "[CIK==debugging:INFO] 3906/2002-06-30/Schedule_of_Investments_7.csv\n",
      "[CIK==debugging:INFO] 3906/2002-06-30/Schedule_of_Investments_7.csv\n",
      "[CIK==debugging:INFO] 3906/2002-06-30/Schedule_of_Investments_7.csv\n",
      "[CIK==debugging:INFO] 3906/2002-06-30/Schedule_of_Investments_7.csv\n",
      "[CIK==debugging:INFO] 3906/2002-06-30/Schedule_of_Investments_7.csv\n",
      "[CIK==debugging:INFO] 3906/2002-06-30/Schedule_of_Investments_7.csv\n",
      "[CIK==debugging:INFO] 3906/2002-06-30/Schedule_of_Investments_7.csv\n",
      "[CIK==debugging:INFO] 3906/2002-06-30/Schedule_of_Investments_7.csv\n",
      "[CIK==debugging:INFO] 3906/2002-06-30/Schedule_of_Investments_7.csv\n",
      "[CIK==debugging:INFO] 3906/2002-06-30/Schedule_of_Investments_7.csv\n",
      "[CIK==debugging:INFO] 3906/2002-06-30/Schedule_of_Investments_7.csv\n",
      "[CIK==debugging:INFO] 3906/2002-06-30/Schedule_of_Investments_7.csv\n",
      "[CIK==debugging:INFO] 3906/2002-06-30/Schedule_of_Investments_7.csv\n",
      "[CIK==debugging:INFO] 3906/2002-06-30/Schedule_of_Investments_7.csv\n",
      "[CIK==debugging:INFO] 3906/2002-06-30/Schedule_of_Investments_7.csv\n",
      "[CIK==debugging:INFO] 3906/2002-06-30/Schedule_of_Investments_7.csv\n",
      "[CIK==debugging:INFO] 3906/2002-06-30/Schedule_of_Investments_7.csv\n"
     ]
    },
    {
     "name": "stderr",
     "output_type": "stream",
     "text": [
      "INFO:CIK==debugging:3906/2002-06-30/Schedule_of_Investments_7.csv\n",
      "/home/tony/anaconda3/envs/sec/lib/python3.6/site-packages/ipykernel_launcher.py:191: SettingWithCopyWarning: \n",
      "A value is trying to be set on a copy of a slice from a DataFrame.\n",
      "Try using .loc[row_indexer,col_indexer] = value instead\n",
      "\n",
      "See the caveats in the documentation: https://pandas.pydata.org/pandas-docs/stable/user_guide/indexing.html#returning-a-view-versus-a-copy\n",
      "/home/tony/anaconda3/envs/sec/lib/python3.6/site-packages/ipykernel_launcher.py:232: DeprecationWarning: The default dtype for empty Series will be 'object' instead of 'float64' in a future version. Specify a dtype explicitly to silence this warning.\n"
     ]
    },
    {
     "data": {
      "text/plain": [
       "0"
      ]
     },
     "metadata": {},
     "output_type": "display_data"
    },
    {
     "name": "stdout",
     "output_type": "stream",
     "text": [
      "[CIK==debugging:INFO] 3906/2002-06-30/Schedule_of_Investments_8.csv\n",
      "[CIK==debugging:INFO] 3906/2002-06-30/Schedule_of_Investments_8.csv\n",
      "[CIK==debugging:INFO] 3906/2002-06-30/Schedule_of_Investments_8.csv\n",
      "[CIK==debugging:INFO] 3906/2002-06-30/Schedule_of_Investments_8.csv\n",
      "[CIK==debugging:INFO] 3906/2002-06-30/Schedule_of_Investments_8.csv\n",
      "[CIK==debugging:INFO] 3906/2002-06-30/Schedule_of_Investments_8.csv\n",
      "[CIK==debugging:INFO] 3906/2002-06-30/Schedule_of_Investments_8.csv\n",
      "[CIK==debugging:INFO] 3906/2002-06-30/Schedule_of_Investments_8.csv\n",
      "[CIK==debugging:INFO] 3906/2002-06-30/Schedule_of_Investments_8.csv\n",
      "[CIK==debugging:INFO] 3906/2002-06-30/Schedule_of_Investments_8.csv\n",
      "[CIK==debugging:INFO] 3906/2002-06-30/Schedule_of_Investments_8.csv\n",
      "[CIK==debugging:INFO] 3906/2002-06-30/Schedule_of_Investments_8.csv\n",
      "[CIK==debugging:INFO] 3906/2002-06-30/Schedule_of_Investments_8.csv\n",
      "[CIK==debugging:INFO] 3906/2002-06-30/Schedule_of_Investments_8.csv\n",
      "[CIK==debugging:INFO] 3906/2002-06-30/Schedule_of_Investments_8.csv\n",
      "[CIK==debugging:INFO] 3906/2002-06-30/Schedule_of_Investments_8.csv\n",
      "[CIK==debugging:INFO] 3906/2002-06-30/Schedule_of_Investments_8.csv\n",
      "[CIK==debugging:INFO] 3906/2002-06-30/Schedule_of_Investments_8.csv\n",
      "[CIK==debugging:INFO] 3906/2002-06-30/Schedule_of_Investments_8.csv\n",
      "[CIK==debugging:INFO] 3906/2002-06-30/Schedule_of_Investments_8.csv\n",
      "[CIK==debugging:INFO] 3906/2002-06-30/Schedule_of_Investments_8.csv\n"
     ]
    },
    {
     "name": "stderr",
     "output_type": "stream",
     "text": [
      "INFO:CIK==debugging:3906/2002-06-30/Schedule_of_Investments_8.csv\n",
      "WARNING:root:Applied processor reduces input query to empty string, all comparisons will have score 0. [Query: '']\n",
      "WARNING:root:Applied processor reduces input query to empty string, all comparisons will have score 0. [Query: '']\n",
      "WARNING:root:Applied processor reduces input query to empty string, all comparisons will have score 0. [Query: '']\n",
      "/home/tony/anaconda3/envs/sec/lib/python3.6/site-packages/ipykernel_launcher.py:191: SettingWithCopyWarning: \n",
      "A value is trying to be set on a copy of a slice from a DataFrame.\n",
      "Try using .loc[row_indexer,col_indexer] = value instead\n",
      "\n",
      "See the caveats in the documentation: https://pandas.pydata.org/pandas-docs/stable/user_guide/indexing.html#returning-a-view-versus-a-copy\n"
     ]
    },
    {
     "data": {
      "text/plain": [
       "0"
      ]
     },
     "metadata": {},
     "output_type": "display_data"
    },
    {
     "name": "stdout",
     "output_type": "stream",
     "text": [
      "[CIK==debugging:INFO] 3906/2002-06-30/Schedule_of_Investments_9.csv\n",
      "[CIK==debugging:INFO] 3906/2002-06-30/Schedule_of_Investments_9.csv\n",
      "[CIK==debugging:INFO] 3906/2002-06-30/Schedule_of_Investments_9.csv\n",
      "[CIK==debugging:INFO] 3906/2002-06-30/Schedule_of_Investments_9.csv\n",
      "[CIK==debugging:INFO] 3906/2002-06-30/Schedule_of_Investments_9.csv\n",
      "[CIK==debugging:INFO] 3906/2002-06-30/Schedule_of_Investments_9.csv\n",
      "[CIK==debugging:INFO] 3906/2002-06-30/Schedule_of_Investments_9.csv\n",
      "[CIK==debugging:INFO] 3906/2002-06-30/Schedule_of_Investments_9.csv\n",
      "[CIK==debugging:INFO] 3906/2002-06-30/Schedule_of_Investments_9.csv\n",
      "[CIK==debugging:INFO] 3906/2002-06-30/Schedule_of_Investments_9.csv\n",
      "[CIK==debugging:INFO] 3906/2002-06-30/Schedule_of_Investments_9.csv\n",
      "[CIK==debugging:INFO] 3906/2002-06-30/Schedule_of_Investments_9.csv\n",
      "[CIK==debugging:INFO] 3906/2002-06-30/Schedule_of_Investments_9.csv\n",
      "[CIK==debugging:INFO] 3906/2002-06-30/Schedule_of_Investments_9.csv\n",
      "[CIK==debugging:INFO] 3906/2002-06-30/Schedule_of_Investments_9.csv\n",
      "[CIK==debugging:INFO] 3906/2002-06-30/Schedule_of_Investments_9.csv\n",
      "[CIK==debugging:INFO] 3906/2002-06-30/Schedule_of_Investments_9.csv\n",
      "[CIK==debugging:INFO] 3906/2002-06-30/Schedule_of_Investments_9.csv\n",
      "[CIK==debugging:INFO] 3906/2002-06-30/Schedule_of_Investments_9.csv\n",
      "[CIK==debugging:INFO] 3906/2002-06-30/Schedule_of_Investments_9.csv\n",
      "[CIK==debugging:INFO] 3906/2002-06-30/Schedule_of_Investments_9.csv\n"
     ]
    },
    {
     "name": "stderr",
     "output_type": "stream",
     "text": [
      "INFO:CIK==debugging:3906/2002-06-30/Schedule_of_Investments_9.csv\n",
      "/home/tony/anaconda3/envs/sec/lib/python3.6/site-packages/ipykernel_launcher.py:191: SettingWithCopyWarning: \n",
      "A value is trying to be set on a copy of a slice from a DataFrame.\n",
      "Try using .loc[row_indexer,col_indexer] = value instead\n",
      "\n",
      "See the caveats in the documentation: https://pandas.pydata.org/pandas-docs/stable/user_guide/indexing.html#returning-a-view-versus-a-copy\n",
      "/home/tony/anaconda3/envs/sec/lib/python3.6/site-packages/ipykernel_launcher.py:232: DeprecationWarning: The default dtype for empty Series will be 'object' instead of 'float64' in a future version. Specify a dtype explicitly to silence this warning.\n"
     ]
    },
    {
     "data": {
      "text/plain": [
       "0"
      ]
     },
     "metadata": {},
     "output_type": "display_data"
    },
    {
     "name": "stdout",
     "output_type": "stream",
     "text": [
      "[CIK==debugging:INFO] 3906/2002-06-30/Schedule_of_Investments_10.csv\n",
      "[CIK==debugging:INFO] 3906/2002-06-30/Schedule_of_Investments_10.csv\n",
      "[CIK==debugging:INFO] 3906/2002-06-30/Schedule_of_Investments_10.csv\n",
      "[CIK==debugging:INFO] 3906/2002-06-30/Schedule_of_Investments_10.csv\n",
      "[CIK==debugging:INFO] 3906/2002-06-30/Schedule_of_Investments_10.csv\n",
      "[CIK==debugging:INFO] 3906/2002-06-30/Schedule_of_Investments_10.csv\n",
      "[CIK==debugging:INFO] 3906/2002-06-30/Schedule_of_Investments_10.csv\n",
      "[CIK==debugging:INFO] 3906/2002-06-30/Schedule_of_Investments_10.csv\n",
      "[CIK==debugging:INFO] 3906/2002-06-30/Schedule_of_Investments_10.csv\n",
      "[CIK==debugging:INFO] 3906/2002-06-30/Schedule_of_Investments_10.csv\n",
      "[CIK==debugging:INFO] 3906/2002-06-30/Schedule_of_Investments_10.csv\n",
      "[CIK==debugging:INFO] 3906/2002-06-30/Schedule_of_Investments_10.csv\n",
      "[CIK==debugging:INFO] 3906/2002-06-30/Schedule_of_Investments_10.csv\n",
      "[CIK==debugging:INFO] 3906/2002-06-30/Schedule_of_Investments_10.csv\n",
      "[CIK==debugging:INFO] 3906/2002-06-30/Schedule_of_Investments_10.csv\n",
      "[CIK==debugging:INFO] 3906/2002-06-30/Schedule_of_Investments_10.csv\n",
      "[CIK==debugging:INFO] 3906/2002-06-30/Schedule_of_Investments_10.csv\n",
      "[CIK==debugging:INFO] 3906/2002-06-30/Schedule_of_Investments_10.csv\n",
      "[CIK==debugging:INFO] 3906/2002-06-30/Schedule_of_Investments_10.csv\n",
      "[CIK==debugging:INFO] 3906/2002-06-30/Schedule_of_Investments_10.csv\n",
      "[CIK==debugging:INFO] 3906/2002-06-30/Schedule_of_Investments_10.csv\n"
     ]
    },
    {
     "name": "stderr",
     "output_type": "stream",
     "text": [
      "INFO:CIK==debugging:3906/2002-06-30/Schedule_of_Investments_10.csv\n",
      "WARNING:root:Applied processor reduces input query to empty string, all comparisons will have score 0. [Query: '']\n",
      "WARNING:root:Applied processor reduces input query to empty string, all comparisons will have score 0. [Query: '']\n",
      "WARNING:root:Applied processor reduces input query to empty string, all comparisons will have score 0. [Query: '']\n",
      "/home/tony/anaconda3/envs/sec/lib/python3.6/site-packages/ipykernel_launcher.py:191: SettingWithCopyWarning: \n",
      "A value is trying to be set on a copy of a slice from a DataFrame.\n",
      "Try using .loc[row_indexer,col_indexer] = value instead\n",
      "\n",
      "See the caveats in the documentation: https://pandas.pydata.org/pandas-docs/stable/user_guide/indexing.html#returning-a-view-versus-a-copy\n"
     ]
    },
    {
     "data": {
      "text/plain": [
       "0"
      ]
     },
     "metadata": {},
     "output_type": "display_data"
    },
    {
     "name": "stdout",
     "output_type": "stream",
     "text": [
      "[CIK==debugging:INFO] 3906/2002-06-30/Schedule_of_Investments_11.csv\n",
      "[CIK==debugging:INFO] 3906/2002-06-30/Schedule_of_Investments_11.csv\n",
      "[CIK==debugging:INFO] 3906/2002-06-30/Schedule_of_Investments_11.csv\n",
      "[CIK==debugging:INFO] 3906/2002-06-30/Schedule_of_Investments_11.csv\n",
      "[CIK==debugging:INFO] 3906/2002-06-30/Schedule_of_Investments_11.csv\n",
      "[CIK==debugging:INFO] 3906/2002-06-30/Schedule_of_Investments_11.csv\n",
      "[CIK==debugging:INFO] 3906/2002-06-30/Schedule_of_Investments_11.csv\n",
      "[CIK==debugging:INFO] 3906/2002-06-30/Schedule_of_Investments_11.csv\n",
      "[CIK==debugging:INFO] 3906/2002-06-30/Schedule_of_Investments_11.csv\n",
      "[CIK==debugging:INFO] 3906/2002-06-30/Schedule_of_Investments_11.csv\n",
      "[CIK==debugging:INFO] 3906/2002-06-30/Schedule_of_Investments_11.csv\n",
      "[CIK==debugging:INFO] 3906/2002-06-30/Schedule_of_Investments_11.csv\n",
      "[CIK==debugging:INFO] 3906/2002-06-30/Schedule_of_Investments_11.csv\n",
      "[CIK==debugging:INFO] 3906/2002-06-30/Schedule_of_Investments_11.csv\n",
      "[CIK==debugging:INFO] 3906/2002-06-30/Schedule_of_Investments_11.csv\n",
      "[CIK==debugging:INFO] 3906/2002-06-30/Schedule_of_Investments_11.csv\n",
      "[CIK==debugging:INFO] 3906/2002-06-30/Schedule_of_Investments_11.csv\n",
      "[CIK==debugging:INFO] 3906/2002-06-30/Schedule_of_Investments_11.csv\n",
      "[CIK==debugging:INFO] 3906/2002-06-30/Schedule_of_Investments_11.csv\n",
      "[CIK==debugging:INFO] 3906/2002-06-30/Schedule_of_Investments_11.csv\n",
      "[CIK==debugging:INFO] 3906/2002-06-30/Schedule_of_Investments_11.csv\n"
     ]
    },
    {
     "name": "stderr",
     "output_type": "stream",
     "text": [
      "INFO:CIK==debugging:3906/2002-06-30/Schedule_of_Investments_11.csv\n",
      "/home/tony/anaconda3/envs/sec/lib/python3.6/site-packages/ipykernel_launcher.py:191: SettingWithCopyWarning: \n",
      "A value is trying to be set on a copy of a slice from a DataFrame.\n",
      "Try using .loc[row_indexer,col_indexer] = value instead\n",
      "\n",
      "See the caveats in the documentation: https://pandas.pydata.org/pandas-docs/stable/user_guide/indexing.html#returning-a-view-versus-a-copy\n",
      "/home/tony/anaconda3/envs/sec/lib/python3.6/site-packages/ipykernel_launcher.py:232: DeprecationWarning: The default dtype for empty Series will be 'object' instead of 'float64' in a future version. Specify a dtype explicitly to silence this warning.\n"
     ]
    },
    {
     "data": {
      "text/plain": [
       "0"
      ]
     },
     "metadata": {},
     "output_type": "display_data"
    },
    {
     "name": "stdout",
     "output_type": "stream",
     "text": [
      "[CIK==debugging:INFO] 3906/2002-06-30/Schedule_of_Investments_12.csv\n",
      "[CIK==debugging:INFO] 3906/2002-06-30/Schedule_of_Investments_12.csv\n",
      "[CIK==debugging:INFO] 3906/2002-06-30/Schedule_of_Investments_12.csv\n",
      "[CIK==debugging:INFO] 3906/2002-06-30/Schedule_of_Investments_12.csv\n",
      "[CIK==debugging:INFO] 3906/2002-06-30/Schedule_of_Investments_12.csv\n",
      "[CIK==debugging:INFO] 3906/2002-06-30/Schedule_of_Investments_12.csv\n",
      "[CIK==debugging:INFO] 3906/2002-06-30/Schedule_of_Investments_12.csv\n",
      "[CIK==debugging:INFO] 3906/2002-06-30/Schedule_of_Investments_12.csv\n",
      "[CIK==debugging:INFO] 3906/2002-06-30/Schedule_of_Investments_12.csv\n",
      "[CIK==debugging:INFO] 3906/2002-06-30/Schedule_of_Investments_12.csv\n",
      "[CIK==debugging:INFO] 3906/2002-06-30/Schedule_of_Investments_12.csv\n",
      "[CIK==debugging:INFO] 3906/2002-06-30/Schedule_of_Investments_12.csv\n",
      "[CIK==debugging:INFO] 3906/2002-06-30/Schedule_of_Investments_12.csv\n",
      "[CIK==debugging:INFO] 3906/2002-06-30/Schedule_of_Investments_12.csv\n",
      "[CIK==debugging:INFO] 3906/2002-06-30/Schedule_of_Investments_12.csv\n",
      "[CIK==debugging:INFO] 3906/2002-06-30/Schedule_of_Investments_12.csv\n",
      "[CIK==debugging:INFO] 3906/2002-06-30/Schedule_of_Investments_12.csv\n",
      "[CIK==debugging:INFO] 3906/2002-06-30/Schedule_of_Investments_12.csv\n",
      "[CIK==debugging:INFO] 3906/2002-06-30/Schedule_of_Investments_12.csv\n",
      "[CIK==debugging:INFO] 3906/2002-06-30/Schedule_of_Investments_12.csv\n",
      "[CIK==debugging:INFO] 3906/2002-06-30/Schedule_of_Investments_12.csv\n"
     ]
    },
    {
     "name": "stderr",
     "output_type": "stream",
     "text": [
      "INFO:CIK==debugging:3906/2002-06-30/Schedule_of_Investments_12.csv\n",
      "WARNING:root:Applied processor reduces input query to empty string, all comparisons will have score 0. [Query: '']\n",
      "WARNING:root:Applied processor reduces input query to empty string, all comparisons will have score 0. [Query: '']\n",
      "WARNING:root:Applied processor reduces input query to empty string, all comparisons will have score 0. [Query: '']\n",
      "/home/tony/anaconda3/envs/sec/lib/python3.6/site-packages/ipykernel_launcher.py:191: SettingWithCopyWarning: \n",
      "A value is trying to be set on a copy of a slice from a DataFrame.\n",
      "Try using .loc[row_indexer,col_indexer] = value instead\n",
      "\n",
      "See the caveats in the documentation: https://pandas.pydata.org/pandas-docs/stable/user_guide/indexing.html#returning-a-view-versus-a-copy\n"
     ]
    },
    {
     "data": {
      "text/plain": [
       "0"
      ]
     },
     "metadata": {},
     "output_type": "display_data"
    },
    {
     "name": "stdout",
     "output_type": "stream",
     "text": [
      "[CIK==debugging:INFO] 3906/2002-06-30/Schedule_of_Investments_13.csv\n",
      "[CIK==debugging:INFO] 3906/2002-06-30/Schedule_of_Investments_13.csv\n",
      "[CIK==debugging:INFO] 3906/2002-06-30/Schedule_of_Investments_13.csv\n",
      "[CIK==debugging:INFO] 3906/2002-06-30/Schedule_of_Investments_13.csv\n",
      "[CIK==debugging:INFO] 3906/2002-06-30/Schedule_of_Investments_13.csv\n",
      "[CIK==debugging:INFO] 3906/2002-06-30/Schedule_of_Investments_13.csv\n",
      "[CIK==debugging:INFO] 3906/2002-06-30/Schedule_of_Investments_13.csv\n",
      "[CIK==debugging:INFO] 3906/2002-06-30/Schedule_of_Investments_13.csv\n",
      "[CIK==debugging:INFO] 3906/2002-06-30/Schedule_of_Investments_13.csv\n",
      "[CIK==debugging:INFO] 3906/2002-06-30/Schedule_of_Investments_13.csv\n",
      "[CIK==debugging:INFO] 3906/2002-06-30/Schedule_of_Investments_13.csv\n",
      "[CIK==debugging:INFO] 3906/2002-06-30/Schedule_of_Investments_13.csv\n",
      "[CIK==debugging:INFO] 3906/2002-06-30/Schedule_of_Investments_13.csv\n",
      "[CIK==debugging:INFO] 3906/2002-06-30/Schedule_of_Investments_13.csv\n",
      "[CIK==debugging:INFO] 3906/2002-06-30/Schedule_of_Investments_13.csv\n",
      "[CIK==debugging:INFO] 3906/2002-06-30/Schedule_of_Investments_13.csv\n",
      "[CIK==debugging:INFO] 3906/2002-06-30/Schedule_of_Investments_13.csv\n",
      "[CIK==debugging:INFO] 3906/2002-06-30/Schedule_of_Investments_13.csv\n",
      "[CIK==debugging:INFO] 3906/2002-06-30/Schedule_of_Investments_13.csv\n",
      "[CIK==debugging:INFO] 3906/2002-06-30/Schedule_of_Investments_13.csv\n",
      "[CIK==debugging:INFO] 3906/2002-06-30/Schedule_of_Investments_13.csv\n"
     ]
    },
    {
     "name": "stderr",
     "output_type": "stream",
     "text": [
      "INFO:CIK==debugging:3906/2002-06-30/Schedule_of_Investments_13.csv\n",
      "/home/tony/anaconda3/envs/sec/lib/python3.6/site-packages/ipykernel_launcher.py:191: SettingWithCopyWarning: \n",
      "A value is trying to be set on a copy of a slice from a DataFrame.\n",
      "Try using .loc[row_indexer,col_indexer] = value instead\n",
      "\n",
      "See the caveats in the documentation: https://pandas.pydata.org/pandas-docs/stable/user_guide/indexing.html#returning-a-view-versus-a-copy\n",
      "/home/tony/anaconda3/envs/sec/lib/python3.6/site-packages/ipykernel_launcher.py:232: DeprecationWarning: The default dtype for empty Series will be 'object' instead of 'float64' in a future version. Specify a dtype explicitly to silence this warning.\n"
     ]
    },
    {
     "data": {
      "text/plain": [
       "0"
      ]
     },
     "metadata": {},
     "output_type": "display_data"
    },
    {
     "name": "stdout",
     "output_type": "stream",
     "text": [
      "[CIK==debugging:INFO] 3906/2002-06-30/Schedule_of_Investments_14.csv\n",
      "[CIK==debugging:INFO] 3906/2002-06-30/Schedule_of_Investments_14.csv\n",
      "[CIK==debugging:INFO] 3906/2002-06-30/Schedule_of_Investments_14.csv\n",
      "[CIK==debugging:INFO] 3906/2002-06-30/Schedule_of_Investments_14.csv\n",
      "[CIK==debugging:INFO] 3906/2002-06-30/Schedule_of_Investments_14.csv\n",
      "[CIK==debugging:INFO] 3906/2002-06-30/Schedule_of_Investments_14.csv\n",
      "[CIK==debugging:INFO] 3906/2002-06-30/Schedule_of_Investments_14.csv\n",
      "[CIK==debugging:INFO] 3906/2002-06-30/Schedule_of_Investments_14.csv\n",
      "[CIK==debugging:INFO] 3906/2002-06-30/Schedule_of_Investments_14.csv\n",
      "[CIK==debugging:INFO] 3906/2002-06-30/Schedule_of_Investments_14.csv\n",
      "[CIK==debugging:INFO] 3906/2002-06-30/Schedule_of_Investments_14.csv\n",
      "[CIK==debugging:INFO] 3906/2002-06-30/Schedule_of_Investments_14.csv\n",
      "[CIK==debugging:INFO] 3906/2002-06-30/Schedule_of_Investments_14.csv\n",
      "[CIK==debugging:INFO] 3906/2002-06-30/Schedule_of_Investments_14.csv\n",
      "[CIK==debugging:INFO] 3906/2002-06-30/Schedule_of_Investments_14.csv\n",
      "[CIK==debugging:INFO] 3906/2002-06-30/Schedule_of_Investments_14.csv\n",
      "[CIK==debugging:INFO] 3906/2002-06-30/Schedule_of_Investments_14.csv\n",
      "[CIK==debugging:INFO] 3906/2002-06-30/Schedule_of_Investments_14.csv\n",
      "[CIK==debugging:INFO] 3906/2002-06-30/Schedule_of_Investments_14.csv\n",
      "[CIK==debugging:INFO] 3906/2002-06-30/Schedule_of_Investments_14.csv\n",
      "[CIK==debugging:INFO] 3906/2002-06-30/Schedule_of_Investments_14.csv\n"
     ]
    },
    {
     "name": "stderr",
     "output_type": "stream",
     "text": [
      "INFO:CIK==debugging:3906/2002-06-30/Schedule_of_Investments_14.csv\n",
      "WARNING:root:Applied processor reduces input query to empty string, all comparisons will have score 0. [Query: '']\n",
      "WARNING:root:Applied processor reduces input query to empty string, all comparisons will have score 0. [Query: '']\n",
      "WARNING:root:Applied processor reduces input query to empty string, all comparisons will have score 0. [Query: '']\n",
      "/home/tony/anaconda3/envs/sec/lib/python3.6/site-packages/ipykernel_launcher.py:191: SettingWithCopyWarning: \n",
      "A value is trying to be set on a copy of a slice from a DataFrame.\n",
      "Try using .loc[row_indexer,col_indexer] = value instead\n",
      "\n",
      "See the caveats in the documentation: https://pandas.pydata.org/pandas-docs/stable/user_guide/indexing.html#returning-a-view-versus-a-copy\n"
     ]
    },
    {
     "data": {
      "text/html": [
       "<div>\n",
       "<style scoped>\n",
       "    .dataframe tbody tr th:only-of-type {\n",
       "        vertical-align: middle;\n",
       "    }\n",
       "\n",
       "    .dataframe tbody tr th {\n",
       "        vertical-align: top;\n",
       "    }\n",
       "\n",
       "    .dataframe thead th {\n",
       "        text-align: right;\n",
       "    }\n",
       "</style>\n",
       "<table border=\"1\" class=\"dataframe\">\n",
       "  <thead>\n",
       "    <tr style=\"text-align: right;\">\n",
       "      <th></th>\n",
       "      <th>portfolio_company</th>\n",
       "      <th>investment__interest_rate__maturity</th>\n",
       "      <th>cost</th>\n",
       "      <th>value</th>\n",
       "    </tr>\n",
       "  </thead>\n",
       "  <tbody>\n",
       "    <tr>\n",
       "      <th>0</th>\n",
       "      <td>Portfolio Company</td>\n",
       "      <td>NaN</td>\n",
       "      <td>NaN</td>\n",
       "      <td>NaN</td>\n",
       "    </tr>\n",
       "    <tr>\n",
       "      <th>1</th>\n",
       "      <td>NaN</td>\n",
       "      <td>Investment2</td>\n",
       "      <td>Cost</td>\n",
       "      <td>Value</td>\n",
       "    </tr>\n",
       "    <tr>\n",
       "      <th>2</th>\n",
       "      <td>Sydran Food Services II, L.P.</td>\n",
       "      <td>Debt Securities</td>\n",
       "      <td>12973 $</td>\n",
       "      <td>12973 $</td>\n",
       "    </tr>\n",
       "    <tr>\n",
       "      <th>3</th>\n",
       "      <td>Retail</td>\n",
       "      <td>Equity Interests</td>\n",
       "      <td>NaN</td>\n",
       "      <td>NaN</td>\n",
       "    </tr>\n",
       "    <tr>\n",
       "      <th>4</th>\n",
       "      <td>NaN</td>\n",
       "      <td>Warrants</td>\n",
       "      <td>—</td>\n",
       "      <td>NaN</td>\n",
       "    </tr>\n",
       "    <tr>\n",
       "      <th>5</th>\n",
       "      <td>Tubbs Snowshoe</td>\n",
       "      <td>Debt Securities</td>\n",
       "      <td>NaN</td>\n",
       "      <td>NaN</td>\n",
       "    </tr>\n",
       "    <tr>\n",
       "      <th>6</th>\n",
       "      <td>Company, LLC</td>\n",
       "      <td>Equity Interests</td>\n",
       "      <td>NaN</td>\n",
       "      <td>NaN</td>\n",
       "    </tr>\n",
       "    <tr>\n",
       "      <th>7</th>\n",
       "      <td>Consumer Products</td>\n",
       "      <td>Warrants</td>\n",
       "      <td>NaN</td>\n",
       "      <td>NaN</td>\n",
       "    </tr>\n",
       "    <tr>\n",
       "      <th>8</th>\n",
       "      <td>United Pet Group, Inc.</td>\n",
       "      <td>Debt Securities</td>\n",
       "      <td>NaN</td>\n",
       "      <td>NaN</td>\n",
       "    </tr>\n",
       "    <tr>\n",
       "      <th>9</th>\n",
       "      <td>Consumer Products</td>\n",
       "      <td>Warrants</td>\n",
       "      <td>NaN</td>\n",
       "      <td>NaN</td>\n",
       "    </tr>\n",
       "    <tr>\n",
       "      <th>10</th>\n",
       "      <td>Updata Venture Partners, II, L.P.4</td>\n",
       "      <td>Limited Partnership Interest</td>\n",
       "      <td>NaN</td>\n",
       "      <td>NaN</td>\n",
       "    </tr>\n",
       "    <tr>\n",
       "      <th>11</th>\n",
       "      <td>Private Equity Fund</td>\n",
       "      <td>NaN</td>\n",
       "      <td>NaN</td>\n",
       "      <td>NaN</td>\n",
       "    </tr>\n",
       "    <tr>\n",
       "      <th>12</th>\n",
       "      <td>Velocita, Inc.</td>\n",
       "      <td>Debt Securities</td>\n",
       "      <td>11718</td>\n",
       "      <td>—</td>\n",
       "    </tr>\n",
       "    <tr>\n",
       "      <th>13</th>\n",
       "      <td>Telecommunications</td>\n",
       "      <td>Warrants</td>\n",
       "      <td>NaN</td>\n",
       "      <td>—</td>\n",
       "    </tr>\n",
       "    <tr>\n",
       "      <th>14</th>\n",
       "      <td>Venturehouse Group, LLC4</td>\n",
       "      <td>Equity Interest</td>\n",
       "      <td>NaN</td>\n",
       "      <td>NaN</td>\n",
       "    </tr>\n",
       "    <tr>\n",
       "      <th>15</th>\n",
       "      <td>Private Equity Fund</td>\n",
       "      <td>NaN</td>\n",
       "      <td>NaN</td>\n",
       "      <td>NaN</td>\n",
       "    </tr>\n",
       "    <tr>\n",
       "      <th>16</th>\n",
       "      <td>Walker Investment Fund II, LLLP4</td>\n",
       "      <td>Limited Partnership Interest</td>\n",
       "      <td>NaN</td>\n",
       "      <td>NaN</td>\n",
       "    </tr>\n",
       "    <tr>\n",
       "      <th>17</th>\n",
       "      <td>Private Equity Fund</td>\n",
       "      <td>NaN</td>\n",
       "      <td>NaN</td>\n",
       "      <td>NaN</td>\n",
       "    </tr>\n",
       "    <tr>\n",
       "      <th>18</th>\n",
       "      <td>Warn Industries, Inc.</td>\n",
       "      <td>Debt Securities</td>\n",
       "      <td>11513</td>\n",
       "      <td>11513</td>\n",
       "    </tr>\n",
       "    <tr>\n",
       "      <th>19</th>\n",
       "      <td>Consumer Products</td>\n",
       "      <td>Warrants</td>\n",
       "      <td>NaN</td>\n",
       "      <td>NaN</td>\n",
       "    </tr>\n",
       "    <tr>\n",
       "      <th>20</th>\n",
       "      <td>Williams Brothers Lumber</td>\n",
       "      <td>Warrants</td>\n",
       "      <td>NaN</td>\n",
       "      <td>NaN</td>\n",
       "    </tr>\n",
       "    <tr>\n",
       "      <th>21</th>\n",
       "      <td>Company</td>\n",
       "      <td>NaN</td>\n",
       "      <td>NaN</td>\n",
       "      <td>NaN</td>\n",
       "    </tr>\n",
       "    <tr>\n",
       "      <th>22</th>\n",
       "      <td>Retail</td>\n",
       "      <td>NaN</td>\n",
       "      <td>NaN</td>\n",
       "      <td>NaN</td>\n",
       "    </tr>\n",
       "    <tr>\n",
       "      <th>23</th>\n",
       "      <td>Wilshire Restaurant Group, Inc.</td>\n",
       "      <td>Debt Securities</td>\n",
       "      <td>15630</td>\n",
       "      <td>15630</td>\n",
       "    </tr>\n",
       "    <tr>\n",
       "      <th>24</th>\n",
       "      <td>Retail</td>\n",
       "      <td>Warrants</td>\n",
       "      <td>NaN</td>\n",
       "      <td>NaN</td>\n",
       "    </tr>\n",
       "    <tr>\n",
       "      <th>25</th>\n",
       "      <td>Wilton Industries, Inc.</td>\n",
       "      <td>Loan</td>\n",
       "      <td>12000</td>\n",
       "      <td>12000</td>\n",
       "    </tr>\n",
       "    <tr>\n",
       "      <th>26</th>\n",
       "      <td>Consumer Products</td>\n",
       "      <td>NaN</td>\n",
       "      <td>NaN</td>\n",
       "      <td>NaN</td>\n",
       "    </tr>\n",
       "    <tr>\n",
       "      <th>27</th>\n",
       "      <td>Woodstream Corporation</td>\n",
       "      <td>Loan</td>\n",
       "      <td>NaN</td>\n",
       "      <td>NaN</td>\n",
       "    </tr>\n",
       "    <tr>\n",
       "      <th>28</th>\n",
       "      <td>Consumer Products</td>\n",
       "      <td>Debt Securities</td>\n",
       "      <td>NaN</td>\n",
       "      <td>NaN</td>\n",
       "    </tr>\n",
       "    <tr>\n",
       "      <th>29</th>\n",
       "      <td>NaN</td>\n",
       "      <td>Equity Interests</td>\n",
       "      <td>NaN</td>\n",
       "      <td>NaN</td>\n",
       "    </tr>\n",
       "    <tr>\n",
       "      <th>30</th>\n",
       "      <td>NaN</td>\n",
       "      <td>Warrants</td>\n",
       "      <td>NaN</td>\n",
       "      <td>NaN</td>\n",
       "    </tr>\n",
       "    <tr>\n",
       "      <th>31</th>\n",
       "      <td>Total  companies less than 5% owned</td>\n",
       "      <td>NaN</td>\n",
       "      <td>832665 $</td>\n",
       "      <td>738008 $</td>\n",
       "    </tr>\n",
       "    <tr>\n",
       "      <th>32</th>\n",
       "      <td>Total  private finance 133 portfolio companies</td>\n",
       "      <td>NaN</td>\n",
       "      <td>$ 1581012</td>\n",
       "      <td>$ 1635259</td>\n",
       "    </tr>\n",
       "  </tbody>\n",
       "</table>\n",
       "</div>"
      ],
      "text/plain": [
       "                                 portfolio_company  \\\n",
       "0                                Portfolio Company   \n",
       "1                                              NaN   \n",
       "2                    Sydran Food Services II, L.P.   \n",
       "3                                           Retail   \n",
       "4                                              NaN   \n",
       "5                                   Tubbs Snowshoe   \n",
       "6                                     Company, LLC   \n",
       "7                                Consumer Products   \n",
       "8                           United Pet Group, Inc.   \n",
       "9                                Consumer Products   \n",
       "10              Updata Venture Partners, II, L.P.4   \n",
       "11                             Private Equity Fund   \n",
       "12                                  Velocita, Inc.   \n",
       "13                              Telecommunications   \n",
       "14                        Venturehouse Group, LLC4   \n",
       "15                             Private Equity Fund   \n",
       "16                Walker Investment Fund II, LLLP4   \n",
       "17                             Private Equity Fund   \n",
       "18                           Warn Industries, Inc.   \n",
       "19                               Consumer Products   \n",
       "20                        Williams Brothers Lumber   \n",
       "21                                         Company   \n",
       "22                                          Retail   \n",
       "23                 Wilshire Restaurant Group, Inc.   \n",
       "24                                          Retail   \n",
       "25                         Wilton Industries, Inc.   \n",
       "26                               Consumer Products   \n",
       "27                          Woodstream Corporation   \n",
       "28                               Consumer Products   \n",
       "29                                             NaN   \n",
       "30                                             NaN   \n",
       "31             Total  companies less than 5% owned   \n",
       "32  Total  private finance 133 portfolio companies   \n",
       "\n",
       "   investment__interest_rate__maturity       cost      value  \n",
       "0                                  NaN        NaN        NaN  \n",
       "1                          Investment2       Cost      Value  \n",
       "2                      Debt Securities    12973 $    12973 $  \n",
       "3                     Equity Interests        NaN        NaN  \n",
       "4                             Warrants          —        NaN  \n",
       "5                      Debt Securities        NaN        NaN  \n",
       "6                     Equity Interests        NaN        NaN  \n",
       "7                             Warrants        NaN        NaN  \n",
       "8                      Debt Securities        NaN        NaN  \n",
       "9                             Warrants        NaN        NaN  \n",
       "10        Limited Partnership Interest        NaN        NaN  \n",
       "11                                 NaN        NaN        NaN  \n",
       "12                     Debt Securities      11718          —  \n",
       "13                            Warrants        NaN          —  \n",
       "14                     Equity Interest        NaN        NaN  \n",
       "15                                 NaN        NaN        NaN  \n",
       "16        Limited Partnership Interest        NaN        NaN  \n",
       "17                                 NaN        NaN        NaN  \n",
       "18                     Debt Securities      11513      11513  \n",
       "19                            Warrants        NaN        NaN  \n",
       "20                            Warrants        NaN        NaN  \n",
       "21                                 NaN        NaN        NaN  \n",
       "22                                 NaN        NaN        NaN  \n",
       "23                     Debt Securities      15630      15630  \n",
       "24                            Warrants        NaN        NaN  \n",
       "25                                Loan      12000      12000  \n",
       "26                                 NaN        NaN        NaN  \n",
       "27                                Loan        NaN        NaN  \n",
       "28                     Debt Securities        NaN        NaN  \n",
       "29                    Equity Interests        NaN        NaN  \n",
       "30                            Warrants        NaN        NaN  \n",
       "31                                 NaN   832665 $   738008 $  \n",
       "32                                 NaN  $ 1581012  $ 1635259  "
      ]
     },
     "metadata": {},
     "output_type": "display_data"
    },
    {
     "data": {
      "text/plain": [
       "0"
      ]
     },
     "metadata": {},
     "output_type": "display_data"
    },
    {
     "name": "stdout",
     "output_type": "stream",
     "text": [
      "[CIK==debugging:INFO] 3906/2002-06-30/Schedule_of_Investments_15.csv\n",
      "[CIK==debugging:INFO] 3906/2002-06-30/Schedule_of_Investments_15.csv\n",
      "[CIK==debugging:INFO] 3906/2002-06-30/Schedule_of_Investments_15.csv\n",
      "[CIK==debugging:INFO] 3906/2002-06-30/Schedule_of_Investments_15.csv\n",
      "[CIK==debugging:INFO] 3906/2002-06-30/Schedule_of_Investments_15.csv\n",
      "[CIK==debugging:INFO] 3906/2002-06-30/Schedule_of_Investments_15.csv\n",
      "[CIK==debugging:INFO] 3906/2002-06-30/Schedule_of_Investments_15.csv\n",
      "[CIK==debugging:INFO] 3906/2002-06-30/Schedule_of_Investments_15.csv\n",
      "[CIK==debugging:INFO] 3906/2002-06-30/Schedule_of_Investments_15.csv\n",
      "[CIK==debugging:INFO] 3906/2002-06-30/Schedule_of_Investments_15.csv\n",
      "[CIK==debugging:INFO] 3906/2002-06-30/Schedule_of_Investments_15.csv\n",
      "[CIK==debugging:INFO] 3906/2002-06-30/Schedule_of_Investments_15.csv\n",
      "[CIK==debugging:INFO] 3906/2002-06-30/Schedule_of_Investments_15.csv\n",
      "[CIK==debugging:INFO] 3906/2002-06-30/Schedule_of_Investments_15.csv\n",
      "[CIK==debugging:INFO] 3906/2002-06-30/Schedule_of_Investments_15.csv\n",
      "[CIK==debugging:INFO] 3906/2002-06-30/Schedule_of_Investments_15.csv\n",
      "[CIK==debugging:INFO] 3906/2002-06-30/Schedule_of_Investments_15.csv\n",
      "[CIK==debugging:INFO] 3906/2002-06-30/Schedule_of_Investments_15.csv\n",
      "[CIK==debugging:INFO] 3906/2002-06-30/Schedule_of_Investments_15.csv\n",
      "[CIK==debugging:INFO] 3906/2002-06-30/Schedule_of_Investments_15.csv\n",
      "[CIK==debugging:INFO] 3906/2002-06-30/Schedule_of_Investments_15.csv\n"
     ]
    },
    {
     "name": "stderr",
     "output_type": "stream",
     "text": [
      "INFO:CIK==debugging:3906/2002-06-30/Schedule_of_Investments_15.csv\n",
      "/home/tony/anaconda3/envs/sec/lib/python3.6/site-packages/ipykernel_launcher.py:191: SettingWithCopyWarning: \n",
      "A value is trying to be set on a copy of a slice from a DataFrame.\n",
      "Try using .loc[row_indexer,col_indexer] = value instead\n",
      "\n",
      "See the caveats in the documentation: https://pandas.pydata.org/pandas-docs/stable/user_guide/indexing.html#returning-a-view-versus-a-copy\n",
      "/home/tony/anaconda3/envs/sec/lib/python3.6/site-packages/ipykernel_launcher.py:232: DeprecationWarning: The default dtype for empty Series will be 'object' instead of 'float64' in a future version. Specify a dtype explicitly to silence this warning.\n"
     ]
    },
    {
     "data": {
      "text/plain": [
       "0"
      ]
     },
     "metadata": {},
     "output_type": "display_data"
    },
    {
     "name": "stdout",
     "output_type": "stream",
     "text": [
      "[CIK==debugging:INFO] 3906/2002-06-30/Schedule_of_Investments_16.csv\n",
      "[CIK==debugging:INFO] 3906/2002-06-30/Schedule_of_Investments_16.csv\n",
      "[CIK==debugging:INFO] 3906/2002-06-30/Schedule_of_Investments_16.csv\n",
      "[CIK==debugging:INFO] 3906/2002-06-30/Schedule_of_Investments_16.csv\n",
      "[CIK==debugging:INFO] 3906/2002-06-30/Schedule_of_Investments_16.csv\n",
      "[CIK==debugging:INFO] 3906/2002-06-30/Schedule_of_Investments_16.csv\n",
      "[CIK==debugging:INFO] 3906/2002-06-30/Schedule_of_Investments_16.csv\n",
      "[CIK==debugging:INFO] 3906/2002-06-30/Schedule_of_Investments_16.csv\n",
      "[CIK==debugging:INFO] 3906/2002-06-30/Schedule_of_Investments_16.csv\n",
      "[CIK==debugging:INFO] 3906/2002-06-30/Schedule_of_Investments_16.csv\n",
      "[CIK==debugging:INFO] 3906/2002-06-30/Schedule_of_Investments_16.csv\n",
      "[CIK==debugging:INFO] 3906/2002-06-30/Schedule_of_Investments_16.csv\n",
      "[CIK==debugging:INFO] 3906/2002-06-30/Schedule_of_Investments_16.csv\n",
      "[CIK==debugging:INFO] 3906/2002-06-30/Schedule_of_Investments_16.csv\n",
      "[CIK==debugging:INFO] 3906/2002-06-30/Schedule_of_Investments_16.csv\n",
      "[CIK==debugging:INFO] 3906/2002-06-30/Schedule_of_Investments_16.csv\n",
      "[CIK==debugging:INFO] 3906/2002-06-30/Schedule_of_Investments_16.csv\n",
      "[CIK==debugging:INFO] 3906/2002-06-30/Schedule_of_Investments_16.csv\n",
      "[CIK==debugging:INFO] 3906/2002-06-30/Schedule_of_Investments_16.csv\n",
      "[CIK==debugging:INFO] 3906/2002-06-30/Schedule_of_Investments_16.csv\n",
      "[CIK==debugging:INFO] 3906/2002-06-30/Schedule_of_Investments_16.csv\n"
     ]
    },
    {
     "name": "stderr",
     "output_type": "stream",
     "text": [
      "INFO:CIK==debugging:3906/2002-06-30/Schedule_of_Investments_16.csv\n",
      "WARNING:root:Applied processor reduces input query to empty string, all comparisons will have score 0. [Query: '']\n",
      "WARNING:root:Applied processor reduces input query to empty string, all comparisons will have score 0. [Query: '']\n",
      "WARNING:root:Applied processor reduces input query to empty string, all comparisons will have score 0. [Query: '']\n",
      "WARNING:root:Applied processor reduces input query to empty string, all comparisons will have score 0. [Query: '']\n",
      "/home/tony/anaconda3/envs/sec/lib/python3.6/site-packages/ipykernel_launcher.py:191: SettingWithCopyWarning: \n",
      "A value is trying to be set on a copy of a slice from a DataFrame.\n",
      "Try using .loc[row_indexer,col_indexer] = value instead\n",
      "\n",
      "See the caveats in the documentation: https://pandas.pydata.org/pandas-docs/stable/user_guide/indexing.html#returning-a-view-versus-a-copy\n"
     ]
    },
    {
     "data": {
      "text/plain": [
       "0"
      ]
     },
     "metadata": {},
     "output_type": "display_data"
    },
    {
     "name": "stdout",
     "output_type": "stream",
     "text": [
      "[CIK==debugging:INFO] 3906/2002-06-30/Schedule_of_Investments_17.csv\n",
      "[CIK==debugging:INFO] 3906/2002-06-30/Schedule_of_Investments_17.csv\n",
      "[CIK==debugging:INFO] 3906/2002-06-30/Schedule_of_Investments_17.csv\n",
      "[CIK==debugging:INFO] 3906/2002-06-30/Schedule_of_Investments_17.csv\n",
      "[CIK==debugging:INFO] 3906/2002-06-30/Schedule_of_Investments_17.csv\n",
      "[CIK==debugging:INFO] 3906/2002-06-30/Schedule_of_Investments_17.csv\n",
      "[CIK==debugging:INFO] 3906/2002-06-30/Schedule_of_Investments_17.csv\n",
      "[CIK==debugging:INFO] 3906/2002-06-30/Schedule_of_Investments_17.csv\n",
      "[CIK==debugging:INFO] 3906/2002-06-30/Schedule_of_Investments_17.csv\n",
      "[CIK==debugging:INFO] 3906/2002-06-30/Schedule_of_Investments_17.csv\n",
      "[CIK==debugging:INFO] 3906/2002-06-30/Schedule_of_Investments_17.csv\n",
      "[CIK==debugging:INFO] 3906/2002-06-30/Schedule_of_Investments_17.csv\n",
      "[CIK==debugging:INFO] 3906/2002-06-30/Schedule_of_Investments_17.csv\n",
      "[CIK==debugging:INFO] 3906/2002-06-30/Schedule_of_Investments_17.csv\n",
      "[CIK==debugging:INFO] 3906/2002-06-30/Schedule_of_Investments_17.csv\n",
      "[CIK==debugging:INFO] 3906/2002-06-30/Schedule_of_Investments_17.csv\n",
      "[CIK==debugging:INFO] 3906/2002-06-30/Schedule_of_Investments_17.csv\n",
      "[CIK==debugging:INFO] 3906/2002-06-30/Schedule_of_Investments_17.csv\n",
      "[CIK==debugging:INFO] 3906/2002-06-30/Schedule_of_Investments_17.csv\n",
      "[CIK==debugging:INFO] 3906/2002-06-30/Schedule_of_Investments_17.csv\n",
      "[CIK==debugging:INFO] 3906/2002-06-30/Schedule_of_Investments_17.csv\n"
     ]
    },
    {
     "name": "stderr",
     "output_type": "stream",
     "text": [
      "INFO:CIK==debugging:3906/2002-06-30/Schedule_of_Investments_17.csv\n",
      "WARNING:root:Applied processor reduces input query to empty string, all comparisons will have score 0. [Query: '']\n",
      "WARNING:root:Applied processor reduces input query to empty string, all comparisons will have score 0. [Query: '']\n",
      "WARNING:root:Applied processor reduces input query to empty string, all comparisons will have score 0. [Query: '']\n",
      "WARNING:root:Applied processor reduces input query to empty string, all comparisons will have score 0. [Query: '']\n",
      "WARNING:root:Applied processor reduces input query to empty string, all comparisons will have score 0. [Query: '']\n",
      "WARNING:root:Applied processor reduces input query to empty string, all comparisons will have score 0. [Query: '']\n",
      "WARNING:root:Applied processor reduces input query to empty string, all comparisons will have score 0. [Query: '']\n",
      "WARNING:root:Applied processor reduces input query to empty string, all comparisons will have score 0. [Query: '']\n",
      "WARNING:root:Applied processor reduces input query to empty string, all comparisons will have score 0. [Query: '']\n",
      "WARNING:root:Applied processor reduces input query to empty string, all comparisons will have score 0. [Query: '']\n",
      "WARNING:root:Applied processor reduces input query to empty string, all comparisons will have score 0. [Query: '']\n",
      "WARNING:root:Applied processor reduces input query to empty string, all comparisons will have score 0. [Query: '']\n",
      "/home/tony/anaconda3/envs/sec/lib/python3.6/site-packages/ipykernel_launcher.py:191: SettingWithCopyWarning: \n",
      "A value is trying to be set on a copy of a slice from a DataFrame.\n",
      "Try using .loc[row_indexer,col_indexer] = value instead\n",
      "\n",
      "See the caveats in the documentation: https://pandas.pydata.org/pandas-docs/stable/user_guide/indexing.html#returning-a-view-versus-a-copy\n",
      "/home/tony/anaconda3/envs/sec/lib/python3.6/site-packages/ipykernel_launcher.py:232: DeprecationWarning: The default dtype for empty Series will be 'object' instead of 'float64' in a future version. Specify a dtype explicitly to silence this warning.\n"
     ]
    },
    {
     "data": {
      "text/plain": [
       "0"
      ]
     },
     "metadata": {},
     "output_type": "display_data"
    },
    {
     "name": "stdout",
     "output_type": "stream",
     "text": [
      "[CIK==debugging:INFO] 3906/2002-06-30/Schedule_of_Investments_18.csv\n",
      "[CIK==debugging:INFO] 3906/2002-06-30/Schedule_of_Investments_18.csv\n",
      "[CIK==debugging:INFO] 3906/2002-06-30/Schedule_of_Investments_18.csv\n",
      "[CIK==debugging:INFO] 3906/2002-06-30/Schedule_of_Investments_18.csv\n",
      "[CIK==debugging:INFO] 3906/2002-06-30/Schedule_of_Investments_18.csv\n",
      "[CIK==debugging:INFO] 3906/2002-06-30/Schedule_of_Investments_18.csv\n",
      "[CIK==debugging:INFO] 3906/2002-06-30/Schedule_of_Investments_18.csv\n",
      "[CIK==debugging:INFO] 3906/2002-06-30/Schedule_of_Investments_18.csv\n",
      "[CIK==debugging:INFO] 3906/2002-06-30/Schedule_of_Investments_18.csv\n",
      "[CIK==debugging:INFO] 3906/2002-06-30/Schedule_of_Investments_18.csv\n",
      "[CIK==debugging:INFO] 3906/2002-06-30/Schedule_of_Investments_18.csv\n",
      "[CIK==debugging:INFO] 3906/2002-06-30/Schedule_of_Investments_18.csv\n",
      "[CIK==debugging:INFO] 3906/2002-06-30/Schedule_of_Investments_18.csv\n",
      "[CIK==debugging:INFO] 3906/2002-06-30/Schedule_of_Investments_18.csv\n",
      "[CIK==debugging:INFO] 3906/2002-06-30/Schedule_of_Investments_18.csv\n",
      "[CIK==debugging:INFO] 3906/2002-06-30/Schedule_of_Investments_18.csv\n",
      "[CIK==debugging:INFO] 3906/2002-06-30/Schedule_of_Investments_18.csv\n",
      "[CIK==debugging:INFO] 3906/2002-06-30/Schedule_of_Investments_18.csv\n",
      "[CIK==debugging:INFO] 3906/2002-06-30/Schedule_of_Investments_18.csv\n",
      "[CIK==debugging:INFO] 3906/2002-06-30/Schedule_of_Investments_18.csv\n",
      "[CIK==debugging:INFO] 3906/2002-06-30/Schedule_of_Investments_18.csv\n"
     ]
    },
    {
     "name": "stderr",
     "output_type": "stream",
     "text": [
      "INFO:CIK==debugging:3906/2002-06-30/Schedule_of_Investments_18.csv\n"
     ]
    },
    {
     "data": {
      "text/plain": [
       "0.0"
      ]
     },
     "metadata": {},
     "output_type": "display_data"
    },
    {
     "name": "stdout",
     "output_type": "stream",
     "text": [
      "[CIK==debugging:INFO] 3906/2002-06-30/Schedule_of_Investments_19.csv\n",
      "[CIK==debugging:INFO] 3906/2002-06-30/Schedule_of_Investments_19.csv\n",
      "[CIK==debugging:INFO] 3906/2002-06-30/Schedule_of_Investments_19.csv\n",
      "[CIK==debugging:INFO] 3906/2002-06-30/Schedule_of_Investments_19.csv\n",
      "[CIK==debugging:INFO] 3906/2002-06-30/Schedule_of_Investments_19.csv\n",
      "[CIK==debugging:INFO] 3906/2002-06-30/Schedule_of_Investments_19.csv\n",
      "[CIK==debugging:INFO] 3906/2002-06-30/Schedule_of_Investments_19.csv\n",
      "[CIK==debugging:INFO] 3906/2002-06-30/Schedule_of_Investments_19.csv\n",
      "[CIK==debugging:INFO] 3906/2002-06-30/Schedule_of_Investments_19.csv\n",
      "[CIK==debugging:INFO] 3906/2002-06-30/Schedule_of_Investments_19.csv\n",
      "[CIK==debugging:INFO] 3906/2002-06-30/Schedule_of_Investments_19.csv\n",
      "[CIK==debugging:INFO] 3906/2002-06-30/Schedule_of_Investments_19.csv\n",
      "[CIK==debugging:INFO] 3906/2002-06-30/Schedule_of_Investments_19.csv\n",
      "[CIK==debugging:INFO] 3906/2002-06-30/Schedule_of_Investments_19.csv\n",
      "[CIK==debugging:INFO] 3906/2002-06-30/Schedule_of_Investments_19.csv\n",
      "[CIK==debugging:INFO] 3906/2002-06-30/Schedule_of_Investments_19.csv\n",
      "[CIK==debugging:INFO] 3906/2002-06-30/Schedule_of_Investments_19.csv\n",
      "[CIK==debugging:INFO] 3906/2002-06-30/Schedule_of_Investments_19.csv\n",
      "[CIK==debugging:INFO] 3906/2002-06-30/Schedule_of_Investments_19.csv\n",
      "[CIK==debugging:INFO] 3906/2002-06-30/Schedule_of_Investments_19.csv\n",
      "[CIK==debugging:INFO] 3906/2002-06-30/Schedule_of_Investments_19.csv\n"
     ]
    },
    {
     "name": "stderr",
     "output_type": "stream",
     "text": [
      "INFO:CIK==debugging:3906/2002-06-30/Schedule_of_Investments_19.csv\n",
      "WARNING:root:Applied processor reduces input query to empty string, all comparisons will have score 0. [Query: '']\n",
      "WARNING:root:Applied processor reduces input query to empty string, all comparisons will have score 0. [Query: '']\n",
      "WARNING:root:Applied processor reduces input query to empty string, all comparisons will have score 0. [Query: '']\n",
      "/home/tony/anaconda3/envs/sec/lib/python3.6/site-packages/ipykernel_launcher.py:191: SettingWithCopyWarning: \n",
      "A value is trying to be set on a copy of a slice from a DataFrame.\n",
      "Try using .loc[row_indexer,col_indexer] = value instead\n",
      "\n",
      "See the caveats in the documentation: https://pandas.pydata.org/pandas-docs/stable/user_guide/indexing.html#returning-a-view-versus-a-copy\n"
     ]
    },
    {
     "data": {
      "text/plain": [
       "0"
      ]
     },
     "metadata": {},
     "output_type": "display_data"
    },
    {
     "name": "stdout",
     "output_type": "stream",
     "text": [
      "[CIK==debugging:INFO] 3906/2002-06-30/Schedule_of_Investments_20.csv\n",
      "[CIK==debugging:INFO] 3906/2002-06-30/Schedule_of_Investments_20.csv\n",
      "[CIK==debugging:INFO] 3906/2002-06-30/Schedule_of_Investments_20.csv\n",
      "[CIK==debugging:INFO] 3906/2002-06-30/Schedule_of_Investments_20.csv\n",
      "[CIK==debugging:INFO] 3906/2002-06-30/Schedule_of_Investments_20.csv\n",
      "[CIK==debugging:INFO] 3906/2002-06-30/Schedule_of_Investments_20.csv\n",
      "[CIK==debugging:INFO] 3906/2002-06-30/Schedule_of_Investments_20.csv\n",
      "[CIK==debugging:INFO] 3906/2002-06-30/Schedule_of_Investments_20.csv\n",
      "[CIK==debugging:INFO] 3906/2002-06-30/Schedule_of_Investments_20.csv\n",
      "[CIK==debugging:INFO] 3906/2002-06-30/Schedule_of_Investments_20.csv\n",
      "[CIK==debugging:INFO] 3906/2002-06-30/Schedule_of_Investments_20.csv\n",
      "[CIK==debugging:INFO] 3906/2002-06-30/Schedule_of_Investments_20.csv\n",
      "[CIK==debugging:INFO] 3906/2002-06-30/Schedule_of_Investments_20.csv\n",
      "[CIK==debugging:INFO] 3906/2002-06-30/Schedule_of_Investments_20.csv\n",
      "[CIK==debugging:INFO] 3906/2002-06-30/Schedule_of_Investments_20.csv\n",
      "[CIK==debugging:INFO] 3906/2002-06-30/Schedule_of_Investments_20.csv\n",
      "[CIK==debugging:INFO] 3906/2002-06-30/Schedule_of_Investments_20.csv\n",
      "[CIK==debugging:INFO] 3906/2002-06-30/Schedule_of_Investments_20.csv\n",
      "[CIK==debugging:INFO] 3906/2002-06-30/Schedule_of_Investments_20.csv\n",
      "[CIK==debugging:INFO] 3906/2002-06-30/Schedule_of_Investments_20.csv\n",
      "[CIK==debugging:INFO] 3906/2002-06-30/Schedule_of_Investments_20.csv\n"
     ]
    },
    {
     "name": "stderr",
     "output_type": "stream",
     "text": [
      "INFO:CIK==debugging:3906/2002-06-30/Schedule_of_Investments_20.csv\n",
      "/home/tony/anaconda3/envs/sec/lib/python3.6/site-packages/ipykernel_launcher.py:191: SettingWithCopyWarning: \n",
      "A value is trying to be set on a copy of a slice from a DataFrame.\n",
      "Try using .loc[row_indexer,col_indexer] = value instead\n",
      "\n",
      "See the caveats in the documentation: https://pandas.pydata.org/pandas-docs/stable/user_guide/indexing.html#returning-a-view-versus-a-copy\n",
      "/home/tony/anaconda3/envs/sec/lib/python3.6/site-packages/ipykernel_launcher.py:232: DeprecationWarning: The default dtype for empty Series will be 'object' instead of 'float64' in a future version. Specify a dtype explicitly to silence this warning.\n"
     ]
    },
    {
     "data": {
      "text/plain": [
       "0"
      ]
     },
     "metadata": {},
     "output_type": "display_data"
    },
    {
     "name": "stdout",
     "output_type": "stream",
     "text": [
      "[CIK==debugging:INFO] 3906/2002-06-30/Schedule_of_Investments_21.csv\n",
      "[CIK==debugging:INFO] 3906/2002-06-30/Schedule_of_Investments_21.csv\n",
      "[CIK==debugging:INFO] 3906/2002-06-30/Schedule_of_Investments_21.csv\n",
      "[CIK==debugging:INFO] 3906/2002-06-30/Schedule_of_Investments_21.csv\n",
      "[CIK==debugging:INFO] 3906/2002-06-30/Schedule_of_Investments_21.csv\n",
      "[CIK==debugging:INFO] 3906/2002-06-30/Schedule_of_Investments_21.csv\n",
      "[CIK==debugging:INFO] 3906/2002-06-30/Schedule_of_Investments_21.csv\n",
      "[CIK==debugging:INFO] 3906/2002-06-30/Schedule_of_Investments_21.csv\n",
      "[CIK==debugging:INFO] 3906/2002-06-30/Schedule_of_Investments_21.csv\n",
      "[CIK==debugging:INFO] 3906/2002-06-30/Schedule_of_Investments_21.csv\n",
      "[CIK==debugging:INFO] 3906/2002-06-30/Schedule_of_Investments_21.csv\n",
      "[CIK==debugging:INFO] 3906/2002-06-30/Schedule_of_Investments_21.csv\n",
      "[CIK==debugging:INFO] 3906/2002-06-30/Schedule_of_Investments_21.csv\n",
      "[CIK==debugging:INFO] 3906/2002-06-30/Schedule_of_Investments_21.csv\n",
      "[CIK==debugging:INFO] 3906/2002-06-30/Schedule_of_Investments_21.csv\n",
      "[CIK==debugging:INFO] 3906/2002-06-30/Schedule_of_Investments_21.csv\n",
      "[CIK==debugging:INFO] 3906/2002-06-30/Schedule_of_Investments_21.csv\n",
      "[CIK==debugging:INFO] 3906/2002-06-30/Schedule_of_Investments_21.csv\n",
      "[CIK==debugging:INFO] 3906/2002-06-30/Schedule_of_Investments_21.csv\n",
      "[CIK==debugging:INFO] 3906/2002-06-30/Schedule_of_Investments_21.csv\n",
      "[CIK==debugging:INFO] 3906/2002-06-30/Schedule_of_Investments_21.csv\n"
     ]
    },
    {
     "name": "stderr",
     "output_type": "stream",
     "text": [
      "INFO:CIK==debugging:3906/2002-06-30/Schedule_of_Investments_21.csv\n",
      "WARNING:root:Applied processor reduces input query to empty string, all comparisons will have score 0. [Query: '']\n",
      "WARNING:root:Applied processor reduces input query to empty string, all comparisons will have score 0. [Query: '']\n",
      "WARNING:root:Applied processor reduces input query to empty string, all comparisons will have score 0. [Query: '']\n",
      "/home/tony/anaconda3/envs/sec/lib/python3.6/site-packages/ipykernel_launcher.py:191: SettingWithCopyWarning: \n",
      "A value is trying to be set on a copy of a slice from a DataFrame.\n",
      "Try using .loc[row_indexer,col_indexer] = value instead\n",
      "\n",
      "See the caveats in the documentation: https://pandas.pydata.org/pandas-docs/stable/user_guide/indexing.html#returning-a-view-versus-a-copy\n"
     ]
    },
    {
     "data": {
      "text/plain": [
       "0"
      ]
     },
     "metadata": {},
     "output_type": "display_data"
    },
    {
     "name": "stdout",
     "output_type": "stream",
     "text": [
      "[CIK==debugging:INFO] 3906/2002-06-30/Schedule_of_Investments_22.csv\n",
      "[CIK==debugging:INFO] 3906/2002-06-30/Schedule_of_Investments_22.csv\n",
      "[CIK==debugging:INFO] 3906/2002-06-30/Schedule_of_Investments_22.csv\n",
      "[CIK==debugging:INFO] 3906/2002-06-30/Schedule_of_Investments_22.csv\n",
      "[CIK==debugging:INFO] 3906/2002-06-30/Schedule_of_Investments_22.csv\n",
      "[CIK==debugging:INFO] 3906/2002-06-30/Schedule_of_Investments_22.csv\n",
      "[CIK==debugging:INFO] 3906/2002-06-30/Schedule_of_Investments_22.csv\n",
      "[CIK==debugging:INFO] 3906/2002-06-30/Schedule_of_Investments_22.csv\n",
      "[CIK==debugging:INFO] 3906/2002-06-30/Schedule_of_Investments_22.csv\n",
      "[CIK==debugging:INFO] 3906/2002-06-30/Schedule_of_Investments_22.csv\n",
      "[CIK==debugging:INFO] 3906/2002-06-30/Schedule_of_Investments_22.csv\n",
      "[CIK==debugging:INFO] 3906/2002-06-30/Schedule_of_Investments_22.csv\n",
      "[CIK==debugging:INFO] 3906/2002-06-30/Schedule_of_Investments_22.csv\n",
      "[CIK==debugging:INFO] 3906/2002-06-30/Schedule_of_Investments_22.csv\n",
      "[CIK==debugging:INFO] 3906/2002-06-30/Schedule_of_Investments_22.csv\n",
      "[CIK==debugging:INFO] 3906/2002-06-30/Schedule_of_Investments_22.csv\n",
      "[CIK==debugging:INFO] 3906/2002-06-30/Schedule_of_Investments_22.csv\n",
      "[CIK==debugging:INFO] 3906/2002-06-30/Schedule_of_Investments_22.csv\n",
      "[CIK==debugging:INFO] 3906/2002-06-30/Schedule_of_Investments_22.csv\n",
      "[CIK==debugging:INFO] 3906/2002-06-30/Schedule_of_Investments_22.csv\n",
      "[CIK==debugging:INFO] 3906/2002-06-30/Schedule_of_Investments_22.csv\n"
     ]
    },
    {
     "name": "stderr",
     "output_type": "stream",
     "text": [
      "INFO:CIK==debugging:3906/2002-06-30/Schedule_of_Investments_22.csv\n",
      "/home/tony/anaconda3/envs/sec/lib/python3.6/site-packages/ipykernel_launcher.py:191: SettingWithCopyWarning: \n",
      "A value is trying to be set on a copy of a slice from a DataFrame.\n",
      "Try using .loc[row_indexer,col_indexer] = value instead\n",
      "\n",
      "See the caveats in the documentation: https://pandas.pydata.org/pandas-docs/stable/user_guide/indexing.html#returning-a-view-versus-a-copy\n",
      "/home/tony/anaconda3/envs/sec/lib/python3.6/site-packages/ipykernel_launcher.py:232: DeprecationWarning: The default dtype for empty Series will be 'object' instead of 'float64' in a future version. Specify a dtype explicitly to silence this warning.\n"
     ]
    },
    {
     "data": {
      "text/plain": [
       "0"
      ]
     },
     "metadata": {},
     "output_type": "display_data"
    },
    {
     "name": "stdout",
     "output_type": "stream",
     "text": [
      "[CIK==debugging:INFO] 3906/2002-06-30/Schedule_of_Investments_23.csv\n",
      "[CIK==debugging:INFO] 3906/2002-06-30/Schedule_of_Investments_23.csv\n",
      "[CIK==debugging:INFO] 3906/2002-06-30/Schedule_of_Investments_23.csv\n",
      "[CIK==debugging:INFO] 3906/2002-06-30/Schedule_of_Investments_23.csv\n",
      "[CIK==debugging:INFO] 3906/2002-06-30/Schedule_of_Investments_23.csv\n",
      "[CIK==debugging:INFO] 3906/2002-06-30/Schedule_of_Investments_23.csv\n",
      "[CIK==debugging:INFO] 3906/2002-06-30/Schedule_of_Investments_23.csv\n",
      "[CIK==debugging:INFO] 3906/2002-06-30/Schedule_of_Investments_23.csv\n",
      "[CIK==debugging:INFO] 3906/2002-06-30/Schedule_of_Investments_23.csv\n",
      "[CIK==debugging:INFO] 3906/2002-06-30/Schedule_of_Investments_23.csv\n",
      "[CIK==debugging:INFO] 3906/2002-06-30/Schedule_of_Investments_23.csv\n",
      "[CIK==debugging:INFO] 3906/2002-06-30/Schedule_of_Investments_23.csv\n",
      "[CIK==debugging:INFO] 3906/2002-06-30/Schedule_of_Investments_23.csv\n",
      "[CIK==debugging:INFO] 3906/2002-06-30/Schedule_of_Investments_23.csv\n",
      "[CIK==debugging:INFO] 3906/2002-06-30/Schedule_of_Investments_23.csv\n",
      "[CIK==debugging:INFO] 3906/2002-06-30/Schedule_of_Investments_23.csv\n",
      "[CIK==debugging:INFO] 3906/2002-06-30/Schedule_of_Investments_23.csv\n",
      "[CIK==debugging:INFO] 3906/2002-06-30/Schedule_of_Investments_23.csv\n",
      "[CIK==debugging:INFO] 3906/2002-06-30/Schedule_of_Investments_23.csv\n",
      "[CIK==debugging:INFO] 3906/2002-06-30/Schedule_of_Investments_23.csv\n",
      "[CIK==debugging:INFO] 3906/2002-06-30/Schedule_of_Investments_23.csv\n"
     ]
    },
    {
     "name": "stderr",
     "output_type": "stream",
     "text": [
      "INFO:CIK==debugging:3906/2002-06-30/Schedule_of_Investments_23.csv\n",
      "WARNING:root:Applied processor reduces input query to empty string, all comparisons will have score 0. [Query: '']\n",
      "WARNING:root:Applied processor reduces input query to empty string, all comparisons will have score 0. [Query: '']\n",
      "WARNING:root:Applied processor reduces input query to empty string, all comparisons will have score 0. [Query: '']\n",
      "/home/tony/anaconda3/envs/sec/lib/python3.6/site-packages/ipykernel_launcher.py:191: SettingWithCopyWarning: \n",
      "A value is trying to be set on a copy of a slice from a DataFrame.\n",
      "Try using .loc[row_indexer,col_indexer] = value instead\n",
      "\n",
      "See the caveats in the documentation: https://pandas.pydata.org/pandas-docs/stable/user_guide/indexing.html#returning-a-view-versus-a-copy\n"
     ]
    },
    {
     "data": {
      "text/plain": [
       "0"
      ]
     },
     "metadata": {},
     "output_type": "display_data"
    },
    {
     "name": "stdout",
     "output_type": "stream",
     "text": [
      "[CIK==debugging:INFO] 3906/2002-06-30/Schedule_of_Investments_24.csv\n",
      "[CIK==debugging:INFO] 3906/2002-06-30/Schedule_of_Investments_24.csv\n",
      "[CIK==debugging:INFO] 3906/2002-06-30/Schedule_of_Investments_24.csv\n",
      "[CIK==debugging:INFO] 3906/2002-06-30/Schedule_of_Investments_24.csv\n",
      "[CIK==debugging:INFO] 3906/2002-06-30/Schedule_of_Investments_24.csv\n",
      "[CIK==debugging:INFO] 3906/2002-06-30/Schedule_of_Investments_24.csv\n",
      "[CIK==debugging:INFO] 3906/2002-06-30/Schedule_of_Investments_24.csv\n",
      "[CIK==debugging:INFO] 3906/2002-06-30/Schedule_of_Investments_24.csv\n",
      "[CIK==debugging:INFO] 3906/2002-06-30/Schedule_of_Investments_24.csv\n",
      "[CIK==debugging:INFO] 3906/2002-06-30/Schedule_of_Investments_24.csv\n",
      "[CIK==debugging:INFO] 3906/2002-06-30/Schedule_of_Investments_24.csv\n",
      "[CIK==debugging:INFO] 3906/2002-06-30/Schedule_of_Investments_24.csv\n",
      "[CIK==debugging:INFO] 3906/2002-06-30/Schedule_of_Investments_24.csv\n",
      "[CIK==debugging:INFO] 3906/2002-06-30/Schedule_of_Investments_24.csv\n",
      "[CIK==debugging:INFO] 3906/2002-06-30/Schedule_of_Investments_24.csv\n",
      "[CIK==debugging:INFO] 3906/2002-06-30/Schedule_of_Investments_24.csv\n",
      "[CIK==debugging:INFO] 3906/2002-06-30/Schedule_of_Investments_24.csv\n",
      "[CIK==debugging:INFO] 3906/2002-06-30/Schedule_of_Investments_24.csv\n",
      "[CIK==debugging:INFO] 3906/2002-06-30/Schedule_of_Investments_24.csv\n",
      "[CIK==debugging:INFO] 3906/2002-06-30/Schedule_of_Investments_24.csv\n",
      "[CIK==debugging:INFO] 3906/2002-06-30/Schedule_of_Investments_24.csv\n"
     ]
    },
    {
     "name": "stderr",
     "output_type": "stream",
     "text": [
      "INFO:CIK==debugging:3906/2002-06-30/Schedule_of_Investments_24.csv\n",
      "/home/tony/anaconda3/envs/sec/lib/python3.6/site-packages/ipykernel_launcher.py:191: SettingWithCopyWarning: \n",
      "A value is trying to be set on a copy of a slice from a DataFrame.\n",
      "Try using .loc[row_indexer,col_indexer] = value instead\n",
      "\n",
      "See the caveats in the documentation: https://pandas.pydata.org/pandas-docs/stable/user_guide/indexing.html#returning-a-view-versus-a-copy\n",
      "/home/tony/anaconda3/envs/sec/lib/python3.6/site-packages/ipykernel_launcher.py:232: DeprecationWarning: The default dtype for empty Series will be 'object' instead of 'float64' in a future version. Specify a dtype explicitly to silence this warning.\n"
     ]
    },
    {
     "data": {
      "text/plain": [
       "0"
      ]
     },
     "metadata": {},
     "output_type": "display_data"
    },
    {
     "name": "stdout",
     "output_type": "stream",
     "text": [
      "[CIK==debugging:INFO] 3906/2002-06-30/Schedule_of_Investments_25.csv\n",
      "[CIK==debugging:INFO] 3906/2002-06-30/Schedule_of_Investments_25.csv\n",
      "[CIK==debugging:INFO] 3906/2002-06-30/Schedule_of_Investments_25.csv\n",
      "[CIK==debugging:INFO] 3906/2002-06-30/Schedule_of_Investments_25.csv\n",
      "[CIK==debugging:INFO] 3906/2002-06-30/Schedule_of_Investments_25.csv\n",
      "[CIK==debugging:INFO] 3906/2002-06-30/Schedule_of_Investments_25.csv\n",
      "[CIK==debugging:INFO] 3906/2002-06-30/Schedule_of_Investments_25.csv\n",
      "[CIK==debugging:INFO] 3906/2002-06-30/Schedule_of_Investments_25.csv\n",
      "[CIK==debugging:INFO] 3906/2002-06-30/Schedule_of_Investments_25.csv\n",
      "[CIK==debugging:INFO] 3906/2002-06-30/Schedule_of_Investments_25.csv\n",
      "[CIK==debugging:INFO] 3906/2002-06-30/Schedule_of_Investments_25.csv\n",
      "[CIK==debugging:INFO] 3906/2002-06-30/Schedule_of_Investments_25.csv\n",
      "[CIK==debugging:INFO] 3906/2002-06-30/Schedule_of_Investments_25.csv\n",
      "[CIK==debugging:INFO] 3906/2002-06-30/Schedule_of_Investments_25.csv\n",
      "[CIK==debugging:INFO] 3906/2002-06-30/Schedule_of_Investments_25.csv\n",
      "[CIK==debugging:INFO] 3906/2002-06-30/Schedule_of_Investments_25.csv\n",
      "[CIK==debugging:INFO] 3906/2002-06-30/Schedule_of_Investments_25.csv\n",
      "[CIK==debugging:INFO] 3906/2002-06-30/Schedule_of_Investments_25.csv\n",
      "[CIK==debugging:INFO] 3906/2002-06-30/Schedule_of_Investments_25.csv\n",
      "[CIK==debugging:INFO] 3906/2002-06-30/Schedule_of_Investments_25.csv\n",
      "[CIK==debugging:INFO] 3906/2002-06-30/Schedule_of_Investments_25.csv\n"
     ]
    },
    {
     "name": "stderr",
     "output_type": "stream",
     "text": [
      "INFO:CIK==debugging:3906/2002-06-30/Schedule_of_Investments_25.csv\n",
      "WARNING:root:Applied processor reduces input query to empty string, all comparisons will have score 0. [Query: '']\n",
      "WARNING:root:Applied processor reduces input query to empty string, all comparisons will have score 0. [Query: '']\n",
      "WARNING:root:Applied processor reduces input query to empty string, all comparisons will have score 0. [Query: '']\n",
      "/home/tony/anaconda3/envs/sec/lib/python3.6/site-packages/ipykernel_launcher.py:191: SettingWithCopyWarning: \n",
      "A value is trying to be set on a copy of a slice from a DataFrame.\n",
      "Try using .loc[row_indexer,col_indexer] = value instead\n",
      "\n",
      "See the caveats in the documentation: https://pandas.pydata.org/pandas-docs/stable/user_guide/indexing.html#returning-a-view-versus-a-copy\n"
     ]
    },
    {
     "data": {
      "text/plain": [
       "0"
      ]
     },
     "metadata": {},
     "output_type": "display_data"
    },
    {
     "name": "stdout",
     "output_type": "stream",
     "text": [
      "[CIK==debugging:INFO] 3906/2002-06-30/Schedule_of_Investments_26.csv\n",
      "[CIK==debugging:INFO] 3906/2002-06-30/Schedule_of_Investments_26.csv\n",
      "[CIK==debugging:INFO] 3906/2002-06-30/Schedule_of_Investments_26.csv\n",
      "[CIK==debugging:INFO] 3906/2002-06-30/Schedule_of_Investments_26.csv\n",
      "[CIK==debugging:INFO] 3906/2002-06-30/Schedule_of_Investments_26.csv\n",
      "[CIK==debugging:INFO] 3906/2002-06-30/Schedule_of_Investments_26.csv\n",
      "[CIK==debugging:INFO] 3906/2002-06-30/Schedule_of_Investments_26.csv\n",
      "[CIK==debugging:INFO] 3906/2002-06-30/Schedule_of_Investments_26.csv\n",
      "[CIK==debugging:INFO] 3906/2002-06-30/Schedule_of_Investments_26.csv\n",
      "[CIK==debugging:INFO] 3906/2002-06-30/Schedule_of_Investments_26.csv\n",
      "[CIK==debugging:INFO] 3906/2002-06-30/Schedule_of_Investments_26.csv\n",
      "[CIK==debugging:INFO] 3906/2002-06-30/Schedule_of_Investments_26.csv\n",
      "[CIK==debugging:INFO] 3906/2002-06-30/Schedule_of_Investments_26.csv\n",
      "[CIK==debugging:INFO] 3906/2002-06-30/Schedule_of_Investments_26.csv\n",
      "[CIK==debugging:INFO] 3906/2002-06-30/Schedule_of_Investments_26.csv\n",
      "[CIK==debugging:INFO] 3906/2002-06-30/Schedule_of_Investments_26.csv\n",
      "[CIK==debugging:INFO] 3906/2002-06-30/Schedule_of_Investments_26.csv\n",
      "[CIK==debugging:INFO] 3906/2002-06-30/Schedule_of_Investments_26.csv\n",
      "[CIK==debugging:INFO] 3906/2002-06-30/Schedule_of_Investments_26.csv\n",
      "[CIK==debugging:INFO] 3906/2002-06-30/Schedule_of_Investments_26.csv\n",
      "[CIK==debugging:INFO] 3906/2002-06-30/Schedule_of_Investments_26.csv\n"
     ]
    },
    {
     "name": "stderr",
     "output_type": "stream",
     "text": [
      "INFO:CIK==debugging:3906/2002-06-30/Schedule_of_Investments_26.csv\n",
      "/home/tony/anaconda3/envs/sec/lib/python3.6/site-packages/ipykernel_launcher.py:191: SettingWithCopyWarning: \n",
      "A value is trying to be set on a copy of a slice from a DataFrame.\n",
      "Try using .loc[row_indexer,col_indexer] = value instead\n",
      "\n",
      "See the caveats in the documentation: https://pandas.pydata.org/pandas-docs/stable/user_guide/indexing.html#returning-a-view-versus-a-copy\n",
      "/home/tony/anaconda3/envs/sec/lib/python3.6/site-packages/ipykernel_launcher.py:232: DeprecationWarning: The default dtype for empty Series will be 'object' instead of 'float64' in a future version. Specify a dtype explicitly to silence this warning.\n"
     ]
    },
    {
     "data": {
      "text/plain": [
       "0"
      ]
     },
     "metadata": {},
     "output_type": "display_data"
    },
    {
     "name": "stdout",
     "output_type": "stream",
     "text": [
      "[CIK==debugging:INFO] 3906/2002-06-30/Schedule_of_Investments_27.csv\n",
      "[CIK==debugging:INFO] 3906/2002-06-30/Schedule_of_Investments_27.csv\n",
      "[CIK==debugging:INFO] 3906/2002-06-30/Schedule_of_Investments_27.csv\n",
      "[CIK==debugging:INFO] 3906/2002-06-30/Schedule_of_Investments_27.csv\n",
      "[CIK==debugging:INFO] 3906/2002-06-30/Schedule_of_Investments_27.csv\n",
      "[CIK==debugging:INFO] 3906/2002-06-30/Schedule_of_Investments_27.csv\n",
      "[CIK==debugging:INFO] 3906/2002-06-30/Schedule_of_Investments_27.csv\n",
      "[CIK==debugging:INFO] 3906/2002-06-30/Schedule_of_Investments_27.csv\n",
      "[CIK==debugging:INFO] 3906/2002-06-30/Schedule_of_Investments_27.csv\n",
      "[CIK==debugging:INFO] 3906/2002-06-30/Schedule_of_Investments_27.csv\n",
      "[CIK==debugging:INFO] 3906/2002-06-30/Schedule_of_Investments_27.csv\n",
      "[CIK==debugging:INFO] 3906/2002-06-30/Schedule_of_Investments_27.csv\n",
      "[CIK==debugging:INFO] 3906/2002-06-30/Schedule_of_Investments_27.csv\n",
      "[CIK==debugging:INFO] 3906/2002-06-30/Schedule_of_Investments_27.csv\n",
      "[CIK==debugging:INFO] 3906/2002-06-30/Schedule_of_Investments_27.csv\n",
      "[CIK==debugging:INFO] 3906/2002-06-30/Schedule_of_Investments_27.csv\n",
      "[CIK==debugging:INFO] 3906/2002-06-30/Schedule_of_Investments_27.csv\n",
      "[CIK==debugging:INFO] 3906/2002-06-30/Schedule_of_Investments_27.csv\n",
      "[CIK==debugging:INFO] 3906/2002-06-30/Schedule_of_Investments_27.csv\n",
      "[CIK==debugging:INFO] 3906/2002-06-30/Schedule_of_Investments_27.csv\n",
      "[CIK==debugging:INFO] 3906/2002-06-30/Schedule_of_Investments_27.csv\n"
     ]
    },
    {
     "name": "stderr",
     "output_type": "stream",
     "text": [
      "INFO:CIK==debugging:3906/2002-06-30/Schedule_of_Investments_27.csv\n",
      "WARNING:root:Applied processor reduces input query to empty string, all comparisons will have score 0. [Query: '']\n",
      "WARNING:root:Applied processor reduces input query to empty string, all comparisons will have score 0. [Query: '']\n",
      "WARNING:root:Applied processor reduces input query to empty string, all comparisons will have score 0. [Query: '']\n",
      "/home/tony/anaconda3/envs/sec/lib/python3.6/site-packages/ipykernel_launcher.py:191: SettingWithCopyWarning: \n",
      "A value is trying to be set on a copy of a slice from a DataFrame.\n",
      "Try using .loc[row_indexer,col_indexer] = value instead\n",
      "\n",
      "See the caveats in the documentation: https://pandas.pydata.org/pandas-docs/stable/user_guide/indexing.html#returning-a-view-versus-a-copy\n"
     ]
    },
    {
     "data": {
      "text/plain": [
       "0"
      ]
     },
     "metadata": {},
     "output_type": "display_data"
    },
    {
     "name": "stdout",
     "output_type": "stream",
     "text": [
      "[CIK==debugging:INFO] 3906/2002-06-30/Schedule_of_Investments_28.csv\n",
      "[CIK==debugging:INFO] 3906/2002-06-30/Schedule_of_Investments_28.csv\n",
      "[CIK==debugging:INFO] 3906/2002-06-30/Schedule_of_Investments_28.csv\n",
      "[CIK==debugging:INFO] 3906/2002-06-30/Schedule_of_Investments_28.csv\n",
      "[CIK==debugging:INFO] 3906/2002-06-30/Schedule_of_Investments_28.csv\n",
      "[CIK==debugging:INFO] 3906/2002-06-30/Schedule_of_Investments_28.csv\n",
      "[CIK==debugging:INFO] 3906/2002-06-30/Schedule_of_Investments_28.csv\n",
      "[CIK==debugging:INFO] 3906/2002-06-30/Schedule_of_Investments_28.csv\n",
      "[CIK==debugging:INFO] 3906/2002-06-30/Schedule_of_Investments_28.csv\n",
      "[CIK==debugging:INFO] 3906/2002-06-30/Schedule_of_Investments_28.csv\n",
      "[CIK==debugging:INFO] 3906/2002-06-30/Schedule_of_Investments_28.csv\n",
      "[CIK==debugging:INFO] 3906/2002-06-30/Schedule_of_Investments_28.csv\n",
      "[CIK==debugging:INFO] 3906/2002-06-30/Schedule_of_Investments_28.csv\n",
      "[CIK==debugging:INFO] 3906/2002-06-30/Schedule_of_Investments_28.csv\n",
      "[CIK==debugging:INFO] 3906/2002-06-30/Schedule_of_Investments_28.csv\n",
      "[CIK==debugging:INFO] 3906/2002-06-30/Schedule_of_Investments_28.csv\n",
      "[CIK==debugging:INFO] 3906/2002-06-30/Schedule_of_Investments_28.csv\n",
      "[CIK==debugging:INFO] 3906/2002-06-30/Schedule_of_Investments_28.csv\n",
      "[CIK==debugging:INFO] 3906/2002-06-30/Schedule_of_Investments_28.csv\n",
      "[CIK==debugging:INFO] 3906/2002-06-30/Schedule_of_Investments_28.csv\n",
      "[CIK==debugging:INFO] 3906/2002-06-30/Schedule_of_Investments_28.csv\n"
     ]
    },
    {
     "name": "stderr",
     "output_type": "stream",
     "text": [
      "INFO:CIK==debugging:3906/2002-06-30/Schedule_of_Investments_28.csv\n",
      "/home/tony/anaconda3/envs/sec/lib/python3.6/site-packages/ipykernel_launcher.py:191: SettingWithCopyWarning: \n",
      "A value is trying to be set on a copy of a slice from a DataFrame.\n",
      "Try using .loc[row_indexer,col_indexer] = value instead\n",
      "\n",
      "See the caveats in the documentation: https://pandas.pydata.org/pandas-docs/stable/user_guide/indexing.html#returning-a-view-versus-a-copy\n",
      "/home/tony/anaconda3/envs/sec/lib/python3.6/site-packages/ipykernel_launcher.py:232: DeprecationWarning: The default dtype for empty Series will be 'object' instead of 'float64' in a future version. Specify a dtype explicitly to silence this warning.\n"
     ]
    },
    {
     "data": {
      "text/plain": [
       "0"
      ]
     },
     "metadata": {},
     "output_type": "display_data"
    },
    {
     "name": "stdout",
     "output_type": "stream",
     "text": [
      "[CIK==debugging:INFO] 3906/2002-06-30/Schedule_of_Investments_29.csv\n",
      "[CIK==debugging:INFO] 3906/2002-06-30/Schedule_of_Investments_29.csv\n",
      "[CIK==debugging:INFO] 3906/2002-06-30/Schedule_of_Investments_29.csv\n",
      "[CIK==debugging:INFO] 3906/2002-06-30/Schedule_of_Investments_29.csv\n",
      "[CIK==debugging:INFO] 3906/2002-06-30/Schedule_of_Investments_29.csv\n",
      "[CIK==debugging:INFO] 3906/2002-06-30/Schedule_of_Investments_29.csv\n",
      "[CIK==debugging:INFO] 3906/2002-06-30/Schedule_of_Investments_29.csv\n",
      "[CIK==debugging:INFO] 3906/2002-06-30/Schedule_of_Investments_29.csv\n",
      "[CIK==debugging:INFO] 3906/2002-06-30/Schedule_of_Investments_29.csv\n",
      "[CIK==debugging:INFO] 3906/2002-06-30/Schedule_of_Investments_29.csv\n",
      "[CIK==debugging:INFO] 3906/2002-06-30/Schedule_of_Investments_29.csv\n",
      "[CIK==debugging:INFO] 3906/2002-06-30/Schedule_of_Investments_29.csv\n",
      "[CIK==debugging:INFO] 3906/2002-06-30/Schedule_of_Investments_29.csv\n",
      "[CIK==debugging:INFO] 3906/2002-06-30/Schedule_of_Investments_29.csv\n",
      "[CIK==debugging:INFO] 3906/2002-06-30/Schedule_of_Investments_29.csv\n",
      "[CIK==debugging:INFO] 3906/2002-06-30/Schedule_of_Investments_29.csv\n",
      "[CIK==debugging:INFO] 3906/2002-06-30/Schedule_of_Investments_29.csv\n",
      "[CIK==debugging:INFO] 3906/2002-06-30/Schedule_of_Investments_29.csv\n",
      "[CIK==debugging:INFO] 3906/2002-06-30/Schedule_of_Investments_29.csv\n",
      "[CIK==debugging:INFO] 3906/2002-06-30/Schedule_of_Investments_29.csv\n",
      "[CIK==debugging:INFO] 3906/2002-06-30/Schedule_of_Investments_29.csv\n"
     ]
    },
    {
     "name": "stderr",
     "output_type": "stream",
     "text": [
      "INFO:CIK==debugging:3906/2002-06-30/Schedule_of_Investments_29.csv\n",
      "WARNING:root:Applied processor reduces input query to empty string, all comparisons will have score 0. [Query: '']\n",
      "WARNING:root:Applied processor reduces input query to empty string, all comparisons will have score 0. [Query: '']\n",
      "WARNING:root:Applied processor reduces input query to empty string, all comparisons will have score 0. [Query: '']\n",
      "/home/tony/anaconda3/envs/sec/lib/python3.6/site-packages/ipykernel_launcher.py:191: SettingWithCopyWarning: \n",
      "A value is trying to be set on a copy of a slice from a DataFrame.\n",
      "Try using .loc[row_indexer,col_indexer] = value instead\n",
      "\n",
      "See the caveats in the documentation: https://pandas.pydata.org/pandas-docs/stable/user_guide/indexing.html#returning-a-view-versus-a-copy\n"
     ]
    },
    {
     "data": {
      "text/plain": [
       "0"
      ]
     },
     "metadata": {},
     "output_type": "display_data"
    },
    {
     "name": "stdout",
     "output_type": "stream",
     "text": [
      "[CIK==debugging:INFO] 3906/2002-06-30/Schedule_of_Investments_30.csv\n",
      "[CIK==debugging:INFO] 3906/2002-06-30/Schedule_of_Investments_30.csv\n",
      "[CIK==debugging:INFO] 3906/2002-06-30/Schedule_of_Investments_30.csv\n",
      "[CIK==debugging:INFO] 3906/2002-06-30/Schedule_of_Investments_30.csv\n",
      "[CIK==debugging:INFO] 3906/2002-06-30/Schedule_of_Investments_30.csv\n",
      "[CIK==debugging:INFO] 3906/2002-06-30/Schedule_of_Investments_30.csv\n",
      "[CIK==debugging:INFO] 3906/2002-06-30/Schedule_of_Investments_30.csv\n",
      "[CIK==debugging:INFO] 3906/2002-06-30/Schedule_of_Investments_30.csv\n",
      "[CIK==debugging:INFO] 3906/2002-06-30/Schedule_of_Investments_30.csv\n",
      "[CIK==debugging:INFO] 3906/2002-06-30/Schedule_of_Investments_30.csv\n",
      "[CIK==debugging:INFO] 3906/2002-06-30/Schedule_of_Investments_30.csv\n",
      "[CIK==debugging:INFO] 3906/2002-06-30/Schedule_of_Investments_30.csv\n",
      "[CIK==debugging:INFO] 3906/2002-06-30/Schedule_of_Investments_30.csv\n",
      "[CIK==debugging:INFO] 3906/2002-06-30/Schedule_of_Investments_30.csv\n",
      "[CIK==debugging:INFO] 3906/2002-06-30/Schedule_of_Investments_30.csv\n",
      "[CIK==debugging:INFO] 3906/2002-06-30/Schedule_of_Investments_30.csv\n",
      "[CIK==debugging:INFO] 3906/2002-06-30/Schedule_of_Investments_30.csv\n",
      "[CIK==debugging:INFO] 3906/2002-06-30/Schedule_of_Investments_30.csv\n",
      "[CIK==debugging:INFO] 3906/2002-06-30/Schedule_of_Investments_30.csv\n",
      "[CIK==debugging:INFO] 3906/2002-06-30/Schedule_of_Investments_30.csv\n",
      "[CIK==debugging:INFO] 3906/2002-06-30/Schedule_of_Investments_30.csv\n"
     ]
    },
    {
     "name": "stderr",
     "output_type": "stream",
     "text": [
      "INFO:CIK==debugging:3906/2002-06-30/Schedule_of_Investments_30.csv\n",
      "/home/tony/anaconda3/envs/sec/lib/python3.6/site-packages/ipykernel_launcher.py:191: SettingWithCopyWarning: \n",
      "A value is trying to be set on a copy of a slice from a DataFrame.\n",
      "Try using .loc[row_indexer,col_indexer] = value instead\n",
      "\n",
      "See the caveats in the documentation: https://pandas.pydata.org/pandas-docs/stable/user_guide/indexing.html#returning-a-view-versus-a-copy\n",
      "/home/tony/anaconda3/envs/sec/lib/python3.6/site-packages/ipykernel_launcher.py:232: DeprecationWarning: The default dtype for empty Series will be 'object' instead of 'float64' in a future version. Specify a dtype explicitly to silence this warning.\n"
     ]
    },
    {
     "data": {
      "text/plain": [
       "0"
      ]
     },
     "metadata": {},
     "output_type": "display_data"
    },
    {
     "name": "stdout",
     "output_type": "stream",
     "text": [
      "[CIK==debugging:INFO] 3906/2002-06-30/Schedule_of_Investments_31.csv\n",
      "[CIK==debugging:INFO] 3906/2002-06-30/Schedule_of_Investments_31.csv\n",
      "[CIK==debugging:INFO] 3906/2002-06-30/Schedule_of_Investments_31.csv\n",
      "[CIK==debugging:INFO] 3906/2002-06-30/Schedule_of_Investments_31.csv\n",
      "[CIK==debugging:INFO] 3906/2002-06-30/Schedule_of_Investments_31.csv\n",
      "[CIK==debugging:INFO] 3906/2002-06-30/Schedule_of_Investments_31.csv\n",
      "[CIK==debugging:INFO] 3906/2002-06-30/Schedule_of_Investments_31.csv\n",
      "[CIK==debugging:INFO] 3906/2002-06-30/Schedule_of_Investments_31.csv\n",
      "[CIK==debugging:INFO] 3906/2002-06-30/Schedule_of_Investments_31.csv\n",
      "[CIK==debugging:INFO] 3906/2002-06-30/Schedule_of_Investments_31.csv\n",
      "[CIK==debugging:INFO] 3906/2002-06-30/Schedule_of_Investments_31.csv\n",
      "[CIK==debugging:INFO] 3906/2002-06-30/Schedule_of_Investments_31.csv\n",
      "[CIK==debugging:INFO] 3906/2002-06-30/Schedule_of_Investments_31.csv\n",
      "[CIK==debugging:INFO] 3906/2002-06-30/Schedule_of_Investments_31.csv\n",
      "[CIK==debugging:INFO] 3906/2002-06-30/Schedule_of_Investments_31.csv\n",
      "[CIK==debugging:INFO] 3906/2002-06-30/Schedule_of_Investments_31.csv\n",
      "[CIK==debugging:INFO] 3906/2002-06-30/Schedule_of_Investments_31.csv\n",
      "[CIK==debugging:INFO] 3906/2002-06-30/Schedule_of_Investments_31.csv\n",
      "[CIK==debugging:INFO] 3906/2002-06-30/Schedule_of_Investments_31.csv\n",
      "[CIK==debugging:INFO] 3906/2002-06-30/Schedule_of_Investments_31.csv\n",
      "[CIK==debugging:INFO] 3906/2002-06-30/Schedule_of_Investments_31.csv\n"
     ]
    },
    {
     "name": "stderr",
     "output_type": "stream",
     "text": [
      "INFO:CIK==debugging:3906/2002-06-30/Schedule_of_Investments_31.csv\n",
      "WARNING:root:Applied processor reduces input query to empty string, all comparisons will have score 0. [Query: '']\n",
      "WARNING:root:Applied processor reduces input query to empty string, all comparisons will have score 0. [Query: '']\n",
      "WARNING:root:Applied processor reduces input query to empty string, all comparisons will have score 0. [Query: '']\n",
      "/home/tony/anaconda3/envs/sec/lib/python3.6/site-packages/ipykernel_launcher.py:191: SettingWithCopyWarning: \n",
      "A value is trying to be set on a copy of a slice from a DataFrame.\n",
      "Try using .loc[row_indexer,col_indexer] = value instead\n",
      "\n",
      "See the caveats in the documentation: https://pandas.pydata.org/pandas-docs/stable/user_guide/indexing.html#returning-a-view-versus-a-copy\n"
     ]
    },
    {
     "data": {
      "text/plain": [
       "0"
      ]
     },
     "metadata": {},
     "output_type": "display_data"
    },
    {
     "name": "stdout",
     "output_type": "stream",
     "text": [
      "[CIK==debugging:INFO] 3906/2002-06-30/Schedule_of_Investments_32.csv\n",
      "[CIK==debugging:INFO] 3906/2002-06-30/Schedule_of_Investments_32.csv\n",
      "[CIK==debugging:INFO] 3906/2002-06-30/Schedule_of_Investments_32.csv\n",
      "[CIK==debugging:INFO] 3906/2002-06-30/Schedule_of_Investments_32.csv\n",
      "[CIK==debugging:INFO] 3906/2002-06-30/Schedule_of_Investments_32.csv\n",
      "[CIK==debugging:INFO] 3906/2002-06-30/Schedule_of_Investments_32.csv\n",
      "[CIK==debugging:INFO] 3906/2002-06-30/Schedule_of_Investments_32.csv\n",
      "[CIK==debugging:INFO] 3906/2002-06-30/Schedule_of_Investments_32.csv\n",
      "[CIK==debugging:INFO] 3906/2002-06-30/Schedule_of_Investments_32.csv\n",
      "[CIK==debugging:INFO] 3906/2002-06-30/Schedule_of_Investments_32.csv\n",
      "[CIK==debugging:INFO] 3906/2002-06-30/Schedule_of_Investments_32.csv\n",
      "[CIK==debugging:INFO] 3906/2002-06-30/Schedule_of_Investments_32.csv\n",
      "[CIK==debugging:INFO] 3906/2002-06-30/Schedule_of_Investments_32.csv\n",
      "[CIK==debugging:INFO] 3906/2002-06-30/Schedule_of_Investments_32.csv\n",
      "[CIK==debugging:INFO] 3906/2002-06-30/Schedule_of_Investments_32.csv\n",
      "[CIK==debugging:INFO] 3906/2002-06-30/Schedule_of_Investments_32.csv\n",
      "[CIK==debugging:INFO] 3906/2002-06-30/Schedule_of_Investments_32.csv\n",
      "[CIK==debugging:INFO] 3906/2002-06-30/Schedule_of_Investments_32.csv\n",
      "[CIK==debugging:INFO] 3906/2002-06-30/Schedule_of_Investments_32.csv\n",
      "[CIK==debugging:INFO] 3906/2002-06-30/Schedule_of_Investments_32.csv\n",
      "[CIK==debugging:INFO] 3906/2002-06-30/Schedule_of_Investments_32.csv\n"
     ]
    },
    {
     "name": "stderr",
     "output_type": "stream",
     "text": [
      "INFO:CIK==debugging:3906/2002-06-30/Schedule_of_Investments_32.csv\n",
      "/home/tony/anaconda3/envs/sec/lib/python3.6/site-packages/ipykernel_launcher.py:191: SettingWithCopyWarning: \n",
      "A value is trying to be set on a copy of a slice from a DataFrame.\n",
      "Try using .loc[row_indexer,col_indexer] = value instead\n",
      "\n",
      "See the caveats in the documentation: https://pandas.pydata.org/pandas-docs/stable/user_guide/indexing.html#returning-a-view-versus-a-copy\n",
      "/home/tony/anaconda3/envs/sec/lib/python3.6/site-packages/ipykernel_launcher.py:232: DeprecationWarning: The default dtype for empty Series will be 'object' instead of 'float64' in a future version. Specify a dtype explicitly to silence this warning.\n"
     ]
    },
    {
     "data": {
      "text/plain": [
       "0"
      ]
     },
     "metadata": {},
     "output_type": "display_data"
    },
    {
     "name": "stdout",
     "output_type": "stream",
     "text": [
      "[CIK==debugging:INFO] 3906/2002-06-30/Schedule_of_Investments_33.csv\n",
      "[CIK==debugging:INFO] 3906/2002-06-30/Schedule_of_Investments_33.csv\n",
      "[CIK==debugging:INFO] 3906/2002-06-30/Schedule_of_Investments_33.csv\n",
      "[CIK==debugging:INFO] 3906/2002-06-30/Schedule_of_Investments_33.csv\n",
      "[CIK==debugging:INFO] 3906/2002-06-30/Schedule_of_Investments_33.csv\n",
      "[CIK==debugging:INFO] 3906/2002-06-30/Schedule_of_Investments_33.csv\n",
      "[CIK==debugging:INFO] 3906/2002-06-30/Schedule_of_Investments_33.csv\n",
      "[CIK==debugging:INFO] 3906/2002-06-30/Schedule_of_Investments_33.csv\n",
      "[CIK==debugging:INFO] 3906/2002-06-30/Schedule_of_Investments_33.csv\n",
      "[CIK==debugging:INFO] 3906/2002-06-30/Schedule_of_Investments_33.csv\n",
      "[CIK==debugging:INFO] 3906/2002-06-30/Schedule_of_Investments_33.csv\n",
      "[CIK==debugging:INFO] 3906/2002-06-30/Schedule_of_Investments_33.csv\n",
      "[CIK==debugging:INFO] 3906/2002-06-30/Schedule_of_Investments_33.csv\n",
      "[CIK==debugging:INFO] 3906/2002-06-30/Schedule_of_Investments_33.csv\n",
      "[CIK==debugging:INFO] 3906/2002-06-30/Schedule_of_Investments_33.csv\n",
      "[CIK==debugging:INFO] 3906/2002-06-30/Schedule_of_Investments_33.csv\n",
      "[CIK==debugging:INFO] 3906/2002-06-30/Schedule_of_Investments_33.csv\n",
      "[CIK==debugging:INFO] 3906/2002-06-30/Schedule_of_Investments_33.csv\n",
      "[CIK==debugging:INFO] 3906/2002-06-30/Schedule_of_Investments_33.csv\n",
      "[CIK==debugging:INFO] 3906/2002-06-30/Schedule_of_Investments_33.csv\n",
      "[CIK==debugging:INFO] 3906/2002-06-30/Schedule_of_Investments_33.csv\n"
     ]
    },
    {
     "name": "stderr",
     "output_type": "stream",
     "text": [
      "INFO:CIK==debugging:3906/2002-06-30/Schedule_of_Investments_33.csv\n",
      "WARNING:root:Applied processor reduces input query to empty string, all comparisons will have score 0. [Query: '']\n",
      "WARNING:root:Applied processor reduces input query to empty string, all comparisons will have score 0. [Query: '']\n",
      "WARNING:root:Applied processor reduces input query to empty string, all comparisons will have score 0. [Query: '']\n",
      "/home/tony/anaconda3/envs/sec/lib/python3.6/site-packages/ipykernel_launcher.py:191: SettingWithCopyWarning: \n",
      "A value is trying to be set on a copy of a slice from a DataFrame.\n",
      "Try using .loc[row_indexer,col_indexer] = value instead\n",
      "\n",
      "See the caveats in the documentation: https://pandas.pydata.org/pandas-docs/stable/user_guide/indexing.html#returning-a-view-versus-a-copy\n"
     ]
    },
    {
     "data": {
      "text/plain": [
       "0"
      ]
     },
     "metadata": {},
     "output_type": "display_data"
    },
    {
     "name": "stdout",
     "output_type": "stream",
     "text": [
      "[CIK==debugging:INFO] 3906/2002-06-30/Schedule_of_Investments_34.csv\n",
      "[CIK==debugging:INFO] 3906/2002-06-30/Schedule_of_Investments_34.csv\n",
      "[CIK==debugging:INFO] 3906/2002-06-30/Schedule_of_Investments_34.csv\n",
      "[CIK==debugging:INFO] 3906/2002-06-30/Schedule_of_Investments_34.csv\n",
      "[CIK==debugging:INFO] 3906/2002-06-30/Schedule_of_Investments_34.csv\n",
      "[CIK==debugging:INFO] 3906/2002-06-30/Schedule_of_Investments_34.csv\n",
      "[CIK==debugging:INFO] 3906/2002-06-30/Schedule_of_Investments_34.csv\n",
      "[CIK==debugging:INFO] 3906/2002-06-30/Schedule_of_Investments_34.csv\n",
      "[CIK==debugging:INFO] 3906/2002-06-30/Schedule_of_Investments_34.csv\n",
      "[CIK==debugging:INFO] 3906/2002-06-30/Schedule_of_Investments_34.csv\n",
      "[CIK==debugging:INFO] 3906/2002-06-30/Schedule_of_Investments_34.csv\n",
      "[CIK==debugging:INFO] 3906/2002-06-30/Schedule_of_Investments_34.csv\n",
      "[CIK==debugging:INFO] 3906/2002-06-30/Schedule_of_Investments_34.csv\n",
      "[CIK==debugging:INFO] 3906/2002-06-30/Schedule_of_Investments_34.csv\n",
      "[CIK==debugging:INFO] 3906/2002-06-30/Schedule_of_Investments_34.csv\n",
      "[CIK==debugging:INFO] 3906/2002-06-30/Schedule_of_Investments_34.csv\n",
      "[CIK==debugging:INFO] 3906/2002-06-30/Schedule_of_Investments_34.csv\n",
      "[CIK==debugging:INFO] 3906/2002-06-30/Schedule_of_Investments_34.csv\n",
      "[CIK==debugging:INFO] 3906/2002-06-30/Schedule_of_Investments_34.csv\n",
      "[CIK==debugging:INFO] 3906/2002-06-30/Schedule_of_Investments_34.csv\n",
      "[CIK==debugging:INFO] 3906/2002-06-30/Schedule_of_Investments_34.csv\n"
     ]
    },
    {
     "name": "stderr",
     "output_type": "stream",
     "text": [
      "INFO:CIK==debugging:3906/2002-06-30/Schedule_of_Investments_34.csv\n",
      "/home/tony/anaconda3/envs/sec/lib/python3.6/site-packages/ipykernel_launcher.py:191: SettingWithCopyWarning: \n",
      "A value is trying to be set on a copy of a slice from a DataFrame.\n",
      "Try using .loc[row_indexer,col_indexer] = value instead\n",
      "\n",
      "See the caveats in the documentation: https://pandas.pydata.org/pandas-docs/stable/user_guide/indexing.html#returning-a-view-versus-a-copy\n",
      "/home/tony/anaconda3/envs/sec/lib/python3.6/site-packages/ipykernel_launcher.py:232: DeprecationWarning: The default dtype for empty Series will be 'object' instead of 'float64' in a future version. Specify a dtype explicitly to silence this warning.\n"
     ]
    },
    {
     "data": {
      "text/plain": [
       "0"
      ]
     },
     "metadata": {},
     "output_type": "display_data"
    },
    {
     "name": "stdout",
     "output_type": "stream",
     "text": [
      "[CIK==debugging:INFO] 3906/2002-06-30/Schedule_of_Investments_35.csv\n",
      "[CIK==debugging:INFO] 3906/2002-06-30/Schedule_of_Investments_35.csv\n",
      "[CIK==debugging:INFO] 3906/2002-06-30/Schedule_of_Investments_35.csv\n",
      "[CIK==debugging:INFO] 3906/2002-06-30/Schedule_of_Investments_35.csv\n",
      "[CIK==debugging:INFO] 3906/2002-06-30/Schedule_of_Investments_35.csv\n",
      "[CIK==debugging:INFO] 3906/2002-06-30/Schedule_of_Investments_35.csv\n",
      "[CIK==debugging:INFO] 3906/2002-06-30/Schedule_of_Investments_35.csv\n",
      "[CIK==debugging:INFO] 3906/2002-06-30/Schedule_of_Investments_35.csv\n",
      "[CIK==debugging:INFO] 3906/2002-06-30/Schedule_of_Investments_35.csv\n",
      "[CIK==debugging:INFO] 3906/2002-06-30/Schedule_of_Investments_35.csv\n",
      "[CIK==debugging:INFO] 3906/2002-06-30/Schedule_of_Investments_35.csv\n",
      "[CIK==debugging:INFO] 3906/2002-06-30/Schedule_of_Investments_35.csv\n",
      "[CIK==debugging:INFO] 3906/2002-06-30/Schedule_of_Investments_35.csv\n",
      "[CIK==debugging:INFO] 3906/2002-06-30/Schedule_of_Investments_35.csv\n",
      "[CIK==debugging:INFO] 3906/2002-06-30/Schedule_of_Investments_35.csv\n",
      "[CIK==debugging:INFO] 3906/2002-06-30/Schedule_of_Investments_35.csv\n",
      "[CIK==debugging:INFO] 3906/2002-06-30/Schedule_of_Investments_35.csv\n",
      "[CIK==debugging:INFO] 3906/2002-06-30/Schedule_of_Investments_35.csv\n",
      "[CIK==debugging:INFO] 3906/2002-06-30/Schedule_of_Investments_35.csv\n",
      "[CIK==debugging:INFO] 3906/2002-06-30/Schedule_of_Investments_35.csv\n",
      "[CIK==debugging:INFO] 3906/2002-06-30/Schedule_of_Investments_35.csv\n"
     ]
    },
    {
     "name": "stderr",
     "output_type": "stream",
     "text": [
      "INFO:CIK==debugging:3906/2002-06-30/Schedule_of_Investments_35.csv\n",
      "WARNING:root:Applied processor reduces input query to empty string, all comparisons will have score 0. [Query: '']\n",
      "WARNING:root:Applied processor reduces input query to empty string, all comparisons will have score 0. [Query: '']\n",
      "WARNING:root:Applied processor reduces input query to empty string, all comparisons will have score 0. [Query: '']\n",
      "/home/tony/anaconda3/envs/sec/lib/python3.6/site-packages/ipykernel_launcher.py:191: SettingWithCopyWarning: \n",
      "A value is trying to be set on a copy of a slice from a DataFrame.\n",
      "Try using .loc[row_indexer,col_indexer] = value instead\n",
      "\n",
      "See the caveats in the documentation: https://pandas.pydata.org/pandas-docs/stable/user_guide/indexing.html#returning-a-view-versus-a-copy\n"
     ]
    },
    {
     "data": {
      "text/plain": [
       "0"
      ]
     },
     "metadata": {},
     "output_type": "display_data"
    },
    {
     "name": "stdout",
     "output_type": "stream",
     "text": [
      "[CIK==debugging:INFO] 3906/2002-06-30/Schedule_of_Investments_36.csv\n",
      "[CIK==debugging:INFO] 3906/2002-06-30/Schedule_of_Investments_36.csv\n",
      "[CIK==debugging:INFO] 3906/2002-06-30/Schedule_of_Investments_36.csv\n",
      "[CIK==debugging:INFO] 3906/2002-06-30/Schedule_of_Investments_36.csv\n",
      "[CIK==debugging:INFO] 3906/2002-06-30/Schedule_of_Investments_36.csv\n",
      "[CIK==debugging:INFO] 3906/2002-06-30/Schedule_of_Investments_36.csv\n",
      "[CIK==debugging:INFO] 3906/2002-06-30/Schedule_of_Investments_36.csv\n",
      "[CIK==debugging:INFO] 3906/2002-06-30/Schedule_of_Investments_36.csv\n",
      "[CIK==debugging:INFO] 3906/2002-06-30/Schedule_of_Investments_36.csv\n",
      "[CIK==debugging:INFO] 3906/2002-06-30/Schedule_of_Investments_36.csv\n",
      "[CIK==debugging:INFO] 3906/2002-06-30/Schedule_of_Investments_36.csv\n",
      "[CIK==debugging:INFO] 3906/2002-06-30/Schedule_of_Investments_36.csv\n",
      "[CIK==debugging:INFO] 3906/2002-06-30/Schedule_of_Investments_36.csv\n",
      "[CIK==debugging:INFO] 3906/2002-06-30/Schedule_of_Investments_36.csv\n",
      "[CIK==debugging:INFO] 3906/2002-06-30/Schedule_of_Investments_36.csv\n",
      "[CIK==debugging:INFO] 3906/2002-06-30/Schedule_of_Investments_36.csv\n",
      "[CIK==debugging:INFO] 3906/2002-06-30/Schedule_of_Investments_36.csv\n",
      "[CIK==debugging:INFO] 3906/2002-06-30/Schedule_of_Investments_36.csv\n",
      "[CIK==debugging:INFO] 3906/2002-06-30/Schedule_of_Investments_36.csv\n",
      "[CIK==debugging:INFO] 3906/2002-06-30/Schedule_of_Investments_36.csv\n",
      "[CIK==debugging:INFO] 3906/2002-06-30/Schedule_of_Investments_36.csv\n"
     ]
    },
    {
     "name": "stderr",
     "output_type": "stream",
     "text": [
      "INFO:CIK==debugging:3906/2002-06-30/Schedule_of_Investments_36.csv\n",
      "/home/tony/anaconda3/envs/sec/lib/python3.6/site-packages/ipykernel_launcher.py:191: SettingWithCopyWarning: \n",
      "A value is trying to be set on a copy of a slice from a DataFrame.\n",
      "Try using .loc[row_indexer,col_indexer] = value instead\n",
      "\n",
      "See the caveats in the documentation: https://pandas.pydata.org/pandas-docs/stable/user_guide/indexing.html#returning-a-view-versus-a-copy\n",
      "/home/tony/anaconda3/envs/sec/lib/python3.6/site-packages/ipykernel_launcher.py:232: DeprecationWarning: The default dtype for empty Series will be 'object' instead of 'float64' in a future version. Specify a dtype explicitly to silence this warning.\n"
     ]
    },
    {
     "data": {
      "text/plain": [
       "0"
      ]
     },
     "metadata": {},
     "output_type": "display_data"
    },
    {
     "name": "stdout",
     "output_type": "stream",
     "text": [
      "[CIK==debugging:INFO] 3906/2002-06-30/Schedule_of_Investments_37.csv\n",
      "[CIK==debugging:INFO] 3906/2002-06-30/Schedule_of_Investments_37.csv\n",
      "[CIK==debugging:INFO] 3906/2002-06-30/Schedule_of_Investments_37.csv\n",
      "[CIK==debugging:INFO] 3906/2002-06-30/Schedule_of_Investments_37.csv\n",
      "[CIK==debugging:INFO] 3906/2002-06-30/Schedule_of_Investments_37.csv\n",
      "[CIK==debugging:INFO] 3906/2002-06-30/Schedule_of_Investments_37.csv\n",
      "[CIK==debugging:INFO] 3906/2002-06-30/Schedule_of_Investments_37.csv\n",
      "[CIK==debugging:INFO] 3906/2002-06-30/Schedule_of_Investments_37.csv\n",
      "[CIK==debugging:INFO] 3906/2002-06-30/Schedule_of_Investments_37.csv\n",
      "[CIK==debugging:INFO] 3906/2002-06-30/Schedule_of_Investments_37.csv\n",
      "[CIK==debugging:INFO] 3906/2002-06-30/Schedule_of_Investments_37.csv\n",
      "[CIK==debugging:INFO] 3906/2002-06-30/Schedule_of_Investments_37.csv\n",
      "[CIK==debugging:INFO] 3906/2002-06-30/Schedule_of_Investments_37.csv\n",
      "[CIK==debugging:INFO] 3906/2002-06-30/Schedule_of_Investments_37.csv\n",
      "[CIK==debugging:INFO] 3906/2002-06-30/Schedule_of_Investments_37.csv\n",
      "[CIK==debugging:INFO] 3906/2002-06-30/Schedule_of_Investments_37.csv\n",
      "[CIK==debugging:INFO] 3906/2002-06-30/Schedule_of_Investments_37.csv\n",
      "[CIK==debugging:INFO] 3906/2002-06-30/Schedule_of_Investments_37.csv\n",
      "[CIK==debugging:INFO] 3906/2002-06-30/Schedule_of_Investments_37.csv\n",
      "[CIK==debugging:INFO] 3906/2002-06-30/Schedule_of_Investments_37.csv\n",
      "[CIK==debugging:INFO] 3906/2002-06-30/Schedule_of_Investments_37.csv\n"
     ]
    },
    {
     "name": "stderr",
     "output_type": "stream",
     "text": [
      "INFO:CIK==debugging:3906/2002-06-30/Schedule_of_Investments_37.csv\n",
      "WARNING:root:Applied processor reduces input query to empty string, all comparisons will have score 0. [Query: '']\n",
      "WARNING:root:Applied processor reduces input query to empty string, all comparisons will have score 0. [Query: '']\n",
      "WARNING:root:Applied processor reduces input query to empty string, all comparisons will have score 0. [Query: '']\n",
      "WARNING:root:Applied processor reduces input query to empty string, all comparisons will have score 0. [Query: '']\n",
      "/home/tony/anaconda3/envs/sec/lib/python3.6/site-packages/ipykernel_launcher.py:191: SettingWithCopyWarning: \n",
      "A value is trying to be set on a copy of a slice from a DataFrame.\n",
      "Try using .loc[row_indexer,col_indexer] = value instead\n",
      "\n",
      "See the caveats in the documentation: https://pandas.pydata.org/pandas-docs/stable/user_guide/indexing.html#returning-a-view-versus-a-copy\n"
     ]
    },
    {
     "data": {
      "text/plain": [
       "0"
      ]
     },
     "metadata": {},
     "output_type": "display_data"
    },
    {
     "name": "stdout",
     "output_type": "stream",
     "text": [
      "[CIK==debugging:INFO] 3906/2002-06-30/Schedule_of_Investments_38.csv\n",
      "[CIK==debugging:INFO] 3906/2002-06-30/Schedule_of_Investments_38.csv\n",
      "[CIK==debugging:INFO] 3906/2002-06-30/Schedule_of_Investments_38.csv\n",
      "[CIK==debugging:INFO] 3906/2002-06-30/Schedule_of_Investments_38.csv\n",
      "[CIK==debugging:INFO] 3906/2002-06-30/Schedule_of_Investments_38.csv\n",
      "[CIK==debugging:INFO] 3906/2002-06-30/Schedule_of_Investments_38.csv\n",
      "[CIK==debugging:INFO] 3906/2002-06-30/Schedule_of_Investments_38.csv\n",
      "[CIK==debugging:INFO] 3906/2002-06-30/Schedule_of_Investments_38.csv\n",
      "[CIK==debugging:INFO] 3906/2002-06-30/Schedule_of_Investments_38.csv\n",
      "[CIK==debugging:INFO] 3906/2002-06-30/Schedule_of_Investments_38.csv\n",
      "[CIK==debugging:INFO] 3906/2002-06-30/Schedule_of_Investments_38.csv\n",
      "[CIK==debugging:INFO] 3906/2002-06-30/Schedule_of_Investments_38.csv\n",
      "[CIK==debugging:INFO] 3906/2002-06-30/Schedule_of_Investments_38.csv\n",
      "[CIK==debugging:INFO] 3906/2002-06-30/Schedule_of_Investments_38.csv\n",
      "[CIK==debugging:INFO] 3906/2002-06-30/Schedule_of_Investments_38.csv\n",
      "[CIK==debugging:INFO] 3906/2002-06-30/Schedule_of_Investments_38.csv\n",
      "[CIK==debugging:INFO] 3906/2002-06-30/Schedule_of_Investments_38.csv\n",
      "[CIK==debugging:INFO] 3906/2002-06-30/Schedule_of_Investments_38.csv\n",
      "[CIK==debugging:INFO] 3906/2002-06-30/Schedule_of_Investments_38.csv\n",
      "[CIK==debugging:INFO] 3906/2002-06-30/Schedule_of_Investments_38.csv\n",
      "[CIK==debugging:INFO] 3906/2002-06-30/Schedule_of_Investments_38.csv\n"
     ]
    },
    {
     "name": "stderr",
     "output_type": "stream",
     "text": [
      "INFO:CIK==debugging:3906/2002-06-30/Schedule_of_Investments_38.csv\n",
      "WARNING:root:Applied processor reduces input query to empty string, all comparisons will have score 0. [Query: '']\n",
      "WARNING:root:Applied processor reduces input query to empty string, all comparisons will have score 0. [Query: '']\n",
      "WARNING:root:Applied processor reduces input query to empty string, all comparisons will have score 0. [Query: '']\n",
      "WARNING:root:Applied processor reduces input query to empty string, all comparisons will have score 0. [Query: '']\n",
      "WARNING:root:Applied processor reduces input query to empty string, all comparisons will have score 0. [Query: '']\n",
      "WARNING:root:Applied processor reduces input query to empty string, all comparisons will have score 0. [Query: '']\n",
      "WARNING:root:Applied processor reduces input query to empty string, all comparisons will have score 0. [Query: '']\n",
      "WARNING:root:Applied processor reduces input query to empty string, all comparisons will have score 0. [Query: '']\n",
      "WARNING:root:Applied processor reduces input query to empty string, all comparisons will have score 0. [Query: '']\n",
      "WARNING:root:Applied processor reduces input query to empty string, all comparisons will have score 0. [Query: '']\n",
      "WARNING:root:Applied processor reduces input query to empty string, all comparisons will have score 0. [Query: '']\n",
      "WARNING:root:Applied processor reduces input query to empty string, all comparisons will have score 0. [Query: '']\n",
      "/home/tony/anaconda3/envs/sec/lib/python3.6/site-packages/ipykernel_launcher.py:191: SettingWithCopyWarning: \n",
      "A value is trying to be set on a copy of a slice from a DataFrame.\n",
      "Try using .loc[row_indexer,col_indexer] = value instead\n",
      "\n",
      "See the caveats in the documentation: https://pandas.pydata.org/pandas-docs/stable/user_guide/indexing.html#returning-a-view-versus-a-copy\n",
      "/home/tony/anaconda3/envs/sec/lib/python3.6/site-packages/ipykernel_launcher.py:232: DeprecationWarning: The default dtype for empty Series will be 'object' instead of 'float64' in a future version. Specify a dtype explicitly to silence this warning.\n"
     ]
    },
    {
     "data": {
      "text/plain": [
       "0"
      ]
     },
     "metadata": {},
     "output_type": "display_data"
    },
    {
     "name": "stdout",
     "output_type": "stream",
     "text": [
      "[CIK==debugging:INFO] 3906/2002-06-30/Schedule_of_Investments_39.csv\n",
      "[CIK==debugging:INFO] 3906/2002-06-30/Schedule_of_Investments_39.csv\n",
      "[CIK==debugging:INFO] 3906/2002-06-30/Schedule_of_Investments_39.csv\n",
      "[CIK==debugging:INFO] 3906/2002-06-30/Schedule_of_Investments_39.csv\n",
      "[CIK==debugging:INFO] 3906/2002-06-30/Schedule_of_Investments_39.csv\n",
      "[CIK==debugging:INFO] 3906/2002-06-30/Schedule_of_Investments_39.csv\n",
      "[CIK==debugging:INFO] 3906/2002-06-30/Schedule_of_Investments_39.csv\n",
      "[CIK==debugging:INFO] 3906/2002-06-30/Schedule_of_Investments_39.csv\n",
      "[CIK==debugging:INFO] 3906/2002-06-30/Schedule_of_Investments_39.csv\n",
      "[CIK==debugging:INFO] 3906/2002-06-30/Schedule_of_Investments_39.csv\n",
      "[CIK==debugging:INFO] 3906/2002-06-30/Schedule_of_Investments_39.csv\n",
      "[CIK==debugging:INFO] 3906/2002-06-30/Schedule_of_Investments_39.csv\n",
      "[CIK==debugging:INFO] 3906/2002-06-30/Schedule_of_Investments_39.csv\n",
      "[CIK==debugging:INFO] 3906/2002-06-30/Schedule_of_Investments_39.csv\n",
      "[CIK==debugging:INFO] 3906/2002-06-30/Schedule_of_Investments_39.csv\n",
      "[CIK==debugging:INFO] 3906/2002-06-30/Schedule_of_Investments_39.csv\n",
      "[CIK==debugging:INFO] 3906/2002-06-30/Schedule_of_Investments_39.csv\n",
      "[CIK==debugging:INFO] 3906/2002-06-30/Schedule_of_Investments_39.csv\n",
      "[CIK==debugging:INFO] 3906/2002-06-30/Schedule_of_Investments_39.csv\n",
      "[CIK==debugging:INFO] 3906/2002-06-30/Schedule_of_Investments_39.csv\n",
      "[CIK==debugging:INFO] 3906/2002-06-30/Schedule_of_Investments_39.csv\n"
     ]
    },
    {
     "name": "stderr",
     "output_type": "stream",
     "text": [
      "INFO:CIK==debugging:3906/2002-06-30/Schedule_of_Investments_39.csv\n"
     ]
    },
    {
     "data": {
      "text/plain": [
       "0.0"
      ]
     },
     "metadata": {},
     "output_type": "display_data"
    },
    {
     "name": "stdout",
     "output_type": "stream",
     "text": [
      "[CIK==debugging:INFO] 3906/2002-06-30/Schedule_of_Investments_40.csv\n",
      "[CIK==debugging:INFO] 3906/2002-06-30/Schedule_of_Investments_40.csv\n",
      "[CIK==debugging:INFO] 3906/2002-06-30/Schedule_of_Investments_40.csv\n",
      "[CIK==debugging:INFO] 3906/2002-06-30/Schedule_of_Investments_40.csv\n",
      "[CIK==debugging:INFO] 3906/2002-06-30/Schedule_of_Investments_40.csv\n",
      "[CIK==debugging:INFO] 3906/2002-06-30/Schedule_of_Investments_40.csv\n",
      "[CIK==debugging:INFO] 3906/2002-06-30/Schedule_of_Investments_40.csv\n",
      "[CIK==debugging:INFO] 3906/2002-06-30/Schedule_of_Investments_40.csv\n",
      "[CIK==debugging:INFO] 3906/2002-06-30/Schedule_of_Investments_40.csv\n",
      "[CIK==debugging:INFO] 3906/2002-06-30/Schedule_of_Investments_40.csv\n",
      "[CIK==debugging:INFO] 3906/2002-06-30/Schedule_of_Investments_40.csv\n",
      "[CIK==debugging:INFO] 3906/2002-06-30/Schedule_of_Investments_40.csv\n",
      "[CIK==debugging:INFO] 3906/2002-06-30/Schedule_of_Investments_40.csv\n",
      "[CIK==debugging:INFO] 3906/2002-06-30/Schedule_of_Investments_40.csv\n",
      "[CIK==debugging:INFO] 3906/2002-06-30/Schedule_of_Investments_40.csv\n",
      "[CIK==debugging:INFO] 3906/2002-06-30/Schedule_of_Investments_40.csv\n",
      "[CIK==debugging:INFO] 3906/2002-06-30/Schedule_of_Investments_40.csv\n",
      "[CIK==debugging:INFO] 3906/2002-06-30/Schedule_of_Investments_40.csv\n",
      "[CIK==debugging:INFO] 3906/2002-06-30/Schedule_of_Investments_40.csv\n",
      "[CIK==debugging:INFO] 3906/2002-06-30/Schedule_of_Investments_40.csv\n",
      "[CIK==debugging:INFO] 3906/2002-06-30/Schedule_of_Investments_40.csv\n"
     ]
    },
    {
     "name": "stderr",
     "output_type": "stream",
     "text": [
      "INFO:CIK==debugging:3906/2002-06-30/Schedule_of_Investments_40.csv\n",
      "WARNING:root:Applied processor reduces input query to empty string, all comparisons will have score 0. [Query: '']\n",
      "WARNING:root:Applied processor reduces input query to empty string, all comparisons will have score 0. [Query: '']\n",
      "WARNING:root:Applied processor reduces input query to empty string, all comparisons will have score 0. [Query: '']\n",
      "WARNING:root:Applied processor reduces input query to empty string, all comparisons will have score 0. [Query: '']\n",
      "WARNING:root:Applied processor reduces input query to empty string, all comparisons will have score 0. [Query: '']\n",
      "WARNING:root:Applied processor reduces input query to empty string, all comparisons will have score 0. [Query: '']\n",
      "WARNING:root:Applied processor reduces input query to empty string, all comparisons will have score 0. [Query: '']\n",
      "WARNING:root:Applied processor reduces input query to empty string, all comparisons will have score 0. [Query: '']\n",
      "WARNING:root:Applied processor reduces input query to empty string, all comparisons will have score 0. [Query: '']\n",
      "WARNING:root:Applied processor reduces input query to empty string, all comparisons will have score 0. [Query: '']\n",
      "WARNING:root:Applied processor reduces input query to empty string, all comparisons will have score 0. [Query: '']\n",
      "WARNING:root:Applied processor reduces input query to empty string, all comparisons will have score 0. [Query: '']\n",
      "WARNING:root:Applied processor reduces input query to empty string, all comparisons will have score 0. [Query: '']\n",
      "WARNING:root:Applied processor reduces input query to empty string, all comparisons will have score 0. [Query: '']\n",
      "WARNING:root:Applied processor reduces input query to empty string, all comparisons will have score 0. [Query: '']\n",
      "WARNING:root:Applied processor reduces input query to empty string, all comparisons will have score 0. [Query: '']\n",
      "WARNING:root:Applied processor reduces input query to empty string, all comparisons will have score 0. [Query: '']\n",
      "WARNING:root:Applied processor reduces input query to empty string, all comparisons will have score 0. [Query: '']\n",
      "WARNING:root:Applied processor reduces input query to empty string, all comparisons will have score 0. [Query: '']\n",
      "WARNING:root:Applied processor reduces input query to empty string, all comparisons will have score 0. [Query: '']\n",
      "WARNING:root:Applied processor reduces input query to empty string, all comparisons will have score 0. [Query: '']\n",
      "WARNING:root:Applied processor reduces input query to empty string, all comparisons will have score 0. [Query: '']\n",
      "/home/tony/anaconda3/envs/sec/lib/python3.6/site-packages/ipykernel_launcher.py:191: SettingWithCopyWarning: \n",
      "A value is trying to be set on a copy of a slice from a DataFrame.\n",
      "Try using .loc[row_indexer,col_indexer] = value instead\n",
      "\n",
      "See the caveats in the documentation: https://pandas.pydata.org/pandas-docs/stable/user_guide/indexing.html#returning-a-view-versus-a-copy\n",
      "/home/tony/anaconda3/envs/sec/lib/python3.6/site-packages/ipykernel_launcher.py:232: DeprecationWarning: The default dtype for empty Series will be 'object' instead of 'float64' in a future version. Specify a dtype explicitly to silence this warning.\n"
     ]
    },
    {
     "data": {
      "text/plain": [
       "0"
      ]
     },
     "metadata": {},
     "output_type": "display_data"
    },
    {
     "name": "stdout",
     "output_type": "stream",
     "text": [
      "[CIK==debugging:INFO] 3906/2002-06-30/Schedule_of_Investments_41.csv\n",
      "[CIK==debugging:INFO] 3906/2002-06-30/Schedule_of_Investments_41.csv\n",
      "[CIK==debugging:INFO] 3906/2002-06-30/Schedule_of_Investments_41.csv\n",
      "[CIK==debugging:INFO] 3906/2002-06-30/Schedule_of_Investments_41.csv\n",
      "[CIK==debugging:INFO] 3906/2002-06-30/Schedule_of_Investments_41.csv\n",
      "[CIK==debugging:INFO] 3906/2002-06-30/Schedule_of_Investments_41.csv\n",
      "[CIK==debugging:INFO] 3906/2002-06-30/Schedule_of_Investments_41.csv\n",
      "[CIK==debugging:INFO] 3906/2002-06-30/Schedule_of_Investments_41.csv\n",
      "[CIK==debugging:INFO] 3906/2002-06-30/Schedule_of_Investments_41.csv\n",
      "[CIK==debugging:INFO] 3906/2002-06-30/Schedule_of_Investments_41.csv\n",
      "[CIK==debugging:INFO] 3906/2002-06-30/Schedule_of_Investments_41.csv\n",
      "[CIK==debugging:INFO] 3906/2002-06-30/Schedule_of_Investments_41.csv\n",
      "[CIK==debugging:INFO] 3906/2002-06-30/Schedule_of_Investments_41.csv\n",
      "[CIK==debugging:INFO] 3906/2002-06-30/Schedule_of_Investments_41.csv\n",
      "[CIK==debugging:INFO] 3906/2002-06-30/Schedule_of_Investments_41.csv\n",
      "[CIK==debugging:INFO] 3906/2002-06-30/Schedule_of_Investments_41.csv\n",
      "[CIK==debugging:INFO] 3906/2002-06-30/Schedule_of_Investments_41.csv\n",
      "[CIK==debugging:INFO] 3906/2002-06-30/Schedule_of_Investments_41.csv\n",
      "[CIK==debugging:INFO] 3906/2002-06-30/Schedule_of_Investments_41.csv\n",
      "[CIK==debugging:INFO] 3906/2002-06-30/Schedule_of_Investments_41.csv\n",
      "[CIK==debugging:INFO] 3906/2002-06-30/Schedule_of_Investments_41.csv\n"
     ]
    },
    {
     "name": "stderr",
     "output_type": "stream",
     "text": [
      "INFO:CIK==debugging:3906/2002-06-30/Schedule_of_Investments_41.csv\n",
      "WARNING:root:Applied processor reduces input query to empty string, all comparisons will have score 0. [Query: '']\n",
      "WARNING:root:Applied processor reduces input query to empty string, all comparisons will have score 0. [Query: '']\n",
      "WARNING:root:Applied processor reduces input query to empty string, all comparisons will have score 0. [Query: '']\n",
      "WARNING:root:Applied processor reduces input query to empty string, all comparisons will have score 0. [Query: '']\n",
      "WARNING:root:Applied processor reduces input query to empty string, all comparisons will have score 0. [Query: '']\n",
      "/home/tony/anaconda3/envs/sec/lib/python3.6/site-packages/ipykernel_launcher.py:191: SettingWithCopyWarning: \n",
      "A value is trying to be set on a copy of a slice from a DataFrame.\n",
      "Try using .loc[row_indexer,col_indexer] = value instead\n",
      "\n",
      "See the caveats in the documentation: https://pandas.pydata.org/pandas-docs/stable/user_guide/indexing.html#returning-a-view-versus-a-copy\n",
      "/home/tony/anaconda3/envs/sec/lib/python3.6/site-packages/ipykernel_launcher.py:232: DeprecationWarning: The default dtype for empty Series will be 'object' instead of 'float64' in a future version. Specify a dtype explicitly to silence this warning.\n"
     ]
    },
    {
     "data": {
      "text/plain": [
       "0"
      ]
     },
     "metadata": {},
     "output_type": "display_data"
    },
    {
     "name": "stdout",
     "output_type": "stream",
     "text": [
      "[CIK==debugging:INFO] 3906/2002-06-30/Schedule_of_Investments_42.csv\n",
      "[CIK==debugging:INFO] 3906/2002-06-30/Schedule_of_Investments_42.csv\n",
      "[CIK==debugging:INFO] 3906/2002-06-30/Schedule_of_Investments_42.csv\n",
      "[CIK==debugging:INFO] 3906/2002-06-30/Schedule_of_Investments_42.csv\n",
      "[CIK==debugging:INFO] 3906/2002-06-30/Schedule_of_Investments_42.csv\n",
      "[CIK==debugging:INFO] 3906/2002-06-30/Schedule_of_Investments_42.csv\n",
      "[CIK==debugging:INFO] 3906/2002-06-30/Schedule_of_Investments_42.csv\n",
      "[CIK==debugging:INFO] 3906/2002-06-30/Schedule_of_Investments_42.csv\n",
      "[CIK==debugging:INFO] 3906/2002-06-30/Schedule_of_Investments_42.csv\n",
      "[CIK==debugging:INFO] 3906/2002-06-30/Schedule_of_Investments_42.csv\n",
      "[CIK==debugging:INFO] 3906/2002-06-30/Schedule_of_Investments_42.csv\n",
      "[CIK==debugging:INFO] 3906/2002-06-30/Schedule_of_Investments_42.csv\n",
      "[CIK==debugging:INFO] 3906/2002-06-30/Schedule_of_Investments_42.csv\n",
      "[CIK==debugging:INFO] 3906/2002-06-30/Schedule_of_Investments_42.csv\n",
      "[CIK==debugging:INFO] 3906/2002-06-30/Schedule_of_Investments_42.csv\n",
      "[CIK==debugging:INFO] 3906/2002-06-30/Schedule_of_Investments_42.csv\n",
      "[CIK==debugging:INFO] 3906/2002-06-30/Schedule_of_Investments_42.csv\n",
      "[CIK==debugging:INFO] 3906/2002-06-30/Schedule_of_Investments_42.csv\n",
      "[CIK==debugging:INFO] 3906/2002-06-30/Schedule_of_Investments_42.csv\n",
      "[CIK==debugging:INFO] 3906/2002-06-30/Schedule_of_Investments_42.csv\n",
      "[CIK==debugging:INFO] 3906/2002-06-30/Schedule_of_Investments_42.csv\n"
     ]
    },
    {
     "name": "stderr",
     "output_type": "stream",
     "text": [
      "INFO:CIK==debugging:3906/2002-06-30/Schedule_of_Investments_42.csv\n",
      "WARNING:root:Applied processor reduces input query to empty string, all comparisons will have score 0. [Query: '']\n",
      "WARNING:root:Applied processor reduces input query to empty string, all comparisons will have score 0. [Query: '']\n",
      "WARNING:root:Applied processor reduces input query to empty string, all comparisons will have score 0. [Query: '']\n",
      "WARNING:root:Applied processor reduces input query to empty string, all comparisons will have score 0. [Query: '']\n",
      "WARNING:root:Applied processor reduces input query to empty string, all comparisons will have score 0. [Query: '']\n",
      "WARNING:root:Applied processor reduces input query to empty string, all comparisons will have score 0. [Query: '']\n",
      "/home/tony/anaconda3/envs/sec/lib/python3.6/site-packages/ipykernel_launcher.py:191: SettingWithCopyWarning: \n",
      "A value is trying to be set on a copy of a slice from a DataFrame.\n",
      "Try using .loc[row_indexer,col_indexer] = value instead\n",
      "\n",
      "See the caveats in the documentation: https://pandas.pydata.org/pandas-docs/stable/user_guide/indexing.html#returning-a-view-versus-a-copy\n",
      "/home/tony/anaconda3/envs/sec/lib/python3.6/site-packages/ipykernel_launcher.py:232: DeprecationWarning: The default dtype for empty Series will be 'object' instead of 'float64' in a future version. Specify a dtype explicitly to silence this warning.\n"
     ]
    },
    {
     "data": {
      "text/plain": [
       "0"
      ]
     },
     "metadata": {},
     "output_type": "display_data"
    },
    {
     "name": "stdout",
     "output_type": "stream",
     "text": [
      "[CIK==debugging:INFO] 3906/2002-06-30/Schedule_of_Investments_43.csv\n",
      "[CIK==debugging:INFO] 3906/2002-06-30/Schedule_of_Investments_43.csv\n",
      "[CIK==debugging:INFO] 3906/2002-06-30/Schedule_of_Investments_43.csv\n",
      "[CIK==debugging:INFO] 3906/2002-06-30/Schedule_of_Investments_43.csv\n",
      "[CIK==debugging:INFO] 3906/2002-06-30/Schedule_of_Investments_43.csv\n",
      "[CIK==debugging:INFO] 3906/2002-06-30/Schedule_of_Investments_43.csv\n",
      "[CIK==debugging:INFO] 3906/2002-06-30/Schedule_of_Investments_43.csv\n",
      "[CIK==debugging:INFO] 3906/2002-06-30/Schedule_of_Investments_43.csv\n",
      "[CIK==debugging:INFO] 3906/2002-06-30/Schedule_of_Investments_43.csv\n",
      "[CIK==debugging:INFO] 3906/2002-06-30/Schedule_of_Investments_43.csv\n",
      "[CIK==debugging:INFO] 3906/2002-06-30/Schedule_of_Investments_43.csv\n",
      "[CIK==debugging:INFO] 3906/2002-06-30/Schedule_of_Investments_43.csv\n",
      "[CIK==debugging:INFO] 3906/2002-06-30/Schedule_of_Investments_43.csv\n",
      "[CIK==debugging:INFO] 3906/2002-06-30/Schedule_of_Investments_43.csv\n",
      "[CIK==debugging:INFO] 3906/2002-06-30/Schedule_of_Investments_43.csv\n",
      "[CIK==debugging:INFO] 3906/2002-06-30/Schedule_of_Investments_43.csv\n",
      "[CIK==debugging:INFO] 3906/2002-06-30/Schedule_of_Investments_43.csv\n",
      "[CIK==debugging:INFO] 3906/2002-06-30/Schedule_of_Investments_43.csv\n",
      "[CIK==debugging:INFO] 3906/2002-06-30/Schedule_of_Investments_43.csv\n",
      "[CIK==debugging:INFO] 3906/2002-06-30/Schedule_of_Investments_43.csv\n",
      "[CIK==debugging:INFO] 3906/2002-06-30/Schedule_of_Investments_43.csv\n"
     ]
    },
    {
     "name": "stderr",
     "output_type": "stream",
     "text": [
      "INFO:CIK==debugging:3906/2002-06-30/Schedule_of_Investments_43.csv\n",
      "WARNING:root:Applied processor reduces input query to empty string, all comparisons will have score 0. [Query: '']\n",
      "WARNING:root:Applied processor reduces input query to empty string, all comparisons will have score 0. [Query: '']\n",
      "WARNING:root:Applied processor reduces input query to empty string, all comparisons will have score 0. [Query: '']\n",
      "WARNING:root:Applied processor reduces input query to empty string, all comparisons will have score 0. [Query: '']\n",
      "WARNING:root:Applied processor reduces input query to empty string, all comparisons will have score 0. [Query: '']\n",
      "WARNING:root:Applied processor reduces input query to empty string, all comparisons will have score 0. [Query: '']\n",
      "WARNING:root:Applied processor reduces input query to empty string, all comparisons will have score 0. [Query: '']\n",
      "WARNING:root:Applied processor reduces input query to empty string, all comparisons will have score 0. [Query: '']\n",
      "WARNING:root:Applied processor reduces input query to empty string, all comparisons will have score 0. [Query: '']\n",
      "WARNING:root:Applied processor reduces input query to empty string, all comparisons will have score 0. [Query: '']\n",
      "WARNING:root:Applied processor reduces input query to empty string, all comparisons will have score 0. [Query: '']\n",
      "WARNING:root:Applied processor reduces input query to empty string, all comparisons will have score 0. [Query: '']\n",
      "WARNING:root:Applied processor reduces input query to empty string, all comparisons will have score 0. [Query: '']\n",
      "WARNING:root:Applied processor reduces input query to empty string, all comparisons will have score 0. [Query: '']\n",
      "WARNING:root:Applied processor reduces input query to empty string, all comparisons will have score 0. [Query: '']\n",
      "WARNING:root:Applied processor reduces input query to empty string, all comparisons will have score 0. [Query: '']\n",
      "WARNING:root:Applied processor reduces input query to empty string, all comparisons will have score 0. [Query: '']\n",
      "WARNING:root:Applied processor reduces input query to empty string, all comparisons will have score 0. [Query: '']\n",
      "WARNING:root:Applied processor reduces input query to empty string, all comparisons will have score 0. [Query: '']\n",
      "WARNING:root:Applied processor reduces input query to empty string, all comparisons will have score 0. [Query: '']\n",
      "WARNING:root:Applied processor reduces input query to empty string, all comparisons will have score 0. [Query: '']\n",
      "WARNING:root:Applied processor reduces input query to empty string, all comparisons will have score 0. [Query: '']\n",
      "/home/tony/anaconda3/envs/sec/lib/python3.6/site-packages/ipykernel_launcher.py:191: SettingWithCopyWarning: \n",
      "A value is trying to be set on a copy of a slice from a DataFrame.\n",
      "Try using .loc[row_indexer,col_indexer] = value instead\n",
      "\n",
      "See the caveats in the documentation: https://pandas.pydata.org/pandas-docs/stable/user_guide/indexing.html#returning-a-view-versus-a-copy\n",
      "/home/tony/anaconda3/envs/sec/lib/python3.6/site-packages/ipykernel_launcher.py:232: DeprecationWarning: The default dtype for empty Series will be 'object' instead of 'float64' in a future version. Specify a dtype explicitly to silence this warning.\n"
     ]
    },
    {
     "data": {
      "text/plain": [
       "0"
      ]
     },
     "metadata": {},
     "output_type": "display_data"
    },
    {
     "name": "stdout",
     "output_type": "stream",
     "text": [
      "[CIK==debugging:INFO] 3906/2002-06-30/Schedule_of_Investments_44.csv\n",
      "[CIK==debugging:INFO] 3906/2002-06-30/Schedule_of_Investments_44.csv\n",
      "[CIK==debugging:INFO] 3906/2002-06-30/Schedule_of_Investments_44.csv\n",
      "[CIK==debugging:INFO] 3906/2002-06-30/Schedule_of_Investments_44.csv\n",
      "[CIK==debugging:INFO] 3906/2002-06-30/Schedule_of_Investments_44.csv\n",
      "[CIK==debugging:INFO] 3906/2002-06-30/Schedule_of_Investments_44.csv\n",
      "[CIK==debugging:INFO] 3906/2002-06-30/Schedule_of_Investments_44.csv\n",
      "[CIK==debugging:INFO] 3906/2002-06-30/Schedule_of_Investments_44.csv\n",
      "[CIK==debugging:INFO] 3906/2002-06-30/Schedule_of_Investments_44.csv\n",
      "[CIK==debugging:INFO] 3906/2002-06-30/Schedule_of_Investments_44.csv\n",
      "[CIK==debugging:INFO] 3906/2002-06-30/Schedule_of_Investments_44.csv\n",
      "[CIK==debugging:INFO] 3906/2002-06-30/Schedule_of_Investments_44.csv\n",
      "[CIK==debugging:INFO] 3906/2002-06-30/Schedule_of_Investments_44.csv\n",
      "[CIK==debugging:INFO] 3906/2002-06-30/Schedule_of_Investments_44.csv\n",
      "[CIK==debugging:INFO] 3906/2002-06-30/Schedule_of_Investments_44.csv\n",
      "[CIK==debugging:INFO] 3906/2002-06-30/Schedule_of_Investments_44.csv\n",
      "[CIK==debugging:INFO] 3906/2002-06-30/Schedule_of_Investments_44.csv\n",
      "[CIK==debugging:INFO] 3906/2002-06-30/Schedule_of_Investments_44.csv\n",
      "[CIK==debugging:INFO] 3906/2002-06-30/Schedule_of_Investments_44.csv\n",
      "[CIK==debugging:INFO] 3906/2002-06-30/Schedule_of_Investments_44.csv\n",
      "[CIK==debugging:INFO] 3906/2002-06-30/Schedule_of_Investments_44.csv\n"
     ]
    },
    {
     "name": "stderr",
     "output_type": "stream",
     "text": [
      "INFO:CIK==debugging:3906/2002-06-30/Schedule_of_Investments_44.csv\n",
      "WARNING:root:Applied processor reduces input query to empty string, all comparisons will have score 0. [Query: '']\n",
      "WARNING:root:Applied processor reduces input query to empty string, all comparisons will have score 0. [Query: '']\n",
      "WARNING:root:Applied processor reduces input query to empty string, all comparisons will have score 0. [Query: '']\n",
      "WARNING:root:Applied processor reduces input query to empty string, all comparisons will have score 0. [Query: '']\n",
      "WARNING:root:Applied processor reduces input query to empty string, all comparisons will have score 0. [Query: '']\n",
      "WARNING:root:Applied processor reduces input query to empty string, all comparisons will have score 0. [Query: '']\n",
      "WARNING:root:Applied processor reduces input query to empty string, all comparisons will have score 0. [Query: '']\n",
      "WARNING:root:Applied processor reduces input query to empty string, all comparisons will have score 0. [Query: '']\n",
      "WARNING:root:Applied processor reduces input query to empty string, all comparisons will have score 0. [Query: '']\n",
      "WARNING:root:Applied processor reduces input query to empty string, all comparisons will have score 0. [Query: '']\n",
      "WARNING:root:Applied processor reduces input query to empty string, all comparisons will have score 0. [Query: '']\n",
      "WARNING:root:Applied processor reduces input query to empty string, all comparisons will have score 0. [Query: '']\n",
      "WARNING:root:Applied processor reduces input query to empty string, all comparisons will have score 0. [Query: '']\n",
      "WARNING:root:Applied processor reduces input query to empty string, all comparisons will have score 0. [Query: '']\n",
      "WARNING:root:Applied processor reduces input query to empty string, all comparisons will have score 0. [Query: '']\n",
      "WARNING:root:Applied processor reduces input query to empty string, all comparisons will have score 0. [Query: '']\n",
      "WARNING:root:Applied processor reduces input query to empty string, all comparisons will have score 0. [Query: '']\n",
      "WARNING:root:Applied processor reduces input query to empty string, all comparisons will have score 0. [Query: '']\n",
      "WARNING:root:Applied processor reduces input query to empty string, all comparisons will have score 0. [Query: '']\n",
      "WARNING:root:Applied processor reduces input query to empty string, all comparisons will have score 0. [Query: '']\n",
      "WARNING:root:Applied processor reduces input query to empty string, all comparisons will have score 0. [Query: '']\n",
      "WARNING:root:Applied processor reduces input query to empty string, all comparisons will have score 0. [Query: '']\n",
      "/home/tony/anaconda3/envs/sec/lib/python3.6/site-packages/ipykernel_launcher.py:191: SettingWithCopyWarning: \n",
      "A value is trying to be set on a copy of a slice from a DataFrame.\n",
      "Try using .loc[row_indexer,col_indexer] = value instead\n",
      "\n",
      "See the caveats in the documentation: https://pandas.pydata.org/pandas-docs/stable/user_guide/indexing.html#returning-a-view-versus-a-copy\n",
      "/home/tony/anaconda3/envs/sec/lib/python3.6/site-packages/ipykernel_launcher.py:232: DeprecationWarning: The default dtype for empty Series will be 'object' instead of 'float64' in a future version. Specify a dtype explicitly to silence this warning.\n"
     ]
    },
    {
     "data": {
      "text/plain": [
       "0"
      ]
     },
     "metadata": {},
     "output_type": "display_data"
    },
    {
     "name": "stdout",
     "output_type": "stream",
     "text": [
      "[CIK==debugging:INFO] 3906/2002-06-30/Schedule_of_Investments_45.csv\n",
      "[CIK==debugging:INFO] 3906/2002-06-30/Schedule_of_Investments_45.csv\n",
      "[CIK==debugging:INFO] 3906/2002-06-30/Schedule_of_Investments_45.csv\n",
      "[CIK==debugging:INFO] 3906/2002-06-30/Schedule_of_Investments_45.csv\n",
      "[CIK==debugging:INFO] 3906/2002-06-30/Schedule_of_Investments_45.csv\n",
      "[CIK==debugging:INFO] 3906/2002-06-30/Schedule_of_Investments_45.csv\n",
      "[CIK==debugging:INFO] 3906/2002-06-30/Schedule_of_Investments_45.csv\n",
      "[CIK==debugging:INFO] 3906/2002-06-30/Schedule_of_Investments_45.csv\n",
      "[CIK==debugging:INFO] 3906/2002-06-30/Schedule_of_Investments_45.csv\n",
      "[CIK==debugging:INFO] 3906/2002-06-30/Schedule_of_Investments_45.csv\n",
      "[CIK==debugging:INFO] 3906/2002-06-30/Schedule_of_Investments_45.csv\n",
      "[CIK==debugging:INFO] 3906/2002-06-30/Schedule_of_Investments_45.csv\n",
      "[CIK==debugging:INFO] 3906/2002-06-30/Schedule_of_Investments_45.csv\n",
      "[CIK==debugging:INFO] 3906/2002-06-30/Schedule_of_Investments_45.csv\n",
      "[CIK==debugging:INFO] 3906/2002-06-30/Schedule_of_Investments_45.csv\n",
      "[CIK==debugging:INFO] 3906/2002-06-30/Schedule_of_Investments_45.csv\n",
      "[CIK==debugging:INFO] 3906/2002-06-30/Schedule_of_Investments_45.csv\n",
      "[CIK==debugging:INFO] 3906/2002-06-30/Schedule_of_Investments_45.csv\n",
      "[CIK==debugging:INFO] 3906/2002-06-30/Schedule_of_Investments_45.csv\n",
      "[CIK==debugging:INFO] 3906/2002-06-30/Schedule_of_Investments_45.csv\n",
      "[CIK==debugging:INFO] 3906/2002-06-30/Schedule_of_Investments_45.csv\n"
     ]
    },
    {
     "name": "stderr",
     "output_type": "stream",
     "text": [
      "INFO:CIK==debugging:3906/2002-06-30/Schedule_of_Investments_45.csv\n",
      "WARNING:root:Applied processor reduces input query to empty string, all comparisons will have score 0. [Query: '']\n",
      "WARNING:root:Applied processor reduces input query to empty string, all comparisons will have score 0. [Query: '$']\n",
      "WARNING:root:Applied processor reduces input query to empty string, all comparisons will have score 0. [Query: '']\n",
      "WARNING:root:Applied processor reduces input query to empty string, all comparisons will have score 0. [Query: '']\n",
      "WARNING:root:Applied processor reduces input query to empty string, all comparisons will have score 0. [Query: '$']\n",
      "WARNING:root:Applied processor reduces input query to empty string, all comparisons will have score 0. [Query: '']\n"
     ]
    },
    {
     "data": {
      "text/plain": [
       "0"
      ]
     },
     "metadata": {},
     "output_type": "display_data"
    },
    {
     "name": "stdout",
     "output_type": "stream",
     "text": [
      "[CIK==debugging:INFO] 3906/2002-06-30/Schedule_of_Investments_46.csv\n",
      "[CIK==debugging:INFO] 3906/2002-06-30/Schedule_of_Investments_46.csv\n",
      "[CIK==debugging:INFO] 3906/2002-06-30/Schedule_of_Investments_46.csv\n",
      "[CIK==debugging:INFO] 3906/2002-06-30/Schedule_of_Investments_46.csv\n",
      "[CIK==debugging:INFO] 3906/2002-06-30/Schedule_of_Investments_46.csv\n",
      "[CIK==debugging:INFO] 3906/2002-06-30/Schedule_of_Investments_46.csv\n",
      "[CIK==debugging:INFO] 3906/2002-06-30/Schedule_of_Investments_46.csv\n",
      "[CIK==debugging:INFO] 3906/2002-06-30/Schedule_of_Investments_46.csv\n",
      "[CIK==debugging:INFO] 3906/2002-06-30/Schedule_of_Investments_46.csv\n",
      "[CIK==debugging:INFO] 3906/2002-06-30/Schedule_of_Investments_46.csv\n",
      "[CIK==debugging:INFO] 3906/2002-06-30/Schedule_of_Investments_46.csv\n",
      "[CIK==debugging:INFO] 3906/2002-06-30/Schedule_of_Investments_46.csv\n",
      "[CIK==debugging:INFO] 3906/2002-06-30/Schedule_of_Investments_46.csv\n",
      "[CIK==debugging:INFO] 3906/2002-06-30/Schedule_of_Investments_46.csv\n",
      "[CIK==debugging:INFO] 3906/2002-06-30/Schedule_of_Investments_46.csv\n",
      "[CIK==debugging:INFO] 3906/2002-06-30/Schedule_of_Investments_46.csv\n",
      "[CIK==debugging:INFO] 3906/2002-06-30/Schedule_of_Investments_46.csv\n",
      "[CIK==debugging:INFO] 3906/2002-06-30/Schedule_of_Investments_46.csv\n",
      "[CIK==debugging:INFO] 3906/2002-06-30/Schedule_of_Investments_46.csv\n",
      "[CIK==debugging:INFO] 3906/2002-06-30/Schedule_of_Investments_46.csv\n",
      "[CIK==debugging:INFO] 3906/2002-06-30/Schedule_of_Investments_46.csv\n"
     ]
    },
    {
     "name": "stderr",
     "output_type": "stream",
     "text": [
      "INFO:CIK==debugging:3906/2002-06-30/Schedule_of_Investments_46.csv\n",
      "WARNING:root:Applied processor reduces input query to empty string, all comparisons will have score 0. [Query: '']\n",
      "WARNING:root:Applied processor reduces input query to empty string, all comparisons will have score 0. [Query: '']\n",
      "WARNING:root:Applied processor reduces input query to empty string, all comparisons will have score 0. [Query: '']\n",
      "WARNING:root:Applied processor reduces input query to empty string, all comparisons will have score 0. [Query: '']\n",
      "WARNING:root:Applied processor reduces input query to empty string, all comparisons will have score 0. [Query: '']\n",
      "WARNING:root:Applied processor reduces input query to empty string, all comparisons will have score 0. [Query: '']\n",
      "WARNING:root:Applied processor reduces input query to empty string, all comparisons will have score 0. [Query: '']\n",
      "WARNING:root:Applied processor reduces input query to empty string, all comparisons will have score 0. [Query: '']\n",
      "WARNING:root:Applied processor reduces input query to empty string, all comparisons will have score 0. [Query: '']\n",
      "WARNING:root:Applied processor reduces input query to empty string, all comparisons will have score 0. [Query: '']\n",
      "WARNING:root:Applied processor reduces input query to empty string, all comparisons will have score 0. [Query: '']\n",
      "WARNING:root:Applied processor reduces input query to empty string, all comparisons will have score 0. [Query: '']\n",
      "WARNING:root:Applied processor reduces input query to empty string, all comparisons will have score 0. [Query: '']\n",
      "WARNING:root:Applied processor reduces input query to empty string, all comparisons will have score 0. [Query: '']\n",
      "WARNING:root:Applied processor reduces input query to empty string, all comparisons will have score 0. [Query: '']\n",
      "WARNING:root:Applied processor reduces input query to empty string, all comparisons will have score 0. [Query: '']\n",
      "/home/tony/anaconda3/envs/sec/lib/python3.6/site-packages/ipykernel_launcher.py:191: SettingWithCopyWarning: \n",
      "A value is trying to be set on a copy of a slice from a DataFrame.\n",
      "Try using .loc[row_indexer,col_indexer] = value instead\n",
      "\n",
      "See the caveats in the documentation: https://pandas.pydata.org/pandas-docs/stable/user_guide/indexing.html#returning-a-view-versus-a-copy\n",
      "/home/tony/anaconda3/envs/sec/lib/python3.6/site-packages/ipykernel_launcher.py:232: DeprecationWarning: The default dtype for empty Series will be 'object' instead of 'float64' in a future version. Specify a dtype explicitly to silence this warning.\n"
     ]
    },
    {
     "data": {
      "text/plain": [
       "0"
      ]
     },
     "metadata": {},
     "output_type": "display_data"
    },
    {
     "name": "stdout",
     "output_type": "stream",
     "text": [
      "[CIK==debugging:INFO] 3906/2002-06-30/Schedule_of_Investments_47.csv\n",
      "[CIK==debugging:INFO] 3906/2002-06-30/Schedule_of_Investments_47.csv\n",
      "[CIK==debugging:INFO] 3906/2002-06-30/Schedule_of_Investments_47.csv\n",
      "[CIK==debugging:INFO] 3906/2002-06-30/Schedule_of_Investments_47.csv\n",
      "[CIK==debugging:INFO] 3906/2002-06-30/Schedule_of_Investments_47.csv\n",
      "[CIK==debugging:INFO] 3906/2002-06-30/Schedule_of_Investments_47.csv\n",
      "[CIK==debugging:INFO] 3906/2002-06-30/Schedule_of_Investments_47.csv\n",
      "[CIK==debugging:INFO] 3906/2002-06-30/Schedule_of_Investments_47.csv\n",
      "[CIK==debugging:INFO] 3906/2002-06-30/Schedule_of_Investments_47.csv\n",
      "[CIK==debugging:INFO] 3906/2002-06-30/Schedule_of_Investments_47.csv\n",
      "[CIK==debugging:INFO] 3906/2002-06-30/Schedule_of_Investments_47.csv\n",
      "[CIK==debugging:INFO] 3906/2002-06-30/Schedule_of_Investments_47.csv\n",
      "[CIK==debugging:INFO] 3906/2002-06-30/Schedule_of_Investments_47.csv\n",
      "[CIK==debugging:INFO] 3906/2002-06-30/Schedule_of_Investments_47.csv\n",
      "[CIK==debugging:INFO] 3906/2002-06-30/Schedule_of_Investments_47.csv\n",
      "[CIK==debugging:INFO] 3906/2002-06-30/Schedule_of_Investments_47.csv\n",
      "[CIK==debugging:INFO] 3906/2002-06-30/Schedule_of_Investments_47.csv\n",
      "[CIK==debugging:INFO] 3906/2002-06-30/Schedule_of_Investments_47.csv\n",
      "[CIK==debugging:INFO] 3906/2002-06-30/Schedule_of_Investments_47.csv\n",
      "[CIK==debugging:INFO] 3906/2002-06-30/Schedule_of_Investments_47.csv\n",
      "[CIK==debugging:INFO] 3906/2002-06-30/Schedule_of_Investments_47.csv\n"
     ]
    },
    {
     "name": "stderr",
     "output_type": "stream",
     "text": [
      "INFO:CIK==debugging:3906/2002-06-30/Schedule_of_Investments_47.csv\n",
      "WARNING:root:Applied processor reduces input query to empty string, all comparisons will have score 0. [Query: '']\n",
      "WARNING:root:Applied processor reduces input query to empty string, all comparisons will have score 0. [Query: '']\n",
      "WARNING:root:Applied processor reduces input query to empty string, all comparisons will have score 0. [Query: '']\n",
      "WARNING:root:Applied processor reduces input query to empty string, all comparisons will have score 0. [Query: '']\n",
      "WARNING:root:Applied processor reduces input query to empty string, all comparisons will have score 0. [Query: '']\n",
      "WARNING:root:Applied processor reduces input query to empty string, all comparisons will have score 0. [Query: '']\n",
      "/home/tony/anaconda3/envs/sec/lib/python3.6/site-packages/ipykernel_launcher.py:191: SettingWithCopyWarning: \n",
      "A value is trying to be set on a copy of a slice from a DataFrame.\n",
      "Try using .loc[row_indexer,col_indexer] = value instead\n",
      "\n",
      "See the caveats in the documentation: https://pandas.pydata.org/pandas-docs/stable/user_guide/indexing.html#returning-a-view-versus-a-copy\n",
      "/home/tony/anaconda3/envs/sec/lib/python3.6/site-packages/ipykernel_launcher.py:232: DeprecationWarning: The default dtype for empty Series will be 'object' instead of 'float64' in a future version. Specify a dtype explicitly to silence this warning.\n"
     ]
    },
    {
     "data": {
      "text/plain": [
       "0"
      ]
     },
     "metadata": {},
     "output_type": "display_data"
    },
    {
     "name": "stdout",
     "output_type": "stream",
     "text": [
      "[CIK==debugging:INFO] 3906/2002-06-30/Schedule_of_Investments_48.csv\n",
      "[CIK==debugging:INFO] 3906/2002-06-30/Schedule_of_Investments_48.csv\n",
      "[CIK==debugging:INFO] 3906/2002-06-30/Schedule_of_Investments_48.csv\n",
      "[CIK==debugging:INFO] 3906/2002-06-30/Schedule_of_Investments_48.csv\n",
      "[CIK==debugging:INFO] 3906/2002-06-30/Schedule_of_Investments_48.csv\n",
      "[CIK==debugging:INFO] 3906/2002-06-30/Schedule_of_Investments_48.csv\n",
      "[CIK==debugging:INFO] 3906/2002-06-30/Schedule_of_Investments_48.csv\n",
      "[CIK==debugging:INFO] 3906/2002-06-30/Schedule_of_Investments_48.csv\n",
      "[CIK==debugging:INFO] 3906/2002-06-30/Schedule_of_Investments_48.csv\n",
      "[CIK==debugging:INFO] 3906/2002-06-30/Schedule_of_Investments_48.csv\n",
      "[CIK==debugging:INFO] 3906/2002-06-30/Schedule_of_Investments_48.csv\n",
      "[CIK==debugging:INFO] 3906/2002-06-30/Schedule_of_Investments_48.csv\n",
      "[CIK==debugging:INFO] 3906/2002-06-30/Schedule_of_Investments_48.csv\n",
      "[CIK==debugging:INFO] 3906/2002-06-30/Schedule_of_Investments_48.csv\n",
      "[CIK==debugging:INFO] 3906/2002-06-30/Schedule_of_Investments_48.csv\n",
      "[CIK==debugging:INFO] 3906/2002-06-30/Schedule_of_Investments_48.csv\n",
      "[CIK==debugging:INFO] 3906/2002-06-30/Schedule_of_Investments_48.csv\n",
      "[CIK==debugging:INFO] 3906/2002-06-30/Schedule_of_Investments_48.csv\n",
      "[CIK==debugging:INFO] 3906/2002-06-30/Schedule_of_Investments_48.csv\n",
      "[CIK==debugging:INFO] 3906/2002-06-30/Schedule_of_Investments_48.csv\n",
      "[CIK==debugging:INFO] 3906/2002-06-30/Schedule_of_Investments_48.csv\n"
     ]
    },
    {
     "name": "stderr",
     "output_type": "stream",
     "text": [
      "INFO:CIK==debugging:3906/2002-06-30/Schedule_of_Investments_48.csv\n",
      "WARNING:root:Applied processor reduces input query to empty string, all comparisons will have score 0. [Query: '']\n",
      "WARNING:root:Applied processor reduces input query to empty string, all comparisons will have score 0. [Query: '']\n",
      "WARNING:root:Applied processor reduces input query to empty string, all comparisons will have score 0. [Query: '%']\n",
      "WARNING:root:Applied processor reduces input query to empty string, all comparisons will have score 0. [Query: '']\n",
      "WARNING:root:Applied processor reduces input query to empty string, all comparisons will have score 0. [Query: '']\n",
      "WARNING:root:Applied processor reduces input query to empty string, all comparisons will have score 0. [Query: '%']\n",
      "/home/tony/anaconda3/envs/sec/lib/python3.6/site-packages/ipykernel_launcher.py:191: SettingWithCopyWarning: \n",
      "A value is trying to be set on a copy of a slice from a DataFrame.\n",
      "Try using .loc[row_indexer,col_indexer] = value instead\n",
      "\n",
      "See the caveats in the documentation: https://pandas.pydata.org/pandas-docs/stable/user_guide/indexing.html#returning-a-view-versus-a-copy\n"
     ]
    },
    {
     "data": {
      "text/plain": [
       "0"
      ]
     },
     "metadata": {},
     "output_type": "display_data"
    },
    {
     "name": "stdout",
     "output_type": "stream",
     "text": [
      "[CIK==debugging:INFO] 3906/2002-06-30/Schedule_of_Investments_49.csv\n",
      "[CIK==debugging:INFO] 3906/2002-06-30/Schedule_of_Investments_49.csv\n",
      "[CIK==debugging:INFO] 3906/2002-06-30/Schedule_of_Investments_49.csv\n",
      "[CIK==debugging:INFO] 3906/2002-06-30/Schedule_of_Investments_49.csv\n",
      "[CIK==debugging:INFO] 3906/2002-06-30/Schedule_of_Investments_49.csv\n",
      "[CIK==debugging:INFO] 3906/2002-06-30/Schedule_of_Investments_49.csv\n",
      "[CIK==debugging:INFO] 3906/2002-06-30/Schedule_of_Investments_49.csv\n",
      "[CIK==debugging:INFO] 3906/2002-06-30/Schedule_of_Investments_49.csv\n",
      "[CIK==debugging:INFO] 3906/2002-06-30/Schedule_of_Investments_49.csv\n",
      "[CIK==debugging:INFO] 3906/2002-06-30/Schedule_of_Investments_49.csv\n",
      "[CIK==debugging:INFO] 3906/2002-06-30/Schedule_of_Investments_49.csv\n",
      "[CIK==debugging:INFO] 3906/2002-06-30/Schedule_of_Investments_49.csv\n",
      "[CIK==debugging:INFO] 3906/2002-06-30/Schedule_of_Investments_49.csv\n",
      "[CIK==debugging:INFO] 3906/2002-06-30/Schedule_of_Investments_49.csv\n",
      "[CIK==debugging:INFO] 3906/2002-06-30/Schedule_of_Investments_49.csv\n",
      "[CIK==debugging:INFO] 3906/2002-06-30/Schedule_of_Investments_49.csv\n",
      "[CIK==debugging:INFO] 3906/2002-06-30/Schedule_of_Investments_49.csv\n",
      "[CIK==debugging:INFO] 3906/2002-06-30/Schedule_of_Investments_49.csv\n",
      "[CIK==debugging:INFO] 3906/2002-06-30/Schedule_of_Investments_49.csv\n",
      "[CIK==debugging:INFO] 3906/2002-06-30/Schedule_of_Investments_49.csv\n",
      "[CIK==debugging:INFO] 3906/2002-06-30/Schedule_of_Investments_49.csv\n"
     ]
    },
    {
     "name": "stderr",
     "output_type": "stream",
     "text": [
      "INFO:CIK==debugging:3906/2002-06-30/Schedule_of_Investments_49.csv\n",
      "WARNING:root:Applied processor reduces input query to empty string, all comparisons will have score 0. [Query: '']\n",
      "WARNING:root:Applied processor reduces input query to empty string, all comparisons will have score 0. [Query: '']\n",
      "WARNING:root:Applied processor reduces input query to empty string, all comparisons will have score 0. [Query: '']\n",
      "WARNING:root:Applied processor reduces input query to empty string, all comparisons will have score 0. [Query: '']\n",
      "WARNING:root:Applied processor reduces input query to empty string, all comparisons will have score 0. [Query: '']\n",
      "WARNING:root:Applied processor reduces input query to empty string, all comparisons will have score 0. [Query: '']\n",
      "/home/tony/anaconda3/envs/sec/lib/python3.6/site-packages/ipykernel_launcher.py:191: SettingWithCopyWarning: \n",
      "A value is trying to be set on a copy of a slice from a DataFrame.\n",
      "Try using .loc[row_indexer,col_indexer] = value instead\n",
      "\n",
      "See the caveats in the documentation: https://pandas.pydata.org/pandas-docs/stable/user_guide/indexing.html#returning-a-view-versus-a-copy\n",
      "/home/tony/anaconda3/envs/sec/lib/python3.6/site-packages/ipykernel_launcher.py:232: DeprecationWarning: The default dtype for empty Series will be 'object' instead of 'float64' in a future version. Specify a dtype explicitly to silence this warning.\n"
     ]
    },
    {
     "data": {
      "text/plain": [
       "0"
      ]
     },
     "metadata": {},
     "output_type": "display_data"
    },
    {
     "name": "stdout",
     "output_type": "stream",
     "text": [
      "[CIK==debugging:INFO] 3906/2002-06-30/Schedule_of_Investments_50.csv\n",
      "[CIK==debugging:INFO] 3906/2002-06-30/Schedule_of_Investments_50.csv\n",
      "[CIK==debugging:INFO] 3906/2002-06-30/Schedule_of_Investments_50.csv\n",
      "[CIK==debugging:INFO] 3906/2002-06-30/Schedule_of_Investments_50.csv\n",
      "[CIK==debugging:INFO] 3906/2002-06-30/Schedule_of_Investments_50.csv\n",
      "[CIK==debugging:INFO] 3906/2002-06-30/Schedule_of_Investments_50.csv\n",
      "[CIK==debugging:INFO] 3906/2002-06-30/Schedule_of_Investments_50.csv\n",
      "[CIK==debugging:INFO] 3906/2002-06-30/Schedule_of_Investments_50.csv\n",
      "[CIK==debugging:INFO] 3906/2002-06-30/Schedule_of_Investments_50.csv\n",
      "[CIK==debugging:INFO] 3906/2002-06-30/Schedule_of_Investments_50.csv\n",
      "[CIK==debugging:INFO] 3906/2002-06-30/Schedule_of_Investments_50.csv\n",
      "[CIK==debugging:INFO] 3906/2002-06-30/Schedule_of_Investments_50.csv\n",
      "[CIK==debugging:INFO] 3906/2002-06-30/Schedule_of_Investments_50.csv\n",
      "[CIK==debugging:INFO] 3906/2002-06-30/Schedule_of_Investments_50.csv\n",
      "[CIK==debugging:INFO] 3906/2002-06-30/Schedule_of_Investments_50.csv\n",
      "[CIK==debugging:INFO] 3906/2002-06-30/Schedule_of_Investments_50.csv\n",
      "[CIK==debugging:INFO] 3906/2002-06-30/Schedule_of_Investments_50.csv\n",
      "[CIK==debugging:INFO] 3906/2002-06-30/Schedule_of_Investments_50.csv\n",
      "[CIK==debugging:INFO] 3906/2002-06-30/Schedule_of_Investments_50.csv\n",
      "[CIK==debugging:INFO] 3906/2002-06-30/Schedule_of_Investments_50.csv\n",
      "[CIK==debugging:INFO] 3906/2002-06-30/Schedule_of_Investments_50.csv\n"
     ]
    },
    {
     "name": "stderr",
     "output_type": "stream",
     "text": [
      "INFO:CIK==debugging:3906/2002-06-30/Schedule_of_Investments_50.csv\n",
      "WARNING:root:Applied processor reduces input query to empty string, all comparisons will have score 0. [Query: '']\n",
      "WARNING:root:Applied processor reduces input query to empty string, all comparisons will have score 0. [Query: '']\n",
      "WARNING:root:Applied processor reduces input query to empty string, all comparisons will have score 0. [Query: '%']\n",
      "WARNING:root:Applied processor reduces input query to empty string, all comparisons will have score 0. [Query: '']\n",
      "WARNING:root:Applied processor reduces input query to empty string, all comparisons will have score 0. [Query: '']\n",
      "WARNING:root:Applied processor reduces input query to empty string, all comparisons will have score 0. [Query: '%']\n",
      "/home/tony/anaconda3/envs/sec/lib/python3.6/site-packages/ipykernel_launcher.py:191: SettingWithCopyWarning: \n",
      "A value is trying to be set on a copy of a slice from a DataFrame.\n",
      "Try using .loc[row_indexer,col_indexer] = value instead\n",
      "\n",
      "See the caveats in the documentation: https://pandas.pydata.org/pandas-docs/stable/user_guide/indexing.html#returning-a-view-versus-a-copy\n"
     ]
    },
    {
     "data": {
      "text/plain": [
       "0"
      ]
     },
     "metadata": {},
     "output_type": "display_data"
    },
    {
     "name": "stdout",
     "output_type": "stream",
     "text": [
      "[CIK==debugging:INFO] 3906/2002-06-30/Schedule_of_Investments_51.csv\n",
      "[CIK==debugging:INFO] 3906/2002-06-30/Schedule_of_Investments_51.csv\n",
      "[CIK==debugging:INFO] 3906/2002-06-30/Schedule_of_Investments_51.csv\n",
      "[CIK==debugging:INFO] 3906/2002-06-30/Schedule_of_Investments_51.csv\n",
      "[CIK==debugging:INFO] 3906/2002-06-30/Schedule_of_Investments_51.csv\n",
      "[CIK==debugging:INFO] 3906/2002-06-30/Schedule_of_Investments_51.csv\n",
      "[CIK==debugging:INFO] 3906/2002-06-30/Schedule_of_Investments_51.csv\n",
      "[CIK==debugging:INFO] 3906/2002-06-30/Schedule_of_Investments_51.csv\n",
      "[CIK==debugging:INFO] 3906/2002-06-30/Schedule_of_Investments_51.csv\n",
      "[CIK==debugging:INFO] 3906/2002-06-30/Schedule_of_Investments_51.csv\n",
      "[CIK==debugging:INFO] 3906/2002-06-30/Schedule_of_Investments_51.csv\n",
      "[CIK==debugging:INFO] 3906/2002-06-30/Schedule_of_Investments_51.csv\n",
      "[CIK==debugging:INFO] 3906/2002-06-30/Schedule_of_Investments_51.csv\n",
      "[CIK==debugging:INFO] 3906/2002-06-30/Schedule_of_Investments_51.csv\n",
      "[CIK==debugging:INFO] 3906/2002-06-30/Schedule_of_Investments_51.csv\n",
      "[CIK==debugging:INFO] 3906/2002-06-30/Schedule_of_Investments_51.csv\n",
      "[CIK==debugging:INFO] 3906/2002-06-30/Schedule_of_Investments_51.csv\n",
      "[CIK==debugging:INFO] 3906/2002-06-30/Schedule_of_Investments_51.csv\n",
      "[CIK==debugging:INFO] 3906/2002-06-30/Schedule_of_Investments_51.csv\n",
      "[CIK==debugging:INFO] 3906/2002-06-30/Schedule_of_Investments_51.csv\n",
      "[CIK==debugging:INFO] 3906/2002-06-30/Schedule_of_Investments_51.csv\n"
     ]
    },
    {
     "name": "stderr",
     "output_type": "stream",
     "text": [
      "INFO:CIK==debugging:3906/2002-06-30/Schedule_of_Investments_51.csv\n",
      "WARNING:root:Applied processor reduces input query to empty string, all comparisons will have score 0. [Query: '']\n",
      "WARNING:root:Applied processor reduces input query to empty string, all comparisons will have score 0. [Query: '']\n",
      "WARNING:root:Applied processor reduces input query to empty string, all comparisons will have score 0. [Query: '']\n",
      "WARNING:root:Applied processor reduces input query to empty string, all comparisons will have score 0. [Query: '']\n",
      "WARNING:root:Applied processor reduces input query to empty string, all comparisons will have score 0. [Query: '']\n",
      "WARNING:root:Applied processor reduces input query to empty string, all comparisons will have score 0. [Query: '']\n",
      "WARNING:root:Applied processor reduces input query to empty string, all comparisons will have score 0. [Query: '']\n",
      "WARNING:root:Applied processor reduces input query to empty string, all comparisons will have score 0. [Query: '']\n",
      "WARNING:root:Applied processor reduces input query to empty string, all comparisons will have score 0. [Query: '']\n",
      "WARNING:root:Applied processor reduces input query to empty string, all comparisons will have score 0. [Query: '']\n",
      "WARNING:root:Applied processor reduces input query to empty string, all comparisons will have score 0. [Query: '']\n",
      "WARNING:root:Applied processor reduces input query to empty string, all comparisons will have score 0. [Query: '']\n",
      "WARNING:root:Applied processor reduces input query to empty string, all comparisons will have score 0. [Query: '']\n",
      "WARNING:root:Applied processor reduces input query to empty string, all comparisons will have score 0. [Query: '']\n",
      "WARNING:root:Applied processor reduces input query to empty string, all comparisons will have score 0. [Query: '']\n",
      "WARNING:root:Applied processor reduces input query to empty string, all comparisons will have score 0. [Query: '']\n",
      "/home/tony/anaconda3/envs/sec/lib/python3.6/site-packages/ipykernel_launcher.py:191: SettingWithCopyWarning: \n",
      "A value is trying to be set on a copy of a slice from a DataFrame.\n",
      "Try using .loc[row_indexer,col_indexer] = value instead\n",
      "\n",
      "See the caveats in the documentation: https://pandas.pydata.org/pandas-docs/stable/user_guide/indexing.html#returning-a-view-versus-a-copy\n",
      "/home/tony/anaconda3/envs/sec/lib/python3.6/site-packages/ipykernel_launcher.py:232: DeprecationWarning: The default dtype for empty Series will be 'object' instead of 'float64' in a future version. Specify a dtype explicitly to silence this warning.\n"
     ]
    },
    {
     "data": {
      "text/plain": [
       "0"
      ]
     },
     "metadata": {},
     "output_type": "display_data"
    },
    {
     "name": "stdout",
     "output_type": "stream",
     "text": [
      "[CIK==debugging:INFO] 3906/2002-06-30/Schedule_of_Investments_52.csv\n",
      "[CIK==debugging:INFO] 3906/2002-06-30/Schedule_of_Investments_52.csv\n",
      "[CIK==debugging:INFO] 3906/2002-06-30/Schedule_of_Investments_52.csv\n",
      "[CIK==debugging:INFO] 3906/2002-06-30/Schedule_of_Investments_52.csv\n",
      "[CIK==debugging:INFO] 3906/2002-06-30/Schedule_of_Investments_52.csv\n",
      "[CIK==debugging:INFO] 3906/2002-06-30/Schedule_of_Investments_52.csv\n",
      "[CIK==debugging:INFO] 3906/2002-06-30/Schedule_of_Investments_52.csv\n",
      "[CIK==debugging:INFO] 3906/2002-06-30/Schedule_of_Investments_52.csv\n",
      "[CIK==debugging:INFO] 3906/2002-06-30/Schedule_of_Investments_52.csv\n",
      "[CIK==debugging:INFO] 3906/2002-06-30/Schedule_of_Investments_52.csv\n",
      "[CIK==debugging:INFO] 3906/2002-06-30/Schedule_of_Investments_52.csv\n",
      "[CIK==debugging:INFO] 3906/2002-06-30/Schedule_of_Investments_52.csv\n",
      "[CIK==debugging:INFO] 3906/2002-06-30/Schedule_of_Investments_52.csv\n",
      "[CIK==debugging:INFO] 3906/2002-06-30/Schedule_of_Investments_52.csv\n",
      "[CIK==debugging:INFO] 3906/2002-06-30/Schedule_of_Investments_52.csv\n",
      "[CIK==debugging:INFO] 3906/2002-06-30/Schedule_of_Investments_52.csv\n",
      "[CIK==debugging:INFO] 3906/2002-06-30/Schedule_of_Investments_52.csv\n",
      "[CIK==debugging:INFO] 3906/2002-06-30/Schedule_of_Investments_52.csv\n",
      "[CIK==debugging:INFO] 3906/2002-06-30/Schedule_of_Investments_52.csv\n",
      "[CIK==debugging:INFO] 3906/2002-06-30/Schedule_of_Investments_52.csv\n",
      "[CIK==debugging:INFO] 3906/2002-06-30/Schedule_of_Investments_52.csv\n"
     ]
    },
    {
     "name": "stderr",
     "output_type": "stream",
     "text": [
      "INFO:CIK==debugging:3906/2002-06-30/Schedule_of_Investments_52.csv\n",
      "WARNING:root:Applied processor reduces input query to empty string, all comparisons will have score 0. [Query: '']\n",
      "WARNING:root:Applied processor reduces input query to empty string, all comparisons will have score 0. [Query: '']\n",
      "WARNING:root:Applied processor reduces input query to empty string, all comparisons will have score 0. [Query: '']\n",
      "WARNING:root:Applied processor reduces input query to empty string, all comparisons will have score 0. [Query: '']\n",
      "WARNING:root:Applied processor reduces input query to empty string, all comparisons will have score 0. [Query: '']\n",
      "WARNING:root:Applied processor reduces input query to empty string, all comparisons will have score 0. [Query: '']\n",
      "WARNING:root:Applied processor reduces input query to empty string, all comparisons will have score 0. [Query: '']\n",
      "WARNING:root:Applied processor reduces input query to empty string, all comparisons will have score 0. [Query: '']\n",
      "WARNING:root:Applied processor reduces input query to empty string, all comparisons will have score 0. [Query: '']\n",
      "WARNING:root:Applied processor reduces input query to empty string, all comparisons will have score 0. [Query: '']\n",
      "WARNING:root:Applied processor reduces input query to empty string, all comparisons will have score 0. [Query: '']\n",
      "WARNING:root:Applied processor reduces input query to empty string, all comparisons will have score 0. [Query: '']\n",
      "WARNING:root:Applied processor reduces input query to empty string, all comparisons will have score 0. [Query: '']\n",
      "WARNING:root:Applied processor reduces input query to empty string, all comparisons will have score 0. [Query: '']\n",
      "WARNING:root:Applied processor reduces input query to empty string, all comparisons will have score 0. [Query: '']\n",
      "WARNING:root:Applied processor reduces input query to empty string, all comparisons will have score 0. [Query: '']\n",
      "WARNING:root:Applied processor reduces input query to empty string, all comparisons will have score 0. [Query: '']\n",
      "/home/tony/anaconda3/envs/sec/lib/python3.6/site-packages/ipykernel_launcher.py:191: SettingWithCopyWarning: \n",
      "A value is trying to be set on a copy of a slice from a DataFrame.\n",
      "Try using .loc[row_indexer,col_indexer] = value instead\n",
      "\n",
      "See the caveats in the documentation: https://pandas.pydata.org/pandas-docs/stable/user_guide/indexing.html#returning-a-view-versus-a-copy\n",
      "/home/tony/anaconda3/envs/sec/lib/python3.6/site-packages/ipykernel_launcher.py:232: DeprecationWarning: The default dtype for empty Series will be 'object' instead of 'float64' in a future version. Specify a dtype explicitly to silence this warning.\n"
     ]
    },
    {
     "data": {
      "text/plain": [
       "0"
      ]
     },
     "metadata": {},
     "output_type": "display_data"
    },
    {
     "name": "stdout",
     "output_type": "stream",
     "text": [
      "[CIK==debugging:INFO] 3906/2002-06-30/Schedule_of_Investments_53.csv\n",
      "[CIK==debugging:INFO] 3906/2002-06-30/Schedule_of_Investments_53.csv\n",
      "[CIK==debugging:INFO] 3906/2002-06-30/Schedule_of_Investments_53.csv\n",
      "[CIK==debugging:INFO] 3906/2002-06-30/Schedule_of_Investments_53.csv\n",
      "[CIK==debugging:INFO] 3906/2002-06-30/Schedule_of_Investments_53.csv\n",
      "[CIK==debugging:INFO] 3906/2002-06-30/Schedule_of_Investments_53.csv\n",
      "[CIK==debugging:INFO] 3906/2002-06-30/Schedule_of_Investments_53.csv\n",
      "[CIK==debugging:INFO] 3906/2002-06-30/Schedule_of_Investments_53.csv\n",
      "[CIK==debugging:INFO] 3906/2002-06-30/Schedule_of_Investments_53.csv\n",
      "[CIK==debugging:INFO] 3906/2002-06-30/Schedule_of_Investments_53.csv\n",
      "[CIK==debugging:INFO] 3906/2002-06-30/Schedule_of_Investments_53.csv\n",
      "[CIK==debugging:INFO] 3906/2002-06-30/Schedule_of_Investments_53.csv\n",
      "[CIK==debugging:INFO] 3906/2002-06-30/Schedule_of_Investments_53.csv\n",
      "[CIK==debugging:INFO] 3906/2002-06-30/Schedule_of_Investments_53.csv\n",
      "[CIK==debugging:INFO] 3906/2002-06-30/Schedule_of_Investments_53.csv\n",
      "[CIK==debugging:INFO] 3906/2002-06-30/Schedule_of_Investments_53.csv\n",
      "[CIK==debugging:INFO] 3906/2002-06-30/Schedule_of_Investments_53.csv\n",
      "[CIK==debugging:INFO] 3906/2002-06-30/Schedule_of_Investments_53.csv\n",
      "[CIK==debugging:INFO] 3906/2002-06-30/Schedule_of_Investments_53.csv\n",
      "[CIK==debugging:INFO] 3906/2002-06-30/Schedule_of_Investments_53.csv\n",
      "[CIK==debugging:INFO] 3906/2002-06-30/Schedule_of_Investments_53.csv\n"
     ]
    },
    {
     "name": "stderr",
     "output_type": "stream",
     "text": [
      "INFO:CIK==debugging:3906/2002-06-30/Schedule_of_Investments_53.csv\n",
      "WARNING:root:Applied processor reduces input query to empty string, all comparisons will have score 0. [Query: '']\n",
      "/home/tony/anaconda3/envs/sec/lib/python3.6/site-packages/ipykernel_launcher.py:191: SettingWithCopyWarning: \n",
      "A value is trying to be set on a copy of a slice from a DataFrame.\n",
      "Try using .loc[row_indexer,col_indexer] = value instead\n",
      "\n",
      "See the caveats in the documentation: https://pandas.pydata.org/pandas-docs/stable/user_guide/indexing.html#returning-a-view-versus-a-copy\n",
      "/home/tony/anaconda3/envs/sec/lib/python3.6/site-packages/ipykernel_launcher.py:232: DeprecationWarning: The default dtype for empty Series will be 'object' instead of 'float64' in a future version. Specify a dtype explicitly to silence this warning.\n"
     ]
    },
    {
     "data": {
      "text/plain": [
       "0"
      ]
     },
     "metadata": {},
     "output_type": "display_data"
    },
    {
     "name": "stdout",
     "output_type": "stream",
     "text": [
      "[CIK==debugging:INFO] 3906/2002-06-30/Schedule_of_Investments_54.csv\n",
      "[CIK==debugging:INFO] 3906/2002-06-30/Schedule_of_Investments_54.csv\n",
      "[CIK==debugging:INFO] 3906/2002-06-30/Schedule_of_Investments_54.csv\n",
      "[CIK==debugging:INFO] 3906/2002-06-30/Schedule_of_Investments_54.csv\n",
      "[CIK==debugging:INFO] 3906/2002-06-30/Schedule_of_Investments_54.csv\n",
      "[CIK==debugging:INFO] 3906/2002-06-30/Schedule_of_Investments_54.csv\n",
      "[CIK==debugging:INFO] 3906/2002-06-30/Schedule_of_Investments_54.csv\n",
      "[CIK==debugging:INFO] 3906/2002-06-30/Schedule_of_Investments_54.csv\n",
      "[CIK==debugging:INFO] 3906/2002-06-30/Schedule_of_Investments_54.csv\n",
      "[CIK==debugging:INFO] 3906/2002-06-30/Schedule_of_Investments_54.csv\n",
      "[CIK==debugging:INFO] 3906/2002-06-30/Schedule_of_Investments_54.csv\n",
      "[CIK==debugging:INFO] 3906/2002-06-30/Schedule_of_Investments_54.csv\n",
      "[CIK==debugging:INFO] 3906/2002-06-30/Schedule_of_Investments_54.csv\n",
      "[CIK==debugging:INFO] 3906/2002-06-30/Schedule_of_Investments_54.csv\n",
      "[CIK==debugging:INFO] 3906/2002-06-30/Schedule_of_Investments_54.csv\n",
      "[CIK==debugging:INFO] 3906/2002-06-30/Schedule_of_Investments_54.csv\n",
      "[CIK==debugging:INFO] 3906/2002-06-30/Schedule_of_Investments_54.csv\n",
      "[CIK==debugging:INFO] 3906/2002-06-30/Schedule_of_Investments_54.csv\n",
      "[CIK==debugging:INFO] 3906/2002-06-30/Schedule_of_Investments_54.csv\n",
      "[CIK==debugging:INFO] 3906/2002-06-30/Schedule_of_Investments_54.csv\n",
      "[CIK==debugging:INFO] 3906/2002-06-30/Schedule_of_Investments_54.csv\n"
     ]
    },
    {
     "name": "stderr",
     "output_type": "stream",
     "text": [
      "INFO:CIK==debugging:3906/2002-06-30/Schedule_of_Investments_54.csv\n",
      "WARNING:root:Applied processor reduces input query to empty string, all comparisons will have score 0. [Query: '']\n",
      "WARNING:root:Applied processor reduces input query to empty string, all comparisons will have score 0. [Query: '']\n",
      "WARNING:root:Applied processor reduces input query to empty string, all comparisons will have score 0. [Query: '']\n",
      "WARNING:root:Applied processor reduces input query to empty string, all comparisons will have score 0. [Query: '']\n",
      "WARNING:root:Applied processor reduces input query to empty string, all comparisons will have score 0. [Query: '']\n",
      "WARNING:root:Applied processor reduces input query to empty string, all comparisons will have score 0. [Query: '']\n",
      "WARNING:root:Applied processor reduces input query to empty string, all comparisons will have score 0. [Query: '']\n",
      "/home/tony/anaconda3/envs/sec/lib/python3.6/site-packages/ipykernel_launcher.py:191: SettingWithCopyWarning: \n",
      "A value is trying to be set on a copy of a slice from a DataFrame.\n",
      "Try using .loc[row_indexer,col_indexer] = value instead\n",
      "\n",
      "See the caveats in the documentation: https://pandas.pydata.org/pandas-docs/stable/user_guide/indexing.html#returning-a-view-versus-a-copy\n",
      "/home/tony/anaconda3/envs/sec/lib/python3.6/site-packages/ipykernel_launcher.py:232: DeprecationWarning: The default dtype for empty Series will be 'object' instead of 'float64' in a future version. Specify a dtype explicitly to silence this warning.\n"
     ]
    },
    {
     "data": {
      "text/plain": [
       "0"
      ]
     },
     "metadata": {},
     "output_type": "display_data"
    },
    {
     "name": "stdout",
     "output_type": "stream",
     "text": [
      "[CIK==debugging:INFO] 3906/2002-06-30/Schedule_of_Investments_55.csv\n",
      "[CIK==debugging:INFO] 3906/2002-06-30/Schedule_of_Investments_55.csv\n",
      "[CIK==debugging:INFO] 3906/2002-06-30/Schedule_of_Investments_55.csv\n",
      "[CIK==debugging:INFO] 3906/2002-06-30/Schedule_of_Investments_55.csv\n",
      "[CIK==debugging:INFO] 3906/2002-06-30/Schedule_of_Investments_55.csv\n",
      "[CIK==debugging:INFO] 3906/2002-06-30/Schedule_of_Investments_55.csv\n",
      "[CIK==debugging:INFO] 3906/2002-06-30/Schedule_of_Investments_55.csv\n",
      "[CIK==debugging:INFO] 3906/2002-06-30/Schedule_of_Investments_55.csv\n",
      "[CIK==debugging:INFO] 3906/2002-06-30/Schedule_of_Investments_55.csv\n",
      "[CIK==debugging:INFO] 3906/2002-06-30/Schedule_of_Investments_55.csv\n",
      "[CIK==debugging:INFO] 3906/2002-06-30/Schedule_of_Investments_55.csv\n",
      "[CIK==debugging:INFO] 3906/2002-06-30/Schedule_of_Investments_55.csv\n",
      "[CIK==debugging:INFO] 3906/2002-06-30/Schedule_of_Investments_55.csv\n",
      "[CIK==debugging:INFO] 3906/2002-06-30/Schedule_of_Investments_55.csv\n",
      "[CIK==debugging:INFO] 3906/2002-06-30/Schedule_of_Investments_55.csv\n",
      "[CIK==debugging:INFO] 3906/2002-06-30/Schedule_of_Investments_55.csv\n",
      "[CIK==debugging:INFO] 3906/2002-06-30/Schedule_of_Investments_55.csv\n",
      "[CIK==debugging:INFO] 3906/2002-06-30/Schedule_of_Investments_55.csv\n",
      "[CIK==debugging:INFO] 3906/2002-06-30/Schedule_of_Investments_55.csv\n",
      "[CIK==debugging:INFO] 3906/2002-06-30/Schedule_of_Investments_55.csv\n",
      "[CIK==debugging:INFO] 3906/2002-06-30/Schedule_of_Investments_55.csv\n"
     ]
    },
    {
     "name": "stderr",
     "output_type": "stream",
     "text": [
      "INFO:CIK==debugging:3906/2002-06-30/Schedule_of_Investments_55.csv\n",
      "WARNING:root:Applied processor reduces input query to empty string, all comparisons will have score 0. [Query: '']\n",
      "WARNING:root:Applied processor reduces input query to empty string, all comparisons will have score 0. [Query: '']\n",
      "WARNING:root:Applied processor reduces input query to empty string, all comparisons will have score 0. [Query: '']\n",
      "WARNING:root:Applied processor reduces input query to empty string, all comparisons will have score 0. [Query: '']\n",
      "WARNING:root:Applied processor reduces input query to empty string, all comparisons will have score 0. [Query: '']\n",
      "/home/tony/anaconda3/envs/sec/lib/python3.6/site-packages/ipykernel_launcher.py:191: SettingWithCopyWarning: \n",
      "A value is trying to be set on a copy of a slice from a DataFrame.\n",
      "Try using .loc[row_indexer,col_indexer] = value instead\n",
      "\n",
      "See the caveats in the documentation: https://pandas.pydata.org/pandas-docs/stable/user_guide/indexing.html#returning-a-view-versus-a-copy\n",
      "/home/tony/anaconda3/envs/sec/lib/python3.6/site-packages/ipykernel_launcher.py:232: DeprecationWarning: The default dtype for empty Series will be 'object' instead of 'float64' in a future version. Specify a dtype explicitly to silence this warning.\n"
     ]
    },
    {
     "data": {
      "text/plain": [
       "0"
      ]
     },
     "metadata": {},
     "output_type": "display_data"
    },
    {
     "name": "stdout",
     "output_type": "stream",
     "text": [
      "[CIK==debugging:INFO] 3906/2002-06-30/Schedule_of_Investments_56.csv\n",
      "[CIK==debugging:INFO] 3906/2002-06-30/Schedule_of_Investments_56.csv\n",
      "[CIK==debugging:INFO] 3906/2002-06-30/Schedule_of_Investments_56.csv\n",
      "[CIK==debugging:INFO] 3906/2002-06-30/Schedule_of_Investments_56.csv\n",
      "[CIK==debugging:INFO] 3906/2002-06-30/Schedule_of_Investments_56.csv\n",
      "[CIK==debugging:INFO] 3906/2002-06-30/Schedule_of_Investments_56.csv\n",
      "[CIK==debugging:INFO] 3906/2002-06-30/Schedule_of_Investments_56.csv\n",
      "[CIK==debugging:INFO] 3906/2002-06-30/Schedule_of_Investments_56.csv\n",
      "[CIK==debugging:INFO] 3906/2002-06-30/Schedule_of_Investments_56.csv\n",
      "[CIK==debugging:INFO] 3906/2002-06-30/Schedule_of_Investments_56.csv\n",
      "[CIK==debugging:INFO] 3906/2002-06-30/Schedule_of_Investments_56.csv\n",
      "[CIK==debugging:INFO] 3906/2002-06-30/Schedule_of_Investments_56.csv\n",
      "[CIK==debugging:INFO] 3906/2002-06-30/Schedule_of_Investments_56.csv\n",
      "[CIK==debugging:INFO] 3906/2002-06-30/Schedule_of_Investments_56.csv\n",
      "[CIK==debugging:INFO] 3906/2002-06-30/Schedule_of_Investments_56.csv\n",
      "[CIK==debugging:INFO] 3906/2002-06-30/Schedule_of_Investments_56.csv\n",
      "[CIK==debugging:INFO] 3906/2002-06-30/Schedule_of_Investments_56.csv\n",
      "[CIK==debugging:INFO] 3906/2002-06-30/Schedule_of_Investments_56.csv\n",
      "[CIK==debugging:INFO] 3906/2002-06-30/Schedule_of_Investments_56.csv\n",
      "[CIK==debugging:INFO] 3906/2002-06-30/Schedule_of_Investments_56.csv\n",
      "[CIK==debugging:INFO] 3906/2002-06-30/Schedule_of_Investments_56.csv\n"
     ]
    },
    {
     "name": "stderr",
     "output_type": "stream",
     "text": [
      "INFO:CIK==debugging:3906/2002-06-30/Schedule_of_Investments_56.csv\n",
      "WARNING:root:Applied processor reduces input query to empty string, all comparisons will have score 0. [Query: '']\n",
      "WARNING:root:Applied processor reduces input query to empty string, all comparisons will have score 0. [Query: '']\n",
      "WARNING:root:Applied processor reduces input query to empty string, all comparisons will have score 0. [Query: '']\n",
      "/home/tony/anaconda3/envs/sec/lib/python3.6/site-packages/ipykernel_launcher.py:191: SettingWithCopyWarning: \n",
      "A value is trying to be set on a copy of a slice from a DataFrame.\n",
      "Try using .loc[row_indexer,col_indexer] = value instead\n",
      "\n",
      "See the caveats in the documentation: https://pandas.pydata.org/pandas-docs/stable/user_guide/indexing.html#returning-a-view-versus-a-copy\n",
      "/home/tony/anaconda3/envs/sec/lib/python3.6/site-packages/ipykernel_launcher.py:232: DeprecationWarning: The default dtype for empty Series will be 'object' instead of 'float64' in a future version. Specify a dtype explicitly to silence this warning.\n"
     ]
    },
    {
     "data": {
      "text/plain": [
       "0"
      ]
     },
     "metadata": {},
     "output_type": "display_data"
    },
    {
     "name": "stdout",
     "output_type": "stream",
     "text": [
      "[CIK==debugging:INFO] 3906/2002-06-30/Schedule_of_Investments_57.csv\n",
      "[CIK==debugging:INFO] 3906/2002-06-30/Schedule_of_Investments_57.csv\n",
      "[CIK==debugging:INFO] 3906/2002-06-30/Schedule_of_Investments_57.csv\n",
      "[CIK==debugging:INFO] 3906/2002-06-30/Schedule_of_Investments_57.csv\n",
      "[CIK==debugging:INFO] 3906/2002-06-30/Schedule_of_Investments_57.csv\n",
      "[CIK==debugging:INFO] 3906/2002-06-30/Schedule_of_Investments_57.csv\n",
      "[CIK==debugging:INFO] 3906/2002-06-30/Schedule_of_Investments_57.csv\n",
      "[CIK==debugging:INFO] 3906/2002-06-30/Schedule_of_Investments_57.csv\n",
      "[CIK==debugging:INFO] 3906/2002-06-30/Schedule_of_Investments_57.csv\n",
      "[CIK==debugging:INFO] 3906/2002-06-30/Schedule_of_Investments_57.csv\n",
      "[CIK==debugging:INFO] 3906/2002-06-30/Schedule_of_Investments_57.csv\n",
      "[CIK==debugging:INFO] 3906/2002-06-30/Schedule_of_Investments_57.csv\n",
      "[CIK==debugging:INFO] 3906/2002-06-30/Schedule_of_Investments_57.csv\n",
      "[CIK==debugging:INFO] 3906/2002-06-30/Schedule_of_Investments_57.csv\n",
      "[CIK==debugging:INFO] 3906/2002-06-30/Schedule_of_Investments_57.csv\n",
      "[CIK==debugging:INFO] 3906/2002-06-30/Schedule_of_Investments_57.csv\n",
      "[CIK==debugging:INFO] 3906/2002-06-30/Schedule_of_Investments_57.csv\n",
      "[CIK==debugging:INFO] 3906/2002-06-30/Schedule_of_Investments_57.csv\n",
      "[CIK==debugging:INFO] 3906/2002-06-30/Schedule_of_Investments_57.csv\n",
      "[CIK==debugging:INFO] 3906/2002-06-30/Schedule_of_Investments_57.csv\n",
      "[CIK==debugging:INFO] 3906/2002-06-30/Schedule_of_Investments_57.csv\n"
     ]
    },
    {
     "name": "stderr",
     "output_type": "stream",
     "text": [
      "INFO:CIK==debugging:3906/2002-06-30/Schedule_of_Investments_57.csv\n",
      "WARNING:root:Applied processor reduces input query to empty string, all comparisons will have score 0. [Query: '']\n",
      "WARNING:root:Applied processor reduces input query to empty string, all comparisons will have score 0. [Query: '']\n",
      "WARNING:root:Applied processor reduces input query to empty string, all comparisons will have score 0. [Query: '']\n",
      "WARNING:root:Applied processor reduces input query to empty string, all comparisons will have score 0. [Query: '']\n"
     ]
    },
    {
     "data": {
      "text/plain": [
       "0"
      ]
     },
     "metadata": {},
     "output_type": "display_data"
    },
    {
     "name": "stdout",
     "output_type": "stream",
     "text": [
      "[CIK==debugging:INFO] 3906/2002-06-30/Schedule_of_Investments_58.csv\n",
      "[CIK==debugging:INFO] 3906/2002-06-30/Schedule_of_Investments_58.csv\n",
      "[CIK==debugging:INFO] 3906/2002-06-30/Schedule_of_Investments_58.csv\n",
      "[CIK==debugging:INFO] 3906/2002-06-30/Schedule_of_Investments_58.csv\n",
      "[CIK==debugging:INFO] 3906/2002-06-30/Schedule_of_Investments_58.csv\n",
      "[CIK==debugging:INFO] 3906/2002-06-30/Schedule_of_Investments_58.csv\n",
      "[CIK==debugging:INFO] 3906/2002-06-30/Schedule_of_Investments_58.csv\n",
      "[CIK==debugging:INFO] 3906/2002-06-30/Schedule_of_Investments_58.csv\n",
      "[CIK==debugging:INFO] 3906/2002-06-30/Schedule_of_Investments_58.csv\n",
      "[CIK==debugging:INFO] 3906/2002-06-30/Schedule_of_Investments_58.csv\n",
      "[CIK==debugging:INFO] 3906/2002-06-30/Schedule_of_Investments_58.csv\n",
      "[CIK==debugging:INFO] 3906/2002-06-30/Schedule_of_Investments_58.csv\n",
      "[CIK==debugging:INFO] 3906/2002-06-30/Schedule_of_Investments_58.csv\n",
      "[CIK==debugging:INFO] 3906/2002-06-30/Schedule_of_Investments_58.csv\n",
      "[CIK==debugging:INFO] 3906/2002-06-30/Schedule_of_Investments_58.csv\n",
      "[CIK==debugging:INFO] 3906/2002-06-30/Schedule_of_Investments_58.csv\n",
      "[CIK==debugging:INFO] 3906/2002-06-30/Schedule_of_Investments_58.csv\n",
      "[CIK==debugging:INFO] 3906/2002-06-30/Schedule_of_Investments_58.csv\n",
      "[CIK==debugging:INFO] 3906/2002-06-30/Schedule_of_Investments_58.csv\n",
      "[CIK==debugging:INFO] 3906/2002-06-30/Schedule_of_Investments_58.csv\n",
      "[CIK==debugging:INFO] 3906/2002-06-30/Schedule_of_Investments_58.csv\n"
     ]
    },
    {
     "name": "stderr",
     "output_type": "stream",
     "text": [
      "INFO:CIK==debugging:3906/2002-06-30/Schedule_of_Investments_58.csv\n",
      "WARNING:root:Applied processor reduces input query to empty string, all comparisons will have score 0. [Query: '']\n",
      "WARNING:root:Applied processor reduces input query to empty string, all comparisons will have score 0. [Query: '']\n",
      "WARNING:root:Applied processor reduces input query to empty string, all comparisons will have score 0. [Query: '']\n",
      "WARNING:root:Applied processor reduces input query to empty string, all comparisons will have score 0. [Query: '']\n",
      "/home/tony/anaconda3/envs/sec/lib/python3.6/site-packages/ipykernel_launcher.py:191: SettingWithCopyWarning: \n",
      "A value is trying to be set on a copy of a slice from a DataFrame.\n",
      "Try using .loc[row_indexer,col_indexer] = value instead\n",
      "\n",
      "See the caveats in the documentation: https://pandas.pydata.org/pandas-docs/stable/user_guide/indexing.html#returning-a-view-versus-a-copy\n"
     ]
    },
    {
     "data": {
      "text/plain": [
       "0"
      ]
     },
     "metadata": {},
     "output_type": "display_data"
    },
    {
     "name": "stdout",
     "output_type": "stream",
     "text": [
      "[CIK==debugging:INFO] 3906/2002-06-30/Schedule_of_Investments_59.csv\n",
      "[CIK==debugging:INFO] 3906/2002-06-30/Schedule_of_Investments_59.csv\n",
      "[CIK==debugging:INFO] 3906/2002-06-30/Schedule_of_Investments_59.csv\n",
      "[CIK==debugging:INFO] 3906/2002-06-30/Schedule_of_Investments_59.csv\n",
      "[CIK==debugging:INFO] 3906/2002-06-30/Schedule_of_Investments_59.csv\n",
      "[CIK==debugging:INFO] 3906/2002-06-30/Schedule_of_Investments_59.csv\n",
      "[CIK==debugging:INFO] 3906/2002-06-30/Schedule_of_Investments_59.csv\n",
      "[CIK==debugging:INFO] 3906/2002-06-30/Schedule_of_Investments_59.csv\n",
      "[CIK==debugging:INFO] 3906/2002-06-30/Schedule_of_Investments_59.csv\n",
      "[CIK==debugging:INFO] 3906/2002-06-30/Schedule_of_Investments_59.csv\n",
      "[CIK==debugging:INFO] 3906/2002-06-30/Schedule_of_Investments_59.csv\n",
      "[CIK==debugging:INFO] 3906/2002-06-30/Schedule_of_Investments_59.csv\n",
      "[CIK==debugging:INFO] 3906/2002-06-30/Schedule_of_Investments_59.csv\n",
      "[CIK==debugging:INFO] 3906/2002-06-30/Schedule_of_Investments_59.csv\n",
      "[CIK==debugging:INFO] 3906/2002-06-30/Schedule_of_Investments_59.csv\n",
      "[CIK==debugging:INFO] 3906/2002-06-30/Schedule_of_Investments_59.csv\n",
      "[CIK==debugging:INFO] 3906/2002-06-30/Schedule_of_Investments_59.csv\n",
      "[CIK==debugging:INFO] 3906/2002-06-30/Schedule_of_Investments_59.csv\n",
      "[CIK==debugging:INFO] 3906/2002-06-30/Schedule_of_Investments_59.csv\n",
      "[CIK==debugging:INFO] 3906/2002-06-30/Schedule_of_Investments_59.csv\n",
      "[CIK==debugging:INFO] 3906/2002-06-30/Schedule_of_Investments_59.csv\n"
     ]
    },
    {
     "name": "stderr",
     "output_type": "stream",
     "text": [
      "INFO:CIK==debugging:3906/2002-06-30/Schedule_of_Investments_59.csv\n",
      "WARNING:root:Applied processor reduces input query to empty string, all comparisons will have score 0. [Query: '']\n",
      "WARNING:root:Applied processor reduces input query to empty string, all comparisons will have score 0. [Query: '']\n"
     ]
    },
    {
     "data": {
      "text/plain": [
       "0"
      ]
     },
     "metadata": {},
     "output_type": "display_data"
    },
    {
     "name": "stdout",
     "output_type": "stream",
     "text": [
      "[CIK==debugging:INFO] 3906/2002-06-30/Schedule_of_Investments_60.csv\n",
      "[CIK==debugging:INFO] 3906/2002-06-30/Schedule_of_Investments_60.csv\n",
      "[CIK==debugging:INFO] 3906/2002-06-30/Schedule_of_Investments_60.csv\n",
      "[CIK==debugging:INFO] 3906/2002-06-30/Schedule_of_Investments_60.csv\n",
      "[CIK==debugging:INFO] 3906/2002-06-30/Schedule_of_Investments_60.csv\n",
      "[CIK==debugging:INFO] 3906/2002-06-30/Schedule_of_Investments_60.csv\n",
      "[CIK==debugging:INFO] 3906/2002-06-30/Schedule_of_Investments_60.csv\n",
      "[CIK==debugging:INFO] 3906/2002-06-30/Schedule_of_Investments_60.csv\n",
      "[CIK==debugging:INFO] 3906/2002-06-30/Schedule_of_Investments_60.csv\n",
      "[CIK==debugging:INFO] 3906/2002-06-30/Schedule_of_Investments_60.csv\n",
      "[CIK==debugging:INFO] 3906/2002-06-30/Schedule_of_Investments_60.csv\n",
      "[CIK==debugging:INFO] 3906/2002-06-30/Schedule_of_Investments_60.csv\n",
      "[CIK==debugging:INFO] 3906/2002-06-30/Schedule_of_Investments_60.csv\n",
      "[CIK==debugging:INFO] 3906/2002-06-30/Schedule_of_Investments_60.csv\n",
      "[CIK==debugging:INFO] 3906/2002-06-30/Schedule_of_Investments_60.csv\n",
      "[CIK==debugging:INFO] 3906/2002-06-30/Schedule_of_Investments_60.csv\n",
      "[CIK==debugging:INFO] 3906/2002-06-30/Schedule_of_Investments_60.csv\n",
      "[CIK==debugging:INFO] 3906/2002-06-30/Schedule_of_Investments_60.csv\n",
      "[CIK==debugging:INFO] 3906/2002-06-30/Schedule_of_Investments_60.csv\n",
      "[CIK==debugging:INFO] 3906/2002-06-30/Schedule_of_Investments_60.csv\n",
      "[CIK==debugging:INFO] 3906/2002-06-30/Schedule_of_Investments_60.csv\n"
     ]
    },
    {
     "name": "stderr",
     "output_type": "stream",
     "text": [
      "INFO:CIK==debugging:3906/2002-06-30/Schedule_of_Investments_60.csv\n",
      "WARNING:root:Applied processor reduces input query to empty string, all comparisons will have score 0. [Query: '']\n",
      "WARNING:root:Applied processor reduces input query to empty string, all comparisons will have score 0. [Query: '']\n",
      "WARNING:root:Applied processor reduces input query to empty string, all comparisons will have score 0. [Query: '']\n",
      "WARNING:root:Applied processor reduces input query to empty string, all comparisons will have score 0. [Query: '']\n",
      "/home/tony/anaconda3/envs/sec/lib/python3.6/site-packages/ipykernel_launcher.py:191: SettingWithCopyWarning: \n",
      "A value is trying to be set on a copy of a slice from a DataFrame.\n",
      "Try using .loc[row_indexer,col_indexer] = value instead\n",
      "\n",
      "See the caveats in the documentation: https://pandas.pydata.org/pandas-docs/stable/user_guide/indexing.html#returning-a-view-versus-a-copy\n",
      "/home/tony/anaconda3/envs/sec/lib/python3.6/site-packages/ipykernel_launcher.py:232: DeprecationWarning: The default dtype for empty Series will be 'object' instead of 'float64' in a future version. Specify a dtype explicitly to silence this warning.\n"
     ]
    },
    {
     "data": {
      "text/plain": [
       "0"
      ]
     },
     "metadata": {},
     "output_type": "display_data"
    },
    {
     "name": "stdout",
     "output_type": "stream",
     "text": [
      "[CIK==debugging:INFO] 3906/2002-06-30/Schedule_of_Investments_61.csv\n",
      "[CIK==debugging:INFO] 3906/2002-06-30/Schedule_of_Investments_61.csv\n",
      "[CIK==debugging:INFO] 3906/2002-06-30/Schedule_of_Investments_61.csv\n",
      "[CIK==debugging:INFO] 3906/2002-06-30/Schedule_of_Investments_61.csv\n",
      "[CIK==debugging:INFO] 3906/2002-06-30/Schedule_of_Investments_61.csv\n",
      "[CIK==debugging:INFO] 3906/2002-06-30/Schedule_of_Investments_61.csv\n",
      "[CIK==debugging:INFO] 3906/2002-06-30/Schedule_of_Investments_61.csv\n",
      "[CIK==debugging:INFO] 3906/2002-06-30/Schedule_of_Investments_61.csv\n",
      "[CIK==debugging:INFO] 3906/2002-06-30/Schedule_of_Investments_61.csv\n",
      "[CIK==debugging:INFO] 3906/2002-06-30/Schedule_of_Investments_61.csv\n",
      "[CIK==debugging:INFO] 3906/2002-06-30/Schedule_of_Investments_61.csv\n",
      "[CIK==debugging:INFO] 3906/2002-06-30/Schedule_of_Investments_61.csv\n",
      "[CIK==debugging:INFO] 3906/2002-06-30/Schedule_of_Investments_61.csv\n",
      "[CIK==debugging:INFO] 3906/2002-06-30/Schedule_of_Investments_61.csv\n",
      "[CIK==debugging:INFO] 3906/2002-06-30/Schedule_of_Investments_61.csv\n",
      "[CIK==debugging:INFO] 3906/2002-06-30/Schedule_of_Investments_61.csv\n",
      "[CIK==debugging:INFO] 3906/2002-06-30/Schedule_of_Investments_61.csv\n",
      "[CIK==debugging:INFO] 3906/2002-06-30/Schedule_of_Investments_61.csv\n",
      "[CIK==debugging:INFO] 3906/2002-06-30/Schedule_of_Investments_61.csv\n",
      "[CIK==debugging:INFO] 3906/2002-06-30/Schedule_of_Investments_61.csv\n",
      "[CIK==debugging:INFO] 3906/2002-06-30/Schedule_of_Investments_61.csv\n"
     ]
    },
    {
     "name": "stderr",
     "output_type": "stream",
     "text": [
      "INFO:CIK==debugging:3906/2002-06-30/Schedule_of_Investments_61.csv\n",
      "WARNING:root:Applied processor reduces input query to empty string, all comparisons will have score 0. [Query: '']\n",
      "WARNING:root:Applied processor reduces input query to empty string, all comparisons will have score 0. [Query: '']\n",
      "WARNING:root:Applied processor reduces input query to empty string, all comparisons will have score 0. [Query: '']\n",
      "WARNING:root:Applied processor reduces input query to empty string, all comparisons will have score 0. [Query: '']\n",
      "WARNING:root:Applied processor reduces input query to empty string, all comparisons will have score 0. [Query: '']\n",
      "/home/tony/anaconda3/envs/sec/lib/python3.6/site-packages/ipykernel_launcher.py:191: SettingWithCopyWarning: \n",
      "A value is trying to be set on a copy of a slice from a DataFrame.\n",
      "Try using .loc[row_indexer,col_indexer] = value instead\n",
      "\n",
      "See the caveats in the documentation: https://pandas.pydata.org/pandas-docs/stable/user_guide/indexing.html#returning-a-view-versus-a-copy\n",
      "/home/tony/anaconda3/envs/sec/lib/python3.6/site-packages/ipykernel_launcher.py:232: DeprecationWarning: The default dtype for empty Series will be 'object' instead of 'float64' in a future version. Specify a dtype explicitly to silence this warning.\n"
     ]
    },
    {
     "data": {
      "text/plain": [
       "0"
      ]
     },
     "metadata": {},
     "output_type": "display_data"
    },
    {
     "name": "stdout",
     "output_type": "stream",
     "text": [
      "[CIK==debugging:INFO] 3906/2002-06-30/Schedule_of_Investments_62.csv\n",
      "[CIK==debugging:INFO] 3906/2002-06-30/Schedule_of_Investments_62.csv\n",
      "[CIK==debugging:INFO] 3906/2002-06-30/Schedule_of_Investments_62.csv\n",
      "[CIK==debugging:INFO] 3906/2002-06-30/Schedule_of_Investments_62.csv\n",
      "[CIK==debugging:INFO] 3906/2002-06-30/Schedule_of_Investments_62.csv\n",
      "[CIK==debugging:INFO] 3906/2002-06-30/Schedule_of_Investments_62.csv\n",
      "[CIK==debugging:INFO] 3906/2002-06-30/Schedule_of_Investments_62.csv\n",
      "[CIK==debugging:INFO] 3906/2002-06-30/Schedule_of_Investments_62.csv\n",
      "[CIK==debugging:INFO] 3906/2002-06-30/Schedule_of_Investments_62.csv\n",
      "[CIK==debugging:INFO] 3906/2002-06-30/Schedule_of_Investments_62.csv\n",
      "[CIK==debugging:INFO] 3906/2002-06-30/Schedule_of_Investments_62.csv\n",
      "[CIK==debugging:INFO] 3906/2002-06-30/Schedule_of_Investments_62.csv\n",
      "[CIK==debugging:INFO] 3906/2002-06-30/Schedule_of_Investments_62.csv\n",
      "[CIK==debugging:INFO] 3906/2002-06-30/Schedule_of_Investments_62.csv\n",
      "[CIK==debugging:INFO] 3906/2002-06-30/Schedule_of_Investments_62.csv\n",
      "[CIK==debugging:INFO] 3906/2002-06-30/Schedule_of_Investments_62.csv\n",
      "[CIK==debugging:INFO] 3906/2002-06-30/Schedule_of_Investments_62.csv\n",
      "[CIK==debugging:INFO] 3906/2002-06-30/Schedule_of_Investments_62.csv\n",
      "[CIK==debugging:INFO] 3906/2002-06-30/Schedule_of_Investments_62.csv\n",
      "[CIK==debugging:INFO] 3906/2002-06-30/Schedule_of_Investments_62.csv\n",
      "[CIK==debugging:INFO] 3906/2002-06-30/Schedule_of_Investments_62.csv\n"
     ]
    },
    {
     "name": "stderr",
     "output_type": "stream",
     "text": [
      "INFO:CIK==debugging:3906/2002-06-30/Schedule_of_Investments_62.csv\n",
      "WARNING:root:Applied processor reduces input query to empty string, all comparisons will have score 0. [Query: '']\n",
      "WARNING:root:Applied processor reduces input query to empty string, all comparisons will have score 0. [Query: '']\n",
      "WARNING:root:Applied processor reduces input query to empty string, all comparisons will have score 0. [Query: '']\n",
      "WARNING:root:Applied processor reduces input query to empty string, all comparisons will have score 0. [Query: '']\n",
      "WARNING:root:Applied processor reduces input query to empty string, all comparisons will have score 0. [Query: '']\n",
      "WARNING:root:Applied processor reduces input query to empty string, all comparisons will have score 0. [Query: '']\n",
      "WARNING:root:Applied processor reduces input query to empty string, all comparisons will have score 0. [Query: '']\n",
      "WARNING:root:Applied processor reduces input query to empty string, all comparisons will have score 0. [Query: '']\n",
      "WARNING:root:Applied processor reduces input query to empty string, all comparisons will have score 0. [Query: '']\n",
      "/home/tony/anaconda3/envs/sec/lib/python3.6/site-packages/ipykernel_launcher.py:191: SettingWithCopyWarning: \n",
      "A value is trying to be set on a copy of a slice from a DataFrame.\n",
      "Try using .loc[row_indexer,col_indexer] = value instead\n",
      "\n",
      "See the caveats in the documentation: https://pandas.pydata.org/pandas-docs/stable/user_guide/indexing.html#returning-a-view-versus-a-copy\n",
      "/home/tony/anaconda3/envs/sec/lib/python3.6/site-packages/ipykernel_launcher.py:232: DeprecationWarning: The default dtype for empty Series will be 'object' instead of 'float64' in a future version. Specify a dtype explicitly to silence this warning.\n"
     ]
    },
    {
     "data": {
      "text/plain": [
       "0"
      ]
     },
     "metadata": {},
     "output_type": "display_data"
    },
    {
     "name": "stdout",
     "output_type": "stream",
     "text": [
      "[CIK==debugging:INFO] 3906/2002-06-30/Schedule_of_Investments_63.csv\n",
      "[CIK==debugging:INFO] 3906/2002-06-30/Schedule_of_Investments_63.csv\n",
      "[CIK==debugging:INFO] 3906/2002-06-30/Schedule_of_Investments_63.csv\n",
      "[CIK==debugging:INFO] 3906/2002-06-30/Schedule_of_Investments_63.csv\n",
      "[CIK==debugging:INFO] 3906/2002-06-30/Schedule_of_Investments_63.csv\n",
      "[CIK==debugging:INFO] 3906/2002-06-30/Schedule_of_Investments_63.csv\n",
      "[CIK==debugging:INFO] 3906/2002-06-30/Schedule_of_Investments_63.csv\n",
      "[CIK==debugging:INFO] 3906/2002-06-30/Schedule_of_Investments_63.csv\n",
      "[CIK==debugging:INFO] 3906/2002-06-30/Schedule_of_Investments_63.csv\n",
      "[CIK==debugging:INFO] 3906/2002-06-30/Schedule_of_Investments_63.csv\n",
      "[CIK==debugging:INFO] 3906/2002-06-30/Schedule_of_Investments_63.csv\n",
      "[CIK==debugging:INFO] 3906/2002-06-30/Schedule_of_Investments_63.csv\n",
      "[CIK==debugging:INFO] 3906/2002-06-30/Schedule_of_Investments_63.csv\n",
      "[CIK==debugging:INFO] 3906/2002-06-30/Schedule_of_Investments_63.csv\n",
      "[CIK==debugging:INFO] 3906/2002-06-30/Schedule_of_Investments_63.csv\n",
      "[CIK==debugging:INFO] 3906/2002-06-30/Schedule_of_Investments_63.csv\n",
      "[CIK==debugging:INFO] 3906/2002-06-30/Schedule_of_Investments_63.csv\n",
      "[CIK==debugging:INFO] 3906/2002-06-30/Schedule_of_Investments_63.csv\n",
      "[CIK==debugging:INFO] 3906/2002-06-30/Schedule_of_Investments_63.csv\n",
      "[CIK==debugging:INFO] 3906/2002-06-30/Schedule_of_Investments_63.csv\n",
      "[CIK==debugging:INFO] 3906/2002-06-30/Schedule_of_Investments_63.csv\n"
     ]
    },
    {
     "name": "stderr",
     "output_type": "stream",
     "text": [
      "INFO:CIK==debugging:3906/2002-06-30/Schedule_of_Investments_63.csv\n",
      "WARNING:root:Applied processor reduces input query to empty string, all comparisons will have score 0. [Query: '']\n"
     ]
    },
    {
     "data": {
      "text/plain": [
       "0"
      ]
     },
     "metadata": {},
     "output_type": "display_data"
    },
    {
     "name": "stdout",
     "output_type": "stream",
     "text": [
      "[CIK==debugging:INFO] 3906/2002-06-30/Schedule_of_Investments_64.csv\n",
      "[CIK==debugging:INFO] 3906/2002-06-30/Schedule_of_Investments_64.csv\n",
      "[CIK==debugging:INFO] 3906/2002-06-30/Schedule_of_Investments_64.csv\n",
      "[CIK==debugging:INFO] 3906/2002-06-30/Schedule_of_Investments_64.csv\n",
      "[CIK==debugging:INFO] 3906/2002-06-30/Schedule_of_Investments_64.csv\n",
      "[CIK==debugging:INFO] 3906/2002-06-30/Schedule_of_Investments_64.csv\n",
      "[CIK==debugging:INFO] 3906/2002-06-30/Schedule_of_Investments_64.csv\n",
      "[CIK==debugging:INFO] 3906/2002-06-30/Schedule_of_Investments_64.csv\n",
      "[CIK==debugging:INFO] 3906/2002-06-30/Schedule_of_Investments_64.csv\n",
      "[CIK==debugging:INFO] 3906/2002-06-30/Schedule_of_Investments_64.csv\n",
      "[CIK==debugging:INFO] 3906/2002-06-30/Schedule_of_Investments_64.csv\n",
      "[CIK==debugging:INFO] 3906/2002-06-30/Schedule_of_Investments_64.csv\n",
      "[CIK==debugging:INFO] 3906/2002-06-30/Schedule_of_Investments_64.csv\n",
      "[CIK==debugging:INFO] 3906/2002-06-30/Schedule_of_Investments_64.csv\n",
      "[CIK==debugging:INFO] 3906/2002-06-30/Schedule_of_Investments_64.csv\n",
      "[CIK==debugging:INFO] 3906/2002-06-30/Schedule_of_Investments_64.csv\n",
      "[CIK==debugging:INFO] 3906/2002-06-30/Schedule_of_Investments_64.csv\n",
      "[CIK==debugging:INFO] 3906/2002-06-30/Schedule_of_Investments_64.csv\n",
      "[CIK==debugging:INFO] 3906/2002-06-30/Schedule_of_Investments_64.csv\n",
      "[CIK==debugging:INFO] 3906/2002-06-30/Schedule_of_Investments_64.csv\n",
      "[CIK==debugging:INFO] 3906/2002-06-30/Schedule_of_Investments_64.csv\n"
     ]
    },
    {
     "name": "stderr",
     "output_type": "stream",
     "text": [
      "INFO:CIK==debugging:3906/2002-06-30/Schedule_of_Investments_64.csv\n",
      "WARNING:root:Applied processor reduces input query to empty string, all comparisons will have score 0. [Query: '']\n",
      "WARNING:root:Applied processor reduces input query to empty string, all comparisons will have score 0. [Query: '']\n",
      "WARNING:root:Applied processor reduces input query to empty string, all comparisons will have score 0. [Query: '']\n",
      "WARNING:root:Applied processor reduces input query to empty string, all comparisons will have score 0. [Query: '']\n",
      "WARNING:root:Applied processor reduces input query to empty string, all comparisons will have score 0. [Query: '']\n",
      "WARNING:root:Applied processor reduces input query to empty string, all comparisons will have score 0. [Query: '']\n",
      "/home/tony/anaconda3/envs/sec/lib/python3.6/site-packages/ipykernel_launcher.py:191: SettingWithCopyWarning: \n",
      "A value is trying to be set on a copy of a slice from a DataFrame.\n",
      "Try using .loc[row_indexer,col_indexer] = value instead\n",
      "\n",
      "See the caveats in the documentation: https://pandas.pydata.org/pandas-docs/stable/user_guide/indexing.html#returning-a-view-versus-a-copy\n",
      "/home/tony/anaconda3/envs/sec/lib/python3.6/site-packages/ipykernel_launcher.py:232: DeprecationWarning: The default dtype for empty Series will be 'object' instead of 'float64' in a future version. Specify a dtype explicitly to silence this warning.\n"
     ]
    },
    {
     "data": {
      "text/plain": [
       "0"
      ]
     },
     "metadata": {},
     "output_type": "display_data"
    },
    {
     "name": "stdout",
     "output_type": "stream",
     "text": [
      "[CIK==debugging:INFO] 3906/2002-06-30/Schedule_of_Investments_65.csv\n",
      "[CIK==debugging:INFO] 3906/2002-06-30/Schedule_of_Investments_65.csv\n",
      "[CIK==debugging:INFO] 3906/2002-06-30/Schedule_of_Investments_65.csv\n",
      "[CIK==debugging:INFO] 3906/2002-06-30/Schedule_of_Investments_65.csv\n",
      "[CIK==debugging:INFO] 3906/2002-06-30/Schedule_of_Investments_65.csv\n",
      "[CIK==debugging:INFO] 3906/2002-06-30/Schedule_of_Investments_65.csv\n",
      "[CIK==debugging:INFO] 3906/2002-06-30/Schedule_of_Investments_65.csv\n",
      "[CIK==debugging:INFO] 3906/2002-06-30/Schedule_of_Investments_65.csv\n",
      "[CIK==debugging:INFO] 3906/2002-06-30/Schedule_of_Investments_65.csv\n",
      "[CIK==debugging:INFO] 3906/2002-06-30/Schedule_of_Investments_65.csv\n",
      "[CIK==debugging:INFO] 3906/2002-06-30/Schedule_of_Investments_65.csv\n",
      "[CIK==debugging:INFO] 3906/2002-06-30/Schedule_of_Investments_65.csv\n",
      "[CIK==debugging:INFO] 3906/2002-06-30/Schedule_of_Investments_65.csv\n",
      "[CIK==debugging:INFO] 3906/2002-06-30/Schedule_of_Investments_65.csv\n",
      "[CIK==debugging:INFO] 3906/2002-06-30/Schedule_of_Investments_65.csv\n",
      "[CIK==debugging:INFO] 3906/2002-06-30/Schedule_of_Investments_65.csv\n",
      "[CIK==debugging:INFO] 3906/2002-06-30/Schedule_of_Investments_65.csv\n",
      "[CIK==debugging:INFO] 3906/2002-06-30/Schedule_of_Investments_65.csv\n",
      "[CIK==debugging:INFO] 3906/2002-06-30/Schedule_of_Investments_65.csv\n",
      "[CIK==debugging:INFO] 3906/2002-06-30/Schedule_of_Investments_65.csv\n",
      "[CIK==debugging:INFO] 3906/2002-06-30/Schedule_of_Investments_65.csv\n"
     ]
    },
    {
     "name": "stderr",
     "output_type": "stream",
     "text": [
      "INFO:CIK==debugging:3906/2002-06-30/Schedule_of_Investments_65.csv\n",
      "WARNING:root:Applied processor reduces input query to empty string, all comparisons will have score 0. [Query: '']\n",
      "WARNING:root:Applied processor reduces input query to empty string, all comparisons will have score 0. [Query: '']\n",
      "WARNING:root:Applied processor reduces input query to empty string, all comparisons will have score 0. [Query: '']\n",
      "WARNING:root:Applied processor reduces input query to empty string, all comparisons will have score 0. [Query: '']\n",
      "WARNING:root:Applied processor reduces input query to empty string, all comparisons will have score 0. [Query: '']\n",
      "WARNING:root:Applied processor reduces input query to empty string, all comparisons will have score 0. [Query: '']\n",
      "WARNING:root:Applied processor reduces input query to empty string, all comparisons will have score 0. [Query: '']\n",
      "/home/tony/anaconda3/envs/sec/lib/python3.6/site-packages/ipykernel_launcher.py:191: SettingWithCopyWarning: \n",
      "A value is trying to be set on a copy of a slice from a DataFrame.\n",
      "Try using .loc[row_indexer,col_indexer] = value instead\n",
      "\n",
      "See the caveats in the documentation: https://pandas.pydata.org/pandas-docs/stable/user_guide/indexing.html#returning-a-view-versus-a-copy\n"
     ]
    },
    {
     "data": {
      "text/plain": [
       "0"
      ]
     },
     "metadata": {},
     "output_type": "display_data"
    },
    {
     "name": "stdout",
     "output_type": "stream",
     "text": [
      "[CIK==debugging:INFO] 3906/2002-06-30/Schedule_of_Investments_66.csv\n",
      "[CIK==debugging:INFO] 3906/2002-06-30/Schedule_of_Investments_66.csv\n",
      "[CIK==debugging:INFO] 3906/2002-06-30/Schedule_of_Investments_66.csv\n",
      "[CIK==debugging:INFO] 3906/2002-06-30/Schedule_of_Investments_66.csv\n",
      "[CIK==debugging:INFO] 3906/2002-06-30/Schedule_of_Investments_66.csv\n",
      "[CIK==debugging:INFO] 3906/2002-06-30/Schedule_of_Investments_66.csv\n",
      "[CIK==debugging:INFO] 3906/2002-06-30/Schedule_of_Investments_66.csv\n",
      "[CIK==debugging:INFO] 3906/2002-06-30/Schedule_of_Investments_66.csv\n",
      "[CIK==debugging:INFO] 3906/2002-06-30/Schedule_of_Investments_66.csv\n",
      "[CIK==debugging:INFO] 3906/2002-06-30/Schedule_of_Investments_66.csv\n",
      "[CIK==debugging:INFO] 3906/2002-06-30/Schedule_of_Investments_66.csv\n",
      "[CIK==debugging:INFO] 3906/2002-06-30/Schedule_of_Investments_66.csv\n",
      "[CIK==debugging:INFO] 3906/2002-06-30/Schedule_of_Investments_66.csv\n",
      "[CIK==debugging:INFO] 3906/2002-06-30/Schedule_of_Investments_66.csv\n",
      "[CIK==debugging:INFO] 3906/2002-06-30/Schedule_of_Investments_66.csv\n",
      "[CIK==debugging:INFO] 3906/2002-06-30/Schedule_of_Investments_66.csv\n",
      "[CIK==debugging:INFO] 3906/2002-06-30/Schedule_of_Investments_66.csv\n",
      "[CIK==debugging:INFO] 3906/2002-06-30/Schedule_of_Investments_66.csv\n",
      "[CIK==debugging:INFO] 3906/2002-06-30/Schedule_of_Investments_66.csv\n",
      "[CIK==debugging:INFO] 3906/2002-06-30/Schedule_of_Investments_66.csv\n",
      "[CIK==debugging:INFO] 3906/2002-06-30/Schedule_of_Investments_66.csv\n"
     ]
    },
    {
     "name": "stderr",
     "output_type": "stream",
     "text": [
      "INFO:CIK==debugging:3906/2002-06-30/Schedule_of_Investments_66.csv\n",
      "WARNING:root:Applied processor reduces input query to empty string, all comparisons will have score 0. [Query: '']\n",
      "WARNING:root:Applied processor reduces input query to empty string, all comparisons will have score 0. [Query: '']\n",
      "WARNING:root:Applied processor reduces input query to empty string, all comparisons will have score 0. [Query: '']\n",
      "WARNING:root:Applied processor reduces input query to empty string, all comparisons will have score 0. [Query: '']\n",
      "WARNING:root:Applied processor reduces input query to empty string, all comparisons will have score 0. [Query: '']\n",
      "WARNING:root:Applied processor reduces input query to empty string, all comparisons will have score 0. [Query: '']\n",
      "WARNING:root:Applied processor reduces input query to empty string, all comparisons will have score 0. [Query: '']\n",
      "/home/tony/anaconda3/envs/sec/lib/python3.6/site-packages/ipykernel_launcher.py:191: SettingWithCopyWarning: \n",
      "A value is trying to be set on a copy of a slice from a DataFrame.\n",
      "Try using .loc[row_indexer,col_indexer] = value instead\n",
      "\n",
      "See the caveats in the documentation: https://pandas.pydata.org/pandas-docs/stable/user_guide/indexing.html#returning-a-view-versus-a-copy\n"
     ]
    },
    {
     "data": {
      "text/plain": [
       "0"
      ]
     },
     "metadata": {},
     "output_type": "display_data"
    },
    {
     "name": "stdout",
     "output_type": "stream",
     "text": [
      "[CIK==debugging:INFO] 3906/2002-06-30/Schedule_of_Investments_67.csv\n",
      "[CIK==debugging:INFO] 3906/2002-06-30/Schedule_of_Investments_67.csv\n",
      "[CIK==debugging:INFO] 3906/2002-06-30/Schedule_of_Investments_67.csv\n",
      "[CIK==debugging:INFO] 3906/2002-06-30/Schedule_of_Investments_67.csv\n",
      "[CIK==debugging:INFO] 3906/2002-06-30/Schedule_of_Investments_67.csv\n",
      "[CIK==debugging:INFO] 3906/2002-06-30/Schedule_of_Investments_67.csv\n",
      "[CIK==debugging:INFO] 3906/2002-06-30/Schedule_of_Investments_67.csv\n",
      "[CIK==debugging:INFO] 3906/2002-06-30/Schedule_of_Investments_67.csv\n",
      "[CIK==debugging:INFO] 3906/2002-06-30/Schedule_of_Investments_67.csv\n",
      "[CIK==debugging:INFO] 3906/2002-06-30/Schedule_of_Investments_67.csv\n",
      "[CIK==debugging:INFO] 3906/2002-06-30/Schedule_of_Investments_67.csv\n",
      "[CIK==debugging:INFO] 3906/2002-06-30/Schedule_of_Investments_67.csv\n",
      "[CIK==debugging:INFO] 3906/2002-06-30/Schedule_of_Investments_67.csv\n",
      "[CIK==debugging:INFO] 3906/2002-06-30/Schedule_of_Investments_67.csv\n",
      "[CIK==debugging:INFO] 3906/2002-06-30/Schedule_of_Investments_67.csv\n",
      "[CIK==debugging:INFO] 3906/2002-06-30/Schedule_of_Investments_67.csv\n",
      "[CIK==debugging:INFO] 3906/2002-06-30/Schedule_of_Investments_67.csv\n",
      "[CIK==debugging:INFO] 3906/2002-06-30/Schedule_of_Investments_67.csv\n",
      "[CIK==debugging:INFO] 3906/2002-06-30/Schedule_of_Investments_67.csv\n",
      "[CIK==debugging:INFO] 3906/2002-06-30/Schedule_of_Investments_67.csv\n",
      "[CIK==debugging:INFO] 3906/2002-06-30/Schedule_of_Investments_67.csv\n"
     ]
    },
    {
     "name": "stderr",
     "output_type": "stream",
     "text": [
      "INFO:CIK==debugging:3906/2002-06-30/Schedule_of_Investments_67.csv\n",
      "WARNING:root:Applied processor reduces input query to empty string, all comparisons will have score 0. [Query: '']\n",
      "WARNING:root:Applied processor reduces input query to empty string, all comparisons will have score 0. [Query: '']\n",
      "WARNING:root:Applied processor reduces input query to empty string, all comparisons will have score 0. [Query: '']\n",
      "/home/tony/anaconda3/envs/sec/lib/python3.6/site-packages/ipykernel_launcher.py:191: SettingWithCopyWarning: \n",
      "A value is trying to be set on a copy of a slice from a DataFrame.\n",
      "Try using .loc[row_indexer,col_indexer] = value instead\n",
      "\n",
      "See the caveats in the documentation: https://pandas.pydata.org/pandas-docs/stable/user_guide/indexing.html#returning-a-view-versus-a-copy\n",
      "/home/tony/anaconda3/envs/sec/lib/python3.6/site-packages/ipykernel_launcher.py:232: DeprecationWarning: The default dtype for empty Series will be 'object' instead of 'float64' in a future version. Specify a dtype explicitly to silence this warning.\n"
     ]
    },
    {
     "data": {
      "text/plain": [
       "0"
      ]
     },
     "metadata": {},
     "output_type": "display_data"
    },
    {
     "name": "stdout",
     "output_type": "stream",
     "text": [
      "[CIK==debugging:INFO] 3906/2002-06-30/Schedule_of_Investments_68.csv\n",
      "[CIK==debugging:INFO] 3906/2002-06-30/Schedule_of_Investments_68.csv\n",
      "[CIK==debugging:INFO] 3906/2002-06-30/Schedule_of_Investments_68.csv\n",
      "[CIK==debugging:INFO] 3906/2002-06-30/Schedule_of_Investments_68.csv\n",
      "[CIK==debugging:INFO] 3906/2002-06-30/Schedule_of_Investments_68.csv\n",
      "[CIK==debugging:INFO] 3906/2002-06-30/Schedule_of_Investments_68.csv\n",
      "[CIK==debugging:INFO] 3906/2002-06-30/Schedule_of_Investments_68.csv\n",
      "[CIK==debugging:INFO] 3906/2002-06-30/Schedule_of_Investments_68.csv\n",
      "[CIK==debugging:INFO] 3906/2002-06-30/Schedule_of_Investments_68.csv\n",
      "[CIK==debugging:INFO] 3906/2002-06-30/Schedule_of_Investments_68.csv\n",
      "[CIK==debugging:INFO] 3906/2002-06-30/Schedule_of_Investments_68.csv\n",
      "[CIK==debugging:INFO] 3906/2002-06-30/Schedule_of_Investments_68.csv\n",
      "[CIK==debugging:INFO] 3906/2002-06-30/Schedule_of_Investments_68.csv\n",
      "[CIK==debugging:INFO] 3906/2002-06-30/Schedule_of_Investments_68.csv\n",
      "[CIK==debugging:INFO] 3906/2002-06-30/Schedule_of_Investments_68.csv\n",
      "[CIK==debugging:INFO] 3906/2002-06-30/Schedule_of_Investments_68.csv\n",
      "[CIK==debugging:INFO] 3906/2002-06-30/Schedule_of_Investments_68.csv\n",
      "[CIK==debugging:INFO] 3906/2002-06-30/Schedule_of_Investments_68.csv\n",
      "[CIK==debugging:INFO] 3906/2002-06-30/Schedule_of_Investments_68.csv\n",
      "[CIK==debugging:INFO] 3906/2002-06-30/Schedule_of_Investments_68.csv\n",
      "[CIK==debugging:INFO] 3906/2002-06-30/Schedule_of_Investments_68.csv\n"
     ]
    },
    {
     "name": "stderr",
     "output_type": "stream",
     "text": [
      "INFO:CIK==debugging:3906/2002-06-30/Schedule_of_Investments_68.csv\n",
      "WARNING:root:Applied processor reduces input query to empty string, all comparisons will have score 0. [Query: '']\n",
      "WARNING:root:Applied processor reduces input query to empty string, all comparisons will have score 0. [Query: '']\n",
      "WARNING:root:Applied processor reduces input query to empty string, all comparisons will have score 0. [Query: '']\n",
      "/home/tony/anaconda3/envs/sec/lib/python3.6/site-packages/ipykernel_launcher.py:191: SettingWithCopyWarning: \n",
      "A value is trying to be set on a copy of a slice from a DataFrame.\n",
      "Try using .loc[row_indexer,col_indexer] = value instead\n",
      "\n",
      "See the caveats in the documentation: https://pandas.pydata.org/pandas-docs/stable/user_guide/indexing.html#returning-a-view-versus-a-copy\n",
      "/home/tony/anaconda3/envs/sec/lib/python3.6/site-packages/ipykernel_launcher.py:232: DeprecationWarning: The default dtype for empty Series will be 'object' instead of 'float64' in a future version. Specify a dtype explicitly to silence this warning.\n"
     ]
    },
    {
     "data": {
      "text/plain": [
       "0"
      ]
     },
     "metadata": {},
     "output_type": "display_data"
    },
    {
     "name": "stdout",
     "output_type": "stream",
     "text": [
      "[CIK==debugging:INFO] 3906/2002-06-30/Schedule_of_Investments_69.csv\n",
      "[CIK==debugging:INFO] 3906/2002-06-30/Schedule_of_Investments_69.csv\n",
      "[CIK==debugging:INFO] 3906/2002-06-30/Schedule_of_Investments_69.csv\n",
      "[CIK==debugging:INFO] 3906/2002-06-30/Schedule_of_Investments_69.csv\n",
      "[CIK==debugging:INFO] 3906/2002-06-30/Schedule_of_Investments_69.csv\n",
      "[CIK==debugging:INFO] 3906/2002-06-30/Schedule_of_Investments_69.csv\n",
      "[CIK==debugging:INFO] 3906/2002-06-30/Schedule_of_Investments_69.csv\n",
      "[CIK==debugging:INFO] 3906/2002-06-30/Schedule_of_Investments_69.csv\n",
      "[CIK==debugging:INFO] 3906/2002-06-30/Schedule_of_Investments_69.csv\n",
      "[CIK==debugging:INFO] 3906/2002-06-30/Schedule_of_Investments_69.csv\n",
      "[CIK==debugging:INFO] 3906/2002-06-30/Schedule_of_Investments_69.csv\n",
      "[CIK==debugging:INFO] 3906/2002-06-30/Schedule_of_Investments_69.csv\n",
      "[CIK==debugging:INFO] 3906/2002-06-30/Schedule_of_Investments_69.csv\n",
      "[CIK==debugging:INFO] 3906/2002-06-30/Schedule_of_Investments_69.csv\n",
      "[CIK==debugging:INFO] 3906/2002-06-30/Schedule_of_Investments_69.csv\n",
      "[CIK==debugging:INFO] 3906/2002-06-30/Schedule_of_Investments_69.csv\n",
      "[CIK==debugging:INFO] 3906/2002-06-30/Schedule_of_Investments_69.csv\n",
      "[CIK==debugging:INFO] 3906/2002-06-30/Schedule_of_Investments_69.csv\n",
      "[CIK==debugging:INFO] 3906/2002-06-30/Schedule_of_Investments_69.csv\n",
      "[CIK==debugging:INFO] 3906/2002-06-30/Schedule_of_Investments_69.csv\n",
      "[CIK==debugging:INFO] 3906/2002-06-30/Schedule_of_Investments_69.csv\n"
     ]
    },
    {
     "name": "stderr",
     "output_type": "stream",
     "text": [
      "INFO:CIK==debugging:3906/2002-06-30/Schedule_of_Investments_69.csv\n",
      "WARNING:root:Applied processor reduces input query to empty string, all comparisons will have score 0. [Query: '']\n",
      "WARNING:root:Applied processor reduces input query to empty string, all comparisons will have score 0. [Query: '']\n",
      "WARNING:root:Applied processor reduces input query to empty string, all comparisons will have score 0. [Query: '']\n",
      "WARNING:root:Applied processor reduces input query to empty string, all comparisons will have score 0. [Query: '']\n",
      "WARNING:root:Applied processor reduces input query to empty string, all comparisons will have score 0. [Query: '']\n",
      "WARNING:root:Applied processor reduces input query to empty string, all comparisons will have score 0. [Query: '']\n",
      "WARNING:root:Applied processor reduces input query to empty string, all comparisons will have score 0. [Query: '']\n",
      "WARNING:root:Applied processor reduces input query to empty string, all comparisons will have score 0. [Query: '']\n",
      "WARNING:root:Applied processor reduces input query to empty string, all comparisons will have score 0. [Query: '']\n",
      "WARNING:root:Applied processor reduces input query to empty string, all comparisons will have score 0. [Query: '']\n",
      "WARNING:root:Applied processor reduces input query to empty string, all comparisons will have score 0. [Query: '']\n",
      "WARNING:root:Applied processor reduces input query to empty string, all comparisons will have score 0. [Query: '']\n",
      "WARNING:root:Applied processor reduces input query to empty string, all comparisons will have score 0. [Query: '']\n",
      "WARNING:root:Applied processor reduces input query to empty string, all comparisons will have score 0. [Query: '']\n",
      "WARNING:root:Applied processor reduces input query to empty string, all comparisons will have score 0. [Query: '']\n",
      "/home/tony/anaconda3/envs/sec/lib/python3.6/site-packages/ipykernel_launcher.py:191: SettingWithCopyWarning: \n",
      "A value is trying to be set on a copy of a slice from a DataFrame.\n",
      "Try using .loc[row_indexer,col_indexer] = value instead\n",
      "\n",
      "See the caveats in the documentation: https://pandas.pydata.org/pandas-docs/stable/user_guide/indexing.html#returning-a-view-versus-a-copy\n",
      "/home/tony/anaconda3/envs/sec/lib/python3.6/site-packages/ipykernel_launcher.py:232: DeprecationWarning: The default dtype for empty Series will be 'object' instead of 'float64' in a future version. Specify a dtype explicitly to silence this warning.\n"
     ]
    },
    {
     "data": {
      "text/plain": [
       "0"
      ]
     },
     "metadata": {},
     "output_type": "display_data"
    },
    {
     "name": "stdout",
     "output_type": "stream",
     "text": [
      "[CIK==debugging:INFO] 3906/2002-06-30/Schedule_of_Investments_70.csv\n",
      "[CIK==debugging:INFO] 3906/2002-06-30/Schedule_of_Investments_70.csv\n",
      "[CIK==debugging:INFO] 3906/2002-06-30/Schedule_of_Investments_70.csv\n",
      "[CIK==debugging:INFO] 3906/2002-06-30/Schedule_of_Investments_70.csv\n",
      "[CIK==debugging:INFO] 3906/2002-06-30/Schedule_of_Investments_70.csv\n",
      "[CIK==debugging:INFO] 3906/2002-06-30/Schedule_of_Investments_70.csv\n",
      "[CIK==debugging:INFO] 3906/2002-06-30/Schedule_of_Investments_70.csv\n",
      "[CIK==debugging:INFO] 3906/2002-06-30/Schedule_of_Investments_70.csv\n",
      "[CIK==debugging:INFO] 3906/2002-06-30/Schedule_of_Investments_70.csv\n",
      "[CIK==debugging:INFO] 3906/2002-06-30/Schedule_of_Investments_70.csv\n",
      "[CIK==debugging:INFO] 3906/2002-06-30/Schedule_of_Investments_70.csv\n",
      "[CIK==debugging:INFO] 3906/2002-06-30/Schedule_of_Investments_70.csv\n",
      "[CIK==debugging:INFO] 3906/2002-06-30/Schedule_of_Investments_70.csv\n",
      "[CIK==debugging:INFO] 3906/2002-06-30/Schedule_of_Investments_70.csv\n",
      "[CIK==debugging:INFO] 3906/2002-06-30/Schedule_of_Investments_70.csv\n",
      "[CIK==debugging:INFO] 3906/2002-06-30/Schedule_of_Investments_70.csv\n",
      "[CIK==debugging:INFO] 3906/2002-06-30/Schedule_of_Investments_70.csv\n",
      "[CIK==debugging:INFO] 3906/2002-06-30/Schedule_of_Investments_70.csv\n",
      "[CIK==debugging:INFO] 3906/2002-06-30/Schedule_of_Investments_70.csv\n",
      "[CIK==debugging:INFO] 3906/2002-06-30/Schedule_of_Investments_70.csv\n",
      "[CIK==debugging:INFO] 3906/2002-06-30/Schedule_of_Investments_70.csv\n"
     ]
    },
    {
     "name": "stderr",
     "output_type": "stream",
     "text": [
      "INFO:CIK==debugging:3906/2002-06-30/Schedule_of_Investments_70.csv\n",
      "WARNING:root:Applied processor reduces input query to empty string, all comparisons will have score 0. [Query: '']\n",
      "WARNING:root:Applied processor reduces input query to empty string, all comparisons will have score 0. [Query: '']\n",
      "WARNING:root:Applied processor reduces input query to empty string, all comparisons will have score 0. [Query: '']\n",
      "/home/tony/anaconda3/envs/sec/lib/python3.6/site-packages/ipykernel_launcher.py:191: SettingWithCopyWarning: \n",
      "A value is trying to be set on a copy of a slice from a DataFrame.\n",
      "Try using .loc[row_indexer,col_indexer] = value instead\n",
      "\n",
      "See the caveats in the documentation: https://pandas.pydata.org/pandas-docs/stable/user_guide/indexing.html#returning-a-view-versus-a-copy\n"
     ]
    },
    {
     "data": {
      "text/plain": [
       "0"
      ]
     },
     "metadata": {},
     "output_type": "display_data"
    },
    {
     "name": "stdout",
     "output_type": "stream",
     "text": [
      "[CIK==debugging:INFO] 3906/2002-06-30/Schedule_of_Investments_71.csv\n",
      "[CIK==debugging:INFO] 3906/2002-06-30/Schedule_of_Investments_71.csv\n",
      "[CIK==debugging:INFO] 3906/2002-06-30/Schedule_of_Investments_71.csv\n",
      "[CIK==debugging:INFO] 3906/2002-06-30/Schedule_of_Investments_71.csv\n",
      "[CIK==debugging:INFO] 3906/2002-06-30/Schedule_of_Investments_71.csv\n",
      "[CIK==debugging:INFO] 3906/2002-06-30/Schedule_of_Investments_71.csv\n",
      "[CIK==debugging:INFO] 3906/2002-06-30/Schedule_of_Investments_71.csv\n",
      "[CIK==debugging:INFO] 3906/2002-06-30/Schedule_of_Investments_71.csv\n",
      "[CIK==debugging:INFO] 3906/2002-06-30/Schedule_of_Investments_71.csv\n",
      "[CIK==debugging:INFO] 3906/2002-06-30/Schedule_of_Investments_71.csv\n",
      "[CIK==debugging:INFO] 3906/2002-06-30/Schedule_of_Investments_71.csv\n",
      "[CIK==debugging:INFO] 3906/2002-06-30/Schedule_of_Investments_71.csv\n",
      "[CIK==debugging:INFO] 3906/2002-06-30/Schedule_of_Investments_71.csv\n",
      "[CIK==debugging:INFO] 3906/2002-06-30/Schedule_of_Investments_71.csv\n",
      "[CIK==debugging:INFO] 3906/2002-06-30/Schedule_of_Investments_71.csv\n",
      "[CIK==debugging:INFO] 3906/2002-06-30/Schedule_of_Investments_71.csv\n",
      "[CIK==debugging:INFO] 3906/2002-06-30/Schedule_of_Investments_71.csv\n",
      "[CIK==debugging:INFO] 3906/2002-06-30/Schedule_of_Investments_71.csv\n",
      "[CIK==debugging:INFO] 3906/2002-06-30/Schedule_of_Investments_71.csv\n",
      "[CIK==debugging:INFO] 3906/2002-06-30/Schedule_of_Investments_71.csv\n",
      "[CIK==debugging:INFO] 3906/2002-06-30/Schedule_of_Investments_71.csv\n"
     ]
    },
    {
     "name": "stderr",
     "output_type": "stream",
     "text": [
      "INFO:CIK==debugging:3906/2002-06-30/Schedule_of_Investments_71.csv\n",
      "WARNING:root:Applied processor reduces input query to empty string, all comparisons will have score 0. [Query: '']\n"
     ]
    },
    {
     "data": {
      "text/plain": [
       "0"
      ]
     },
     "metadata": {},
     "output_type": "display_data"
    },
    {
     "name": "stdout",
     "output_type": "stream",
     "text": [
      "[CIK==debugging:INFO] 3906/2002-06-30/Schedule_of_Investments_72.csv\n",
      "[CIK==debugging:INFO] 3906/2002-06-30/Schedule_of_Investments_72.csv\n",
      "[CIK==debugging:INFO] 3906/2002-06-30/Schedule_of_Investments_72.csv\n",
      "[CIK==debugging:INFO] 3906/2002-06-30/Schedule_of_Investments_72.csv\n",
      "[CIK==debugging:INFO] 3906/2002-06-30/Schedule_of_Investments_72.csv\n",
      "[CIK==debugging:INFO] 3906/2002-06-30/Schedule_of_Investments_72.csv\n",
      "[CIK==debugging:INFO] 3906/2002-06-30/Schedule_of_Investments_72.csv\n",
      "[CIK==debugging:INFO] 3906/2002-06-30/Schedule_of_Investments_72.csv\n",
      "[CIK==debugging:INFO] 3906/2002-06-30/Schedule_of_Investments_72.csv\n",
      "[CIK==debugging:INFO] 3906/2002-06-30/Schedule_of_Investments_72.csv\n",
      "[CIK==debugging:INFO] 3906/2002-06-30/Schedule_of_Investments_72.csv\n",
      "[CIK==debugging:INFO] 3906/2002-06-30/Schedule_of_Investments_72.csv\n",
      "[CIK==debugging:INFO] 3906/2002-06-30/Schedule_of_Investments_72.csv\n",
      "[CIK==debugging:INFO] 3906/2002-06-30/Schedule_of_Investments_72.csv\n",
      "[CIK==debugging:INFO] 3906/2002-06-30/Schedule_of_Investments_72.csv\n",
      "[CIK==debugging:INFO] 3906/2002-06-30/Schedule_of_Investments_72.csv\n",
      "[CIK==debugging:INFO] 3906/2002-06-30/Schedule_of_Investments_72.csv\n",
      "[CIK==debugging:INFO] 3906/2002-06-30/Schedule_of_Investments_72.csv\n",
      "[CIK==debugging:INFO] 3906/2002-06-30/Schedule_of_Investments_72.csv\n",
      "[CIK==debugging:INFO] 3906/2002-06-30/Schedule_of_Investments_72.csv\n",
      "[CIK==debugging:INFO] 3906/2002-06-30/Schedule_of_Investments_72.csv\n"
     ]
    },
    {
     "name": "stderr",
     "output_type": "stream",
     "text": [
      "INFO:CIK==debugging:3906/2002-06-30/Schedule_of_Investments_72.csv\n",
      "WARNING:root:Applied processor reduces input query to empty string, all comparisons will have score 0. [Query: '']\n",
      "WARNING:root:Applied processor reduces input query to empty string, all comparisons will have score 0. [Query: '']\n",
      "WARNING:root:Applied processor reduces input query to empty string, all comparisons will have score 0. [Query: '']\n",
      "WARNING:root:Applied processor reduces input query to empty string, all comparisons will have score 0. [Query: '']\n",
      "WARNING:root:Applied processor reduces input query to empty string, all comparisons will have score 0. [Query: '']\n",
      "WARNING:root:Applied processor reduces input query to empty string, all comparisons will have score 0. [Query: '']\n",
      "WARNING:root:Applied processor reduces input query to empty string, all comparisons will have score 0. [Query: '']\n",
      "/home/tony/anaconda3/envs/sec/lib/python3.6/site-packages/ipykernel_launcher.py:191: SettingWithCopyWarning: \n",
      "A value is trying to be set on a copy of a slice from a DataFrame.\n",
      "Try using .loc[row_indexer,col_indexer] = value instead\n",
      "\n",
      "See the caveats in the documentation: https://pandas.pydata.org/pandas-docs/stable/user_guide/indexing.html#returning-a-view-versus-a-copy\n",
      "/home/tony/anaconda3/envs/sec/lib/python3.6/site-packages/ipykernel_launcher.py:232: DeprecationWarning: The default dtype for empty Series will be 'object' instead of 'float64' in a future version. Specify a dtype explicitly to silence this warning.\n"
     ]
    },
    {
     "data": {
      "text/plain": [
       "0"
      ]
     },
     "metadata": {},
     "output_type": "display_data"
    },
    {
     "name": "stdout",
     "output_type": "stream",
     "text": [
      "[CIK==debugging:INFO] 3906/2002-06-30/Schedule_of_Investments_73.csv\n",
      "[CIK==debugging:INFO] 3906/2002-06-30/Schedule_of_Investments_73.csv\n",
      "[CIK==debugging:INFO] 3906/2002-06-30/Schedule_of_Investments_73.csv\n",
      "[CIK==debugging:INFO] 3906/2002-06-30/Schedule_of_Investments_73.csv\n",
      "[CIK==debugging:INFO] 3906/2002-06-30/Schedule_of_Investments_73.csv\n",
      "[CIK==debugging:INFO] 3906/2002-06-30/Schedule_of_Investments_73.csv\n",
      "[CIK==debugging:INFO] 3906/2002-06-30/Schedule_of_Investments_73.csv\n",
      "[CIK==debugging:INFO] 3906/2002-06-30/Schedule_of_Investments_73.csv\n",
      "[CIK==debugging:INFO] 3906/2002-06-30/Schedule_of_Investments_73.csv\n",
      "[CIK==debugging:INFO] 3906/2002-06-30/Schedule_of_Investments_73.csv\n",
      "[CIK==debugging:INFO] 3906/2002-06-30/Schedule_of_Investments_73.csv\n",
      "[CIK==debugging:INFO] 3906/2002-06-30/Schedule_of_Investments_73.csv\n",
      "[CIK==debugging:INFO] 3906/2002-06-30/Schedule_of_Investments_73.csv\n",
      "[CIK==debugging:INFO] 3906/2002-06-30/Schedule_of_Investments_73.csv\n",
      "[CIK==debugging:INFO] 3906/2002-06-30/Schedule_of_Investments_73.csv\n",
      "[CIK==debugging:INFO] 3906/2002-06-30/Schedule_of_Investments_73.csv\n",
      "[CIK==debugging:INFO] 3906/2002-06-30/Schedule_of_Investments_73.csv\n",
      "[CIK==debugging:INFO] 3906/2002-06-30/Schedule_of_Investments_73.csv\n",
      "[CIK==debugging:INFO] 3906/2002-06-30/Schedule_of_Investments_73.csv\n",
      "[CIK==debugging:INFO] 3906/2002-06-30/Schedule_of_Investments_73.csv\n",
      "[CIK==debugging:INFO] 3906/2002-06-30/Schedule_of_Investments_73.csv\n"
     ]
    },
    {
     "name": "stderr",
     "output_type": "stream",
     "text": [
      "INFO:CIK==debugging:3906/2002-06-30/Schedule_of_Investments_73.csv\n",
      "WARNING:root:Applied processor reduces input query to empty string, all comparisons will have score 0. [Query: '']\n"
     ]
    },
    {
     "data": {
      "text/plain": [
       "0"
      ]
     },
     "metadata": {},
     "output_type": "display_data"
    },
    {
     "name": "stdout",
     "output_type": "stream",
     "text": [
      "[CIK==debugging:INFO] 3906/2002-06-30/Schedule_of_Investments_74.csv\n",
      "[CIK==debugging:INFO] 3906/2002-06-30/Schedule_of_Investments_74.csv\n",
      "[CIK==debugging:INFO] 3906/2002-06-30/Schedule_of_Investments_74.csv\n",
      "[CIK==debugging:INFO] 3906/2002-06-30/Schedule_of_Investments_74.csv\n",
      "[CIK==debugging:INFO] 3906/2002-06-30/Schedule_of_Investments_74.csv\n",
      "[CIK==debugging:INFO] 3906/2002-06-30/Schedule_of_Investments_74.csv\n",
      "[CIK==debugging:INFO] 3906/2002-06-30/Schedule_of_Investments_74.csv\n",
      "[CIK==debugging:INFO] 3906/2002-06-30/Schedule_of_Investments_74.csv\n",
      "[CIK==debugging:INFO] 3906/2002-06-30/Schedule_of_Investments_74.csv\n",
      "[CIK==debugging:INFO] 3906/2002-06-30/Schedule_of_Investments_74.csv\n",
      "[CIK==debugging:INFO] 3906/2002-06-30/Schedule_of_Investments_74.csv\n",
      "[CIK==debugging:INFO] 3906/2002-06-30/Schedule_of_Investments_74.csv\n",
      "[CIK==debugging:INFO] 3906/2002-06-30/Schedule_of_Investments_74.csv\n",
      "[CIK==debugging:INFO] 3906/2002-06-30/Schedule_of_Investments_74.csv\n",
      "[CIK==debugging:INFO] 3906/2002-06-30/Schedule_of_Investments_74.csv\n",
      "[CIK==debugging:INFO] 3906/2002-06-30/Schedule_of_Investments_74.csv\n",
      "[CIK==debugging:INFO] 3906/2002-06-30/Schedule_of_Investments_74.csv\n",
      "[CIK==debugging:INFO] 3906/2002-06-30/Schedule_of_Investments_74.csv\n",
      "[CIK==debugging:INFO] 3906/2002-06-30/Schedule_of_Investments_74.csv\n",
      "[CIK==debugging:INFO] 3906/2002-06-30/Schedule_of_Investments_74.csv\n",
      "[CIK==debugging:INFO] 3906/2002-06-30/Schedule_of_Investments_74.csv\n"
     ]
    },
    {
     "name": "stderr",
     "output_type": "stream",
     "text": [
      "INFO:CIK==debugging:3906/2002-06-30/Schedule_of_Investments_74.csv\n",
      "WARNING:root:Applied processor reduces input query to empty string, all comparisons will have score 0. [Query: '']\n"
     ]
    },
    {
     "data": {
      "text/plain": [
       "0"
      ]
     },
     "metadata": {},
     "output_type": "display_data"
    },
    {
     "name": "stdout",
     "output_type": "stream",
     "text": [
      "[CIK==debugging:INFO] 3906/2002-06-30/Schedule_of_Investments_75.csv\n",
      "[CIK==debugging:INFO] 3906/2002-06-30/Schedule_of_Investments_75.csv\n",
      "[CIK==debugging:INFO] 3906/2002-06-30/Schedule_of_Investments_75.csv\n",
      "[CIK==debugging:INFO] 3906/2002-06-30/Schedule_of_Investments_75.csv\n",
      "[CIK==debugging:INFO] 3906/2002-06-30/Schedule_of_Investments_75.csv\n",
      "[CIK==debugging:INFO] 3906/2002-06-30/Schedule_of_Investments_75.csv\n",
      "[CIK==debugging:INFO] 3906/2002-06-30/Schedule_of_Investments_75.csv\n",
      "[CIK==debugging:INFO] 3906/2002-06-30/Schedule_of_Investments_75.csv\n",
      "[CIK==debugging:INFO] 3906/2002-06-30/Schedule_of_Investments_75.csv\n",
      "[CIK==debugging:INFO] 3906/2002-06-30/Schedule_of_Investments_75.csv\n",
      "[CIK==debugging:INFO] 3906/2002-06-30/Schedule_of_Investments_75.csv\n",
      "[CIK==debugging:INFO] 3906/2002-06-30/Schedule_of_Investments_75.csv\n",
      "[CIK==debugging:INFO] 3906/2002-06-30/Schedule_of_Investments_75.csv\n",
      "[CIK==debugging:INFO] 3906/2002-06-30/Schedule_of_Investments_75.csv\n",
      "[CIK==debugging:INFO] 3906/2002-06-30/Schedule_of_Investments_75.csv\n",
      "[CIK==debugging:INFO] 3906/2002-06-30/Schedule_of_Investments_75.csv\n",
      "[CIK==debugging:INFO] 3906/2002-06-30/Schedule_of_Investments_75.csv\n",
      "[CIK==debugging:INFO] 3906/2002-06-30/Schedule_of_Investments_75.csv\n",
      "[CIK==debugging:INFO] 3906/2002-06-30/Schedule_of_Investments_75.csv\n",
      "[CIK==debugging:INFO] 3906/2002-06-30/Schedule_of_Investments_75.csv\n",
      "[CIK==debugging:INFO] 3906/2002-06-30/Schedule_of_Investments_75.csv\n"
     ]
    },
    {
     "name": "stderr",
     "output_type": "stream",
     "text": [
      "INFO:CIK==debugging:3906/2002-06-30/Schedule_of_Investments_75.csv\n",
      "WARNING:root:Applied processor reduces input query to empty string, all comparisons will have score 0. [Query: '']\n",
      "WARNING:root:Applied processor reduces input query to empty string, all comparisons will have score 0. [Query: '']\n",
      "WARNING:root:Applied processor reduces input query to empty string, all comparisons will have score 0. [Query: '']\n",
      "/home/tony/anaconda3/envs/sec/lib/python3.6/site-packages/ipykernel_launcher.py:191: SettingWithCopyWarning: \n",
      "A value is trying to be set on a copy of a slice from a DataFrame.\n",
      "Try using .loc[row_indexer,col_indexer] = value instead\n",
      "\n",
      "See the caveats in the documentation: https://pandas.pydata.org/pandas-docs/stable/user_guide/indexing.html#returning-a-view-versus-a-copy\n"
     ]
    },
    {
     "data": {
      "text/plain": [
       "0"
      ]
     },
     "metadata": {},
     "output_type": "display_data"
    },
    {
     "name": "stdout",
     "output_type": "stream",
     "text": [
      "[CIK==debugging:INFO] 3906/2002-06-30/Schedule_of_Investments_76.csv\n",
      "[CIK==debugging:INFO] 3906/2002-06-30/Schedule_of_Investments_76.csv\n",
      "[CIK==debugging:INFO] 3906/2002-06-30/Schedule_of_Investments_76.csv\n",
      "[CIK==debugging:INFO] 3906/2002-06-30/Schedule_of_Investments_76.csv\n",
      "[CIK==debugging:INFO] 3906/2002-06-30/Schedule_of_Investments_76.csv\n",
      "[CIK==debugging:INFO] 3906/2002-06-30/Schedule_of_Investments_76.csv\n",
      "[CIK==debugging:INFO] 3906/2002-06-30/Schedule_of_Investments_76.csv\n",
      "[CIK==debugging:INFO] 3906/2002-06-30/Schedule_of_Investments_76.csv\n",
      "[CIK==debugging:INFO] 3906/2002-06-30/Schedule_of_Investments_76.csv\n",
      "[CIK==debugging:INFO] 3906/2002-06-30/Schedule_of_Investments_76.csv\n",
      "[CIK==debugging:INFO] 3906/2002-06-30/Schedule_of_Investments_76.csv\n",
      "[CIK==debugging:INFO] 3906/2002-06-30/Schedule_of_Investments_76.csv\n",
      "[CIK==debugging:INFO] 3906/2002-06-30/Schedule_of_Investments_76.csv\n",
      "[CIK==debugging:INFO] 3906/2002-06-30/Schedule_of_Investments_76.csv\n",
      "[CIK==debugging:INFO] 3906/2002-06-30/Schedule_of_Investments_76.csv\n",
      "[CIK==debugging:INFO] 3906/2002-06-30/Schedule_of_Investments_76.csv\n",
      "[CIK==debugging:INFO] 3906/2002-06-30/Schedule_of_Investments_76.csv\n",
      "[CIK==debugging:INFO] 3906/2002-06-30/Schedule_of_Investments_76.csv\n",
      "[CIK==debugging:INFO] 3906/2002-06-30/Schedule_of_Investments_76.csv\n",
      "[CIK==debugging:INFO] 3906/2002-06-30/Schedule_of_Investments_76.csv\n",
      "[CIK==debugging:INFO] 3906/2002-06-30/Schedule_of_Investments_76.csv\n"
     ]
    },
    {
     "name": "stderr",
     "output_type": "stream",
     "text": [
      "INFO:CIK==debugging:3906/2002-06-30/Schedule_of_Investments_76.csv\n",
      "WARNING:root:Applied processor reduces input query to empty string, all comparisons will have score 0. [Query: '']\n"
     ]
    },
    {
     "data": {
      "text/plain": [
       "0"
      ]
     },
     "metadata": {},
     "output_type": "display_data"
    },
    {
     "name": "stdout",
     "output_type": "stream",
     "text": [
      "[CIK==debugging:INFO] 3906/2002-06-30/Schedule_of_Investments_77.csv\n",
      "[CIK==debugging:INFO] 3906/2002-06-30/Schedule_of_Investments_77.csv\n",
      "[CIK==debugging:INFO] 3906/2002-06-30/Schedule_of_Investments_77.csv\n",
      "[CIK==debugging:INFO] 3906/2002-06-30/Schedule_of_Investments_77.csv\n",
      "[CIK==debugging:INFO] 3906/2002-06-30/Schedule_of_Investments_77.csv\n",
      "[CIK==debugging:INFO] 3906/2002-06-30/Schedule_of_Investments_77.csv\n",
      "[CIK==debugging:INFO] 3906/2002-06-30/Schedule_of_Investments_77.csv\n",
      "[CIK==debugging:INFO] 3906/2002-06-30/Schedule_of_Investments_77.csv\n",
      "[CIK==debugging:INFO] 3906/2002-06-30/Schedule_of_Investments_77.csv\n",
      "[CIK==debugging:INFO] 3906/2002-06-30/Schedule_of_Investments_77.csv\n",
      "[CIK==debugging:INFO] 3906/2002-06-30/Schedule_of_Investments_77.csv\n",
      "[CIK==debugging:INFO] 3906/2002-06-30/Schedule_of_Investments_77.csv\n",
      "[CIK==debugging:INFO] 3906/2002-06-30/Schedule_of_Investments_77.csv\n",
      "[CIK==debugging:INFO] 3906/2002-06-30/Schedule_of_Investments_77.csv\n",
      "[CIK==debugging:INFO] 3906/2002-06-30/Schedule_of_Investments_77.csv\n",
      "[CIK==debugging:INFO] 3906/2002-06-30/Schedule_of_Investments_77.csv\n",
      "[CIK==debugging:INFO] 3906/2002-06-30/Schedule_of_Investments_77.csv\n",
      "[CIK==debugging:INFO] 3906/2002-06-30/Schedule_of_Investments_77.csv\n",
      "[CIK==debugging:INFO] 3906/2002-06-30/Schedule_of_Investments_77.csv\n",
      "[CIK==debugging:INFO] 3906/2002-06-30/Schedule_of_Investments_77.csv\n",
      "[CIK==debugging:INFO] 3906/2002-06-30/Schedule_of_Investments_77.csv\n"
     ]
    },
    {
     "name": "stderr",
     "output_type": "stream",
     "text": [
      "INFO:CIK==debugging:3906/2002-06-30/Schedule_of_Investments_77.csv\n",
      "WARNING:root:Applied processor reduces input query to empty string, all comparisons will have score 0. [Query: '']\n",
      "WARNING:root:Applied processor reduces input query to empty string, all comparisons will have score 0. [Query: '']\n",
      "WARNING:root:Applied processor reduces input query to empty string, all comparisons will have score 0. [Query: '']\n",
      "WARNING:root:Applied processor reduces input query to empty string, all comparisons will have score 0. [Query: '']\n",
      "WARNING:root:Applied processor reduces input query to empty string, all comparisons will have score 0. [Query: '']\n",
      "WARNING:root:Applied processor reduces input query to empty string, all comparisons will have score 0. [Query: '']\n",
      "WARNING:root:Applied processor reduces input query to empty string, all comparisons will have score 0. [Query: '']\n",
      "/home/tony/anaconda3/envs/sec/lib/python3.6/site-packages/ipykernel_launcher.py:191: SettingWithCopyWarning: \n",
      "A value is trying to be set on a copy of a slice from a DataFrame.\n",
      "Try using .loc[row_indexer,col_indexer] = value instead\n",
      "\n",
      "See the caveats in the documentation: https://pandas.pydata.org/pandas-docs/stable/user_guide/indexing.html#returning-a-view-versus-a-copy\n",
      "/home/tony/anaconda3/envs/sec/lib/python3.6/site-packages/ipykernel_launcher.py:232: DeprecationWarning: The default dtype for empty Series will be 'object' instead of 'float64' in a future version. Specify a dtype explicitly to silence this warning.\n"
     ]
    },
    {
     "data": {
      "text/plain": [
       "0"
      ]
     },
     "metadata": {},
     "output_type": "display_data"
    },
    {
     "name": "stdout",
     "output_type": "stream",
     "text": [
      "[CIK==debugging:INFO] 3906/2002-06-30/Schedule_of_Investments_78.csv\n",
      "[CIK==debugging:INFO] 3906/2002-06-30/Schedule_of_Investments_78.csv\n",
      "[CIK==debugging:INFO] 3906/2002-06-30/Schedule_of_Investments_78.csv\n",
      "[CIK==debugging:INFO] 3906/2002-06-30/Schedule_of_Investments_78.csv\n",
      "[CIK==debugging:INFO] 3906/2002-06-30/Schedule_of_Investments_78.csv\n",
      "[CIK==debugging:INFO] 3906/2002-06-30/Schedule_of_Investments_78.csv\n",
      "[CIK==debugging:INFO] 3906/2002-06-30/Schedule_of_Investments_78.csv\n",
      "[CIK==debugging:INFO] 3906/2002-06-30/Schedule_of_Investments_78.csv\n",
      "[CIK==debugging:INFO] 3906/2002-06-30/Schedule_of_Investments_78.csv\n",
      "[CIK==debugging:INFO] 3906/2002-06-30/Schedule_of_Investments_78.csv\n",
      "[CIK==debugging:INFO] 3906/2002-06-30/Schedule_of_Investments_78.csv\n",
      "[CIK==debugging:INFO] 3906/2002-06-30/Schedule_of_Investments_78.csv\n",
      "[CIK==debugging:INFO] 3906/2002-06-30/Schedule_of_Investments_78.csv\n",
      "[CIK==debugging:INFO] 3906/2002-06-30/Schedule_of_Investments_78.csv\n",
      "[CIK==debugging:INFO] 3906/2002-06-30/Schedule_of_Investments_78.csv\n",
      "[CIK==debugging:INFO] 3906/2002-06-30/Schedule_of_Investments_78.csv\n",
      "[CIK==debugging:INFO] 3906/2002-06-30/Schedule_of_Investments_78.csv\n",
      "[CIK==debugging:INFO] 3906/2002-06-30/Schedule_of_Investments_78.csv\n",
      "[CIK==debugging:INFO] 3906/2002-06-30/Schedule_of_Investments_78.csv\n",
      "[CIK==debugging:INFO] 3906/2002-06-30/Schedule_of_Investments_78.csv\n",
      "[CIK==debugging:INFO] 3906/2002-06-30/Schedule_of_Investments_78.csv\n"
     ]
    },
    {
     "name": "stderr",
     "output_type": "stream",
     "text": [
      "INFO:CIK==debugging:3906/2002-06-30/Schedule_of_Investments_78.csv\n",
      "WARNING:root:Applied processor reduces input query to empty string, all comparisons will have score 0. [Query: '']\n"
     ]
    },
    {
     "data": {
      "text/plain": [
       "0"
      ]
     },
     "metadata": {},
     "output_type": "display_data"
    },
    {
     "name": "stdout",
     "output_type": "stream",
     "text": [
      "[CIK==debugging:INFO] 3906/2002-06-30/Schedule_of_Investments_79.csv\n",
      "[CIK==debugging:INFO] 3906/2002-06-30/Schedule_of_Investments_79.csv\n",
      "[CIK==debugging:INFO] 3906/2002-06-30/Schedule_of_Investments_79.csv\n",
      "[CIK==debugging:INFO] 3906/2002-06-30/Schedule_of_Investments_79.csv\n",
      "[CIK==debugging:INFO] 3906/2002-06-30/Schedule_of_Investments_79.csv\n",
      "[CIK==debugging:INFO] 3906/2002-06-30/Schedule_of_Investments_79.csv\n",
      "[CIK==debugging:INFO] 3906/2002-06-30/Schedule_of_Investments_79.csv\n",
      "[CIK==debugging:INFO] 3906/2002-06-30/Schedule_of_Investments_79.csv\n",
      "[CIK==debugging:INFO] 3906/2002-06-30/Schedule_of_Investments_79.csv\n",
      "[CIK==debugging:INFO] 3906/2002-06-30/Schedule_of_Investments_79.csv\n",
      "[CIK==debugging:INFO] 3906/2002-06-30/Schedule_of_Investments_79.csv\n",
      "[CIK==debugging:INFO] 3906/2002-06-30/Schedule_of_Investments_79.csv\n",
      "[CIK==debugging:INFO] 3906/2002-06-30/Schedule_of_Investments_79.csv\n",
      "[CIK==debugging:INFO] 3906/2002-06-30/Schedule_of_Investments_79.csv\n",
      "[CIK==debugging:INFO] 3906/2002-06-30/Schedule_of_Investments_79.csv\n",
      "[CIK==debugging:INFO] 3906/2002-06-30/Schedule_of_Investments_79.csv\n",
      "[CIK==debugging:INFO] 3906/2002-06-30/Schedule_of_Investments_79.csv\n",
      "[CIK==debugging:INFO] 3906/2002-06-30/Schedule_of_Investments_79.csv\n",
      "[CIK==debugging:INFO] 3906/2002-06-30/Schedule_of_Investments_79.csv\n",
      "[CIK==debugging:INFO] 3906/2002-06-30/Schedule_of_Investments_79.csv\n",
      "[CIK==debugging:INFO] 3906/2002-06-30/Schedule_of_Investments_79.csv\n"
     ]
    },
    {
     "name": "stderr",
     "output_type": "stream",
     "text": [
      "INFO:CIK==debugging:3906/2002-06-30/Schedule_of_Investments_79.csv\n",
      "WARNING:root:Applied processor reduces input query to empty string, all comparisons will have score 0. [Query: '']\n"
     ]
    },
    {
     "data": {
      "text/plain": [
       "0"
      ]
     },
     "metadata": {},
     "output_type": "display_data"
    },
    {
     "name": "stdout",
     "output_type": "stream",
     "text": [
      "[CIK==debugging:INFO] 3906/2002-06-30/Schedule_of_Investments_80.csv\n",
      "[CIK==debugging:INFO] 3906/2002-06-30/Schedule_of_Investments_80.csv\n",
      "[CIK==debugging:INFO] 3906/2002-06-30/Schedule_of_Investments_80.csv\n",
      "[CIK==debugging:INFO] 3906/2002-06-30/Schedule_of_Investments_80.csv\n",
      "[CIK==debugging:INFO] 3906/2002-06-30/Schedule_of_Investments_80.csv\n",
      "[CIK==debugging:INFO] 3906/2002-06-30/Schedule_of_Investments_80.csv\n",
      "[CIK==debugging:INFO] 3906/2002-06-30/Schedule_of_Investments_80.csv\n",
      "[CIK==debugging:INFO] 3906/2002-06-30/Schedule_of_Investments_80.csv\n",
      "[CIK==debugging:INFO] 3906/2002-06-30/Schedule_of_Investments_80.csv\n",
      "[CIK==debugging:INFO] 3906/2002-06-30/Schedule_of_Investments_80.csv\n",
      "[CIK==debugging:INFO] 3906/2002-06-30/Schedule_of_Investments_80.csv\n",
      "[CIK==debugging:INFO] 3906/2002-06-30/Schedule_of_Investments_80.csv\n",
      "[CIK==debugging:INFO] 3906/2002-06-30/Schedule_of_Investments_80.csv\n",
      "[CIK==debugging:INFO] 3906/2002-06-30/Schedule_of_Investments_80.csv\n",
      "[CIK==debugging:INFO] 3906/2002-06-30/Schedule_of_Investments_80.csv\n",
      "[CIK==debugging:INFO] 3906/2002-06-30/Schedule_of_Investments_80.csv\n",
      "[CIK==debugging:INFO] 3906/2002-06-30/Schedule_of_Investments_80.csv\n",
      "[CIK==debugging:INFO] 3906/2002-06-30/Schedule_of_Investments_80.csv\n",
      "[CIK==debugging:INFO] 3906/2002-06-30/Schedule_of_Investments_80.csv\n",
      "[CIK==debugging:INFO] 3906/2002-06-30/Schedule_of_Investments_80.csv\n",
      "[CIK==debugging:INFO] 3906/2002-06-30/Schedule_of_Investments_80.csv\n"
     ]
    },
    {
     "name": "stderr",
     "output_type": "stream",
     "text": [
      "INFO:CIK==debugging:3906/2002-06-30/Schedule_of_Investments_80.csv\n",
      "WARNING:root:Applied processor reduces input query to empty string, all comparisons will have score 0. [Query: '']\n",
      "WARNING:root:Applied processor reduces input query to empty string, all comparisons will have score 0. [Query: '']\n",
      "WARNING:root:Applied processor reduces input query to empty string, all comparisons will have score 0. [Query: '']\n",
      "WARNING:root:Applied processor reduces input query to empty string, all comparisons will have score 0. [Query: '']\n",
      "WARNING:root:Applied processor reduces input query to empty string, all comparisons will have score 0. [Query: '']\n",
      "WARNING:root:Applied processor reduces input query to empty string, all comparisons will have score 0. [Query: '']\n",
      "/home/tony/anaconda3/envs/sec/lib/python3.6/site-packages/ipykernel_launcher.py:191: SettingWithCopyWarning: \n",
      "A value is trying to be set on a copy of a slice from a DataFrame.\n",
      "Try using .loc[row_indexer,col_indexer] = value instead\n",
      "\n",
      "See the caveats in the documentation: https://pandas.pydata.org/pandas-docs/stable/user_guide/indexing.html#returning-a-view-versus-a-copy\n"
     ]
    },
    {
     "data": {
      "text/plain": [
       "0"
      ]
     },
     "metadata": {},
     "output_type": "display_data"
    },
    {
     "name": "stdout",
     "output_type": "stream",
     "text": [
      "[CIK==debugging:INFO] 3906/2002-06-30/Schedule_of_Investments_81.csv\n",
      "[CIK==debugging:INFO] 3906/2002-06-30/Schedule_of_Investments_81.csv\n",
      "[CIK==debugging:INFO] 3906/2002-06-30/Schedule_of_Investments_81.csv\n",
      "[CIK==debugging:INFO] 3906/2002-06-30/Schedule_of_Investments_81.csv\n",
      "[CIK==debugging:INFO] 3906/2002-06-30/Schedule_of_Investments_81.csv\n",
      "[CIK==debugging:INFO] 3906/2002-06-30/Schedule_of_Investments_81.csv\n",
      "[CIK==debugging:INFO] 3906/2002-06-30/Schedule_of_Investments_81.csv\n",
      "[CIK==debugging:INFO] 3906/2002-06-30/Schedule_of_Investments_81.csv\n",
      "[CIK==debugging:INFO] 3906/2002-06-30/Schedule_of_Investments_81.csv\n",
      "[CIK==debugging:INFO] 3906/2002-06-30/Schedule_of_Investments_81.csv\n",
      "[CIK==debugging:INFO] 3906/2002-06-30/Schedule_of_Investments_81.csv\n",
      "[CIK==debugging:INFO] 3906/2002-06-30/Schedule_of_Investments_81.csv\n",
      "[CIK==debugging:INFO] 3906/2002-06-30/Schedule_of_Investments_81.csv\n",
      "[CIK==debugging:INFO] 3906/2002-06-30/Schedule_of_Investments_81.csv\n",
      "[CIK==debugging:INFO] 3906/2002-06-30/Schedule_of_Investments_81.csv\n",
      "[CIK==debugging:INFO] 3906/2002-06-30/Schedule_of_Investments_81.csv\n",
      "[CIK==debugging:INFO] 3906/2002-06-30/Schedule_of_Investments_81.csv\n",
      "[CIK==debugging:INFO] 3906/2002-06-30/Schedule_of_Investments_81.csv\n",
      "[CIK==debugging:INFO] 3906/2002-06-30/Schedule_of_Investments_81.csv\n",
      "[CIK==debugging:INFO] 3906/2002-06-30/Schedule_of_Investments_81.csv\n",
      "[CIK==debugging:INFO] 3906/2002-06-30/Schedule_of_Investments_81.csv\n"
     ]
    },
    {
     "name": "stderr",
     "output_type": "stream",
     "text": [
      "INFO:CIK==debugging:3906/2002-06-30/Schedule_of_Investments_81.csv\n",
      "WARNING:root:Applied processor reduces input query to empty string, all comparisons will have score 0. [Query: '']\n",
      "WARNING:root:Applied processor reduces input query to empty string, all comparisons will have score 0. [Query: '']\n",
      "WARNING:root:Applied processor reduces input query to empty string, all comparisons will have score 0. [Query: '']\n",
      "WARNING:root:Applied processor reduces input query to empty string, all comparisons will have score 0. [Query: '']\n",
      "WARNING:root:Applied processor reduces input query to empty string, all comparisons will have score 0. [Query: '']\n",
      "/home/tony/anaconda3/envs/sec/lib/python3.6/site-packages/ipykernel_launcher.py:191: SettingWithCopyWarning: \n",
      "A value is trying to be set on a copy of a slice from a DataFrame.\n",
      "Try using .loc[row_indexer,col_indexer] = value instead\n",
      "\n",
      "See the caveats in the documentation: https://pandas.pydata.org/pandas-docs/stable/user_guide/indexing.html#returning-a-view-versus-a-copy\n"
     ]
    },
    {
     "data": {
      "text/plain": [
       "0"
      ]
     },
     "metadata": {},
     "output_type": "display_data"
    },
    {
     "name": "stdout",
     "output_type": "stream",
     "text": [
      "[CIK==debugging:INFO] 3906/2002-06-30/Schedule_of_Investments_82.csv\n",
      "[CIK==debugging:INFO] 3906/2002-06-30/Schedule_of_Investments_82.csv\n",
      "[CIK==debugging:INFO] 3906/2002-06-30/Schedule_of_Investments_82.csv\n",
      "[CIK==debugging:INFO] 3906/2002-06-30/Schedule_of_Investments_82.csv\n",
      "[CIK==debugging:INFO] 3906/2002-06-30/Schedule_of_Investments_82.csv\n",
      "[CIK==debugging:INFO] 3906/2002-06-30/Schedule_of_Investments_82.csv\n",
      "[CIK==debugging:INFO] 3906/2002-06-30/Schedule_of_Investments_82.csv\n",
      "[CIK==debugging:INFO] 3906/2002-06-30/Schedule_of_Investments_82.csv\n",
      "[CIK==debugging:INFO] 3906/2002-06-30/Schedule_of_Investments_82.csv\n",
      "[CIK==debugging:INFO] 3906/2002-06-30/Schedule_of_Investments_82.csv\n",
      "[CIK==debugging:INFO] 3906/2002-06-30/Schedule_of_Investments_82.csv\n",
      "[CIK==debugging:INFO] 3906/2002-06-30/Schedule_of_Investments_82.csv\n",
      "[CIK==debugging:INFO] 3906/2002-06-30/Schedule_of_Investments_82.csv\n",
      "[CIK==debugging:INFO] 3906/2002-06-30/Schedule_of_Investments_82.csv\n",
      "[CIK==debugging:INFO] 3906/2002-06-30/Schedule_of_Investments_82.csv\n",
      "[CIK==debugging:INFO] 3906/2002-06-30/Schedule_of_Investments_82.csv\n",
      "[CIK==debugging:INFO] 3906/2002-06-30/Schedule_of_Investments_82.csv\n",
      "[CIK==debugging:INFO] 3906/2002-06-30/Schedule_of_Investments_82.csv\n",
      "[CIK==debugging:INFO] 3906/2002-06-30/Schedule_of_Investments_82.csv\n",
      "[CIK==debugging:INFO] 3906/2002-06-30/Schedule_of_Investments_82.csv\n",
      "[CIK==debugging:INFO] 3906/2002-06-30/Schedule_of_Investments_82.csv\n"
     ]
    },
    {
     "name": "stderr",
     "output_type": "stream",
     "text": [
      "INFO:CIK==debugging:3906/2002-06-30/Schedule_of_Investments_82.csv\n",
      "WARNING:root:Applied processor reduces input query to empty string, all comparisons will have score 0. [Query: '']\n",
      "WARNING:root:Applied processor reduces input query to empty string, all comparisons will have score 0. [Query: '']\n",
      "WARNING:root:Applied processor reduces input query to empty string, all comparisons will have score 0. [Query: '']\n",
      "WARNING:root:Applied processor reduces input query to empty string, all comparisons will have score 0. [Query: '']\n",
      "WARNING:root:Applied processor reduces input query to empty string, all comparisons will have score 0. [Query: '']\n"
     ]
    },
    {
     "data": {
      "text/plain": [
       "0"
      ]
     },
     "metadata": {},
     "output_type": "display_data"
    },
    {
     "name": "stdout",
     "output_type": "stream",
     "text": [
      "[CIK==debugging:INFO] 3906/2002-06-30/Schedule_of_Investments_83.csv\n",
      "[CIK==debugging:INFO] 3906/2002-06-30/Schedule_of_Investments_83.csv\n",
      "[CIK==debugging:INFO] 3906/2002-06-30/Schedule_of_Investments_83.csv\n",
      "[CIK==debugging:INFO] 3906/2002-06-30/Schedule_of_Investments_83.csv\n",
      "[CIK==debugging:INFO] 3906/2002-06-30/Schedule_of_Investments_83.csv\n",
      "[CIK==debugging:INFO] 3906/2002-06-30/Schedule_of_Investments_83.csv\n",
      "[CIK==debugging:INFO] 3906/2002-06-30/Schedule_of_Investments_83.csv\n",
      "[CIK==debugging:INFO] 3906/2002-06-30/Schedule_of_Investments_83.csv\n",
      "[CIK==debugging:INFO] 3906/2002-06-30/Schedule_of_Investments_83.csv\n",
      "[CIK==debugging:INFO] 3906/2002-06-30/Schedule_of_Investments_83.csv\n",
      "[CIK==debugging:INFO] 3906/2002-06-30/Schedule_of_Investments_83.csv\n",
      "[CIK==debugging:INFO] 3906/2002-06-30/Schedule_of_Investments_83.csv\n",
      "[CIK==debugging:INFO] 3906/2002-06-30/Schedule_of_Investments_83.csv\n",
      "[CIK==debugging:INFO] 3906/2002-06-30/Schedule_of_Investments_83.csv\n",
      "[CIK==debugging:INFO] 3906/2002-06-30/Schedule_of_Investments_83.csv\n",
      "[CIK==debugging:INFO] 3906/2002-06-30/Schedule_of_Investments_83.csv\n",
      "[CIK==debugging:INFO] 3906/2002-06-30/Schedule_of_Investments_83.csv\n",
      "[CIK==debugging:INFO] 3906/2002-06-30/Schedule_of_Investments_83.csv\n",
      "[CIK==debugging:INFO] 3906/2002-06-30/Schedule_of_Investments_83.csv\n",
      "[CIK==debugging:INFO] 3906/2002-06-30/Schedule_of_Investments_83.csv\n",
      "[CIK==debugging:INFO] 3906/2002-06-30/Schedule_of_Investments_83.csv\n"
     ]
    },
    {
     "name": "stderr",
     "output_type": "stream",
     "text": [
      "INFO:CIK==debugging:3906/2002-06-30/Schedule_of_Investments_83.csv\n",
      "WARNING:root:Applied processor reduces input query to empty string, all comparisons will have score 0. [Query: '']\n",
      "WARNING:root:Applied processor reduces input query to empty string, all comparisons will have score 0. [Query: '']\n",
      "WARNING:root:Applied processor reduces input query to empty string, all comparisons will have score 0. [Query: '']\n",
      "/home/tony/anaconda3/envs/sec/lib/python3.6/site-packages/ipykernel_launcher.py:191: SettingWithCopyWarning: \n",
      "A value is trying to be set on a copy of a slice from a DataFrame.\n",
      "Try using .loc[row_indexer,col_indexer] = value instead\n",
      "\n",
      "See the caveats in the documentation: https://pandas.pydata.org/pandas-docs/stable/user_guide/indexing.html#returning-a-view-versus-a-copy\n",
      "/home/tony/anaconda3/envs/sec/lib/python3.6/site-packages/ipykernel_launcher.py:232: DeprecationWarning: The default dtype for empty Series will be 'object' instead of 'float64' in a future version. Specify a dtype explicitly to silence this warning.\n"
     ]
    },
    {
     "data": {
      "text/plain": [
       "0"
      ]
     },
     "metadata": {},
     "output_type": "display_data"
    },
    {
     "name": "stdout",
     "output_type": "stream",
     "text": [
      "[CIK==debugging:INFO] 3906/2002-06-30/Schedule_of_Investments_84.csv\n",
      "[CIK==debugging:INFO] 3906/2002-06-30/Schedule_of_Investments_84.csv\n",
      "[CIK==debugging:INFO] 3906/2002-06-30/Schedule_of_Investments_84.csv\n",
      "[CIK==debugging:INFO] 3906/2002-06-30/Schedule_of_Investments_84.csv\n",
      "[CIK==debugging:INFO] 3906/2002-06-30/Schedule_of_Investments_84.csv\n",
      "[CIK==debugging:INFO] 3906/2002-06-30/Schedule_of_Investments_84.csv\n",
      "[CIK==debugging:INFO] 3906/2002-06-30/Schedule_of_Investments_84.csv\n",
      "[CIK==debugging:INFO] 3906/2002-06-30/Schedule_of_Investments_84.csv\n",
      "[CIK==debugging:INFO] 3906/2002-06-30/Schedule_of_Investments_84.csv\n",
      "[CIK==debugging:INFO] 3906/2002-06-30/Schedule_of_Investments_84.csv\n",
      "[CIK==debugging:INFO] 3906/2002-06-30/Schedule_of_Investments_84.csv\n",
      "[CIK==debugging:INFO] 3906/2002-06-30/Schedule_of_Investments_84.csv\n",
      "[CIK==debugging:INFO] 3906/2002-06-30/Schedule_of_Investments_84.csv\n",
      "[CIK==debugging:INFO] 3906/2002-06-30/Schedule_of_Investments_84.csv\n",
      "[CIK==debugging:INFO] 3906/2002-06-30/Schedule_of_Investments_84.csv\n",
      "[CIK==debugging:INFO] 3906/2002-06-30/Schedule_of_Investments_84.csv\n",
      "[CIK==debugging:INFO] 3906/2002-06-30/Schedule_of_Investments_84.csv\n",
      "[CIK==debugging:INFO] 3906/2002-06-30/Schedule_of_Investments_84.csv\n",
      "[CIK==debugging:INFO] 3906/2002-06-30/Schedule_of_Investments_84.csv\n",
      "[CIK==debugging:INFO] 3906/2002-06-30/Schedule_of_Investments_84.csv\n",
      "[CIK==debugging:INFO] 3906/2002-06-30/Schedule_of_Investments_84.csv\n"
     ]
    },
    {
     "name": "stderr",
     "output_type": "stream",
     "text": [
      "INFO:CIK==debugging:3906/2002-06-30/Schedule_of_Investments_84.csv\n"
     ]
    },
    {
     "data": {
      "text/plain": [
       "0.0"
      ]
     },
     "metadata": {},
     "output_type": "display_data"
    },
    {
     "name": "stdout",
     "output_type": "stream",
     "text": [
      "[CIK==debugging:INFO] 3906/2002-06-30/Schedule_of_Investments_85.csv\n",
      "[CIK==debugging:INFO] 3906/2002-06-30/Schedule_of_Investments_85.csv\n",
      "[CIK==debugging:INFO] 3906/2002-06-30/Schedule_of_Investments_85.csv\n",
      "[CIK==debugging:INFO] 3906/2002-06-30/Schedule_of_Investments_85.csv\n",
      "[CIK==debugging:INFO] 3906/2002-06-30/Schedule_of_Investments_85.csv\n",
      "[CIK==debugging:INFO] 3906/2002-06-30/Schedule_of_Investments_85.csv\n",
      "[CIK==debugging:INFO] 3906/2002-06-30/Schedule_of_Investments_85.csv\n",
      "[CIK==debugging:INFO] 3906/2002-06-30/Schedule_of_Investments_85.csv\n",
      "[CIK==debugging:INFO] 3906/2002-06-30/Schedule_of_Investments_85.csv\n",
      "[CIK==debugging:INFO] 3906/2002-06-30/Schedule_of_Investments_85.csv\n",
      "[CIK==debugging:INFO] 3906/2002-06-30/Schedule_of_Investments_85.csv\n",
      "[CIK==debugging:INFO] 3906/2002-06-30/Schedule_of_Investments_85.csv\n",
      "[CIK==debugging:INFO] 3906/2002-06-30/Schedule_of_Investments_85.csv\n",
      "[CIK==debugging:INFO] 3906/2002-06-30/Schedule_of_Investments_85.csv\n",
      "[CIK==debugging:INFO] 3906/2002-06-30/Schedule_of_Investments_85.csv\n",
      "[CIK==debugging:INFO] 3906/2002-06-30/Schedule_of_Investments_85.csv\n",
      "[CIK==debugging:INFO] 3906/2002-06-30/Schedule_of_Investments_85.csv\n",
      "[CIK==debugging:INFO] 3906/2002-06-30/Schedule_of_Investments_85.csv\n",
      "[CIK==debugging:INFO] 3906/2002-06-30/Schedule_of_Investments_85.csv\n",
      "[CIK==debugging:INFO] 3906/2002-06-30/Schedule_of_Investments_85.csv\n",
      "[CIK==debugging:INFO] 3906/2002-06-30/Schedule_of_Investments_85.csv\n"
     ]
    },
    {
     "name": "stderr",
     "output_type": "stream",
     "text": [
      "INFO:CIK==debugging:3906/2002-06-30/Schedule_of_Investments_85.csv\n"
     ]
    },
    {
     "data": {
      "text/plain": [
       "0.0"
      ]
     },
     "metadata": {},
     "output_type": "display_data"
    },
    {
     "name": "stdout",
     "output_type": "stream",
     "text": [
      "[CIK==debugging:INFO] 3906/2002-06-30/Schedule_of_Investments_86.csv\n",
      "[CIK==debugging:INFO] 3906/2002-06-30/Schedule_of_Investments_86.csv\n",
      "[CIK==debugging:INFO] 3906/2002-06-30/Schedule_of_Investments_86.csv\n",
      "[CIK==debugging:INFO] 3906/2002-06-30/Schedule_of_Investments_86.csv\n",
      "[CIK==debugging:INFO] 3906/2002-06-30/Schedule_of_Investments_86.csv\n",
      "[CIK==debugging:INFO] 3906/2002-06-30/Schedule_of_Investments_86.csv\n",
      "[CIK==debugging:INFO] 3906/2002-06-30/Schedule_of_Investments_86.csv\n",
      "[CIK==debugging:INFO] 3906/2002-06-30/Schedule_of_Investments_86.csv\n",
      "[CIK==debugging:INFO] 3906/2002-06-30/Schedule_of_Investments_86.csv\n",
      "[CIK==debugging:INFO] 3906/2002-06-30/Schedule_of_Investments_86.csv\n",
      "[CIK==debugging:INFO] 3906/2002-06-30/Schedule_of_Investments_86.csv\n",
      "[CIK==debugging:INFO] 3906/2002-06-30/Schedule_of_Investments_86.csv\n",
      "[CIK==debugging:INFO] 3906/2002-06-30/Schedule_of_Investments_86.csv\n",
      "[CIK==debugging:INFO] 3906/2002-06-30/Schedule_of_Investments_86.csv\n",
      "[CIK==debugging:INFO] 3906/2002-06-30/Schedule_of_Investments_86.csv\n",
      "[CIK==debugging:INFO] 3906/2002-06-30/Schedule_of_Investments_86.csv\n",
      "[CIK==debugging:INFO] 3906/2002-06-30/Schedule_of_Investments_86.csv\n",
      "[CIK==debugging:INFO] 3906/2002-06-30/Schedule_of_Investments_86.csv\n",
      "[CIK==debugging:INFO] 3906/2002-06-30/Schedule_of_Investments_86.csv\n",
      "[CIK==debugging:INFO] 3906/2002-06-30/Schedule_of_Investments_86.csv\n",
      "[CIK==debugging:INFO] 3906/2002-06-30/Schedule_of_Investments_86.csv\n"
     ]
    },
    {
     "name": "stderr",
     "output_type": "stream",
     "text": [
      "INFO:CIK==debugging:3906/2002-06-30/Schedule_of_Investments_86.csv\n",
      "WARNING:root:Applied processor reduces input query to empty string, all comparisons will have score 0. [Query: '']\n",
      "/home/tony/anaconda3/envs/sec/lib/python3.6/site-packages/ipykernel_launcher.py:232: DeprecationWarning: The default dtype for empty Series will be 'object' instead of 'float64' in a future version. Specify a dtype explicitly to silence this warning.\n"
     ]
    },
    {
     "data": {
      "text/plain": [
       "0"
      ]
     },
     "metadata": {},
     "output_type": "display_data"
    },
    {
     "name": "stdout",
     "output_type": "stream",
     "text": [
      "[CIK==debugging:INFO] 3906/2002-06-30/Schedule_of_Investments_87.csv\n",
      "[CIK==debugging:INFO] 3906/2002-06-30/Schedule_of_Investments_87.csv\n",
      "[CIK==debugging:INFO] 3906/2002-06-30/Schedule_of_Investments_87.csv\n",
      "[CIK==debugging:INFO] 3906/2002-06-30/Schedule_of_Investments_87.csv\n",
      "[CIK==debugging:INFO] 3906/2002-06-30/Schedule_of_Investments_87.csv\n",
      "[CIK==debugging:INFO] 3906/2002-06-30/Schedule_of_Investments_87.csv\n",
      "[CIK==debugging:INFO] 3906/2002-06-30/Schedule_of_Investments_87.csv\n",
      "[CIK==debugging:INFO] 3906/2002-06-30/Schedule_of_Investments_87.csv\n",
      "[CIK==debugging:INFO] 3906/2002-06-30/Schedule_of_Investments_87.csv\n",
      "[CIK==debugging:INFO] 3906/2002-06-30/Schedule_of_Investments_87.csv\n",
      "[CIK==debugging:INFO] 3906/2002-06-30/Schedule_of_Investments_87.csv\n",
      "[CIK==debugging:INFO] 3906/2002-06-30/Schedule_of_Investments_87.csv\n",
      "[CIK==debugging:INFO] 3906/2002-06-30/Schedule_of_Investments_87.csv\n",
      "[CIK==debugging:INFO] 3906/2002-06-30/Schedule_of_Investments_87.csv\n",
      "[CIK==debugging:INFO] 3906/2002-06-30/Schedule_of_Investments_87.csv\n",
      "[CIK==debugging:INFO] 3906/2002-06-30/Schedule_of_Investments_87.csv\n",
      "[CIK==debugging:INFO] 3906/2002-06-30/Schedule_of_Investments_87.csv\n",
      "[CIK==debugging:INFO] 3906/2002-06-30/Schedule_of_Investments_87.csv\n",
      "[CIK==debugging:INFO] 3906/2002-06-30/Schedule_of_Investments_87.csv\n",
      "[CIK==debugging:INFO] 3906/2002-06-30/Schedule_of_Investments_87.csv\n",
      "[CIK==debugging:INFO] 3906/2002-06-30/Schedule_of_Investments_87.csv\n"
     ]
    },
    {
     "name": "stderr",
     "output_type": "stream",
     "text": [
      "INFO:CIK==debugging:3906/2002-06-30/Schedule_of_Investments_87.csv\n",
      "WARNING:root:Applied processor reduces input query to empty string, all comparisons will have score 0. [Query: '']\n",
      "/home/tony/anaconda3/envs/sec/lib/python3.6/site-packages/ipykernel_launcher.py:232: DeprecationWarning: The default dtype for empty Series will be 'object' instead of 'float64' in a future version. Specify a dtype explicitly to silence this warning.\n"
     ]
    },
    {
     "data": {
      "text/plain": [
       "0"
      ]
     },
     "metadata": {},
     "output_type": "display_data"
    },
    {
     "name": "stdout",
     "output_type": "stream",
     "text": [
      "[CIK==debugging:INFO] 3906/2002-06-30/Schedule_of_Investments_88.csv\n",
      "[CIK==debugging:INFO] 3906/2002-06-30/Schedule_of_Investments_88.csv\n",
      "[CIK==debugging:INFO] 3906/2002-06-30/Schedule_of_Investments_88.csv\n",
      "[CIK==debugging:INFO] 3906/2002-06-30/Schedule_of_Investments_88.csv\n",
      "[CIK==debugging:INFO] 3906/2002-06-30/Schedule_of_Investments_88.csv\n",
      "[CIK==debugging:INFO] 3906/2002-06-30/Schedule_of_Investments_88.csv\n",
      "[CIK==debugging:INFO] 3906/2002-06-30/Schedule_of_Investments_88.csv\n",
      "[CIK==debugging:INFO] 3906/2002-06-30/Schedule_of_Investments_88.csv\n",
      "[CIK==debugging:INFO] 3906/2002-06-30/Schedule_of_Investments_88.csv\n",
      "[CIK==debugging:INFO] 3906/2002-06-30/Schedule_of_Investments_88.csv\n",
      "[CIK==debugging:INFO] 3906/2002-06-30/Schedule_of_Investments_88.csv\n",
      "[CIK==debugging:INFO] 3906/2002-06-30/Schedule_of_Investments_88.csv\n",
      "[CIK==debugging:INFO] 3906/2002-06-30/Schedule_of_Investments_88.csv\n",
      "[CIK==debugging:INFO] 3906/2002-06-30/Schedule_of_Investments_88.csv\n",
      "[CIK==debugging:INFO] 3906/2002-06-30/Schedule_of_Investments_88.csv\n",
      "[CIK==debugging:INFO] 3906/2002-06-30/Schedule_of_Investments_88.csv\n",
      "[CIK==debugging:INFO] 3906/2002-06-30/Schedule_of_Investments_88.csv\n",
      "[CIK==debugging:INFO] 3906/2002-06-30/Schedule_of_Investments_88.csv\n",
      "[CIK==debugging:INFO] 3906/2002-06-30/Schedule_of_Investments_88.csv\n",
      "[CIK==debugging:INFO] 3906/2002-06-30/Schedule_of_Investments_88.csv\n",
      "[CIK==debugging:INFO] 3906/2002-06-30/Schedule_of_Investments_88.csv\n"
     ]
    },
    {
     "name": "stderr",
     "output_type": "stream",
     "text": [
      "INFO:CIK==debugging:3906/2002-06-30/Schedule_of_Investments_88.csv\n",
      "WARNING:root:Applied processor reduces input query to empty string, all comparisons will have score 0. [Query: '']\n",
      "/home/tony/anaconda3/envs/sec/lib/python3.6/site-packages/ipykernel_launcher.py:232: DeprecationWarning: The default dtype for empty Series will be 'object' instead of 'float64' in a future version. Specify a dtype explicitly to silence this warning.\n"
     ]
    },
    {
     "data": {
      "text/plain": [
       "0"
      ]
     },
     "metadata": {},
     "output_type": "display_data"
    },
    {
     "name": "stdout",
     "output_type": "stream",
     "text": [
      "[CIK==debugging:INFO] 3906/2002-06-30/Schedule_of_Investments_89.csv\n",
      "[CIK==debugging:INFO] 3906/2002-06-30/Schedule_of_Investments_89.csv\n",
      "[CIK==debugging:INFO] 3906/2002-06-30/Schedule_of_Investments_89.csv\n",
      "[CIK==debugging:INFO] 3906/2002-06-30/Schedule_of_Investments_89.csv\n",
      "[CIK==debugging:INFO] 3906/2002-06-30/Schedule_of_Investments_89.csv\n",
      "[CIK==debugging:INFO] 3906/2002-06-30/Schedule_of_Investments_89.csv\n",
      "[CIK==debugging:INFO] 3906/2002-06-30/Schedule_of_Investments_89.csv\n",
      "[CIK==debugging:INFO] 3906/2002-06-30/Schedule_of_Investments_89.csv\n",
      "[CIK==debugging:INFO] 3906/2002-06-30/Schedule_of_Investments_89.csv\n",
      "[CIK==debugging:INFO] 3906/2002-06-30/Schedule_of_Investments_89.csv\n",
      "[CIK==debugging:INFO] 3906/2002-06-30/Schedule_of_Investments_89.csv\n",
      "[CIK==debugging:INFO] 3906/2002-06-30/Schedule_of_Investments_89.csv\n",
      "[CIK==debugging:INFO] 3906/2002-06-30/Schedule_of_Investments_89.csv\n",
      "[CIK==debugging:INFO] 3906/2002-06-30/Schedule_of_Investments_89.csv\n",
      "[CIK==debugging:INFO] 3906/2002-06-30/Schedule_of_Investments_89.csv\n",
      "[CIK==debugging:INFO] 3906/2002-06-30/Schedule_of_Investments_89.csv\n",
      "[CIK==debugging:INFO] 3906/2002-06-30/Schedule_of_Investments_89.csv\n",
      "[CIK==debugging:INFO] 3906/2002-06-30/Schedule_of_Investments_89.csv\n",
      "[CIK==debugging:INFO] 3906/2002-06-30/Schedule_of_Investments_89.csv\n",
      "[CIK==debugging:INFO] 3906/2002-06-30/Schedule_of_Investments_89.csv\n",
      "[CIK==debugging:INFO] 3906/2002-06-30/Schedule_of_Investments_89.csv\n"
     ]
    },
    {
     "name": "stderr",
     "output_type": "stream",
     "text": [
      "INFO:CIK==debugging:3906/2002-06-30/Schedule_of_Investments_89.csv\n",
      "WARNING:root:Applied processor reduces input query to empty string, all comparisons will have score 0. [Query: '']\n",
      "/home/tony/anaconda3/envs/sec/lib/python3.6/site-packages/ipykernel_launcher.py:232: DeprecationWarning: The default dtype for empty Series will be 'object' instead of 'float64' in a future version. Specify a dtype explicitly to silence this warning.\n"
     ]
    },
    {
     "data": {
      "text/plain": [
       "0"
      ]
     },
     "metadata": {},
     "output_type": "display_data"
    },
    {
     "name": "stdout",
     "output_type": "stream",
     "text": [
      "[CIK==debugging:INFO] 3906/2002-06-30/Schedule_of_Investments_90.csv\n",
      "[CIK==debugging:INFO] 3906/2002-06-30/Schedule_of_Investments_90.csv\n",
      "[CIK==debugging:INFO] 3906/2002-06-30/Schedule_of_Investments_90.csv\n",
      "[CIK==debugging:INFO] 3906/2002-06-30/Schedule_of_Investments_90.csv\n",
      "[CIK==debugging:INFO] 3906/2002-06-30/Schedule_of_Investments_90.csv\n",
      "[CIK==debugging:INFO] 3906/2002-06-30/Schedule_of_Investments_90.csv\n",
      "[CIK==debugging:INFO] 3906/2002-06-30/Schedule_of_Investments_90.csv\n",
      "[CIK==debugging:INFO] 3906/2002-06-30/Schedule_of_Investments_90.csv\n",
      "[CIK==debugging:INFO] 3906/2002-06-30/Schedule_of_Investments_90.csv\n",
      "[CIK==debugging:INFO] 3906/2002-06-30/Schedule_of_Investments_90.csv\n",
      "[CIK==debugging:INFO] 3906/2002-06-30/Schedule_of_Investments_90.csv\n",
      "[CIK==debugging:INFO] 3906/2002-06-30/Schedule_of_Investments_90.csv\n",
      "[CIK==debugging:INFO] 3906/2002-06-30/Schedule_of_Investments_90.csv\n",
      "[CIK==debugging:INFO] 3906/2002-06-30/Schedule_of_Investments_90.csv\n",
      "[CIK==debugging:INFO] 3906/2002-06-30/Schedule_of_Investments_90.csv\n",
      "[CIK==debugging:INFO] 3906/2002-06-30/Schedule_of_Investments_90.csv\n",
      "[CIK==debugging:INFO] 3906/2002-06-30/Schedule_of_Investments_90.csv\n",
      "[CIK==debugging:INFO] 3906/2002-06-30/Schedule_of_Investments_90.csv\n",
      "[CIK==debugging:INFO] 3906/2002-06-30/Schedule_of_Investments_90.csv\n",
      "[CIK==debugging:INFO] 3906/2002-06-30/Schedule_of_Investments_90.csv\n",
      "[CIK==debugging:INFO] 3906/2002-06-30/Schedule_of_Investments_90.csv\n"
     ]
    },
    {
     "name": "stderr",
     "output_type": "stream",
     "text": [
      "INFO:CIK==debugging:3906/2002-06-30/Schedule_of_Investments_90.csv\n",
      "WARNING:root:Applied processor reduces input query to empty string, all comparisons will have score 0. [Query: '']\n",
      "/home/tony/anaconda3/envs/sec/lib/python3.6/site-packages/ipykernel_launcher.py:232: DeprecationWarning: The default dtype for empty Series will be 'object' instead of 'float64' in a future version. Specify a dtype explicitly to silence this warning.\n"
     ]
    },
    {
     "data": {
      "text/plain": [
       "0"
      ]
     },
     "metadata": {},
     "output_type": "display_data"
    },
    {
     "ename": "IndexError",
     "evalue": "list index out of range",
     "output_type": "error",
     "traceback": [
      "\u001b[0;31m---------------------------------------------------------------------------\u001b[0m",
      "\u001b[0;31mIndexError\u001b[0m                                Traceback (most recent call last)",
      "\u001b[0;32m<ipython-input-180-11c00d0c114c>\u001b[0m in \u001b[0;36m<module>\u001b[0;34m\u001b[0m\n\u001b[1;32m    505\u001b[0m     \u001b[0mlogger\u001b[0m\u001b[0;34m.\u001b[0m\u001b[0minfo\u001b[0m\u001b[0;34m(\u001b[0m\u001b[0mprogram\u001b[0m\u001b[0;34m)\u001b[0m\u001b[0;34m\u001b[0m\u001b[0;34m\u001b[0m\u001b[0m\n\u001b[1;32m    506\u001b[0m \u001b[0;34m\u001b[0m\u001b[0m\n\u001b[0;32m--> 507\u001b[0;31m     \u001b[0mmain\u001b[0m\u001b[0;34m(\u001b[0m\u001b[0;34m)\u001b[0m\u001b[0;34m\u001b[0m\u001b[0;34m\u001b[0m\u001b[0m\n\u001b[0m",
      "\u001b[0;32m<ipython-input-180-11c00d0c114c>\u001b[0m in \u001b[0;36mmain\u001b[0;34m()\u001b[0m\n\u001b[1;32m    382\u001b[0m \u001b[0;34m\u001b[0m\u001b[0m\n\u001b[1;32m    383\u001b[0m         \u001b[0;32mwhile\u001b[0m \u001b[0mindex_list_sum\u001b[0m \u001b[0;34m==\u001b[0m \u001b[0;36m0\u001b[0m\u001b[0;34m:\u001b[0m\u001b[0;34m\u001b[0m\u001b[0;34m\u001b[0m\u001b[0m\n\u001b[0;32m--> 384\u001b[0;31m             \u001b[0mlogger\u001b[0m\u001b[0;34m.\u001b[0m\u001b[0minfo\u001b[0m\u001b[0;34m(\u001b[0m\u001b[0msoi_files\u001b[0m\u001b[0;34m[\u001b[0m\u001b[0mi\u001b[0m\u001b[0;34m]\u001b[0m\u001b[0;34m)\u001b[0m\u001b[0;34m\u001b[0m\u001b[0;34m\u001b[0m\u001b[0m\n\u001b[0m\u001b[1;32m    385\u001b[0m             \u001b[0mmerged_pair_idxs\u001b[0m \u001b[0;34m=\u001b[0m \u001b[0mex\u001b[0m\u001b[0;34m.\u001b[0m\u001b[0mget\u001b[0m\u001b[0;34m(\u001b[0m\u001b[0msoi_files\u001b[0m\u001b[0;34m[\u001b[0m\u001b[0mi\u001b[0m\u001b[0;34m]\u001b[0m\u001b[0;34m,\u001b[0m\u001b[0;34m{\u001b[0m\u001b[0;34m}\u001b[0m\u001b[0;34m)\u001b[0m\u001b[0;34m\u001b[0m\u001b[0;34m\u001b[0m\u001b[0m\n\u001b[1;32m    386\u001b[0m \u001b[0;34m\u001b[0m\u001b[0m\n",
      "\u001b[0;31mIndexError\u001b[0m: list index out of range"
     ]
    }
   ],
   "source": [
    "\n",
    "import os\n",
    "import re\n",
    "import glob\n",
    "import datetime\n",
    "import warnings\n",
    "import pandas as pd\n",
    "import numpy as np\n",
    "from fuzzywuzzy import process\n",
    "from bs4 import BeautifulSoup\n",
    "from dateutil.parser import parse\n",
    "\n",
    "import sys\n",
    "import warnings\n",
    "sys.path.insert(0, '../') \n",
    "from utils import init_logger\n",
    "\n",
    "def common_subheaders()->tuple:\n",
    "    return tuple(map(lambda header:header.replace(' ', r'\\s*'),\n",
    "        ('Advertising, Public Relations and Marketing ',\n",
    "        'Air Transportation',\n",
    "        'Amusement and Recreation',\n",
    "        'Apparel Manufacturing',\n",
    "        'Building Equipment Contractors',\n",
    "        'Business Support Services',\n",
    "        'Chemicals',\n",
    "        'Communications Equipment Manufacturing',\n",
    "        'Credit Related Activities',\n",
    "        'Computer Systems Design and Related Services',\n",
    "        'Credit (Nondepository)',\n",
    "        'Data Processing and Hosting Services',\n",
    "        'Educational Support Services',\n",
    "        'Electronic Component Manufacturing',\n",
    "        'Equipment Leasing',\n",
    "        'Facilities Support Services',\n",
    "        'Grocery Stores',\n",
    "        'Hospitals',\n",
    "        'Insurance',\n",
    "        'Lessors of Nonfinancial Licenses',\n",
    "        'Management, Scientific, and Technical Consulting Services',\n",
    "        'Motion Picture and Video Industries',\n",
    "        'Other Information Services',\n",
    "        'Other Manufacturing',\n",
    "        'Other Publishing',\n",
    "        'Other Real Estate Activities',\n",
    "        'Other Telecommunications',\n",
    "        'Plastics Manufacturing',\n",
    "        'Radio and Television Broadcasting',\n",
    "        'Real Estate Leasing',\n",
    "        'Restaurants',\n",
    "        'Retail',\n",
    "        'Satellite Telecommunications',\n",
    "        'Scientific Research and Development Services',\n",
    "        'Texttile Furnishings Mills',\n",
    "        'Traveler Arrangement',\n",
    "        'Software Publishing',\n",
    "        'Utility System Construction',\n",
    "        'Wholesalers',\n",
    "        'Wired Telecommunications Carriers',\n",
    "        'Wireless Telecommunications Carriers',\n",
    "        )\n",
    "    ))\n",
    "\n",
    "\n",
    "def standard_field_names()->tuple:\n",
    "    return (\n",
    "        'portfolio_company',\n",
    "        # 'Portfolio Company /Principal Business',\n",
    "        'investment_/interest_rate_/maturity',\n",
    "        'percentage__interest/__shares',\n",
    "        # 'Principal',\n",
    "        'cost',\n",
    "        'value',\n",
    "        'short-term_investments',\n",
    "        'percentage_ownership',\n",
    "        'percent_of_class_held',\n",
    "        # 'Investment',\n",
    "        'percent_of_interests_held',\n",
    "        # 'Industry',\n",
    "        'spread_above_index',\n",
    "        'aquisition_date',\n",
    "        # 'Maturity',\n",
    "        # 'Principal/Shares',\n",
    "        # 'Investment Type',\n",
    "        'of_Net_Assets',\n",
    "        # 'business description',\n",
    "        # 'type of investment',\n",
    "        # 'investment date',\n",
    "        'reference_rate_and_spread',\n",
    "        'pik_rate',\n",
    "        # 'maturity date',\n",
    "        # 'cost',\n",
    "        'footnotes',\n",
    "        # 'industry',\n",
    "        # 'principal amount',\n",
    "        # 'fair value',\n",
    "    )\n",
    "\n",
    "\n",
    "def company_control_headers()->tuple:\n",
    "    return tuple(map(lambda header:header.replace(' ', r'\\s*'),\n",
    "        (\n",
    "        'Debt Investments',\n",
    "        'Debt Investments (82.23%)',\n",
    "        'Debt Investments (A)',\n",
    "        'Debt Investments (continued)',\n",
    "        'Equity Securities',\n",
    "        'Equity Securities (continued)',\n",
    "        'Cash and Cash Equivalents',\n",
    "        )\n",
    "    ))\n",
    "\n",
    "\n",
    "def except_rows()->tuple:\n",
    "    return (\n",
    "        'Private Finance',\n",
    "        'December 31, 2001',\n",
    "    )\n",
    "\n",
    "# https://www.sec.gov/robots.txt\n",
    "def get_standard_name(col, choices, score_cutoff=60):\n",
    "    best_match, score = process.extractOne(col, choices)\n",
    "    if score > score_cutoff:\n",
    "        return best_match\n",
    "    return col\n",
    "\n",
    "def stopping_criterion(qtr:str)->str:\n",
    "    if qtr == '2004-12-31':\n",
    "        return '{}'.format(r'Total')\n",
    "    return '{}'.format(r'Total *private *finance')\n",
    "\n",
    "\n",
    "def concat(*dfs)->list:\n",
    "    final = []\n",
    "    for df in dfs:\n",
    "        final.extend(df.values.tolist())\n",
    "    return final\n",
    "\n",
    "    \n",
    "def get_key_fields(\n",
    "    df_cur:pd.DataFrame,\n",
    ")->tuple:\n",
    "    important_fields = standard_field_names() + common_subheaders()\n",
    "    for idx,row in enumerate(df_cur.iterrows()):\n",
    "        found = any(any(\n",
    "            key in str(field).lower() \n",
    "            for key in important_fields)\n",
    "                    for field in row[-1].dropna().tolist()\n",
    "            )\n",
    "        if found and len(set(row[-1].dropna().tolist())) >= 6:\n",
    "            cols = df_cur.iloc[:idx + 1].apply(lambda row: ' '.join(row.dropna()), axis=0).tolist()\n",
    "            display(\"WTF\",cols)\n",
    "            fields = strip_string(cols,standardize=found) \n",
    "            return fields\n",
    "    return strip_string(df_cur.iloc[0].tolist())\n",
    "\n",
    "def strip_string(\n",
    "    columns_names:list,\n",
    "    standardize:bool=False,\n",
    ")->tuple:\n",
    "    # columns = tuple(map(lambda col:re.sub(r'[^a-z]', '', str(col).lower()),columns_names))\n",
    "    if standardize:\n",
    "        standard_fields = standard_field_names()\n",
    "        return tuple(\n",
    "            re.sub(r'[^a-zA-Z]', '_',get_standard_name(str(col).strip().lower(),standard_fields)) for col in columns_names\n",
    "        )\n",
    "    return tuple(re.sub(r'[^a-zA-Z]', '_',str(col).strip().lower()) for col in columns_names)\n",
    "\n",
    "\n",
    "# Function to extract date and convert to datetime object\n",
    "def extract_date(file_path):\n",
    "    # Extract date from file path (assuming date is always in 'YYYY-MM-DD' format)\n",
    "    date_str = re.search(r'\\d{4}-\\d{2}-\\d{2}', file_path).group()\n",
    "    return datetime.datetime.strptime(date_str, '%Y-%m-%d')\n",
    "\n",
    "\n",
    "def merge_duplicate_columns(\n",
    "    df:pd.DataFrame,\n",
    "    merged_pair_idxs:dict={}\n",
    ")->pd.DataFrame:\n",
    "    duplicate_cols = merged_pair_idxs.keys()\n",
    "    flag = not merged_pair_idxs.keys()\n",
    "    if flag: \n",
    "        duplicate_cols = df.columns.unique() \n",
    "    for col_name in duplicate_cols:\n",
    "        # display(col_name)\n",
    "        mask = merged_pair_idxs.get(col_name)\n",
    "        if flag:\n",
    "            mask = df.columns == col_name\n",
    "            merged_pair_idxs[col_name] = mask\n",
    "        duplicate_data = df.loc[:, mask]\n",
    "        merged_data = duplicate_data.apply(lambda row: ' '.join(set(row.dropna().astype(str))), axis=1)\n",
    "        df = df.loc[:, ~mask]\n",
    "        df[col_name] = merged_data\n",
    "        # display(df.iloc[:,:])\n",
    "    return df.reset_index(drop=True),merged_pair_idxs\n",
    "\n",
    "def extract_subheaders(\n",
    "    df:pd.DataFrame,\n",
    "    control:bool,\n",
    ")->pd.DataFrame:\n",
    "    col_name = 'company_control' if control else 'Type_of_Investment'\n",
    "    if col_name in df.columns:\n",
    "        return df\n",
    "    include = df.apply(\n",
    "        lambda row: re.search('|'.join(company_control_headers() if control else common_subheaders()), str(row[0]), re.IGNORECASE) is not None,\n",
    "        axis=1\n",
    "    )  \n",
    "    \n",
    "    exclude = ~df.apply(\n",
    "        lambda row: row.astype(str).str.contains('total|Inc|Ltd|LLC|Holdings|LP|Co|Corporation', case=False, na=False).any(),\n",
    "        axis=1\n",
    "    )\n",
    "    idx = df[include & exclude].index.tolist()\n",
    "    df[col_name] = None\n",
    "    if not idx:\n",
    "        return df\n",
    "\n",
    "    prev_header = subheader = None\n",
    "    df.loc[idx[-1]:,col_name] = df.iloc[idx[-1],1] if isinstance(df.iloc[idx[-1],0],float)  else df.iloc[idx[-1],0]\n",
    "    for j,i in enumerate(idx[:-1]):\n",
    "        prev_header = subheader\n",
    "        subheader = df.iloc[i,1] if isinstance(df.iloc[i,0],float)  else df.iloc[i,0]\n",
    "        df.loc[idx[j]:idx[j+1],col_name] = subheader if subheader != '' else prev_header\n",
    "    return df\n",
    "\n",
    "\n",
    "def remove_row_duplicates(row:pd.Series)->pd.Series: \n",
    "    out = []\n",
    "    for v in row:\n",
    "        if v in out and not str(v).replace('$','').isnumeric():\n",
    "            out.append(np.nan)\n",
    "        else:\n",
    "            out.append(v)\n",
    "    return pd.Series(out)\n",
    "\n",
    "\n",
    "def _clean(\n",
    "    file_path:str,\n",
    "    except_rows:str,\n",
    "    merged_pair_idxs:dict={},\n",
    ")->pd.DataFrame:\n",
    "    df = pd.read_csv(file_path,index_col=0,na_values=[' ', ''])\n",
    "    df.replace(['Private Finance','(unaudited)','in thousands, except number of shares'],'',regex=True,inplace=True)\n",
    "    df.replace(to_replace=r'[\\[\\]\\(\\){},$%˄\\xa0\\u200b]\"', value='', regex=True,inplace=True)\n",
    "    df = df.applymap(remove_datetime)\n",
    "    df = df.applymap(lambda x: x.strip() if isinstance(x, str) else x)  \n",
    "    df.replace(to_replace=r'\\(|\\)', value='', regex=True,inplace=True)\n",
    "    df.replace(to_replace='', value=np.nan, regex=True,inplace=True)\n",
    "\n",
    "    df.dropna(axis=0,how='all',inplace=True)\n",
    "\n",
    "    # df = df[~df.apply(lambda row:row.astype(str).str.contains(except_rows,case=False, na=False).any(),axis=1)]\n",
    "    if not df.apply(lambda col: col.astype(str).str.contains(r'total_investments', case=False, regex=True)).any().any() and df.shape[0] < 3:\n",
    "        return pd.DataFrame(), merged_pair_idxs\n",
    "\n",
    "    if not merged_pair_idxs:\n",
    "        important_fields = strip_string(get_header_rows(df),standardize=True)#get_key_fields(df)\n",
    "        df.columns = important_fields\n",
    "    \n",
    "\n",
    "    df,merge_pair_idxs = merge_duplicate_columns(df,merged_pair_idxs=merged_pair_idxs)\n",
    "    duplicate_idx = df.apply(lambda row:row[pd.to_numeric(row,errors='coerce').isna()].duplicated().sum() > 1 ,axis=1)\n",
    "    clean_rows = df.loc[duplicate_idx].apply(remove_row_duplicates, axis=1).reset_index(drop=True)\n",
    "    j = 0\n",
    "    for i,flag in enumerate(duplicate_idx):\n",
    "        if not flag:\n",
    "            continue\n",
    "        df.iloc[i,:] = clean_rows.loc[j,:].tolist()\n",
    "        j += 1\n",
    "\n",
    "\n",
    "    df.replace([''],np.nan,regex=True,inplace=True) #':','$','%'\n",
    "    df.dropna(axis=1,how='all',inplace=True)\n",
    "    columns = [col.isdigit() for col in df.columns]\n",
    "    df = df.drop(columns=df.columns[columns])\n",
    "    return df.reset_index(drop=True),merge_pair_idxs\n",
    "\n",
    "def get_header_rows(\n",
    "    df_cur:pd.DataFrame,\n",
    ")->tuple:\n",
    "    for idx,row in df_cur.reset_index().iterrows():\n",
    "        found = any(str(v).replace(\"$\",'').replace(\"%\",'').isnumeric() for v in row)\n",
    "        if found and  len(set(row.dropna().tolist())) >= 3:     \n",
    "            out = df_cur.iloc[:idx + 1,:].apply(\n",
    "                lambda row: ' '.join(\n",
    "                    row[row.notna()].astype(str).values\n",
    "            ), axis=0)\n",
    "            return out\n",
    "    \n",
    "    return strip_string(df_cur.iloc[0].tolist())\n",
    "\n",
    "\n",
    "def remove_datetime(x):\n",
    "    try:\n",
    "        parse(x)\n",
    "        return np.nan\n",
    "    except Exception as e:\n",
    "        return x\n",
    "\n",
    "def to_parse()->tuple:\n",
    "    return (\n",
    "        '2000-06-30',\n",
    "        '2000-09-30',\n",
    "        '2000-12-31',\n",
    "        '2001-03-31',\n",
    "        '2001-06-30',\n",
    "    )\n",
    "\n",
    "\n",
    "def md_parse(\n",
    "    xml_file:str,\n",
    "    start_str:str='CONSOLIDATED STATEMENT OF INVESTMENTS',\n",
    "    end_str:str='Total private finance',\n",
    "    columns:list=['portfolio_company','investment','cost','fair_value']\n",
    ")->pd.DataFrame:\n",
    "    # Load HTML content\n",
    "    with open(xml_file, 'r') as file:\n",
    "        html_content = file.read()\n",
    "    soup = BeautifulSoup(html_content, 'html.parser')\n",
    "    # If the content is inside <pre>, get the text within it\n",
    "    pre_text = soup.find('pre').get_text()\n",
    "    # logger.info(pre_text)\n",
    "    start = pre_text.split(start_str)[-1]\n",
    "\n",
    "    # start = start[:len(start)]\n",
    "    end = start.split(end_str)[0]\n",
    "    # logger.info(end)\n",
    "    lines = end.split('\\n')\n",
    "    data = []\n",
    "    num_cols = len(lines[0].split())\n",
    "    for line in lines:\n",
    "        line = line.strip('< >-')\n",
    "        line = re.sub(r'[<>]', '', line)  # Replace occurrences of < or > with nothing\n",
    "        row = [np.nan]*num_cols\n",
    "        values = re.split(r'\\s{4,}', line)\n",
    "        if len(values) < 4:\n",
    "            continue\n",
    "        row[:len(values)] = values[:4]\n",
    "        data.append(row)   \n",
    "    df = pd.DataFrame(data,columns=columns).dropna(axis=1,how='all')\n",
    "    return df\n",
    "\n",
    "\n",
    "def main()->None:\n",
    "    cik = os.getcwd().split(os.sep)[-1]\n",
    "    qtrs = os.listdir(f'{cik}')\n",
    "    ex = exceptions()\n",
    "    ex_rows = '|'.join(except_rows())\n",
    "    md = to_parse()\n",
    "    for qtr in qtrs:\n",
    "        if '.csv' in qtr or\\\n",
    "              not os.path.exists(os.path.join(cik,qtr,f'Schedule_of_Investments_0.csv')) and qtr not in md or\\\n",
    "                  os.path.exists(os.path.join(cik,qtr,'output',f'{qtr}.csv')):\n",
    "            continue\n",
    "        if qtr in md:\n",
    "            logger.info(f\"PROCESSING MARKDOWN - {qtr}\")\n",
    "            f = os.listdir(os.path.join(cik,qtr))\n",
    "            f.remove('output')\n",
    "            df = md_parse(os.path.join(cik,qtr,f[0]))\n",
    "            df['qtr'] = qtr.split(os.sep)[-1]\n",
    "            if not os.path.exists(os.path.join(cik,qtr,'output')):\n",
    "                os.mkdir(os.path.join(cik,qtr,'output'))\n",
    "            df.to_csv(f\"{os.path.join(cik,qtr,'output',qtr)}.csv\",index=False)\n",
    "            continue\n",
    "\n",
    "        qtr = '2002-06-30'\n",
    "        logger.info(f\"PROCESSING - {qtr}\")\n",
    "        index_list_sum = i = 0\n",
    "        soi_files = sorted([\n",
    "            os.path.join(cik,qtr,file) \n",
    "            for file in os.listdir(os.path.join(cik,qtr))\n",
    "            if '.csv' in file and 'output' not in file\n",
    "        ],key=lambda f: int(f.split('_')[-1].split('.')[0]))\n",
    "        merged_pair_idxs = ex.get(soi_files[i],{})\n",
    "        df,merged_pair_idxs = _clean(soi_files[i],except_rows=ex_rows,merged_pair_idxs=merged_pair_idxs)\n",
    "\n",
    "        index_list = df.apply(\n",
    "            lambda row:row.astype(str).str.contains(stopping_criterion(qtr), case=False, na=False).any(),\n",
    "            axis=1\n",
    "        )\n",
    "        index_list_sum = index_list.sum()\n",
    "        dfs = [df]     \n",
    "        i += 1\n",
    "\n",
    "        while index_list_sum == 0:\n",
    "            logger.info(soi_files[i])\n",
    "            merged_pair_idxs = ex.get(soi_files[i],{})\n",
    "\n",
    "            # display(merged_pair_idxs)\n",
    "            df,merged_pair_idxs = _clean(soi_files[i],except_rows=ex_rows,merged_pair_idxs=merged_pair_idxs)\n",
    "            if soi_files[i] == '3906/2002-06-30/Schedule_of_Investments_14.csv':\n",
    "                display(df) \n",
    "            dfs.append(df)\n",
    "            index_list = df.apply(\n",
    "                lambda row:row.astype(str).str.contains(stopping_criterion(None), case=False, na=False).any(),\n",
    "                axis=1\n",
    "            )\n",
    "            index_list_sum = index_list.sum()\n",
    "            i += 1\n",
    "            display(index_list_sum)\n",
    "        date_final = dfs[0]\n",
    "        if len(dfs) > 1:\n",
    "            date_final = pd.concat(dfs,axis=0,ignore_index=True)#pd.DataFrame(concat(*dfs))\n",
    "        # date_final = extract_subheaders(date_final,control=True)\n",
    "        # date_final = extract_subheaders(date_final,control=False)\n",
    "\n",
    "        date_final['qtr'] = qtr.split(os.sep)[-1]\n",
    "        if not os.path.exists(os.path.join(cik,qtr,'output')):\n",
    "            os.makedirs(os.path.join(cik,qtr,'output'))\n",
    "        columns_to_drop = date_final.notna().sum() <= 2\n",
    "        date_final.drop(columns=columns_to_drop[columns_to_drop].index)\n",
    "        date_final.to_csv(os.path.join(cik,qtr,'output',f'{qtr}.csv'),index=False)\n",
    "        break\n",
    "    \n",
    "    # Use glob to find files\n",
    "    files = sorted(glob.glob(os.path.join(cik,'*','output','*.csv')), key=extract_date)\n",
    "    single_truth = pd.concat([\n",
    "        pd.read_csv(df) for df in files\n",
    "    ],axis=0,ignore_index=True)\n",
    "    single_truth.drop(columns=single_truth.columns[['Unnamed' in col for col in single_truth.columns]],inplace=True)\n",
    "    single_truth.to_csv(f'{cik}_soi_table.csv',index=False)\n",
    "    logger.info(f\"COMPLETED - {cik}\")\n",
    "    \n",
    "\n",
    "def exceptions()->dict:\n",
    "    return {\n",
    "        '3906/2004-12-31/Schedule_of_Investments_2.csv':{\n",
    "            'portfolio_company':np.array([True]+[False]*24),\n",
    "            'investment':np.array([False,True]+[False]*23),\n",
    "            'interest':np.array([False]*3+[True]+[False]*21),\n",
    "            'other':np.array([False]*4+[True]+[False]*20),\n",
    "            'value_prev':np.array([False]*6+[True]+[False]*18),\n",
    "            'additions':np.array([False]*9+[True]+[False]*15),\n",
    "            'reductions':np.array([False]*12+[True]+[False]*12),\n",
    "            'value_cur':np.array([False]*15+[True]+[False]*9),\n",
    "        },\n",
    "        '3906/2004-12-31/Schedule_of_Investments_0.csv':{\n",
    "            'portfolio_company':np.array([True]+[False]*23),\n",
    "            'investment':np.array([False,True]+[False]*22),\n",
    "            'interest':np.array([False]*3+[True]+[False]*20),\n",
    "            'other':np.array([False]*4+[True]+[False]*19),\n",
    "            'value_prev':np.array([False]*6+[True]+[False]*17),\n",
    "            'additions':np.array([False]*9+[True]+[False]*14),\n",
    "            'reductions':np.array([False]*12+[True]+[False]*11),\n",
    "            'value_cur':np.array([False]*15+[True]+[False]*8),\n",
    "        },\n",
    "        '3906/2004-12-31/Schedule_of_Investments_1.csv':{\n",
    "            'portfolio_company':np.array([True]+[False]*23),\n",
    "            'investment':np.array([False,True]+[False]*22),\n",
    "            'interest':np.array([False]*3+[True]+[False]*20),\n",
    "            'other':np.array([False]*4+[True]+[False]*19),\n",
    "            'value_prev':np.array([False]*6+[True]+[False]*17),\n",
    "            'additions':np.array([False]*9+[True]+[False]*14),\n",
    "            'reductions':np.array([False]*12+[True]+[False]*11),\n",
    "            'value_cur':np.array([False]*15+[True]+[False]*8),\n",
    "        },\n",
    "        '3906/2001-09-30/Schedule_of_Investments_0.csv':{\n",
    "            'portfolio_company':np.array([True]+[False]*11),\n",
    "            'investment':np.array([False]*2+[True]+[False]*9),\n",
    "            'cost':np.array([False]*4+[True]+[False]*7),\n",
    "            'value':np.array([False]*7+[True]+[False]*4),\n",
    "        },\n",
    "        '3906/2001-09-30/Schedule_of_Investments_2.csv':{\n",
    "            'portfolio_company':np.array([True]+[False]*11),\n",
    "            'investment':np.array([False]*2+[True]+[False]*9),\n",
    "            'cost':np.array([False]*4+[True]+[False]*7),\n",
    "            'value':np.array([False]*7+[True]+[False]*4),\n",
    "        },\n",
    "        '3906/2001-09-30/Schedule_of_Investments_4.csv':{\n",
    "            'portfolio_company':np.array([True]+[False]*11),\n",
    "            'investment':np.array([False]*2+[True]+[False]*9),\n",
    "            'cost':np.array([False]*4+[True]+[False]*7),\n",
    "            'value':np.array([False]*7+[True]+[False]*4),\n",
    "        },\n",
    "        '3906/2001-09-30/Schedule_of_Investments_6.csv':{\n",
    "            'portfolio_company':np.array([True]+[False]*11),\n",
    "            'investment':np.array([False]*2+[True]+[False]*9),\n",
    "            'cost':np.array([False]*4+[True]+[False]*7),\n",
    "            'value':np.array([False]*7+[True]+[False]*4),\n",
    "        },\n",
    "        '3906/2001-09-30/Schedule_of_Investments_8.csv':{\n",
    "            'portfolio_company':np.array([True]+[False]*11),\n",
    "            'investment':np.array([False]*2+[True]+[False]*9),\n",
    "            'cost':np.array([False]*4+[True]+[False]*7),\n",
    "            'value':np.array([False]*7+[True]+[False]*4),\n",
    "        },\n",
    "        '3906/2001-09-30/Schedule_of_Investments_10.csv':{\n",
    "            'portfolio_company':np.array([True]+[False]*11),\n",
    "            'investment':np.array([False]*2+[True]+[False]*9),\n",
    "            'cost':np.array([False]*4+[True]+[False]*7),\n",
    "            'value':np.array([False]*7+[True]+[False]*4),\n",
    "        },\n",
    "        '3906/2001-09-30/Schedule_of_Investments_12.csv':{\n",
    "            'portfolio_company':np.array([True]+[False]*10),\n",
    "            'investment':np.array([False]+[True]+[False]*9),\n",
    "            'cost':np.array([False]*3+[True]+[False]*7),\n",
    "            'value':np.array([False]*6+[True]+[False]*4),\n",
    "        },\n",
    "    }\n",
    "\n",
    "if __name__ == \"__main__\":\n",
    "    warnings.simplefilter(action='ignore', category=FutureWarning)\n",
    "    program = \"debugging\"#os.path.basename(__file__).split('.py')[0]\n",
    "    if os.path.exists(f\"logs/{program}.log\"):\n",
    "        os.remove(f\"logs/{program}.log\")\n",
    "    logger = init_logger(program)\n",
    "    logger.info(program)\n",
    "    \n",
    "    main()\n"
   ]
  },
  {
   "cell_type": "code",
   "execution_count": 179,
   "metadata": {},
   "outputs": [
    {
     "name": "stderr",
     "output_type": "stream",
     "text": [
      "WARNING:root:Applied processor reduces input query to empty string, all comparisons will have score 0. [Query: '']\n",
      "WARNING:root:Applied processor reduces input query to empty string, all comparisons will have score 0. [Query: '']\n",
      "WARNING:root:Applied processor reduces input query to empty string, all comparisons will have score 0. [Query: '']\n",
      "/home/tony/anaconda3/envs/sec/lib/python3.6/site-packages/ipykernel_launcher.py:86: SettingWithCopyWarning: \n",
      "A value is trying to be set on a copy of a slice from a DataFrame.\n",
      "Try using .loc[row_indexer,col_indexer] = value instead\n",
      "\n",
      "See the caveats in the documentation: https://pandas.pydata.org/pandas-docs/stable/user_guide/indexing.html#returning-a-view-versus-a-copy\n"
     ]
    },
    {
     "data": {
      "text/html": [
       "<div>\n",
       "<style scoped>\n",
       "    .dataframe tbody tr th:only-of-type {\n",
       "        vertical-align: middle;\n",
       "    }\n",
       "\n",
       "    .dataframe tbody tr th {\n",
       "        vertical-align: top;\n",
       "    }\n",
       "\n",
       "    .dataframe thead th {\n",
       "        text-align: right;\n",
       "    }\n",
       "</style>\n",
       "<table border=\"1\" class=\"dataframe\">\n",
       "  <thead>\n",
       "    <tr style=\"text-align: right;\">\n",
       "      <th></th>\n",
       "      <th>portfolio_company</th>\n",
       "      <th>investment__interest_rate__maturity</th>\n",
       "      <th>cost</th>\n",
       "      <th>value</th>\n",
       "    </tr>\n",
       "  </thead>\n",
       "  <tbody>\n",
       "    <tr>\n",
       "      <th>0</th>\n",
       "      <td>Portfolio Company</td>\n",
       "      <td>NaN</td>\n",
       "      <td>NaN</td>\n",
       "      <td>NaN</td>\n",
       "    </tr>\n",
       "    <tr>\n",
       "      <th>1</th>\n",
       "      <td>NaN</td>\n",
       "      <td>Investment2</td>\n",
       "      <td>Cost</td>\n",
       "      <td>Value</td>\n",
       "    </tr>\n",
       "    <tr>\n",
       "      <th>2</th>\n",
       "      <td>Sydran Food Services II, L.P.</td>\n",
       "      <td>Debt Securities</td>\n",
       "      <td>12973 $</td>\n",
       "      <td>12973 $</td>\n",
       "    </tr>\n",
       "    <tr>\n",
       "      <th>3</th>\n",
       "      <td>Retail</td>\n",
       "      <td>Equity Interests</td>\n",
       "      <td>NaN</td>\n",
       "      <td>NaN</td>\n",
       "    </tr>\n",
       "    <tr>\n",
       "      <th>4</th>\n",
       "      <td>NaN</td>\n",
       "      <td>Warrants</td>\n",
       "      <td>—</td>\n",
       "      <td>NaN</td>\n",
       "    </tr>\n",
       "    <tr>\n",
       "      <th>5</th>\n",
       "      <td>Tubbs Snowshoe</td>\n",
       "      <td>Debt Securities</td>\n",
       "      <td>NaN</td>\n",
       "      <td>NaN</td>\n",
       "    </tr>\n",
       "    <tr>\n",
       "      <th>6</th>\n",
       "      <td>Company, LLC</td>\n",
       "      <td>Equity Interests</td>\n",
       "      <td>NaN</td>\n",
       "      <td>NaN</td>\n",
       "    </tr>\n",
       "    <tr>\n",
       "      <th>7</th>\n",
       "      <td>Consumer Products</td>\n",
       "      <td>Warrants</td>\n",
       "      <td>NaN</td>\n",
       "      <td>NaN</td>\n",
       "    </tr>\n",
       "    <tr>\n",
       "      <th>8</th>\n",
       "      <td>United Pet Group, Inc.</td>\n",
       "      <td>Debt Securities</td>\n",
       "      <td>NaN</td>\n",
       "      <td>NaN</td>\n",
       "    </tr>\n",
       "    <tr>\n",
       "      <th>9</th>\n",
       "      <td>Consumer Products</td>\n",
       "      <td>Warrants</td>\n",
       "      <td>NaN</td>\n",
       "      <td>NaN</td>\n",
       "    </tr>\n",
       "    <tr>\n",
       "      <th>10</th>\n",
       "      <td>Updata Venture Partners, II, L.P.4</td>\n",
       "      <td>Limited Partnership Interest</td>\n",
       "      <td>NaN</td>\n",
       "      <td>NaN</td>\n",
       "    </tr>\n",
       "    <tr>\n",
       "      <th>11</th>\n",
       "      <td>Private Equity Fund</td>\n",
       "      <td>NaN</td>\n",
       "      <td>NaN</td>\n",
       "      <td>NaN</td>\n",
       "    </tr>\n",
       "    <tr>\n",
       "      <th>12</th>\n",
       "      <td>Velocita, Inc.</td>\n",
       "      <td>Debt Securities</td>\n",
       "      <td>11718</td>\n",
       "      <td>—</td>\n",
       "    </tr>\n",
       "    <tr>\n",
       "      <th>13</th>\n",
       "      <td>Telecommunications</td>\n",
       "      <td>Warrants</td>\n",
       "      <td>NaN</td>\n",
       "      <td>—</td>\n",
       "    </tr>\n",
       "    <tr>\n",
       "      <th>14</th>\n",
       "      <td>Venturehouse Group, LLC4</td>\n",
       "      <td>Equity Interest</td>\n",
       "      <td>NaN</td>\n",
       "      <td>NaN</td>\n",
       "    </tr>\n",
       "    <tr>\n",
       "      <th>15</th>\n",
       "      <td>Private Equity Fund</td>\n",
       "      <td>NaN</td>\n",
       "      <td>NaN</td>\n",
       "      <td>NaN</td>\n",
       "    </tr>\n",
       "    <tr>\n",
       "      <th>16</th>\n",
       "      <td>Walker Investment Fund II, LLLP4</td>\n",
       "      <td>Limited Partnership Interest</td>\n",
       "      <td>NaN</td>\n",
       "      <td>NaN</td>\n",
       "    </tr>\n",
       "    <tr>\n",
       "      <th>17</th>\n",
       "      <td>Private Equity Fund</td>\n",
       "      <td>NaN</td>\n",
       "      <td>NaN</td>\n",
       "      <td>NaN</td>\n",
       "    </tr>\n",
       "    <tr>\n",
       "      <th>18</th>\n",
       "      <td>Warn Industries, Inc.</td>\n",
       "      <td>Debt Securities</td>\n",
       "      <td>11513</td>\n",
       "      <td>11513</td>\n",
       "    </tr>\n",
       "    <tr>\n",
       "      <th>19</th>\n",
       "      <td>Consumer Products</td>\n",
       "      <td>Warrants</td>\n",
       "      <td>NaN</td>\n",
       "      <td>NaN</td>\n",
       "    </tr>\n",
       "    <tr>\n",
       "      <th>20</th>\n",
       "      <td>Williams Brothers Lumber</td>\n",
       "      <td>Warrants</td>\n",
       "      <td>NaN</td>\n",
       "      <td>NaN</td>\n",
       "    </tr>\n",
       "    <tr>\n",
       "      <th>21</th>\n",
       "      <td>Company</td>\n",
       "      <td>NaN</td>\n",
       "      <td>NaN</td>\n",
       "      <td>NaN</td>\n",
       "    </tr>\n",
       "    <tr>\n",
       "      <th>22</th>\n",
       "      <td>Retail</td>\n",
       "      <td>NaN</td>\n",
       "      <td>NaN</td>\n",
       "      <td>NaN</td>\n",
       "    </tr>\n",
       "    <tr>\n",
       "      <th>23</th>\n",
       "      <td>Wilshire Restaurant Group, Inc.</td>\n",
       "      <td>Debt Securities</td>\n",
       "      <td>15630</td>\n",
       "      <td>15630</td>\n",
       "    </tr>\n",
       "    <tr>\n",
       "      <th>24</th>\n",
       "      <td>Retail</td>\n",
       "      <td>Warrants</td>\n",
       "      <td>NaN</td>\n",
       "      <td>NaN</td>\n",
       "    </tr>\n",
       "    <tr>\n",
       "      <th>25</th>\n",
       "      <td>Wilton Industries, Inc.</td>\n",
       "      <td>Loan</td>\n",
       "      <td>12000</td>\n",
       "      <td>12000</td>\n",
       "    </tr>\n",
       "    <tr>\n",
       "      <th>26</th>\n",
       "      <td>Consumer Products</td>\n",
       "      <td>NaN</td>\n",
       "      <td>NaN</td>\n",
       "      <td>NaN</td>\n",
       "    </tr>\n",
       "    <tr>\n",
       "      <th>27</th>\n",
       "      <td>Woodstream Corporation</td>\n",
       "      <td>Loan</td>\n",
       "      <td>NaN</td>\n",
       "      <td>NaN</td>\n",
       "    </tr>\n",
       "    <tr>\n",
       "      <th>28</th>\n",
       "      <td>Consumer Products</td>\n",
       "      <td>Debt Securities</td>\n",
       "      <td>NaN</td>\n",
       "      <td>NaN</td>\n",
       "    </tr>\n",
       "    <tr>\n",
       "      <th>29</th>\n",
       "      <td>NaN</td>\n",
       "      <td>Equity Interests</td>\n",
       "      <td>NaN</td>\n",
       "      <td>NaN</td>\n",
       "    </tr>\n",
       "    <tr>\n",
       "      <th>30</th>\n",
       "      <td>NaN</td>\n",
       "      <td>Warrants</td>\n",
       "      <td>NaN</td>\n",
       "      <td>NaN</td>\n",
       "    </tr>\n",
       "    <tr>\n",
       "      <th>31</th>\n",
       "      <td>Total  companies less than 5% owned</td>\n",
       "      <td>NaN</td>\n",
       "      <td>832665 $</td>\n",
       "      <td>738008 $</td>\n",
       "    </tr>\n",
       "    <tr>\n",
       "      <th>32</th>\n",
       "      <td>Total  private finance 133 portfolio companies</td>\n",
       "      <td>NaN</td>\n",
       "      <td>$ 1581012</td>\n",
       "      <td>$ 1635259</td>\n",
       "    </tr>\n",
       "  </tbody>\n",
       "</table>\n",
       "</div>"
      ],
      "text/plain": [
       "                                 portfolio_company  \\\n",
       "0                                Portfolio Company   \n",
       "1                                              NaN   \n",
       "2                    Sydran Food Services II, L.P.   \n",
       "3                                           Retail   \n",
       "4                                              NaN   \n",
       "5                                   Tubbs Snowshoe   \n",
       "6                                     Company, LLC   \n",
       "7                                Consumer Products   \n",
       "8                           United Pet Group, Inc.   \n",
       "9                                Consumer Products   \n",
       "10              Updata Venture Partners, II, L.P.4   \n",
       "11                             Private Equity Fund   \n",
       "12                                  Velocita, Inc.   \n",
       "13                              Telecommunications   \n",
       "14                        Venturehouse Group, LLC4   \n",
       "15                             Private Equity Fund   \n",
       "16                Walker Investment Fund II, LLLP4   \n",
       "17                             Private Equity Fund   \n",
       "18                           Warn Industries, Inc.   \n",
       "19                               Consumer Products   \n",
       "20                        Williams Brothers Lumber   \n",
       "21                                         Company   \n",
       "22                                          Retail   \n",
       "23                 Wilshire Restaurant Group, Inc.   \n",
       "24                                          Retail   \n",
       "25                         Wilton Industries, Inc.   \n",
       "26                               Consumer Products   \n",
       "27                          Woodstream Corporation   \n",
       "28                               Consumer Products   \n",
       "29                                             NaN   \n",
       "30                                             NaN   \n",
       "31             Total  companies less than 5% owned   \n",
       "32  Total  private finance 133 portfolio companies   \n",
       "\n",
       "   investment__interest_rate__maturity       cost      value  \n",
       "0                                  NaN        NaN        NaN  \n",
       "1                          Investment2       Cost      Value  \n",
       "2                      Debt Securities    12973 $    12973 $  \n",
       "3                     Equity Interests        NaN        NaN  \n",
       "4                             Warrants          —        NaN  \n",
       "5                      Debt Securities        NaN        NaN  \n",
       "6                     Equity Interests        NaN        NaN  \n",
       "7                             Warrants        NaN        NaN  \n",
       "8                      Debt Securities        NaN        NaN  \n",
       "9                             Warrants        NaN        NaN  \n",
       "10        Limited Partnership Interest        NaN        NaN  \n",
       "11                                 NaN        NaN        NaN  \n",
       "12                     Debt Securities      11718          —  \n",
       "13                            Warrants        NaN          —  \n",
       "14                     Equity Interest        NaN        NaN  \n",
       "15                                 NaN        NaN        NaN  \n",
       "16        Limited Partnership Interest        NaN        NaN  \n",
       "17                                 NaN        NaN        NaN  \n",
       "18                     Debt Securities      11513      11513  \n",
       "19                            Warrants        NaN        NaN  \n",
       "20                            Warrants        NaN        NaN  \n",
       "21                                 NaN        NaN        NaN  \n",
       "22                                 NaN        NaN        NaN  \n",
       "23                     Debt Securities      15630      15630  \n",
       "24                            Warrants        NaN        NaN  \n",
       "25                                Loan      12000      12000  \n",
       "26                                 NaN        NaN        NaN  \n",
       "27                                Loan        NaN        NaN  \n",
       "28                     Debt Securities        NaN        NaN  \n",
       "29                    Equity Interests        NaN        NaN  \n",
       "30                            Warrants        NaN        NaN  \n",
       "31                                 NaN   832665 $   738008 $  \n",
       "32                                 NaN  $ 1581012  $ 1635259  "
      ]
     },
     "metadata": {},
     "output_type": "display_data"
    },
    {
     "data": {
      "text/plain": [
       "{'portfolio_company': array([ True,  True, False, False, False, False, False, False, False,\n",
       "        False, False, False]),\n",
       " '': array([ True, False,  True, False, False, False,  True, False, False,\n",
       "        False, False]),\n",
       " 'investment__interest_rate__maturity': array([ True, False, False, False, False, False, False, False, False]),\n",
       " 'cost': array([ True,  True,  True, False, False, False, False, False, False]),\n",
       " 'value': array([ True,  True,  True, False, False, False, False])}"
      ]
     },
     "metadata": {},
     "output_type": "display_data"
    },
    {
     "data": {
      "text/plain": [
       "1"
      ]
     },
     "execution_count": 179,
     "metadata": {},
     "output_type": "execute_result"
    }
   ],
   "source": [
    "from dateutil.parser import parse\n",
    "\n",
    "file_path = '3906/2002-06-30/Schedule_of_Investments_14.csv'\n",
    "    \n",
    "def _clean(\n",
    "    file_path:str,\n",
    "    except_rows:str,\n",
    "    merged_pair_idxs:dict={},\n",
    ")->pd.DataFrame:\n",
    "    df = pd.read_csv(file_path,index_col=0,na_values=[' ', ''])\n",
    "    df.replace(['Private Finance','(unaudited)','in thousands, except number of shares'],'',regex=True,inplace=True)\n",
    "    df.replace(to_replace=r'[\\[\\]\\(\\){},$%˄\\xa0\\u200b]\"', value='', regex=True,inplace=True)\n",
    "    df = df.applymap(remove_datetime)\n",
    "    df = df.applymap(lambda x: x.strip() if isinstance(x, str) else x)  \n",
    "    df.replace(to_replace=r'\\(|\\)', value='', regex=True,inplace=True)\n",
    "    df.replace(to_replace='', value=np.nan, regex=True,inplace=True)\n",
    "\n",
    "    df.dropna(axis=0,how='all',inplace=True)\n",
    "\n",
    "    # df = df[~df.apply(lambda row:row.astype(str).str.contains(except_rows,case=False, na=False).any(),axis=1)]\n",
    "    if not df.apply(lambda col: col.astype(str).str.contains(r'total_investments', case=False, regex=True)).any().any() and df.shape[0] < 3:\n",
    "        return pd.DataFrame(), merged_pair_idxs\n",
    "\n",
    "    if not merged_pair_idxs:\n",
    "        important_fields = strip_string(get_header_rows(df),standardize=True)#get_key_fields(df)\n",
    "        df.columns = important_fields\n",
    "    \n",
    "\n",
    "    df,merge_pair_idxs = merge_duplicate_columns(df,merged_pair_idxs=merged_pair_idxs)\n",
    "    duplicate_idx = df.apply(lambda row:row[pd.to_numeric(row,errors='coerce').isna()].duplicated().sum() > 1 ,axis=1)\n",
    "    clean_rows = df.loc[duplicate_idx].apply(remove_row_duplicates, axis=1).reset_index(drop=True)\n",
    "    j = 0\n",
    "    for i,flag in enumerate(duplicate_idx):\n",
    "        if not flag:\n",
    "            continue\n",
    "        df.iloc[i,:] = clean_rows.loc[j,:].tolist()\n",
    "        j += 1\n",
    "\n",
    "\n",
    "    df.replace([''],np.nan,regex=True,inplace=True) #':','$','%'\n",
    "    df.dropna(axis=1,how='all',inplace=True)\n",
    "    columns = [col.isdigit() for col in df.columns]\n",
    "    df = df.drop(columns=df.columns[columns])\n",
    "    return df.reset_index(drop=True),merge_pair_idxs\n",
    "\n",
    "def get_header_rows(\n",
    "    df_cur:pd.DataFrame,\n",
    ")->tuple:\n",
    "    for idx,row in df_cur.reset_index().iterrows():\n",
    "        found = any(str(v).replace(\"$\",'').replace(\"%\",'').isnumeric() for v in row)\n",
    "        if found and  len(set(row.dropna().tolist())) >= 3:     \n",
    "            out = df_cur.iloc[:idx + 1,:].apply(\n",
    "                lambda row: ' '.join(\n",
    "                    row[row.notna()].astype(str).values\n",
    "            ), axis=0)\n",
    "  \n",
    "            return out\n",
    "    \n",
    "    return strip_string(df_cur.iloc[0].tolist())\n",
    "\n",
    "def remove_datetime(x):\n",
    "    try:\n",
    "        parse(x)\n",
    "        return np.nan\n",
    "    except Exception as e:\n",
    "        return x\n",
    "# Apply the function to each element in the DataFrame\n",
    "\n",
    "def merge_duplicate_columns(\n",
    "    df:pd.DataFrame,\n",
    "    merged_pair_idxs:dict={}\n",
    ")->pd.DataFrame:\n",
    "    duplicate_cols = merged_pair_idxs.keys()\n",
    "    flag = not merged_pair_idxs.keys()\n",
    "    if flag: \n",
    "        duplicate_cols = df.columns.unique() \n",
    "    for col_name in duplicate_cols:\n",
    "        # display(col_name)\n",
    "        mask = merged_pair_idxs.get(col_name)\n",
    "        if flag:\n",
    "            mask = df.columns == col_name\n",
    "            merged_pair_idxs[col_name] = mask\n",
    "        duplicate_data = df.loc[:, mask]\n",
    "        merged_data = duplicate_data.apply(lambda row: ' '.join(set(row.dropna().astype(str))), axis=1)\n",
    "        df = df.loc[:, ~mask]\n",
    "        df[col_name] = merged_data\n",
    "        # display(df.iloc[:,:])\n",
    "    return df.reset_index(drop=True),merged_pair_idxs\n",
    "\n",
    "def stopping_criterion(qtr:str)->str:\n",
    "    if qtr == '2004-12-31':\n",
    "        return '{}'.format(r'Total')\n",
    "    return '{}'.format(r'Total *private *finance')\n",
    "\n",
    "# merged_pair_idxs = {\n",
    "#     'portfolio_company':np.array([True]+[False]*10),\n",
    "#     'investment':np.array([False]+[True]+[False]*9),\n",
    "#     'cost':np.array([False]*3+[True]+[False]*7),\n",
    "#     'value':np.array([False]*6+[True]+[False]*4),\n",
    "# }\n",
    "merged_pair_idxs = {}\n",
    "ex = exceptions()\n",
    "ex_rows = '|'.join(except_rows())\n",
    "df,merged_pair_idxs = _clean(file_path,except_rows=ex_rows,merged_pair_idxs=merged_pair_idxs)\n",
    "display(df)\n",
    "display(merged_pair_idxs)\n",
    "index_list = df.apply(\n",
    "    lambda row:row.astype(str).str.contains(stopping_criterion(None), case=False, na=False).any(),\n",
    "    axis=1\n",
    ")\n",
    "index_list_sum = index_list.sum()\n",
    "index_list_sum\n"
   ]
  },
  {
   "cell_type": "code",
   "execution_count": 38,
   "metadata": {},
   "outputs": [
    {
     "data": {
      "text/html": [
       "<div>\n",
       "<style scoped>\n",
       "    .dataframe tbody tr th:only-of-type {\n",
       "        vertical-align: middle;\n",
       "    }\n",
       "\n",
       "    .dataframe tbody tr th {\n",
       "        vertical-align: top;\n",
       "    }\n",
       "\n",
       "    .dataframe thead th {\n",
       "        text-align: right;\n",
       "    }\n",
       "</style>\n",
       "<table border=\"1\" class=\"dataframe\">\n",
       "  <thead>\n",
       "    <tr style=\"text-align: right;\">\n",
       "      <th></th>\n",
       "      <th>portfolio_company</th>\n",
       "      <th>investment</th>\n",
       "      <th>cost</th>\n",
       "      <th>fair_value</th>\n",
       "    </tr>\n",
       "  </thead>\n",
       "  <tbody>\n",
       "    <tr>\n",
       "      <th>0</th>\n",
       "      <td>(IN THOUSANDS, EXCEPT NUMBER OF SHARES)</td>\n",
       "      <td>INVESTMENT(2)</td>\n",
       "      <td>COST</td>\n",
       "      <td>VALUE</td>\n",
       "    </tr>\n",
       "    <tr>\n",
       "      <th>1</th>\n",
       "      <td>S</td>\n",
       "      <td>C</td>\n",
       "      <td>C</td>\n",
       "      <td>C</td>\n",
       "    </tr>\n",
       "    <tr>\n",
       "      <th>2</th>\n",
       "      <td>Acme Paging, L.P.</td>\n",
       "      <td>Debt Securities</td>\n",
       "      <td>6,618</td>\n",
       "      <td>6,618</td>\n",
       "    </tr>\n",
       "    <tr>\n",
       "      <th>3</th>\n",
       "      <td>Allied Office Products</td>\n",
       "      <td>Debt Securities</td>\n",
       "      <td>9,905</td>\n",
       "      <td>9,905</td>\n",
       "    </tr>\n",
       "    <tr>\n",
       "      <th>4</th>\n",
       "      <td>American Barbecue &amp; Grill, Inc.</td>\n",
       "      <td>Warrants</td>\n",
       "      <td>125</td>\n",
       "      <td>125</td>\n",
       "    </tr>\n",
       "    <tr>\n",
       "      <th>5</th>\n",
       "      <td>ASW Holding Corporation</td>\n",
       "      <td>Warrants</td>\n",
       "      <td>25</td>\n",
       "      <td>25</td>\n",
       "    </tr>\n",
       "    <tr>\n",
       "      <th>6</th>\n",
       "      <td>Aurora Communications, LLC</td>\n",
       "      <td>Loans</td>\n",
       "      <td>13,370</td>\n",
       "      <td>13,370</td>\n",
       "    </tr>\n",
       "    <tr>\n",
       "      <th>7</th>\n",
       "      <td>Avborne, Inc.</td>\n",
       "      <td>Debt Securities</td>\n",
       "      <td>11,959</td>\n",
       "      <td>11,959</td>\n",
       "    </tr>\n",
       "    <tr>\n",
       "      <th>8</th>\n",
       "      <td>Bakery Chef, Inc.</td>\n",
       "      <td>Loans</td>\n",
       "      <td>10,967</td>\n",
       "      <td>10,967</td>\n",
       "    </tr>\n",
       "    <tr>\n",
       "      <th>9</th>\n",
       "      <td>CampGroup, LLC</td>\n",
       "      <td>Debt Securities</td>\n",
       "      <td>2,491</td>\n",
       "      <td>2,491</td>\n",
       "    </tr>\n",
       "    <tr>\n",
       "      <th>10</th>\n",
       "      <td>Candlewood Hotel Company (1)</td>\n",
       "      <td>Preferred Stock (3,250 shares)</td>\n",
       "      <td>3,250</td>\n",
       "      <td>3,250</td>\n",
       "    </tr>\n",
       "    <tr>\n",
       "      <th>11</th>\n",
       "      <td>Celebrities, Inc.</td>\n",
       "      <td>Loan</td>\n",
       "      <td>310</td>\n",
       "      <td>310</td>\n",
       "    </tr>\n",
       "    <tr>\n",
       "      <th>12</th>\n",
       "      <td>Convenience Corporation of America</td>\n",
       "      <td>Debt Securities</td>\n",
       "      <td>8,355</td>\n",
       "      <td>2,738</td>\n",
       "    </tr>\n",
       "    <tr>\n",
       "      <th>13</th>\n",
       "      <td>Cooper Natural Resources, Inc.</td>\n",
       "      <td>Debt Securities</td>\n",
       "      <td>3,460</td>\n",
       "      <td>3,460</td>\n",
       "    </tr>\n",
       "    <tr>\n",
       "      <th>14</th>\n",
       "      <td>CorrFlex Graphics, LLC</td>\n",
       "      <td>Loan</td>\n",
       "      <td>6,957</td>\n",
       "      <td>6,957</td>\n",
       "    </tr>\n",
       "    <tr>\n",
       "      <th>15</th>\n",
       "      <td>Cosmetic Manufacturing</td>\n",
       "      <td>Debt Securities</td>\n",
       "      <td>5,817</td>\n",
       "      <td>5,817</td>\n",
       "    </tr>\n",
       "    <tr>\n",
       "      <th>16</th>\n",
       "      <td>Resources, LLC</td>\n",
       "      <td>Options</td>\n",
       "      <td>87</td>\n",
       "      <td>87</td>\n",
       "    </tr>\n",
       "    <tr>\n",
       "      <th>17</th>\n",
       "      <td>Coverall North America</td>\n",
       "      <td>Loan</td>\n",
       "      <td>9,298</td>\n",
       "      <td>9,298</td>\n",
       "    </tr>\n",
       "    <tr>\n",
       "      <th>18</th>\n",
       "      <td>CyberRep.com</td>\n",
       "      <td>Debt Securities</td>\n",
       "      <td>3,694</td>\n",
       "      <td>3,694</td>\n",
       "    </tr>\n",
       "    <tr>\n",
       "      <th>19</th>\n",
       "      <td>DeVlieg-Bullard, Inc. (1)</td>\n",
       "      <td>Warrants</td>\n",
       "      <td>350</td>\n",
       "      <td>29</td>\n",
       "    </tr>\n",
       "    <tr>\n",
       "      <th>20</th>\n",
       "      <td>S</td>\n",
       "      <td>C</td>\n",
       "      <td>C</td>\n",
       "      <td>C</td>\n",
       "    </tr>\n",
       "    <tr>\n",
       "      <th>21</th>\n",
       "      <td>(IN THOUSANDS, EXCEPT NUMBER OF SHARES)</td>\n",
       "      <td>INVESTMENT(2)</td>\n",
       "      <td>COST</td>\n",
       "      <td>VALUE</td>\n",
       "    </tr>\n",
       "    <tr>\n",
       "      <th>22</th>\n",
       "      <td>S</td>\n",
       "      <td>C</td>\n",
       "      <td>C</td>\n",
       "      <td>C</td>\n",
       "    </tr>\n",
       "    <tr>\n",
       "      <th>23</th>\n",
       "      <td>Company, Inc.</td>\n",
       "      <td>Debt Securities</td>\n",
       "      <td>786</td>\n",
       "      <td>786</td>\n",
       "    </tr>\n",
       "    <tr>\n",
       "      <th>24</th>\n",
       "      <td>EDM Consulting, LLC</td>\n",
       "      <td>Debt Securities</td>\n",
       "      <td>1,875</td>\n",
       "      <td>343</td>\n",
       "    </tr>\n",
       "    <tr>\n",
       "      <th>25</th>\n",
       "      <td>El Dorado Communications, Inc.</td>\n",
       "      <td>Loans</td>\n",
       "      <td>306</td>\n",
       "      <td>306</td>\n",
       "    </tr>\n",
       "    <tr>\n",
       "      <th>26</th>\n",
       "      <td>Eparfin S.A.</td>\n",
       "      <td>Loan</td>\n",
       "      <td>29</td>\n",
       "      <td>29</td>\n",
       "    </tr>\n",
       "    <tr>\n",
       "      <th>27</th>\n",
       "      <td>Ex Terra Credit Recovery, Inc.</td>\n",
       "      <td>Series A Preferred Stock (500 shares)</td>\n",
       "      <td>500</td>\n",
       "      <td>500</td>\n",
       "    </tr>\n",
       "    <tr>\n",
       "      <th>28</th>\n",
       "      <td>Executive Greetings, Inc.</td>\n",
       "      <td>Debt Securities</td>\n",
       "      <td>15,825</td>\n",
       "      <td>15,825</td>\n",
       "    </tr>\n",
       "    <tr>\n",
       "      <th>29</th>\n",
       "      <td>Fairchild Industrial Products Company</td>\n",
       "      <td>Debt Securities</td>\n",
       "      <td>5,753</td>\n",
       "      <td>5,753</td>\n",
       "    </tr>\n",
       "    <tr>\n",
       "      <th>30</th>\n",
       "      <td>FTI Consulting, Inc. (1)</td>\n",
       "      <td>Debt Securities</td>\n",
       "      <td>12,053</td>\n",
       "      <td>12,053</td>\n",
       "    </tr>\n",
       "    <tr>\n",
       "      <th>31</th>\n",
       "      <td>Galaxy American</td>\n",
       "      <td>Debt Securities</td>\n",
       "      <td>30,740</td>\n",
       "      <td>30,740</td>\n",
       "    </tr>\n",
       "    <tr>\n",
       "      <th>32</th>\n",
       "      <td>Communications, LLC</td>\n",
       "      <td>Options</td>\n",
       "      <td>--</td>\n",
       "      <td>750</td>\n",
       "    </tr>\n",
       "    <tr>\n",
       "      <th>33</th>\n",
       "      <td>Garden Ridge Corporation</td>\n",
       "      <td>Debt Securities</td>\n",
       "      <td>26,537</td>\n",
       "      <td>26,537</td>\n",
       "    </tr>\n",
       "    <tr>\n",
       "      <th>34</th>\n",
       "      <td>Genesis Worldwide, Inc. (1)</td>\n",
       "      <td>Loan</td>\n",
       "      <td>1,328</td>\n",
       "      <td>1,328</td>\n",
       "    </tr>\n",
       "    <tr>\n",
       "      <th>35</th>\n",
       "      <td>Genoa Mine Acquisition Corporation</td>\n",
       "      <td>Loan</td>\n",
       "      <td>108</td>\n",
       "      <td>108</td>\n",
       "    </tr>\n",
       "    <tr>\n",
       "      <th>36</th>\n",
       "      <td>Gibson Guitar Corporation</td>\n",
       "      <td>Debt Securities</td>\n",
       "      <td>15,742</td>\n",
       "      <td>15,742</td>\n",
       "    </tr>\n",
       "    <tr>\n",
       "      <th>37</th>\n",
       "      <td>Ginsey Industries, Inc.</td>\n",
       "      <td>Loans</td>\n",
       "      <td>5,000</td>\n",
       "      <td>5,000</td>\n",
       "    </tr>\n",
       "    <tr>\n",
       "      <th>38</th>\n",
       "      <td>Global Communications, LLC</td>\n",
       "      <td>Loans</td>\n",
       "      <td>2,526</td>\n",
       "      <td>2,526</td>\n",
       "    </tr>\n",
       "    <tr>\n",
       "      <th>39</th>\n",
       "      <td>Golden Eagle/Satellite</td>\n",
       "      <td>Loans</td>\n",
       "      <td>1,390</td>\n",
       "      <td>840</td>\n",
       "    </tr>\n",
       "    <tr>\n",
       "      <th>40</th>\n",
       "      <td>Archery, LLC</td>\n",
       "      <td>Convertible Debentures</td>\n",
       "      <td>2,248</td>\n",
       "      <td>2,008</td>\n",
       "    </tr>\n",
       "    <tr>\n",
       "      <th>41</th>\n",
       "      <td>Grant Broadcasting Systems II</td>\n",
       "      <td>Debt Securities</td>\n",
       "      <td>5,200</td>\n",
       "      <td>5,200</td>\n",
       "    </tr>\n",
       "    <tr>\n",
       "      <th>42</th>\n",
       "      <td>Grant Television, Inc.</td>\n",
       "      <td>Debt Securities</td>\n",
       "      <td>9,177</td>\n",
       "      <td>9,177</td>\n",
       "    </tr>\n",
       "    <tr>\n",
       "      <th>43</th>\n",
       "      <td>Hotelevision, Inc.</td>\n",
       "      <td>Preferred Stock (1,000,000 shares)</td>\n",
       "      <td>1,000</td>\n",
       "      <td>1,000</td>\n",
       "    </tr>\n",
       "    <tr>\n",
       "      <th>44</th>\n",
       "      <td>Icon International, Inc.</td>\n",
       "      <td>Series A Preferred Stock (13,720 shares)</td>\n",
       "      <td>1,334</td>\n",
       "      <td>1,334</td>\n",
       "    </tr>\n",
       "    <tr>\n",
       "      <th>45</th>\n",
       "      <td>Impact Innovations Group</td>\n",
       "      <td>Debt Securities</td>\n",
       "      <td>7,841</td>\n",
       "      <td>7,841</td>\n",
       "    </tr>\n",
       "    <tr>\n",
       "      <th>46</th>\n",
       "      <td>Jakel, Inc.</td>\n",
       "      <td>Loan</td>\n",
       "      <td>18,174</td>\n",
       "      <td>18,174</td>\n",
       "    </tr>\n",
       "    <tr>\n",
       "      <th>47</th>\n",
       "      <td>S</td>\n",
       "      <td>C</td>\n",
       "      <td>C</td>\n",
       "      <td>C</td>\n",
       "    </tr>\n",
       "    <tr>\n",
       "      <th>48</th>\n",
       "      <td>(IN THOUSANDS, EXCEPT NUMBER OF SHARES)</td>\n",
       "      <td>INVESTMENT(2)</td>\n",
       "      <td>COST</td>\n",
       "      <td>VALUE</td>\n",
       "    </tr>\n",
       "    <tr>\n",
       "      <th>49</th>\n",
       "      <td>S</td>\n",
       "      <td>C</td>\n",
       "      <td>C</td>\n",
       "      <td>C</td>\n",
       "    </tr>\n",
       "  </tbody>\n",
       "</table>\n",
       "</div>"
      ],
      "text/plain": [
       "                          portfolio_company  \\\n",
       "0   (IN THOUSANDS, EXCEPT NUMBER OF SHARES)   \n",
       "1                                         S   \n",
       "2                         Acme Paging, L.P.   \n",
       "3                    Allied Office Products   \n",
       "4           American Barbecue & Grill, Inc.   \n",
       "5                   ASW Holding Corporation   \n",
       "6                Aurora Communications, LLC   \n",
       "7                             Avborne, Inc.   \n",
       "8                         Bakery Chef, Inc.   \n",
       "9                            CampGroup, LLC   \n",
       "10             Candlewood Hotel Company (1)   \n",
       "11                        Celebrities, Inc.   \n",
       "12       Convenience Corporation of America   \n",
       "13           Cooper Natural Resources, Inc.   \n",
       "14                   CorrFlex Graphics, LLC   \n",
       "15                   Cosmetic Manufacturing   \n",
       "16                           Resources, LLC   \n",
       "17                   Coverall North America   \n",
       "18                             CyberRep.com   \n",
       "19                DeVlieg-Bullard, Inc. (1)   \n",
       "20                                        S   \n",
       "21  (IN THOUSANDS, EXCEPT NUMBER OF SHARES)   \n",
       "22                                        S   \n",
       "23                            Company, Inc.   \n",
       "24                      EDM Consulting, LLC   \n",
       "25           El Dorado Communications, Inc.   \n",
       "26                             Eparfin S.A.   \n",
       "27           Ex Terra Credit Recovery, Inc.   \n",
       "28                Executive Greetings, Inc.   \n",
       "29    Fairchild Industrial Products Company   \n",
       "30                 FTI Consulting, Inc. (1)   \n",
       "31                          Galaxy American   \n",
       "32                      Communications, LLC   \n",
       "33                 Garden Ridge Corporation   \n",
       "34              Genesis Worldwide, Inc. (1)   \n",
       "35       Genoa Mine Acquisition Corporation   \n",
       "36                Gibson Guitar Corporation   \n",
       "37                  Ginsey Industries, Inc.   \n",
       "38               Global Communications, LLC   \n",
       "39                   Golden Eagle/Satellite   \n",
       "40                             Archery, LLC   \n",
       "41            Grant Broadcasting Systems II   \n",
       "42                   Grant Television, Inc.   \n",
       "43                       Hotelevision, Inc.   \n",
       "44                 Icon International, Inc.   \n",
       "45                 Impact Innovations Group   \n",
       "46                              Jakel, Inc.   \n",
       "47                                        S   \n",
       "48  (IN THOUSANDS, EXCEPT NUMBER OF SHARES)   \n",
       "49                                        S   \n",
       "\n",
       "                                  investment    cost fair_value  \n",
       "0                              INVESTMENT(2)    COST      VALUE  \n",
       "1                                          C       C          C  \n",
       "2                            Debt Securities   6,618      6,618  \n",
       "3                            Debt Securities   9,905      9,905  \n",
       "4                                   Warrants     125        125  \n",
       "5                                   Warrants      25         25  \n",
       "6                                      Loans  13,370     13,370  \n",
       "7                            Debt Securities  11,959     11,959  \n",
       "8                                      Loans  10,967     10,967  \n",
       "9                            Debt Securities   2,491      2,491  \n",
       "10            Preferred Stock (3,250 shares)   3,250      3,250  \n",
       "11                                      Loan     310        310  \n",
       "12                           Debt Securities   8,355      2,738  \n",
       "13                           Debt Securities   3,460      3,460  \n",
       "14                                      Loan   6,957      6,957  \n",
       "15                           Debt Securities   5,817      5,817  \n",
       "16                                   Options      87         87  \n",
       "17                                      Loan   9,298      9,298  \n",
       "18                           Debt Securities   3,694      3,694  \n",
       "19                                  Warrants     350         29  \n",
       "20                                         C       C          C  \n",
       "21                             INVESTMENT(2)    COST      VALUE  \n",
       "22                                         C       C          C  \n",
       "23                           Debt Securities     786        786  \n",
       "24                           Debt Securities   1,875        343  \n",
       "25                                     Loans     306        306  \n",
       "26                                      Loan      29         29  \n",
       "27     Series A Preferred Stock (500 shares)     500        500  \n",
       "28                           Debt Securities  15,825     15,825  \n",
       "29                           Debt Securities   5,753      5,753  \n",
       "30                           Debt Securities  12,053     12,053  \n",
       "31                           Debt Securities  30,740     30,740  \n",
       "32                                   Options      --        750  \n",
       "33                           Debt Securities  26,537     26,537  \n",
       "34                                      Loan   1,328      1,328  \n",
       "35                                      Loan     108        108  \n",
       "36                           Debt Securities  15,742     15,742  \n",
       "37                                     Loans   5,000      5,000  \n",
       "38                                     Loans   2,526      2,526  \n",
       "39                                     Loans   1,390        840  \n",
       "40                    Convertible Debentures   2,248      2,008  \n",
       "41                           Debt Securities   5,200      5,200  \n",
       "42                           Debt Securities   9,177      9,177  \n",
       "43        Preferred Stock (1,000,000 shares)   1,000      1,000  \n",
       "44  Series A Preferred Stock (13,720 shares)   1,334      1,334  \n",
       "45                           Debt Securities   7,841      7,841  \n",
       "46                                      Loan  18,174     18,174  \n",
       "47                                         C       C          C  \n",
       "48                             INVESTMENT(2)    COST      VALUE  \n",
       "49                                         C       C          C  "
      ]
     },
     "execution_count": 38,
     "metadata": {},
     "output_type": "execute_result"
    }
   ],
   "source": [
    "from bs4 import BeautifulSoup\n",
    "\n",
    "def md_parse(\n",
    "    xml_file:str,\n",
    "    start_str:str='CONSOLIDATED STATEMENT OF INVESTMENTS',\n",
    "    end_str:str='Total private finance',\n",
    "    columns:list=['portfolio_company','investment','cost','fair_value']\n",
    ")->pd.DataFrame:\n",
    "    # Load HTML content\n",
    "    with open(xml_file, 'r') as file:\n",
    "        html_content = file.read()\n",
    "    soup = BeautifulSoup(html_content, 'html.parser')\n",
    "    # If the content is inside <pre>, get the text within it\n",
    "    pre_text = soup.find('pre').get_text()\n",
    "    # logger.info(pre_text)\n",
    "    start = pre_text.split(start_str)[-1]\n",
    "\n",
    "    # start = start[:len(start)]\n",
    "    end = start.split(end_str)[0]\n",
    "    # logger.info(end)\n",
    "    lines = end.split('\\n')\n",
    "    data = []\n",
    "    num_cols = len(lines[0].split())\n",
    "    for line in lines:\n",
    "        line = line.strip('< >-')\n",
    "        line = re.sub(r'[<>]', '', line)  # Replace occurrences of < or > with nothing\n",
    "        row = [np.nan]*num_cols\n",
    "        values = re.split(r'\\s{4,}', line)\n",
    "        if len(values) < 4:\n",
    "            continue\n",
    "        row[:len(values)] = values[:4]\n",
    "        data.append(row)   \n",
    "    df = pd.DataFrame(data,columns=columns).dropna(axis=1,how='all')\n",
    "    return df\n",
    "\n",
    "file = '3906/2000-06-30/e10-q.txt.html'\n",
    "md_parse(file).head(50)"
   ]
  },
  {
   "cell_type": "code",
   "execution_count": 64,
   "metadata": {},
   "outputs": [
    {
     "ename": "ParserError",
     "evalue": "String does not contain a date: ",
     "output_type": "error",
     "traceback": [
      "\u001b[0;31m---------------------------------------------------------------------------\u001b[0m",
      "\u001b[0;31mParserError\u001b[0m                               Traceback (most recent call last)",
      "\u001b[0;32m<ipython-input-65-08fe20ef5708>\u001b[0m in \u001b[0;36m<module>\u001b[0;34m\u001b[0m\n\u001b[1;32m      1\u001b[0m \u001b[0;32mfrom\u001b[0m \u001b[0mdateutil\u001b[0m\u001b[0;34m.\u001b[0m\u001b[0mparser\u001b[0m \u001b[0;32mimport\u001b[0m \u001b[0mparse\u001b[0m\u001b[0;34m\u001b[0m\u001b[0;34m\u001b[0m\u001b[0m\n\u001b[0;32m----> 2\u001b[0;31m \u001b[0mparse\u001b[0m\u001b[0;34m(\u001b[0m\u001b[0;34m\"\"\u001b[0m\u001b[0;34m)\u001b[0m\u001b[0;34m\u001b[0m\u001b[0;34m\u001b[0m\u001b[0m\n\u001b[0m",
      "\u001b[0;32m~/anaconda3/envs/sec/lib/python3.6/site-packages/dateutil/parser/_parser.py\u001b[0m in \u001b[0;36mparse\u001b[0;34m(timestr, parserinfo, **kwargs)\u001b[0m\n\u001b[1;32m   1366\u001b[0m         \u001b[0;32mreturn\u001b[0m \u001b[0mparser\u001b[0m\u001b[0;34m(\u001b[0m\u001b[0mparserinfo\u001b[0m\u001b[0;34m)\u001b[0m\u001b[0;34m.\u001b[0m\u001b[0mparse\u001b[0m\u001b[0;34m(\u001b[0m\u001b[0mtimestr\u001b[0m\u001b[0;34m,\u001b[0m \u001b[0;34m**\u001b[0m\u001b[0mkwargs\u001b[0m\u001b[0;34m)\u001b[0m\u001b[0;34m\u001b[0m\u001b[0;34m\u001b[0m\u001b[0m\n\u001b[1;32m   1367\u001b[0m     \u001b[0;32melse\u001b[0m\u001b[0;34m:\u001b[0m\u001b[0;34m\u001b[0m\u001b[0;34m\u001b[0m\u001b[0m\n\u001b[0;32m-> 1368\u001b[0;31m         \u001b[0;32mreturn\u001b[0m \u001b[0mDEFAULTPARSER\u001b[0m\u001b[0;34m.\u001b[0m\u001b[0mparse\u001b[0m\u001b[0;34m(\u001b[0m\u001b[0mtimestr\u001b[0m\u001b[0;34m,\u001b[0m \u001b[0;34m**\u001b[0m\u001b[0mkwargs\u001b[0m\u001b[0;34m)\u001b[0m\u001b[0;34m\u001b[0m\u001b[0;34m\u001b[0m\u001b[0m\n\u001b[0m\u001b[1;32m   1369\u001b[0m \u001b[0;34m\u001b[0m\u001b[0m\n\u001b[1;32m   1370\u001b[0m \u001b[0;34m\u001b[0m\u001b[0m\n",
      "\u001b[0;32m~/anaconda3/envs/sec/lib/python3.6/site-packages/dateutil/parser/_parser.py\u001b[0m in \u001b[0;36mparse\u001b[0;34m(self, timestr, default, ignoretz, tzinfos, **kwargs)\u001b[0m\n\u001b[1;32m    644\u001b[0m \u001b[0;34m\u001b[0m\u001b[0m\n\u001b[1;32m    645\u001b[0m         \u001b[0;32mif\u001b[0m \u001b[0mlen\u001b[0m\u001b[0;34m(\u001b[0m\u001b[0mres\u001b[0m\u001b[0;34m)\u001b[0m \u001b[0;34m==\u001b[0m \u001b[0;36m0\u001b[0m\u001b[0;34m:\u001b[0m\u001b[0;34m\u001b[0m\u001b[0;34m\u001b[0m\u001b[0m\n\u001b[0;32m--> 646\u001b[0;31m             \u001b[0;32mraise\u001b[0m \u001b[0mParserError\u001b[0m\u001b[0;34m(\u001b[0m\u001b[0;34m\"String does not contain a date: %s\"\u001b[0m\u001b[0;34m,\u001b[0m \u001b[0mtimestr\u001b[0m\u001b[0;34m)\u001b[0m\u001b[0;34m\u001b[0m\u001b[0;34m\u001b[0m\u001b[0m\n\u001b[0m\u001b[1;32m    647\u001b[0m \u001b[0;34m\u001b[0m\u001b[0m\n\u001b[1;32m    648\u001b[0m         \u001b[0;32mtry\u001b[0m\u001b[0;34m:\u001b[0m\u001b[0;34m\u001b[0m\u001b[0;34m\u001b[0m\u001b[0m\n",
      "\u001b[0;31mParserError\u001b[0m: String does not contain a date: "
     ]
    }
   ],
   "source": [
    "from dateutil.parser import parse\n",
    "parse(\"March 31, 2002\t\")"
   ]
  }
 ],
 "metadata": {
  "kernelspec": {
   "display_name": "Python 3",
   "language": "python",
   "name": "python3"
  },
  "language_info": {
   "codemirror_mode": {
    "name": "ipython",
    "version": 3
   },
   "file_extension": ".py",
   "mimetype": "text/x-python",
   "name": "python",
   "nbconvert_exporter": "python",
   "pygments_lexer": "ipython3",
   "version": "3.6.13"
  }
 },
 "nbformat": 4,
 "nbformat_minor": 2
}
