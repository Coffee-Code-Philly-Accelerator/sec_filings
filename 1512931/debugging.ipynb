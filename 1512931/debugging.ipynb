{
 "cells": [
  {
   "cell_type": "code",
   "execution_count": 13,
   "metadata": {},
   "outputs": [
    {
     "data": {
      "text/plain": [
       "'2012-12-31'"
      ]
     },
     "metadata": {},
     "output_type": "display_data"
    },
    {
     "name": "stderr",
     "output_type": "stream",
     "text": [
      "WARNING:root:Applied processor reduces input query to empty string, all comparisons will have score 0. [Query: '']\n",
      "WARNING:root:Applied processor reduces input query to empty string, all comparisons will have score 0. [Query: '']\n",
      "WARNING:root:Applied processor reduces input query to empty string, all comparisons will have score 0. [Query: '']\n",
      "WARNING:root:Applied processor reduces input query to empty string, all comparisons will have score 0. [Query: '']\n",
      "WARNING:root:Applied processor reduces input query to empty string, all comparisons will have score 0. [Query: '']\n",
      "WARNING:root:Applied processor reduces input query to empty string, all comparisons will have score 0. [Query: '']\n",
      "WARNING:root:Applied processor reduces input query to empty string, all comparisons will have score 0. [Query: '']\n",
      "WARNING:root:Applied processor reduces input query to empty string, all comparisons will have score 0. [Query: '']\n",
      "WARNING:root:Applied processor reduces input query to empty string, all comparisons will have score 0. [Query: '']\n",
      "WARNING:root:Applied processor reduces input query to empty string, all comparisons will have score 0. [Query: '']\n",
      "WARNING:root:Applied processor reduces input query to empty string, all comparisons will have score 0. [Query: '']\n",
      "WARNING:root:Applied processor reduces input query to empty string, all comparisons will have score 0. [Query: '']\n",
      "WARNING:root:Applied processor reduces input query to empty string, all comparisons will have score 0. [Query: '']\n",
      "WARNING:root:Applied processor reduces input query to empty string, all comparisons will have score 0. [Query: '']\n",
      "WARNING:root:Applied processor reduces input query to empty string, all comparisons will have score 0. [Query: '']\n"
     ]
    },
    {
     "data": {
      "text/plain": [
       "('Portfolio_Company',\n",
       " '',\n",
       " 'Industry',\n",
       " '',\n",
       " 'Spread_Above_Index',\n",
       " 'Spread_Above_Index',\n",
       " '',\n",
       " '',\n",
       " 'Interest_Rate',\n",
       " 'Interest_Rate',\n",
       " '',\n",
       " '',\n",
       " 'Maturity',\n",
       " 'Maturity',\n",
       " '',\n",
       " '',\n",
       " 'Principal/Shares',\n",
       " 'Principal/Shares',\n",
       " '',\n",
       " '',\n",
       " 'cost',\n",
       " 'cost',\n",
       " '',\n",
       " '',\n",
       " 'fair_value',\n",
       " 'fair_value',\n",
       " '',\n",
       " '',\n",
       " 'of_Net_Assets',\n",
       " 'of_Net_Assets',\n",
       " '')"
      ]
     },
     "metadata": {},
     "output_type": "display_data"
    },
    {
     "data": {
      "text/plain": [
       "'2013-03-31'"
      ]
     },
     "metadata": {},
     "output_type": "display_data"
    },
    {
     "name": "stderr",
     "output_type": "stream",
     "text": [
      "WARNING:root:Applied processor reduces input query to empty string, all comparisons will have score 0. [Query: '']\n",
      "WARNING:root:Applied processor reduces input query to empty string, all comparisons will have score 0. [Query: '']\n",
      "WARNING:root:Applied processor reduces input query to empty string, all comparisons will have score 0. [Query: '']\n",
      "WARNING:root:Applied processor reduces input query to empty string, all comparisons will have score 0. [Query: '']\n",
      "WARNING:root:Applied processor reduces input query to empty string, all comparisons will have score 0. [Query: '']\n",
      "WARNING:root:Applied processor reduces input query to empty string, all comparisons will have score 0. [Query: '']\n",
      "WARNING:root:Applied processor reduces input query to empty string, all comparisons will have score 0. [Query: '']\n",
      "WARNING:root:Applied processor reduces input query to empty string, all comparisons will have score 0. [Query: '']\n",
      "WARNING:root:Applied processor reduces input query to empty string, all comparisons will have score 0. [Query: '']\n",
      "WARNING:root:Applied processor reduces input query to empty string, all comparisons will have score 0. [Query: '']\n",
      "WARNING:root:Applied processor reduces input query to empty string, all comparisons will have score 0. [Query: '']\n",
      "WARNING:root:Applied processor reduces input query to empty string, all comparisons will have score 0. [Query: '']\n",
      "WARNING:root:Applied processor reduces input query to empty string, all comparisons will have score 0. [Query: '']\n",
      "WARNING:root:Applied processor reduces input query to empty string, all comparisons will have score 0. [Query: '']\n",
      "WARNING:root:Applied processor reduces input query to empty string, all comparisons will have score 0. [Query: '']\n"
     ]
    },
    {
     "data": {
      "text/plain": [
       "('Portfolio_Company',\n",
       " '',\n",
       " 'Industry',\n",
       " '',\n",
       " 'Spread_Above_Index',\n",
       " 'Spread_Above_Index',\n",
       " '',\n",
       " '',\n",
       " 'Interest_Rate',\n",
       " 'Interest_Rate',\n",
       " '',\n",
       " '',\n",
       " 'Maturity',\n",
       " 'Maturity',\n",
       " '',\n",
       " '',\n",
       " 'principal_amount',\n",
       " 'principal_amount',\n",
       " '',\n",
       " '',\n",
       " 'cost',\n",
       " 'cost',\n",
       " '',\n",
       " '',\n",
       " 'fair_value',\n",
       " 'fair_value',\n",
       " '',\n",
       " '',\n",
       " 'of_Net_Assets',\n",
       " 'of_Net_Assets',\n",
       " '')"
      ]
     },
     "metadata": {},
     "output_type": "display_data"
    },
    {
     "data": {
      "text/plain": [
       "'2013-06-30'"
      ]
     },
     "metadata": {},
     "output_type": "display_data"
    },
    {
     "name": "stderr",
     "output_type": "stream",
     "text": [
      "WARNING:root:Applied processor reduces input query to empty string, all comparisons will have score 0. [Query: '']\n",
      "WARNING:root:Applied processor reduces input query to empty string, all comparisons will have score 0. [Query: '']\n",
      "WARNING:root:Applied processor reduces input query to empty string, all comparisons will have score 0. [Query: '']\n",
      "WARNING:root:Applied processor reduces input query to empty string, all comparisons will have score 0. [Query: '']\n",
      "WARNING:root:Applied processor reduces input query to empty string, all comparisons will have score 0. [Query: '']\n",
      "WARNING:root:Applied processor reduces input query to empty string, all comparisons will have score 0. [Query: '']\n",
      "WARNING:root:Applied processor reduces input query to empty string, all comparisons will have score 0. [Query: '']\n",
      "WARNING:root:Applied processor reduces input query to empty string, all comparisons will have score 0. [Query: '']\n",
      "WARNING:root:Applied processor reduces input query to empty string, all comparisons will have score 0. [Query: '']\n",
      "WARNING:root:Applied processor reduces input query to empty string, all comparisons will have score 0. [Query: '']\n",
      "WARNING:root:Applied processor reduces input query to empty string, all comparisons will have score 0. [Query: '']\n",
      "WARNING:root:Applied processor reduces input query to empty string, all comparisons will have score 0. [Query: '']\n",
      "WARNING:root:Applied processor reduces input query to empty string, all comparisons will have score 0. [Query: '']\n",
      "WARNING:root:Applied processor reduces input query to empty string, all comparisons will have score 0. [Query: '']\n",
      "WARNING:root:Applied processor reduces input query to empty string, all comparisons will have score 0. [Query: '']\n"
     ]
    },
    {
     "data": {
      "text/plain": [
       "('Portfolio_Company',\n",
       " '',\n",
       " 'Industry',\n",
       " '',\n",
       " 'Spread_Above_Index',\n",
       " 'Spread_Above_Index',\n",
       " '',\n",
       " '',\n",
       " 'Interest_Rate',\n",
       " 'Interest_Rate',\n",
       " '',\n",
       " '',\n",
       " 'Maturity',\n",
       " 'Maturity',\n",
       " '',\n",
       " '',\n",
       " 'Principal/Shares',\n",
       " 'Principal/Shares',\n",
       " '',\n",
       " '',\n",
       " 'cost',\n",
       " 'cost',\n",
       " '',\n",
       " '',\n",
       " 'fair_value',\n",
       " 'fair_value',\n",
       " '',\n",
       " '',\n",
       " 'of_Net_Assets',\n",
       " 'of_Net_Assets',\n",
       " '')"
      ]
     },
     "metadata": {},
     "output_type": "display_data"
    },
    {
     "data": {
      "text/plain": [
       "'2013-09-30'"
      ]
     },
     "metadata": {},
     "output_type": "display_data"
    },
    {
     "name": "stderr",
     "output_type": "stream",
     "text": [
      "WARNING:root:Applied processor reduces input query to empty string, all comparisons will have score 0. [Query: '']\n",
      "WARNING:root:Applied processor reduces input query to empty string, all comparisons will have score 0. [Query: '']\n",
      "WARNING:root:Applied processor reduces input query to empty string, all comparisons will have score 0. [Query: '']\n",
      "WARNING:root:Applied processor reduces input query to empty string, all comparisons will have score 0. [Query: '']\n",
      "WARNING:root:Applied processor reduces input query to empty string, all comparisons will have score 0. [Query: '']\n",
      "WARNING:root:Applied processor reduces input query to empty string, all comparisons will have score 0. [Query: '']\n",
      "WARNING:root:Applied processor reduces input query to empty string, all comparisons will have score 0. [Query: '']\n",
      "WARNING:root:Applied processor reduces input query to empty string, all comparisons will have score 0. [Query: '']\n",
      "WARNING:root:Applied processor reduces input query to empty string, all comparisons will have score 0. [Query: '']\n",
      "WARNING:root:Applied processor reduces input query to empty string, all comparisons will have score 0. [Query: '']\n",
      "WARNING:root:Applied processor reduces input query to empty string, all comparisons will have score 0. [Query: '']\n",
      "WARNING:root:Applied processor reduces input query to empty string, all comparisons will have score 0. [Query: '']\n",
      "WARNING:root:Applied processor reduces input query to empty string, all comparisons will have score 0. [Query: '']\n",
      "WARNING:root:Applied processor reduces input query to empty string, all comparisons will have score 0. [Query: '']\n",
      "WARNING:root:Applied processor reduces input query to empty string, all comparisons will have score 0. [Query: '']\n"
     ]
    },
    {
     "data": {
      "text/plain": [
       "('Portfolio_Company',\n",
       " '',\n",
       " 'Industry',\n",
       " '',\n",
       " 'Spread_Above_Index',\n",
       " 'Spread_Above_Index',\n",
       " '',\n",
       " '',\n",
       " 'Interest_Rate',\n",
       " 'Interest_Rate',\n",
       " '',\n",
       " '',\n",
       " 'Maturity',\n",
       " 'Maturity',\n",
       " '',\n",
       " '',\n",
       " 'Principal/Shares',\n",
       " 'Principal/Shares',\n",
       " '',\n",
       " '',\n",
       " 'cost',\n",
       " 'cost',\n",
       " '',\n",
       " '',\n",
       " 'fair_value',\n",
       " 'fair_value',\n",
       " '',\n",
       " '',\n",
       " 'of_Net_Assets',\n",
       " 'of_Net_Assets',\n",
       " '')"
      ]
     },
     "metadata": {},
     "output_type": "display_data"
    },
    {
     "data": {
      "text/plain": [
       "'2013-12-31'"
      ]
     },
     "metadata": {},
     "output_type": "display_data"
    },
    {
     "name": "stderr",
     "output_type": "stream",
     "text": [
      "WARNING:root:Applied processor reduces input query to empty string, all comparisons will have score 0. [Query: '']\n",
      "WARNING:root:Applied processor reduces input query to empty string, all comparisons will have score 0. [Query: '']\n",
      "WARNING:root:Applied processor reduces input query to empty string, all comparisons will have score 0. [Query: '']\n",
      "WARNING:root:Applied processor reduces input query to empty string, all comparisons will have score 0. [Query: '']\n",
      "WARNING:root:Applied processor reduces input query to empty string, all comparisons will have score 0. [Query: '']\n",
      "WARNING:root:Applied processor reduces input query to empty string, all comparisons will have score 0. [Query: '']\n",
      "WARNING:root:Applied processor reduces input query to empty string, all comparisons will have score 0. [Query: '']\n",
      "WARNING:root:Applied processor reduces input query to empty string, all comparisons will have score 0. [Query: '']\n"
     ]
    },
    {
     "data": {
      "text/plain": [
       "('Portfolio_Company',\n",
       " '',\n",
       " 'Industry',\n",
       " 'Industry',\n",
       " 'Industry',\n",
       " '',\n",
       " 'Spread_Above_Index',\n",
       " 'Spread_Above_Index',\n",
       " 'Spread_Above_Index',\n",
       " '',\n",
       " 'Interest_Rate',\n",
       " 'Interest_Rate',\n",
       " 'Interest_Rate',\n",
       " '',\n",
       " 'Maturity',\n",
       " 'Maturity',\n",
       " 'Maturity',\n",
       " '',\n",
       " 'Principal/Shares',\n",
       " 'Principal/Shares',\n",
       " 'Principal/Shares',\n",
       " '',\n",
       " 'cost',\n",
       " 'cost',\n",
       " 'cost',\n",
       " '',\n",
       " 'fair_value',\n",
       " 'fair_value',\n",
       " 'fair_value',\n",
       " '',\n",
       " 'of_Net_Assets',\n",
       " 'of_Net_Assets',\n",
       " 'of_Net_Assets')"
      ]
     },
     "metadata": {},
     "output_type": "display_data"
    },
    {
     "data": {
      "text/plain": [
       "'2013-12-31\\\\Schedule_of_Investments_1.csv'"
      ]
     },
     "metadata": {},
     "output_type": "display_data"
    },
    {
     "name": "stderr",
     "output_type": "stream",
     "text": [
      "WARNING:root:Applied processor reduces input query to empty string, all comparisons will have score 0. [Query: '']\n",
      "WARNING:root:Applied processor reduces input query to empty string, all comparisons will have score 0. [Query: '']\n",
      "WARNING:root:Applied processor reduces input query to empty string, all comparisons will have score 0. [Query: '']\n",
      "WARNING:root:Applied processor reduces input query to empty string, all comparisons will have score 0. [Query: '']\n",
      "WARNING:root:Applied processor reduces input query to empty string, all comparisons will have score 0. [Query: '']\n",
      "WARNING:root:Applied processor reduces input query to empty string, all comparisons will have score 0. [Query: '']\n",
      "WARNING:root:Applied processor reduces input query to empty string, all comparisons will have score 0. [Query: '']\n",
      "WARNING:root:Applied processor reduces input query to empty string, all comparisons will have score 0. [Query: '']\n",
      "WARNING:root:Applied processor reduces input query to empty string, all comparisons will have score 0. [Query: '']\n",
      "WARNING:root:Applied processor reduces input query to empty string, all comparisons will have score 0. [Query: '']\n",
      "WARNING:root:Applied processor reduces input query to empty string, all comparisons will have score 0. [Query: '']\n",
      "WARNING:root:Applied processor reduces input query to empty string, all comparisons will have score 0. [Query: '']\n",
      "WARNING:root:Applied processor reduces input query to empty string, all comparisons will have score 0. [Query: '']\n",
      "WARNING:root:Applied processor reduces input query to empty string, all comparisons will have score 0. [Query: '']\n",
      "WARNING:root:Applied processor reduces input query to empty string, all comparisons will have score 0. [Query: '']\n",
      "WARNING:root:Applied processor reduces input query to empty string, all comparisons will have score 0. [Query: '']\n"
     ]
    },
    {
     "data": {
      "text/plain": [
       "('Portfolio_Company',\n",
       " '',\n",
       " 'Industry',\n",
       " 'Industry',\n",
       " 'Industry',\n",
       " '',\n",
       " 'Spread_Above_Index',\n",
       " 'Spread_Above_Index',\n",
       " 'Spread_Above_Index',\n",
       " '',\n",
       " 'Interest_Rate',\n",
       " 'Interest_Rate',\n",
       " 'Interest_Rate',\n",
       " '',\n",
       " 'Maturity',\n",
       " 'Maturity',\n",
       " 'Maturity',\n",
       " '',\n",
       " 'Principal/Shares',\n",
       " 'Principal/Shares',\n",
       " 'Principal/Shares',\n",
       " '',\n",
       " 'cost',\n",
       " 'cost',\n",
       " 'cost',\n",
       " '',\n",
       " 'fair_value',\n",
       " 'fair_value',\n",
       " 'fair_value',\n",
       " '',\n",
       " 'of_Net_Assets',\n",
       " 'of_Net_Assets',\n",
       " 'of_Net_Assets',\n",
       " '',\n",
       " '',\n",
       " '',\n",
       " '',\n",
       " '',\n",
       " '',\n",
       " '',\n",
       " '')"
      ]
     },
     "metadata": {},
     "output_type": "display_data"
    },
    {
     "data": {
      "text/plain": [
       "'2014-03-31'"
      ]
     },
     "metadata": {},
     "output_type": "display_data"
    },
    {
     "name": "stderr",
     "output_type": "stream",
     "text": [
      "WARNING:root:Applied processor reduces input query to empty string, all comparisons will have score 0. [Query: '']\n",
      "WARNING:root:Applied processor reduces input query to empty string, all comparisons will have score 0. [Query: '']\n",
      "WARNING:root:Applied processor reduces input query to empty string, all comparisons will have score 0. [Query: '']\n",
      "WARNING:root:Applied processor reduces input query to empty string, all comparisons will have score 0. [Query: '']\n",
      "WARNING:root:Applied processor reduces input query to empty string, all comparisons will have score 0. [Query: '']\n",
      "WARNING:root:Applied processor reduces input query to empty string, all comparisons will have score 0. [Query: '']\n",
      "WARNING:root:Applied processor reduces input query to empty string, all comparisons will have score 0. [Query: '']\n",
      "WARNING:root:Applied processor reduces input query to empty string, all comparisons will have score 0. [Query: '']\n",
      "WARNING:root:Applied processor reduces input query to empty string, all comparisons will have score 0. [Query: '']\n",
      "WARNING:root:Applied processor reduces input query to empty string, all comparisons will have score 0. [Query: '']\n",
      "WARNING:root:Applied processor reduces input query to empty string, all comparisons will have score 0. [Query: '']\n",
      "WARNING:root:Applied processor reduces input query to empty string, all comparisons will have score 0. [Query: '']\n",
      "WARNING:root:Applied processor reduces input query to empty string, all comparisons will have score 0. [Query: '']\n",
      "WARNING:root:Applied processor reduces input query to empty string, all comparisons will have score 0. [Query: '']\n",
      "WARNING:root:Applied processor reduces input query to empty string, all comparisons will have score 0. [Query: '']\n"
     ]
    },
    {
     "data": {
      "text/plain": [
       "('Portfolio_Company',\n",
       " '',\n",
       " 'Industry',\n",
       " '',\n",
       " 'Spread_Above_Index',\n",
       " 'Spread_Above_Index',\n",
       " '',\n",
       " '',\n",
       " 'Interest_Rate',\n",
       " 'Interest_Rate',\n",
       " '',\n",
       " '',\n",
       " 'Maturity',\n",
       " 'Maturity',\n",
       " '',\n",
       " '',\n",
       " 'Principal/Shares',\n",
       " 'Principal/Shares',\n",
       " '',\n",
       " '',\n",
       " 'cost',\n",
       " 'cost',\n",
       " '',\n",
       " '',\n",
       " 'fair_value',\n",
       " 'fair_value',\n",
       " '',\n",
       " '',\n",
       " 'of_Net_Assets',\n",
       " 'of_Net_Assets',\n",
       " '')"
      ]
     },
     "metadata": {},
     "output_type": "display_data"
    },
    {
     "data": {
      "text/plain": [
       "'2014-06-30'"
      ]
     },
     "metadata": {},
     "output_type": "display_data"
    },
    {
     "name": "stderr",
     "output_type": "stream",
     "text": [
      "WARNING:root:Applied processor reduces input query to empty string, all comparisons will have score 0. [Query: '']\n",
      "WARNING:root:Applied processor reduces input query to empty string, all comparisons will have score 0. [Query: '']\n",
      "WARNING:root:Applied processor reduces input query to empty string, all comparisons will have score 0. [Query: '']\n",
      "WARNING:root:Applied processor reduces input query to empty string, all comparisons will have score 0. [Query: '']\n",
      "WARNING:root:Applied processor reduces input query to empty string, all comparisons will have score 0. [Query: '']\n",
      "WARNING:root:Applied processor reduces input query to empty string, all comparisons will have score 0. [Query: '']\n",
      "WARNING:root:Applied processor reduces input query to empty string, all comparisons will have score 0. [Query: '']\n",
      "WARNING:root:Applied processor reduces input query to empty string, all comparisons will have score 0. [Query: '']\n",
      "WARNING:root:Applied processor reduces input query to empty string, all comparisons will have score 0. [Query: '']\n",
      "WARNING:root:Applied processor reduces input query to empty string, all comparisons will have score 0. [Query: '']\n",
      "WARNING:root:Applied processor reduces input query to empty string, all comparisons will have score 0. [Query: '']\n",
      "WARNING:root:Applied processor reduces input query to empty string, all comparisons will have score 0. [Query: '']\n"
     ]
    },
    {
     "data": {
      "text/plain": [
       "('Portfolio_Company',\n",
       " '',\n",
       " 'Industry',\n",
       " '',\n",
       " 'Spread_Above_Index',\n",
       " '',\n",
       " 'Interest_Rate',\n",
       " '',\n",
       " 'Maturity',\n",
       " '',\n",
       " 'Principal/Shares',\n",
       " 'Principal/Shares',\n",
       " '',\n",
       " '',\n",
       " 'cost',\n",
       " 'cost',\n",
       " '',\n",
       " '',\n",
       " 'fair_value',\n",
       " 'fair_value',\n",
       " '',\n",
       " '',\n",
       " 'of_Net_Assets',\n",
       " 'of_Net_Assets',\n",
       " '')"
      ]
     },
     "metadata": {},
     "output_type": "display_data"
    },
    {
     "data": {
      "text/plain": [
       "'2014-09-30'"
      ]
     },
     "metadata": {},
     "output_type": "display_data"
    },
    {
     "name": "stderr",
     "output_type": "stream",
     "text": [
      "WARNING:root:Applied processor reduces input query to empty string, all comparisons will have score 0. [Query: '']\n",
      "WARNING:root:Applied processor reduces input query to empty string, all comparisons will have score 0. [Query: '']\n",
      "WARNING:root:Applied processor reduces input query to empty string, all comparisons will have score 0. [Query: '']\n",
      "WARNING:root:Applied processor reduces input query to empty string, all comparisons will have score 0. [Query: '']\n",
      "WARNING:root:Applied processor reduces input query to empty string, all comparisons will have score 0. [Query: '']\n",
      "WARNING:root:Applied processor reduces input query to empty string, all comparisons will have score 0. [Query: '']\n",
      "WARNING:root:Applied processor reduces input query to empty string, all comparisons will have score 0. [Query: '']\n",
      "WARNING:root:Applied processor reduces input query to empty string, all comparisons will have score 0. [Query: '']\n",
      "WARNING:root:Applied processor reduces input query to empty string, all comparisons will have score 0. [Query: '']\n",
      "WARNING:root:Applied processor reduces input query to empty string, all comparisons will have score 0. [Query: '']\n",
      "WARNING:root:Applied processor reduces input query to empty string, all comparisons will have score 0. [Query: '']\n",
      "WARNING:root:Applied processor reduces input query to empty string, all comparisons will have score 0. [Query: '']\n"
     ]
    },
    {
     "data": {
      "text/plain": [
       "('Portfolio_Company',\n",
       " '',\n",
       " 'Industry',\n",
       " '',\n",
       " 'Spread_Above_Index',\n",
       " '',\n",
       " 'Interest_Rate',\n",
       " '',\n",
       " 'Maturity',\n",
       " '',\n",
       " 'Principal/Shares',\n",
       " 'Principal/Shares',\n",
       " '',\n",
       " '',\n",
       " 'cost',\n",
       " 'cost',\n",
       " '',\n",
       " '',\n",
       " 'fair_value',\n",
       " 'fair_value',\n",
       " '',\n",
       " '',\n",
       " 'of_Net_Assets',\n",
       " 'of_Net_Assets',\n",
       " '')"
      ]
     },
     "metadata": {},
     "output_type": "display_data"
    },
    {
     "data": {
      "text/plain": [
       "'2014-12-31'"
      ]
     },
     "metadata": {},
     "output_type": "display_data"
    },
    {
     "name": "stderr",
     "output_type": "stream",
     "text": [
      "WARNING:root:Applied processor reduces input query to empty string, all comparisons will have score 0. [Query: '']\n",
      "WARNING:root:Applied processor reduces input query to empty string, all comparisons will have score 0. [Query: '']\n",
      "WARNING:root:Applied processor reduces input query to empty string, all comparisons will have score 0. [Query: '']\n",
      "WARNING:root:Applied processor reduces input query to empty string, all comparisons will have score 0. [Query: '']\n",
      "WARNING:root:Applied processor reduces input query to empty string, all comparisons will have score 0. [Query: '']\n",
      "WARNING:root:Applied processor reduces input query to empty string, all comparisons will have score 0. [Query: '']\n",
      "WARNING:root:Applied processor reduces input query to empty string, all comparisons will have score 0. [Query: '']\n",
      "WARNING:root:Applied processor reduces input query to empty string, all comparisons will have score 0. [Query: '']\n"
     ]
    },
    {
     "data": {
      "text/plain": [
       "('Portfolio_Company',\n",
       " '',\n",
       " 'Industry',\n",
       " 'Industry',\n",
       " 'Industry',\n",
       " '',\n",
       " 'Spread_Above_Index',\n",
       " 'Spread_Above_Index',\n",
       " 'Spread_Above_Index',\n",
       " '',\n",
       " 'Interest_Rate',\n",
       " 'Interest_Rate',\n",
       " 'Interest_Rate',\n",
       " '',\n",
       " 'Maturity',\n",
       " 'Maturity',\n",
       " 'Maturity',\n",
       " '',\n",
       " 'Principal/Shares',\n",
       " 'Principal/Shares',\n",
       " 'Principal/Shares',\n",
       " '',\n",
       " 'cost',\n",
       " 'cost',\n",
       " 'cost',\n",
       " '',\n",
       " 'fair_value',\n",
       " 'fair_value',\n",
       " 'fair_value',\n",
       " '',\n",
       " 'of_Net_Assets',\n",
       " 'of_Net_Assets',\n",
       " 'of_Net_Assets')"
      ]
     },
     "metadata": {},
     "output_type": "display_data"
    },
    {
     "data": {
      "text/plain": [
       "'2014-12-31\\\\Schedule_of_Investments_1.csv'"
      ]
     },
     "metadata": {},
     "output_type": "display_data"
    },
    {
     "data": {
      "text/plain": [
       "'2014-12-31\\\\Schedule_of_Investments_2.csv'"
      ]
     },
     "metadata": {},
     "output_type": "display_data"
    },
    {
     "data": {
      "text/plain": [
       "'2015-03-31'"
      ]
     },
     "metadata": {},
     "output_type": "display_data"
    },
    {
     "name": "stderr",
     "output_type": "stream",
     "text": [
      "WARNING:root:Applied processor reduces input query to empty string, all comparisons will have score 0. [Query: '']\n",
      "WARNING:root:Applied processor reduces input query to empty string, all comparisons will have score 0. [Query: '']\n",
      "WARNING:root:Applied processor reduces input query to empty string, all comparisons will have score 0. [Query: '']\n",
      "WARNING:root:Applied processor reduces input query to empty string, all comparisons will have score 0. [Query: '']\n",
      "WARNING:root:Applied processor reduces input query to empty string, all comparisons will have score 0. [Query: '']\n",
      "WARNING:root:Applied processor reduces input query to empty string, all comparisons will have score 0. [Query: '']\n",
      "WARNING:root:Applied processor reduces input query to empty string, all comparisons will have score 0. [Query: '']\n",
      "WARNING:root:Applied processor reduces input query to empty string, all comparisons will have score 0. [Query: '']\n",
      "WARNING:root:Applied processor reduces input query to empty string, all comparisons will have score 0. [Query: '']\n",
      "WARNING:root:Applied processor reduces input query to empty string, all comparisons will have score 0. [Query: '']\n",
      "WARNING:root:Applied processor reduces input query to empty string, all comparisons will have score 0. [Query: '']\n",
      "WARNING:root:Applied processor reduces input query to empty string, all comparisons will have score 0. [Query: '']\n"
     ]
    },
    {
     "data": {
      "text/plain": [
       "('Portfolio_Company',\n",
       " '',\n",
       " 'Industry',\n",
       " '',\n",
       " 'Spread_Above_Index',\n",
       " '',\n",
       " 'Interest_Rate',\n",
       " '',\n",
       " 'Maturity',\n",
       " '',\n",
       " 'Principal/Shares',\n",
       " 'Principal/Shares',\n",
       " '',\n",
       " '',\n",
       " 'cost',\n",
       " 'cost',\n",
       " '',\n",
       " '',\n",
       " 'fair_value',\n",
       " 'fair_value',\n",
       " '',\n",
       " '',\n",
       " 'of_Net_Assets',\n",
       " 'of_Net_Assets',\n",
       " '')"
      ]
     },
     "metadata": {},
     "output_type": "display_data"
    },
    {
     "data": {
      "text/plain": [
       "'2015-03-31\\\\Schedule_of_Investments_1.csv'"
      ]
     },
     "metadata": {},
     "output_type": "display_data"
    },
    {
     "data": {
      "text/plain": [
       "'2015-06-30'"
      ]
     },
     "metadata": {},
     "output_type": "display_data"
    },
    {
     "name": "stderr",
     "output_type": "stream",
     "text": [
      "WARNING:root:Applied processor reduces input query to empty string, all comparisons will have score 0. [Query: '']\n",
      "WARNING:root:Applied processor reduces input query to empty string, all comparisons will have score 0. [Query: '']\n",
      "WARNING:root:Applied processor reduces input query to empty string, all comparisons will have score 0. [Query: '']\n",
      "WARNING:root:Applied processor reduces input query to empty string, all comparisons will have score 0. [Query: '']\n",
      "WARNING:root:Applied processor reduces input query to empty string, all comparisons will have score 0. [Query: '']\n",
      "WARNING:root:Applied processor reduces input query to empty string, all comparisons will have score 0. [Query: '']\n",
      "WARNING:root:Applied processor reduces input query to empty string, all comparisons will have score 0. [Query: '']\n",
      "WARNING:root:Applied processor reduces input query to empty string, all comparisons will have score 0. [Query: '']\n",
      "WARNING:root:Applied processor reduces input query to empty string, all comparisons will have score 0. [Query: '']\n",
      "WARNING:root:Applied processor reduces input query to empty string, all comparisons will have score 0. [Query: '']\n",
      "WARNING:root:Applied processor reduces input query to empty string, all comparisons will have score 0. [Query: '']\n",
      "WARNING:root:Applied processor reduces input query to empty string, all comparisons will have score 0. [Query: '']\n"
     ]
    },
    {
     "data": {
      "text/plain": [
       "('Portfolio_Company',\n",
       " '',\n",
       " 'Industry',\n",
       " '',\n",
       " 'Spread_Above_Index',\n",
       " '',\n",
       " 'Interest_Rate',\n",
       " '',\n",
       " 'Maturity',\n",
       " '',\n",
       " 'Principal/Shares',\n",
       " 'Principal/Shares',\n",
       " '',\n",
       " '',\n",
       " 'cost',\n",
       " 'cost',\n",
       " '',\n",
       " '',\n",
       " 'fair_value',\n",
       " 'fair_value',\n",
       " '',\n",
       " '',\n",
       " 'of_Net_Assets',\n",
       " 'of_Net_Assets',\n",
       " '')"
      ]
     },
     "metadata": {},
     "output_type": "display_data"
    },
    {
     "data": {
      "text/plain": [
       "'2015-06-30\\\\Schedule_of_Investments_1.csv'"
      ]
     },
     "metadata": {},
     "output_type": "display_data"
    },
    {
     "data": {
      "text/plain": [
       "'2015-09-30'"
      ]
     },
     "metadata": {},
     "output_type": "display_data"
    },
    {
     "name": "stderr",
     "output_type": "stream",
     "text": [
      "WARNING:root:Applied processor reduces input query to empty string, all comparisons will have score 0. [Query: '']\n",
      "WARNING:root:Applied processor reduces input query to empty string, all comparisons will have score 0. [Query: '']\n",
      "WARNING:root:Applied processor reduces input query to empty string, all comparisons will have score 0. [Query: '']\n",
      "WARNING:root:Applied processor reduces input query to empty string, all comparisons will have score 0. [Query: '']\n",
      "WARNING:root:Applied processor reduces input query to empty string, all comparisons will have score 0. [Query: '']\n",
      "WARNING:root:Applied processor reduces input query to empty string, all comparisons will have score 0. [Query: '']\n",
      "WARNING:root:Applied processor reduces input query to empty string, all comparisons will have score 0. [Query: '']\n",
      "WARNING:root:Applied processor reduces input query to empty string, all comparisons will have score 0. [Query: '']\n",
      "WARNING:root:Applied processor reduces input query to empty string, all comparisons will have score 0. [Query: '']\n",
      "WARNING:root:Applied processor reduces input query to empty string, all comparisons will have score 0. [Query: '']\n",
      "WARNING:root:Applied processor reduces input query to empty string, all comparisons will have score 0. [Query: '']\n",
      "WARNING:root:Applied processor reduces input query to empty string, all comparisons will have score 0. [Query: '']\n"
     ]
    },
    {
     "data": {
      "text/plain": [
       "('Portfolio_Company',\n",
       " '',\n",
       " 'Industry',\n",
       " '',\n",
       " 'Spread_Above_Index',\n",
       " '',\n",
       " 'Interest_Rate',\n",
       " '',\n",
       " 'Maturity',\n",
       " '',\n",
       " 'Principal/Shares',\n",
       " 'Principal/Shares',\n",
       " '',\n",
       " '',\n",
       " 'cost',\n",
       " 'cost',\n",
       " '',\n",
       " '',\n",
       " 'fair_value',\n",
       " 'fair_value',\n",
       " '',\n",
       " '',\n",
       " 'of_Net_Assets',\n",
       " 'of_Net_Assets',\n",
       " '')"
      ]
     },
     "metadata": {},
     "output_type": "display_data"
    },
    {
     "data": {
      "text/plain": [
       "'2015-09-30\\\\Schedule_of_Investments_1.csv'"
      ]
     },
     "metadata": {},
     "output_type": "display_data"
    },
    {
     "data": {
      "text/plain": [
       "'2015-12-31'"
      ]
     },
     "metadata": {},
     "output_type": "display_data"
    },
    {
     "name": "stderr",
     "output_type": "stream",
     "text": [
      "WARNING:root:Applied processor reduces input query to empty string, all comparisons will have score 0. [Query: '']\n",
      "WARNING:root:Applied processor reduces input query to empty string, all comparisons will have score 0. [Query: '']\n",
      "WARNING:root:Applied processor reduces input query to empty string, all comparisons will have score 0. [Query: '']\n",
      "WARNING:root:Applied processor reduces input query to empty string, all comparisons will have score 0. [Query: '']\n",
      "WARNING:root:Applied processor reduces input query to empty string, all comparisons will have score 0. [Query: '']\n",
      "WARNING:root:Applied processor reduces input query to empty string, all comparisons will have score 0. [Query: '']\n",
      "WARNING:root:Applied processor reduces input query to empty string, all comparisons will have score 0. [Query: '']\n",
      "WARNING:root:Applied processor reduces input query to empty string, all comparisons will have score 0. [Query: '']\n"
     ]
    },
    {
     "data": {
      "text/plain": [
       "('Portfolio_Company',\n",
       " '',\n",
       " 'Industry',\n",
       " 'Industry',\n",
       " 'Industry',\n",
       " '',\n",
       " 'Spread_Above_Index',\n",
       " 'Spread_Above_Index',\n",
       " 'Spread_Above_Index',\n",
       " '',\n",
       " 'Interest_Rate',\n",
       " 'Interest_Rate',\n",
       " 'Interest_Rate',\n",
       " '',\n",
       " 'Maturity',\n",
       " 'Maturity',\n",
       " 'Maturity',\n",
       " '',\n",
       " 'Principal/Shares',\n",
       " 'Principal/Shares',\n",
       " 'Principal/Shares',\n",
       " '',\n",
       " 'cost',\n",
       " 'cost',\n",
       " 'cost',\n",
       " '',\n",
       " 'fair_value',\n",
       " 'fair_value',\n",
       " 'fair_value',\n",
       " '',\n",
       " 'of_Net_Assets',\n",
       " 'of_Net_Assets',\n",
       " 'of_Net_Assets')"
      ]
     },
     "metadata": {},
     "output_type": "display_data"
    },
    {
     "data": {
      "text/plain": [
       "'2015-12-31\\\\Schedule_of_Investments_1.csv'"
      ]
     },
     "metadata": {},
     "output_type": "display_data"
    },
    {
     "data": {
      "text/plain": [
       "'2015-12-31\\\\Schedule_of_Investments_2.csv'"
      ]
     },
     "metadata": {},
     "output_type": "display_data"
    },
    {
     "data": {
      "text/plain": [
       "'2016-03-31'"
      ]
     },
     "metadata": {},
     "output_type": "display_data"
    },
    {
     "name": "stderr",
     "output_type": "stream",
     "text": [
      "WARNING:root:Applied processor reduces input query to empty string, all comparisons will have score 0. [Query: '']\n",
      "WARNING:root:Applied processor reduces input query to empty string, all comparisons will have score 0. [Query: '']\n",
      "WARNING:root:Applied processor reduces input query to empty string, all comparisons will have score 0. [Query: '']\n",
      "WARNING:root:Applied processor reduces input query to empty string, all comparisons will have score 0. [Query: '']\n",
      "WARNING:root:Applied processor reduces input query to empty string, all comparisons will have score 0. [Query: '']\n",
      "WARNING:root:Applied processor reduces input query to empty string, all comparisons will have score 0. [Query: '']\n",
      "WARNING:root:Applied processor reduces input query to empty string, all comparisons will have score 0. [Query: '']\n",
      "WARNING:root:Applied processor reduces input query to empty string, all comparisons will have score 0. [Query: '']\n",
      "WARNING:root:Applied processor reduces input query to empty string, all comparisons will have score 0. [Query: '']\n",
      "WARNING:root:Applied processor reduces input query to empty string, all comparisons will have score 0. [Query: '']\n",
      "WARNING:root:Applied processor reduces input query to empty string, all comparisons will have score 0. [Query: '']\n",
      "WARNING:root:Applied processor reduces input query to empty string, all comparisons will have score 0. [Query: '']\n",
      "WARNING:root:Applied processor reduces input query to empty string, all comparisons will have score 0. [Query: '']\n",
      "WARNING:root:Applied processor reduces input query to empty string, all comparisons will have score 0. [Query: '']\n"
     ]
    },
    {
     "data": {
      "text/plain": [
       "('Portfolio_Company',\n",
       " '',\n",
       " 'Industry',\n",
       " '',\n",
       " 'Spread_Above_Index',\n",
       " 'Spread_Above_Index',\n",
       " '',\n",
       " '',\n",
       " 'Interest_Rate',\n",
       " 'Interest_Rate',\n",
       " '',\n",
       " '',\n",
       " 'Maturity',\n",
       " '',\n",
       " 'Principal/Shares',\n",
       " 'Principal/Shares',\n",
       " '',\n",
       " '',\n",
       " 'cost',\n",
       " 'cost',\n",
       " '',\n",
       " '',\n",
       " 'fair_value',\n",
       " 'fair_value',\n",
       " '',\n",
       " '',\n",
       " 'of_Net_Assets',\n",
       " 'of_Net_Assets',\n",
       " '')"
      ]
     },
     "metadata": {},
     "output_type": "display_data"
    },
    {
     "data": {
      "text/plain": [
       "'2016-03-31\\\\Schedule_of_Investments_1.csv'"
      ]
     },
     "metadata": {},
     "output_type": "display_data"
    },
    {
     "data": {
      "text/plain": [
       "'2016-06-30'"
      ]
     },
     "metadata": {},
     "output_type": "display_data"
    },
    {
     "name": "stderr",
     "output_type": "stream",
     "text": [
      "WARNING:root:Applied processor reduces input query to empty string, all comparisons will have score 0. [Query: '']\n",
      "WARNING:root:Applied processor reduces input query to empty string, all comparisons will have score 0. [Query: '']\n",
      "WARNING:root:Applied processor reduces input query to empty string, all comparisons will have score 0. [Query: '']\n",
      "WARNING:root:Applied processor reduces input query to empty string, all comparisons will have score 0. [Query: '']\n",
      "WARNING:root:Applied processor reduces input query to empty string, all comparisons will have score 0. [Query: '']\n",
      "WARNING:root:Applied processor reduces input query to empty string, all comparisons will have score 0. [Query: '']\n",
      "WARNING:root:Applied processor reduces input query to empty string, all comparisons will have score 0. [Query: '']\n",
      "WARNING:root:Applied processor reduces input query to empty string, all comparisons will have score 0. [Query: '']\n",
      "WARNING:root:Applied processor reduces input query to empty string, all comparisons will have score 0. [Query: '']\n",
      "WARNING:root:Applied processor reduces input query to empty string, all comparisons will have score 0. [Query: '']\n",
      "WARNING:root:Applied processor reduces input query to empty string, all comparisons will have score 0. [Query: '']\n",
      "WARNING:root:Applied processor reduces input query to empty string, all comparisons will have score 0. [Query: '']\n",
      "WARNING:root:Applied processor reduces input query to empty string, all comparisons will have score 0. [Query: '']\n",
      "WARNING:root:Applied processor reduces input query to empty string, all comparisons will have score 0. [Query: '']\n"
     ]
    },
    {
     "data": {
      "text/plain": [
       "('Portfolio_Company',\n",
       " '',\n",
       " 'Industry',\n",
       " '',\n",
       " 'Spread_Above_Index',\n",
       " 'Spread_Above_Index',\n",
       " '',\n",
       " '',\n",
       " 'Interest_Rate',\n",
       " 'Interest_Rate',\n",
       " '',\n",
       " '',\n",
       " 'Maturity',\n",
       " '',\n",
       " 'Principal/Shares',\n",
       " 'Principal/Shares',\n",
       " '',\n",
       " '',\n",
       " 'cost',\n",
       " 'cost',\n",
       " '',\n",
       " '',\n",
       " 'fair_value',\n",
       " 'fair_value',\n",
       " '',\n",
       " '',\n",
       " 'of_Net_Assets',\n",
       " 'of_Net_Assets',\n",
       " '')"
      ]
     },
     "metadata": {},
     "output_type": "display_data"
    },
    {
     "data": {
      "text/plain": [
       "'2016-06-30\\\\Schedule_of_Investments_1.csv'"
      ]
     },
     "metadata": {},
     "output_type": "display_data"
    },
    {
     "data": {
      "text/plain": [
       "'2016-09-30'"
      ]
     },
     "metadata": {},
     "output_type": "display_data"
    },
    {
     "name": "stderr",
     "output_type": "stream",
     "text": [
      "WARNING:root:Applied processor reduces input query to empty string, all comparisons will have score 0. [Query: '']\n",
      "WARNING:root:Applied processor reduces input query to empty string, all comparisons will have score 0. [Query: '']\n",
      "WARNING:root:Applied processor reduces input query to empty string, all comparisons will have score 0. [Query: '']\n",
      "WARNING:root:Applied processor reduces input query to empty string, all comparisons will have score 0. [Query: '']\n",
      "WARNING:root:Applied processor reduces input query to empty string, all comparisons will have score 0. [Query: '']\n",
      "WARNING:root:Applied processor reduces input query to empty string, all comparisons will have score 0. [Query: '']\n",
      "WARNING:root:Applied processor reduces input query to empty string, all comparisons will have score 0. [Query: '']\n",
      "WARNING:root:Applied processor reduces input query to empty string, all comparisons will have score 0. [Query: '']\n",
      "WARNING:root:Applied processor reduces input query to empty string, all comparisons will have score 0. [Query: '']\n",
      "WARNING:root:Applied processor reduces input query to empty string, all comparisons will have score 0. [Query: '']\n",
      "WARNING:root:Applied processor reduces input query to empty string, all comparisons will have score 0. [Query: '']\n",
      "WARNING:root:Applied processor reduces input query to empty string, all comparisons will have score 0. [Query: '']\n"
     ]
    },
    {
     "data": {
      "text/plain": [
       "('Portfolio_Company',\n",
       " '',\n",
       " 'Industry',\n",
       " '',\n",
       " 'Spread_Above_Index',\n",
       " '',\n",
       " 'Interest_Rate',\n",
       " '',\n",
       " 'Maturity',\n",
       " '',\n",
       " 'Principal/Shares',\n",
       " 'Principal/Shares',\n",
       " '',\n",
       " '',\n",
       " 'cost',\n",
       " 'cost',\n",
       " '',\n",
       " '',\n",
       " 'fair_value',\n",
       " 'fair_value',\n",
       " '',\n",
       " '',\n",
       " 'of_Net_Assets',\n",
       " 'of_Net_Assets',\n",
       " '')"
      ]
     },
     "metadata": {},
     "output_type": "display_data"
    },
    {
     "data": {
      "text/plain": [
       "'2016-09-30\\\\Schedule_of_Investments_1.csv'"
      ]
     },
     "metadata": {},
     "output_type": "display_data"
    },
    {
     "data": {
      "text/plain": [
       "'2016-12-31'"
      ]
     },
     "metadata": {},
     "output_type": "display_data"
    },
    {
     "name": "stderr",
     "output_type": "stream",
     "text": [
      "WARNING:root:Applied processor reduces input query to empty string, all comparisons will have score 0. [Query: '']\n",
      "WARNING:root:Applied processor reduces input query to empty string, all comparisons will have score 0. [Query: '']\n",
      "WARNING:root:Applied processor reduces input query to empty string, all comparisons will have score 0. [Query: '']\n",
      "WARNING:root:Applied processor reduces input query to empty string, all comparisons will have score 0. [Query: '']\n",
      "WARNING:root:Applied processor reduces input query to empty string, all comparisons will have score 0. [Query: '']\n",
      "WARNING:root:Applied processor reduces input query to empty string, all comparisons will have score 0. [Query: '']\n",
      "WARNING:root:Applied processor reduces input query to empty string, all comparisons will have score 0. [Query: '']\n",
      "WARNING:root:Applied processor reduces input query to empty string, all comparisons will have score 0. [Query: '']\n"
     ]
    },
    {
     "data": {
      "text/plain": [
       "('Portfolio_Company',\n",
       " '',\n",
       " 'Industry',\n",
       " 'Industry',\n",
       " 'Industry',\n",
       " '',\n",
       " 'Spread_Above_Index',\n",
       " 'Spread_Above_Index',\n",
       " 'Spread_Above_Index',\n",
       " '',\n",
       " 'Interest_Rate',\n",
       " 'Interest_Rate',\n",
       " 'Interest_Rate',\n",
       " '',\n",
       " 'Maturity',\n",
       " 'Maturity',\n",
       " 'Maturity',\n",
       " '',\n",
       " 'Principal/Shares',\n",
       " 'Principal/Shares',\n",
       " 'Principal/Shares',\n",
       " '',\n",
       " 'cost',\n",
       " 'cost',\n",
       " 'cost',\n",
       " '',\n",
       " 'fair_value',\n",
       " 'fair_value',\n",
       " 'fair_value',\n",
       " '',\n",
       " 'of_Net_Assets',\n",
       " 'of_Net_Assets',\n",
       " 'of_Net_Assets')"
      ]
     },
     "metadata": {},
     "output_type": "display_data"
    },
    {
     "data": {
      "text/plain": [
       "'2016-12-31\\\\Schedule_of_Investments_1.csv'"
      ]
     },
     "metadata": {},
     "output_type": "display_data"
    },
    {
     "data": {
      "text/plain": [
       "'2016-12-31\\\\Schedule_of_Investments_2.csv'"
      ]
     },
     "metadata": {},
     "output_type": "display_data"
    },
    {
     "data": {
      "text/plain": [
       "'2016-12-31\\\\Schedule_of_Investments_3.csv'"
      ]
     },
     "metadata": {},
     "output_type": "display_data"
    },
    {
     "data": {
      "text/plain": [
       "'2017-03-31'"
      ]
     },
     "metadata": {},
     "output_type": "display_data"
    },
    {
     "name": "stderr",
     "output_type": "stream",
     "text": [
      "WARNING:root:Applied processor reduces input query to empty string, all comparisons will have score 0. [Query: '']\n",
      "WARNING:root:Applied processor reduces input query to empty string, all comparisons will have score 0. [Query: '']\n",
      "WARNING:root:Applied processor reduces input query to empty string, all comparisons will have score 0. [Query: '']\n",
      "WARNING:root:Applied processor reduces input query to empty string, all comparisons will have score 0. [Query: '']\n",
      "WARNING:root:Applied processor reduces input query to empty string, all comparisons will have score 0. [Query: '']\n",
      "WARNING:root:Applied processor reduces input query to empty string, all comparisons will have score 0. [Query: '']\n",
      "WARNING:root:Applied processor reduces input query to empty string, all comparisons will have score 0. [Query: '']\n",
      "WARNING:root:Applied processor reduces input query to empty string, all comparisons will have score 0. [Query: '']\n",
      "WARNING:root:Applied processor reduces input query to empty string, all comparisons will have score 0. [Query: '']\n",
      "WARNING:root:Applied processor reduces input query to empty string, all comparisons will have score 0. [Query: '']\n",
      "WARNING:root:Applied processor reduces input query to empty string, all comparisons will have score 0. [Query: '']\n",
      "WARNING:root:Applied processor reduces input query to empty string, all comparisons will have score 0. [Query: '']\n",
      "WARNING:root:Applied processor reduces input query to empty string, all comparisons will have score 0. [Query: '']\n"
     ]
    },
    {
     "data": {
      "text/plain": [
       "('Portfolio_Company',\n",
       " '',\n",
       " 'Industry',\n",
       " '',\n",
       " 'Spread_Above_Index',\n",
       " '',\n",
       " 'Interest_Rate',\n",
       " 'Interest_Rate',\n",
       " '',\n",
       " '',\n",
       " 'Maturity',\n",
       " '',\n",
       " 'Principal/Shares',\n",
       " 'Principal/Shares',\n",
       " '',\n",
       " '',\n",
       " 'cost',\n",
       " 'cost',\n",
       " '',\n",
       " '',\n",
       " 'fair_value',\n",
       " 'fair_value',\n",
       " '',\n",
       " '',\n",
       " 'of_Net_Assets',\n",
       " 'of_Net_Assets',\n",
       " '')"
      ]
     },
     "metadata": {},
     "output_type": "display_data"
    },
    {
     "data": {
      "text/plain": [
       "'2017-03-31\\\\Schedule_of_Investments_1.csv'"
      ]
     },
     "metadata": {},
     "output_type": "display_data"
    },
    {
     "data": {
      "text/plain": [
       "'2017-03-31\\\\Schedule_of_Investments_2.csv'"
      ]
     },
     "metadata": {},
     "output_type": "display_data"
    },
    {
     "data": {
      "text/plain": [
       "'2017-06-30'"
      ]
     },
     "metadata": {},
     "output_type": "display_data"
    },
    {
     "name": "stderr",
     "output_type": "stream",
     "text": [
      "WARNING:root:Applied processor reduces input query to empty string, all comparisons will have score 0. [Query: '']\n",
      "WARNING:root:Applied processor reduces input query to empty string, all comparisons will have score 0. [Query: '']\n",
      "WARNING:root:Applied processor reduces input query to empty string, all comparisons will have score 0. [Query: '']\n",
      "WARNING:root:Applied processor reduces input query to empty string, all comparisons will have score 0. [Query: '']\n",
      "WARNING:root:Applied processor reduces input query to empty string, all comparisons will have score 0. [Query: '']\n",
      "WARNING:root:Applied processor reduces input query to empty string, all comparisons will have score 0. [Query: '']\n",
      "WARNING:root:Applied processor reduces input query to empty string, all comparisons will have score 0. [Query: '']\n",
      "WARNING:root:Applied processor reduces input query to empty string, all comparisons will have score 0. [Query: '']\n",
      "WARNING:root:Applied processor reduces input query to empty string, all comparisons will have score 0. [Query: '']\n",
      "WARNING:root:Applied processor reduces input query to empty string, all comparisons will have score 0. [Query: '']\n",
      "WARNING:root:Applied processor reduces input query to empty string, all comparisons will have score 0. [Query: '']\n",
      "WARNING:root:Applied processor reduces input query to empty string, all comparisons will have score 0. [Query: '']\n",
      "WARNING:root:Applied processor reduces input query to empty string, all comparisons will have score 0. [Query: '']\n",
      "WARNING:root:Applied processor reduces input query to empty string, all comparisons will have score 0. [Query: '']\n"
     ]
    },
    {
     "data": {
      "text/plain": [
       "('Portfolio_Company',\n",
       " '',\n",
       " 'Industry',\n",
       " '',\n",
       " 'Spread_Above_Index',\n",
       " '',\n",
       " 'Interest_Rate',\n",
       " 'Interest_Rate',\n",
       " '',\n",
       " '',\n",
       " 'Maturity',\n",
       " 'Maturity',\n",
       " '',\n",
       " '',\n",
       " 'Principal/Shares',\n",
       " 'Principal/Shares',\n",
       " '',\n",
       " '',\n",
       " 'cost',\n",
       " 'cost',\n",
       " '',\n",
       " '',\n",
       " 'fair_value',\n",
       " 'fair_value',\n",
       " '',\n",
       " '',\n",
       " 'of_Net_Assets',\n",
       " 'of_Net_Assets',\n",
       " '')"
      ]
     },
     "metadata": {},
     "output_type": "display_data"
    },
    {
     "data": {
      "text/plain": [
       "'2017-06-30\\\\Schedule_of_Investments_1.csv'"
      ]
     },
     "metadata": {},
     "output_type": "display_data"
    },
    {
     "data": {
      "text/plain": [
       "'2017-06-30\\\\Schedule_of_Investments_2.csv'"
      ]
     },
     "metadata": {},
     "output_type": "display_data"
    },
    {
     "data": {
      "text/plain": [
       "'2017-09-30'"
      ]
     },
     "metadata": {},
     "output_type": "display_data"
    },
    {
     "name": "stderr",
     "output_type": "stream",
     "text": [
      "WARNING:root:Applied processor reduces input query to empty string, all comparisons will have score 0. [Query: '']\n",
      "WARNING:root:Applied processor reduces input query to empty string, all comparisons will have score 0. [Query: '']\n",
      "WARNING:root:Applied processor reduces input query to empty string, all comparisons will have score 0. [Query: '']\n",
      "WARNING:root:Applied processor reduces input query to empty string, all comparisons will have score 0. [Query: '']\n",
      "WARNING:root:Applied processor reduces input query to empty string, all comparisons will have score 0. [Query: '']\n",
      "WARNING:root:Applied processor reduces input query to empty string, all comparisons will have score 0. [Query: '']\n",
      "WARNING:root:Applied processor reduces input query to empty string, all comparisons will have score 0. [Query: '']\n",
      "WARNING:root:Applied processor reduces input query to empty string, all comparisons will have score 0. [Query: '']\n",
      "WARNING:root:Applied processor reduces input query to empty string, all comparisons will have score 0. [Query: '']\n",
      "WARNING:root:Applied processor reduces input query to empty string, all comparisons will have score 0. [Query: '']\n",
      "WARNING:root:Applied processor reduces input query to empty string, all comparisons will have score 0. [Query: '']\n",
      "WARNING:root:Applied processor reduces input query to empty string, all comparisons will have score 0. [Query: '']\n"
     ]
    },
    {
     "data": {
      "text/plain": [
       "('Portfolio_Company',\n",
       " '',\n",
       " 'Spread_Above_Index',\n",
       " '',\n",
       " 'Interest_Rate',\n",
       " 'Interest_Rate',\n",
       " '',\n",
       " '',\n",
       " 'Maturity',\n",
       " '',\n",
       " 'Principal/Shares',\n",
       " 'Principal/Shares',\n",
       " '',\n",
       " '',\n",
       " 'cost',\n",
       " 'cost',\n",
       " '',\n",
       " '',\n",
       " 'fair_value',\n",
       " 'fair_value',\n",
       " '',\n",
       " '',\n",
       " 'of_Net_Assets',\n",
       " 'of_Net_Assets',\n",
       " '')"
      ]
     },
     "metadata": {},
     "output_type": "display_data"
    },
    {
     "data": {
      "text/plain": [
       "'2017-09-30\\\\Schedule_of_Investments_1.csv'"
      ]
     },
     "metadata": {},
     "output_type": "display_data"
    },
    {
     "data": {
      "text/plain": [
       "'2017-09-30\\\\Schedule_of_Investments_2.csv'"
      ]
     },
     "metadata": {},
     "output_type": "display_data"
    },
    {
     "data": {
      "text/plain": [
       "'2017-09-30\\\\Schedule_of_Investments_3.csv'"
      ]
     },
     "metadata": {},
     "output_type": "display_data"
    },
    {
     "data": {
      "text/plain": [
       "'2017-09-30\\\\Schedule_of_Investments_4.csv'"
      ]
     },
     "metadata": {},
     "output_type": "display_data"
    },
    {
     "data": {
      "text/plain": [
       "'2017-09-30\\\\Schedule_of_Investments_5.csv'"
      ]
     },
     "metadata": {},
     "output_type": "display_data"
    },
    {
     "data": {
      "text/plain": [
       "'2017-12-31'"
      ]
     },
     "metadata": {},
     "output_type": "display_data"
    },
    {
     "name": "stderr",
     "output_type": "stream",
     "text": [
      "WARNING:root:Applied processor reduces input query to empty string, all comparisons will have score 0. [Query: '']\n",
      "WARNING:root:Applied processor reduces input query to empty string, all comparisons will have score 0. [Query: '']\n",
      "WARNING:root:Applied processor reduces input query to empty string, all comparisons will have score 0. [Query: '']\n",
      "WARNING:root:Applied processor reduces input query to empty string, all comparisons will have score 0. [Query: '']\n",
      "WARNING:root:Applied processor reduces input query to empty string, all comparisons will have score 0. [Query: '']\n"
     ]
    },
    {
     "data": {
      "text/plain": [
       "('Portfolio_Company',\n",
       " '',\n",
       " 'Industry',\n",
       " 'Industry',\n",
       " 'Industry',\n",
       " '',\n",
       " 'Seniority',\n",
       " 'Seniority',\n",
       " 'Seniority',\n",
       " '',\n",
       " 'Interest_Rate',\n",
       " 'Interest_Rate',\n",
       " 'Interest_Rate',\n",
       " '',\n",
       " 'Principal/Shares',\n",
       " 'Principal/Shares',\n",
       " 'Principal/Shares',\n",
       " '',\n",
       " 'fair_value',\n",
       " 'fair_value',\n",
       " 'fair_value')"
      ]
     },
     "metadata": {},
     "output_type": "display_data"
    },
    {
     "data": {
      "text/plain": [
       "'2018-03-31'"
      ]
     },
     "metadata": {},
     "output_type": "display_data"
    },
    {
     "name": "stderr",
     "output_type": "stream",
     "text": [
      "WARNING:root:Applied processor reduces input query to empty string, all comparisons will have score 0. [Query: '']\n",
      "WARNING:root:Applied processor reduces input query to empty string, all comparisons will have score 0. [Query: '']\n",
      "WARNING:root:Applied processor reduces input query to empty string, all comparisons will have score 0. [Query: '']\n",
      "WARNING:root:Applied processor reduces input query to empty string, all comparisons will have score 0. [Query: '']\n",
      "WARNING:root:Applied processor reduces input query to empty string, all comparisons will have score 0. [Query: '']\n",
      "WARNING:root:Applied processor reduces input query to empty string, all comparisons will have score 0. [Query: '']\n",
      "WARNING:root:Applied processor reduces input query to empty string, all comparisons will have score 0. [Query: '']\n",
      "WARNING:root:Applied processor reduces input query to empty string, all comparisons will have score 0. [Query: '']\n",
      "WARNING:root:Applied processor reduces input query to empty string, all comparisons will have score 0. [Query: '']\n",
      "WARNING:root:Applied processor reduces input query to empty string, all comparisons will have score 0. [Query: '']\n",
      "WARNING:root:Applied processor reduces input query to empty string, all comparisons will have score 0. [Query: '']\n",
      "WARNING:root:Applied processor reduces input query to empty string, all comparisons will have score 0. [Query: '']\n"
     ]
    },
    {
     "data": {
      "text/plain": [
       "('Portfolio_Company',\n",
       " '',\n",
       " 'Spread_Above_Index',\n",
       " '',\n",
       " 'Interest_Rate',\n",
       " 'Interest_Rate',\n",
       " '',\n",
       " '',\n",
       " 'Maturity',\n",
       " '',\n",
       " 'Principal/Shares',\n",
       " 'Principal/Shares',\n",
       " '',\n",
       " '',\n",
       " 'cost',\n",
       " 'cost',\n",
       " '',\n",
       " '',\n",
       " 'fair_value',\n",
       " 'fair_value',\n",
       " '',\n",
       " '',\n",
       " 'of_Net_Assets',\n",
       " 'of_Net_Assets',\n",
       " '')"
      ]
     },
     "metadata": {},
     "output_type": "display_data"
    },
    {
     "data": {
      "text/plain": [
       "'2018-03-31\\\\Schedule_of_Investments_1.csv'"
      ]
     },
     "metadata": {},
     "output_type": "display_data"
    },
    {
     "data": {
      "text/plain": [
       "'2018-03-31\\\\Schedule_of_Investments_2.csv'"
      ]
     },
     "metadata": {},
     "output_type": "display_data"
    },
    {
     "data": {
      "text/plain": [
       "'2018-03-31\\\\Schedule_of_Investments_3.csv'"
      ]
     },
     "metadata": {},
     "output_type": "display_data"
    },
    {
     "data": {
      "text/plain": [
       "'2018-03-31\\\\Schedule_of_Investments_4.csv'"
      ]
     },
     "metadata": {},
     "output_type": "display_data"
    },
    {
     "data": {
      "text/plain": [
       "'2018-03-31\\\\Schedule_of_Investments_5.csv'"
      ]
     },
     "metadata": {},
     "output_type": "display_data"
    },
    {
     "data": {
      "text/plain": [
       "'2018-06-30'"
      ]
     },
     "metadata": {},
     "output_type": "display_data"
    },
    {
     "name": "stderr",
     "output_type": "stream",
     "text": [
      "WARNING:root:Applied processor reduces input query to empty string, all comparisons will have score 0. [Query: '']\n",
      "WARNING:root:Applied processor reduces input query to empty string, all comparisons will have score 0. [Query: '']\n",
      "WARNING:root:Applied processor reduces input query to empty string, all comparisons will have score 0. [Query: '']\n",
      "WARNING:root:Applied processor reduces input query to empty string, all comparisons will have score 0. [Query: '']\n",
      "WARNING:root:Applied processor reduces input query to empty string, all comparisons will have score 0. [Query: '']\n",
      "WARNING:root:Applied processor reduces input query to empty string, all comparisons will have score 0. [Query: '']\n",
      "WARNING:root:Applied processor reduces input query to empty string, all comparisons will have score 0. [Query: '']\n",
      "WARNING:root:Applied processor reduces input query to empty string, all comparisons will have score 0. [Query: '']\n",
      "WARNING:root:Applied processor reduces input query to empty string, all comparisons will have score 0. [Query: '']\n",
      "WARNING:root:Applied processor reduces input query to empty string, all comparisons will have score 0. [Query: '']\n",
      "WARNING:root:Applied processor reduces input query to empty string, all comparisons will have score 0. [Query: '']\n"
     ]
    },
    {
     "data": {
      "text/plain": [
       "('Portfolio_Company',\n",
       " '',\n",
       " 'Spread_Above_Index',\n",
       " '',\n",
       " 'Interest_Rate',\n",
       " 'Interest_Rate',\n",
       " '',\n",
       " 'Maturity',\n",
       " '',\n",
       " 'Principal/Shares',\n",
       " 'Principal/Shares',\n",
       " '',\n",
       " '',\n",
       " 'cost',\n",
       " 'cost',\n",
       " '',\n",
       " '',\n",
       " 'fair_value',\n",
       " 'fair_value',\n",
       " '',\n",
       " '',\n",
       " 'of_Net_Assets',\n",
       " 'of_Net_Assets',\n",
       " '')"
      ]
     },
     "metadata": {},
     "output_type": "display_data"
    },
    {
     "data": {
      "text/plain": [
       "'2018-06-30\\\\Schedule_of_Investments_1.csv'"
      ]
     },
     "metadata": {},
     "output_type": "display_data"
    },
    {
     "data": {
      "text/plain": [
       "'2018-06-30\\\\Schedule_of_Investments_2.csv'"
      ]
     },
     "metadata": {},
     "output_type": "display_data"
    },
    {
     "data": {
      "text/plain": [
       "'2018-06-30\\\\Schedule_of_Investments_3.csv'"
      ]
     },
     "metadata": {},
     "output_type": "display_data"
    },
    {
     "data": {
      "text/plain": [
       "'2018-06-30\\\\Schedule_of_Investments_4.csv'"
      ]
     },
     "metadata": {},
     "output_type": "display_data"
    },
    {
     "data": {
      "text/plain": [
       "'2018-06-30\\\\Schedule_of_Investments_5.csv'"
      ]
     },
     "metadata": {},
     "output_type": "display_data"
    },
    {
     "data": {
      "text/plain": [
       "'2018-09-30'"
      ]
     },
     "metadata": {},
     "output_type": "display_data"
    },
    {
     "name": "stderr",
     "output_type": "stream",
     "text": [
      "WARNING:root:Applied processor reduces input query to empty string, all comparisons will have score 0. [Query: '']\n",
      "WARNING:root:Applied processor reduces input query to empty string, all comparisons will have score 0. [Query: '']\n",
      "WARNING:root:Applied processor reduces input query to empty string, all comparisons will have score 0. [Query: '']\n",
      "WARNING:root:Applied processor reduces input query to empty string, all comparisons will have score 0. [Query: '']\n",
      "WARNING:root:Applied processor reduces input query to empty string, all comparisons will have score 0. [Query: '']\n",
      "WARNING:root:Applied processor reduces input query to empty string, all comparisons will have score 0. [Query: '']\n",
      "WARNING:root:Applied processor reduces input query to empty string, all comparisons will have score 0. [Query: '']\n",
      "WARNING:root:Applied processor reduces input query to empty string, all comparisons will have score 0. [Query: '']\n",
      "WARNING:root:Applied processor reduces input query to empty string, all comparisons will have score 0. [Query: '']\n",
      "WARNING:root:Applied processor reduces input query to empty string, all comparisons will have score 0. [Query: '']\n",
      "WARNING:root:Applied processor reduces input query to empty string, all comparisons will have score 0. [Query: '']\n",
      "WARNING:root:Applied processor reduces input query to empty string, all comparisons will have score 0. [Query: '']\n"
     ]
    },
    {
     "data": {
      "text/plain": [
       "('Portfolio_Company',\n",
       " '',\n",
       " 'Spread_Above_Index',\n",
       " '',\n",
       " 'Interest_Rate',\n",
       " 'Interest_Rate',\n",
       " '',\n",
       " '',\n",
       " 'Maturity',\n",
       " '',\n",
       " 'Principal/Shares',\n",
       " 'Principal/Shares',\n",
       " '',\n",
       " '',\n",
       " 'cost',\n",
       " 'cost',\n",
       " '',\n",
       " '',\n",
       " 'fair_value',\n",
       " 'fair_value',\n",
       " '',\n",
       " '',\n",
       " 'of_Net_Assets',\n",
       " 'of_Net_Assets',\n",
       " '')"
      ]
     },
     "metadata": {},
     "output_type": "display_data"
    },
    {
     "data": {
      "text/plain": [
       "'2018-09-30\\\\Schedule_of_Investments_1.csv'"
      ]
     },
     "metadata": {},
     "output_type": "display_data"
    },
    {
     "data": {
      "text/plain": [
       "'2018-09-30\\\\Schedule_of_Investments_2.csv'"
      ]
     },
     "metadata": {},
     "output_type": "display_data"
    },
    {
     "data": {
      "text/plain": [
       "'2018-09-30\\\\Schedule_of_Investments_3.csv'"
      ]
     },
     "metadata": {},
     "output_type": "display_data"
    },
    {
     "data": {
      "text/plain": [
       "'2018-09-30\\\\Schedule_of_Investments_4.csv'"
      ]
     },
     "metadata": {},
     "output_type": "display_data"
    },
    {
     "data": {
      "text/plain": [
       "'2018-09-30\\\\Schedule_of_Investments_5.csv'"
      ]
     },
     "metadata": {},
     "output_type": "display_data"
    },
    {
     "data": {
      "text/plain": [
       "'2018-09-30\\\\Schedule_of_Investments_6.csv'"
      ]
     },
     "metadata": {},
     "output_type": "display_data"
    },
    {
     "data": {
      "text/plain": [
       "'2018-12-31'"
      ]
     },
     "metadata": {},
     "output_type": "display_data"
    },
    {
     "name": "stderr",
     "output_type": "stream",
     "text": [
      "WARNING:root:Applied processor reduces input query to empty string, all comparisons will have score 0. [Query: '']\n",
      "WARNING:root:Applied processor reduces input query to empty string, all comparisons will have score 0. [Query: '']\n",
      "WARNING:root:Applied processor reduces input query to empty string, all comparisons will have score 0. [Query: '']\n",
      "WARNING:root:Applied processor reduces input query to empty string, all comparisons will have score 0. [Query: '']\n",
      "WARNING:root:Applied processor reduces input query to empty string, all comparisons will have score 0. [Query: '']\n",
      "WARNING:root:Applied processor reduces input query to empty string, all comparisons will have score 0. [Query: '']\n",
      "WARNING:root:Applied processor reduces input query to empty string, all comparisons will have score 0. [Query: '']\n",
      "WARNING:root:Applied processor reduces input query to empty string, all comparisons will have score 0. [Query: '']\n",
      "WARNING:root:Applied processor reduces input query to empty string, all comparisons will have score 0. [Query: '']\n"
     ]
    },
    {
     "data": {
      "text/plain": [
       "('Portfolio_Company',\n",
       " '',\n",
       " 'Spread_Above_Index',\n",
       " '',\n",
       " 'Interest_Rate',\n",
       " 'Interest_Rate',\n",
       " '',\n",
       " '',\n",
       " 'Maturity',\n",
       " 'Maturity',\n",
       " '',\n",
       " '',\n",
       " 'Principal/Shares',\n",
       " 'Principal/Shares',\n",
       " '',\n",
       " '',\n",
       " 'fair_value',\n",
       " 'fair_value',\n",
       " '')"
      ]
     },
     "metadata": {},
     "output_type": "display_data"
    },
    {
     "data": {
      "text/plain": [
       "'2018-12-31\\\\Schedule_of_Investments_1.csv'"
      ]
     },
     "metadata": {},
     "output_type": "display_data"
    },
    {
     "data": {
      "text/plain": [
       "'2019-03-31'"
      ]
     },
     "metadata": {},
     "output_type": "display_data"
    },
    {
     "name": "stderr",
     "output_type": "stream",
     "text": [
      "WARNING:root:Applied processor reduces input query to empty string, all comparisons will have score 0. [Query: '']\n",
      "WARNING:root:Applied processor reduces input query to empty string, all comparisons will have score 0. [Query: '']\n",
      "WARNING:root:Applied processor reduces input query to empty string, all comparisons will have score 0. [Query: '']\n",
      "WARNING:root:Applied processor reduces input query to empty string, all comparisons will have score 0. [Query: '']\n",
      "WARNING:root:Applied processor reduces input query to empty string, all comparisons will have score 0. [Query: '']\n",
      "WARNING:root:Applied processor reduces input query to empty string, all comparisons will have score 0. [Query: '']\n",
      "WARNING:root:Applied processor reduces input query to empty string, all comparisons will have score 0. [Query: '']\n",
      "WARNING:root:Applied processor reduces input query to empty string, all comparisons will have score 0. [Query: '']\n",
      "WARNING:root:Applied processor reduces input query to empty string, all comparisons will have score 0. [Query: '']\n",
      "WARNING:root:Applied processor reduces input query to empty string, all comparisons will have score 0. [Query: '']\n"
     ]
    },
    {
     "data": {
      "text/plain": [
       "('Portfolio_Company',\n",
       " '',\n",
       " 'Spread_Above_Index',\n",
       " '',\n",
       " 'Interest_Rate',\n",
       " '',\n",
       " '',\n",
       " 'Aquisition_Date',\n",
       " '',\n",
       " 'Maturity',\n",
       " '',\n",
       " '',\n",
       " 'Principal/Shares',\n",
       " 'Principal/Shares',\n",
       " 'Principal/Shares',\n",
       " '',\n",
       " 'cost',\n",
       " 'cost',\n",
       " 'cost',\n",
       " '',\n",
       " 'fair_value',\n",
       " 'fair_value',\n",
       " 'fair_value',\n",
       " '',\n",
       " 'of_Net_Assets',\n",
       " 'of_Net_Assets',\n",
       " 'of_Net_Assets')"
      ]
     },
     "metadata": {},
     "output_type": "display_data"
    },
    {
     "data": {
      "text/plain": [
       "'2019-03-31\\\\Schedule_of_Investments_1.csv'"
      ]
     },
     "metadata": {},
     "output_type": "display_data"
    },
    {
     "data": {
      "text/plain": [
       "'2019-03-31\\\\Schedule_of_Investments_2.csv'"
      ]
     },
     "metadata": {},
     "output_type": "display_data"
    },
    {
     "data": {
      "text/plain": [
       "'2019-03-31\\\\Schedule_of_Investments_3.csv'"
      ]
     },
     "metadata": {},
     "output_type": "display_data"
    },
    {
     "data": {
      "text/plain": [
       "'2019-03-31\\\\Schedule_of_Investments_4.csv'"
      ]
     },
     "metadata": {},
     "output_type": "display_data"
    },
    {
     "data": {
      "text/plain": [
       "'2019-03-31\\\\Schedule_of_Investments_5.csv'"
      ]
     },
     "metadata": {},
     "output_type": "display_data"
    },
    {
     "data": {
      "text/plain": [
       "'2019-06-30'"
      ]
     },
     "metadata": {},
     "output_type": "display_data"
    },
    {
     "name": "stderr",
     "output_type": "stream",
     "text": [
      "WARNING:root:Applied processor reduces input query to empty string, all comparisons will have score 0. [Query: '']\n",
      "WARNING:root:Applied processor reduces input query to empty string, all comparisons will have score 0. [Query: '']\n",
      "WARNING:root:Applied processor reduces input query to empty string, all comparisons will have score 0. [Query: '']\n",
      "WARNING:root:Applied processor reduces input query to empty string, all comparisons will have score 0. [Query: '']\n",
      "WARNING:root:Applied processor reduces input query to empty string, all comparisons will have score 0. [Query: '']\n",
      "WARNING:root:Applied processor reduces input query to empty string, all comparisons will have score 0. [Query: '']\n",
      "WARNING:root:Applied processor reduces input query to empty string, all comparisons will have score 0. [Query: '']\n",
      "WARNING:root:Applied processor reduces input query to empty string, all comparisons will have score 0. [Query: '']\n",
      "WARNING:root:Applied processor reduces input query to empty string, all comparisons will have score 0. [Query: '']\n",
      "WARNING:root:Applied processor reduces input query to empty string, all comparisons will have score 0. [Query: '']\n",
      "WARNING:root:Applied processor reduces input query to empty string, all comparisons will have score 0. [Query: '']\n",
      "WARNING:root:Applied processor reduces input query to empty string, all comparisons will have score 0. [Query: '']\n",
      "WARNING:root:Applied processor reduces input query to empty string, all comparisons will have score 0. [Query: '']\n",
      "WARNING:root:Applied processor reduces input query to empty string, all comparisons will have score 0. [Query: '']\n"
     ]
    },
    {
     "data": {
      "text/plain": [
       "('Portfolio_Company',\n",
       " '',\n",
       " 'Spread_Above_Index',\n",
       " '',\n",
       " 'Interest_Rate',\n",
       " '',\n",
       " '',\n",
       " 'Aquisition_Date',\n",
       " '',\n",
       " 'Maturity',\n",
       " '',\n",
       " '',\n",
       " 'Principal/Shares',\n",
       " 'Principal/Shares',\n",
       " '',\n",
       " '',\n",
       " 'cost',\n",
       " 'cost',\n",
       " '',\n",
       " '',\n",
       " 'fair_value',\n",
       " 'fair_value',\n",
       " '',\n",
       " '',\n",
       " 'of_Net_Assets',\n",
       " 'of_Net_Assets',\n",
       " '')"
      ]
     },
     "metadata": {},
     "output_type": "display_data"
    },
    {
     "data": {
      "text/plain": [
       "'2019-06-30\\\\Schedule_of_Investments_1.csv'"
      ]
     },
     "metadata": {},
     "output_type": "display_data"
    },
    {
     "data": {
      "text/plain": [
       "'2019-06-30\\\\Schedule_of_Investments_2.csv'"
      ]
     },
     "metadata": {},
     "output_type": "display_data"
    },
    {
     "data": {
      "text/plain": [
       "'2019-06-30\\\\Schedule_of_Investments_3.csv'"
      ]
     },
     "metadata": {},
     "output_type": "display_data"
    },
    {
     "data": {
      "text/plain": [
       "'2019-06-30\\\\Schedule_of_Investments_4.csv'"
      ]
     },
     "metadata": {},
     "output_type": "display_data"
    },
    {
     "data": {
      "text/plain": [
       "'2019-06-30\\\\Schedule_of_Investments_5.csv'"
      ]
     },
     "metadata": {},
     "output_type": "display_data"
    },
    {
     "data": {
      "text/plain": [
       "'2019-06-30\\\\Schedule_of_Investments_6.csv'"
      ]
     },
     "metadata": {},
     "output_type": "display_data"
    },
    {
     "data": {
      "text/plain": [
       "'2019-09-30'"
      ]
     },
     "metadata": {},
     "output_type": "display_data"
    },
    {
     "name": "stderr",
     "output_type": "stream",
     "text": [
      "WARNING:root:Applied processor reduces input query to empty string, all comparisons will have score 0. [Query: '']\n",
      "WARNING:root:Applied processor reduces input query to empty string, all comparisons will have score 0. [Query: '']\n",
      "WARNING:root:Applied processor reduces input query to empty string, all comparisons will have score 0. [Query: '']\n",
      "WARNING:root:Applied processor reduces input query to empty string, all comparisons will have score 0. [Query: '']\n",
      "WARNING:root:Applied processor reduces input query to empty string, all comparisons will have score 0. [Query: '']\n",
      "WARNING:root:Applied processor reduces input query to empty string, all comparisons will have score 0. [Query: '']\n",
      "WARNING:root:Applied processor reduces input query to empty string, all comparisons will have score 0. [Query: '']\n",
      "WARNING:root:Applied processor reduces input query to empty string, all comparisons will have score 0. [Query: '']\n",
      "WARNING:root:Applied processor reduces input query to empty string, all comparisons will have score 0. [Query: '']\n",
      "WARNING:root:Applied processor reduces input query to empty string, all comparisons will have score 0. [Query: '']\n",
      "WARNING:root:Applied processor reduces input query to empty string, all comparisons will have score 0. [Query: '']\n",
      "WARNING:root:Applied processor reduces input query to empty string, all comparisons will have score 0. [Query: '']\n",
      "WARNING:root:Applied processor reduces input query to empty string, all comparisons will have score 0. [Query: '']\n",
      "WARNING:root:Applied processor reduces input query to empty string, all comparisons will have score 0. [Query: '']\n"
     ]
    },
    {
     "data": {
      "text/plain": [
       "('Portfolio_Company',\n",
       " '',\n",
       " 'Spread_Above_Index',\n",
       " '',\n",
       " 'Interest_Rate',\n",
       " '',\n",
       " '',\n",
       " 'Aquisition_Date',\n",
       " '',\n",
       " 'Maturity',\n",
       " '',\n",
       " '',\n",
       " 'Principal/Shares',\n",
       " 'Principal/Shares',\n",
       " '',\n",
       " '',\n",
       " 'cost',\n",
       " 'cost',\n",
       " '',\n",
       " '',\n",
       " 'fair_value',\n",
       " 'fair_value',\n",
       " '',\n",
       " '',\n",
       " 'of_Net_Assets',\n",
       " 'of_Net_Assets',\n",
       " '')"
      ]
     },
     "metadata": {},
     "output_type": "display_data"
    },
    {
     "data": {
      "text/plain": [
       "'2019-09-30\\\\Schedule_of_Investments_1.csv'"
      ]
     },
     "metadata": {},
     "output_type": "display_data"
    },
    {
     "data": {
      "text/plain": [
       "'2019-09-30\\\\Schedule_of_Investments_2.csv'"
      ]
     },
     "metadata": {},
     "output_type": "display_data"
    },
    {
     "data": {
      "text/plain": [
       "'2019-09-30\\\\Schedule_of_Investments_3.csv'"
      ]
     },
     "metadata": {},
     "output_type": "display_data"
    },
    {
     "data": {
      "text/plain": [
       "'2019-09-30\\\\Schedule_of_Investments_4.csv'"
      ]
     },
     "metadata": {},
     "output_type": "display_data"
    },
    {
     "data": {
      "text/plain": [
       "'2019-09-30\\\\Schedule_of_Investments_5.csv'"
      ]
     },
     "metadata": {},
     "output_type": "display_data"
    },
    {
     "data": {
      "text/plain": [
       "'2019-12-31'"
      ]
     },
     "metadata": {},
     "output_type": "display_data"
    },
    {
     "name": "stderr",
     "output_type": "stream",
     "text": [
      "WARNING:root:Applied processor reduces input query to empty string, all comparisons will have score 0. [Query: '']\n",
      "WARNING:root:Applied processor reduces input query to empty string, all comparisons will have score 0. [Query: '']\n",
      "WARNING:root:Applied processor reduces input query to empty string, all comparisons will have score 0. [Query: '']\n",
      "WARNING:root:Applied processor reduces input query to empty string, all comparisons will have score 0. [Query: '']\n",
      "WARNING:root:Applied processor reduces input query to empty string, all comparisons will have score 0. [Query: '']\n",
      "WARNING:root:Applied processor reduces input query to empty string, all comparisons will have score 0. [Query: '']\n",
      "WARNING:root:Applied processor reduces input query to empty string, all comparisons will have score 0. [Query: '']\n",
      "WARNING:root:Applied processor reduces input query to empty string, all comparisons will have score 0. [Query: '']\n"
     ]
    },
    {
     "data": {
      "text/plain": [
       "('Portfolio_Company',\n",
       " '',\n",
       " 'Spread_Above_Index',\n",
       " '',\n",
       " 'Interest_Rate',\n",
       " 'Interest_Rate',\n",
       " '',\n",
       " '',\n",
       " 'Maturity',\n",
       " '',\n",
       " 'Principal/Shares',\n",
       " 'Principal/Shares',\n",
       " '',\n",
       " '',\n",
       " 'fair_value',\n",
       " 'fair_value',\n",
       " '')"
      ]
     },
     "metadata": {},
     "output_type": "display_data"
    },
    {
     "data": {
      "text/plain": [
       "'2020-03-31'"
      ]
     },
     "metadata": {},
     "output_type": "display_data"
    },
    {
     "name": "stderr",
     "output_type": "stream",
     "text": [
      "WARNING:root:Applied processor reduces input query to empty string, all comparisons will have score 0. [Query: '']\n",
      "WARNING:root:Applied processor reduces input query to empty string, all comparisons will have score 0. [Query: '']\n",
      "WARNING:root:Applied processor reduces input query to empty string, all comparisons will have score 0. [Query: '']\n",
      "WARNING:root:Applied processor reduces input query to empty string, all comparisons will have score 0. [Query: '']\n",
      "WARNING:root:Applied processor reduces input query to empty string, all comparisons will have score 0. [Query: '']\n",
      "WARNING:root:Applied processor reduces input query to empty string, all comparisons will have score 0. [Query: '']\n",
      "WARNING:root:Applied processor reduces input query to empty string, all comparisons will have score 0. [Query: '']\n",
      "WARNING:root:Applied processor reduces input query to empty string, all comparisons will have score 0. [Query: '']\n",
      "WARNING:root:Applied processor reduces input query to empty string, all comparisons will have score 0. [Query: '']\n",
      "WARNING:root:Applied processor reduces input query to empty string, all comparisons will have score 0. [Query: '']\n",
      "WARNING:root:Applied processor reduces input query to empty string, all comparisons will have score 0. [Query: '']\n",
      "WARNING:root:Applied processor reduces input query to empty string, all comparisons will have score 0. [Query: '']\n",
      "WARNING:root:Applied processor reduces input query to empty string, all comparisons will have score 0. [Query: '']\n",
      "WARNING:root:Applied processor reduces input query to empty string, all comparisons will have score 0. [Query: '']\n"
     ]
    },
    {
     "data": {
      "text/plain": [
       "('Portfolio_Company',\n",
       " '',\n",
       " 'Spread_Above_Index',\n",
       " '',\n",
       " 'Interest_Rate',\n",
       " '',\n",
       " '',\n",
       " 'Aquisition_Date',\n",
       " '',\n",
       " 'Maturity',\n",
       " '',\n",
       " '',\n",
       " 'Principal/Shares',\n",
       " 'Principal/Shares',\n",
       " '',\n",
       " '',\n",
       " 'cost',\n",
       " 'cost',\n",
       " '',\n",
       " '',\n",
       " 'fair_value',\n",
       " 'fair_value',\n",
       " '',\n",
       " '',\n",
       " 'of_Net_Assets',\n",
       " 'of_Net_Assets',\n",
       " '')"
      ]
     },
     "metadata": {},
     "output_type": "display_data"
    },
    {
     "data": {
      "text/plain": [
       "'2020-03-31\\\\Schedule_of_Investments_1.csv'"
      ]
     },
     "metadata": {},
     "output_type": "display_data"
    },
    {
     "data": {
      "text/plain": [
       "'2020-03-31\\\\Schedule_of_Investments_2.csv'"
      ]
     },
     "metadata": {},
     "output_type": "display_data"
    },
    {
     "data": {
      "text/plain": [
       "'2020-03-31\\\\Schedule_of_Investments_3.csv'"
      ]
     },
     "metadata": {},
     "output_type": "display_data"
    },
    {
     "data": {
      "text/plain": [
       "'2020-03-31\\\\Schedule_of_Investments_4.csv'"
      ]
     },
     "metadata": {},
     "output_type": "display_data"
    },
    {
     "data": {
      "text/plain": [
       "'2020-06-30'"
      ]
     },
     "metadata": {},
     "output_type": "display_data"
    },
    {
     "name": "stderr",
     "output_type": "stream",
     "text": [
      "WARNING:root:Applied processor reduces input query to empty string, all comparisons will have score 0. [Query: '']\n",
      "WARNING:root:Applied processor reduces input query to empty string, all comparisons will have score 0. [Query: '']\n",
      "WARNING:root:Applied processor reduces input query to empty string, all comparisons will have score 0. [Query: '']\n",
      "WARNING:root:Applied processor reduces input query to empty string, all comparisons will have score 0. [Query: '']\n",
      "WARNING:root:Applied processor reduces input query to empty string, all comparisons will have score 0. [Query: '']\n",
      "WARNING:root:Applied processor reduces input query to empty string, all comparisons will have score 0. [Query: '']\n",
      "WARNING:root:Applied processor reduces input query to empty string, all comparisons will have score 0. [Query: '']\n",
      "WARNING:root:Applied processor reduces input query to empty string, all comparisons will have score 0. [Query: '']\n",
      "WARNING:root:Applied processor reduces input query to empty string, all comparisons will have score 0. [Query: '']\n",
      "WARNING:root:Applied processor reduces input query to empty string, all comparisons will have score 0. [Query: '']\n",
      "WARNING:root:Applied processor reduces input query to empty string, all comparisons will have score 0. [Query: '']\n",
      "WARNING:root:Applied processor reduces input query to empty string, all comparisons will have score 0. [Query: '']\n",
      "WARNING:root:Applied processor reduces input query to empty string, all comparisons will have score 0. [Query: '']\n",
      "WARNING:root:Applied processor reduces input query to empty string, all comparisons will have score 0. [Query: '']\n"
     ]
    },
    {
     "data": {
      "text/plain": [
       "('Portfolio_Company',\n",
       " '',\n",
       " 'Spread_Above_Index',\n",
       " '',\n",
       " 'Interest_Rate',\n",
       " '',\n",
       " '',\n",
       " 'Aquisition_Date',\n",
       " '',\n",
       " 'Maturity',\n",
       " '',\n",
       " '',\n",
       " 'Principal/Shares',\n",
       " 'Principal/Shares',\n",
       " '',\n",
       " '',\n",
       " 'cost',\n",
       " 'cost',\n",
       " '',\n",
       " '',\n",
       " 'fair_value',\n",
       " 'fair_value',\n",
       " '',\n",
       " '',\n",
       " 'of_Net_Assets',\n",
       " 'of_Net_Assets',\n",
       " '')"
      ]
     },
     "metadata": {},
     "output_type": "display_data"
    },
    {
     "data": {
      "text/plain": [
       "'2020-06-30\\\\Schedule_of_Investments_1.csv'"
      ]
     },
     "metadata": {},
     "output_type": "display_data"
    },
    {
     "data": {
      "text/plain": [
       "'2020-06-30\\\\Schedule_of_Investments_2.csv'"
      ]
     },
     "metadata": {},
     "output_type": "display_data"
    },
    {
     "data": {
      "text/plain": [
       "'2020-06-30\\\\Schedule_of_Investments_3.csv'"
      ]
     },
     "metadata": {},
     "output_type": "display_data"
    },
    {
     "data": {
      "text/plain": [
       "'2020-06-30\\\\Schedule_of_Investments_4.csv'"
      ]
     },
     "metadata": {},
     "output_type": "display_data"
    },
    {
     "data": {
      "text/plain": [
       "'2020-06-30\\\\Schedule_of_Investments_5.csv'"
      ]
     },
     "metadata": {},
     "output_type": "display_data"
    },
    {
     "data": {
      "text/plain": [
       "'2020-06-30\\\\Schedule_of_Investments_6.csv'"
      ]
     },
     "metadata": {},
     "output_type": "display_data"
    },
    {
     "data": {
      "text/plain": [
       "'2020-06-30\\\\Schedule_of_Investments_7.csv'"
      ]
     },
     "metadata": {},
     "output_type": "display_data"
    },
    {
     "data": {
      "text/plain": [
       "'2020-09-30'"
      ]
     },
     "metadata": {},
     "output_type": "display_data"
    },
    {
     "name": "stderr",
     "output_type": "stream",
     "text": [
      "WARNING:root:Applied processor reduces input query to empty string, all comparisons will have score 0. [Query: '']\n",
      "WARNING:root:Applied processor reduces input query to empty string, all comparisons will have score 0. [Query: '']\n",
      "WARNING:root:Applied processor reduces input query to empty string, all comparisons will have score 0. [Query: '']\n",
      "WARNING:root:Applied processor reduces input query to empty string, all comparisons will have score 0. [Query: '']\n",
      "WARNING:root:Applied processor reduces input query to empty string, all comparisons will have score 0. [Query: '']\n",
      "WARNING:root:Applied processor reduces input query to empty string, all comparisons will have score 0. [Query: '']\n",
      "WARNING:root:Applied processor reduces input query to empty string, all comparisons will have score 0. [Query: '']\n",
      "WARNING:root:Applied processor reduces input query to empty string, all comparisons will have score 0. [Query: '']\n",
      "WARNING:root:Applied processor reduces input query to empty string, all comparisons will have score 0. [Query: '']\n",
      "WARNING:root:Applied processor reduces input query to empty string, all comparisons will have score 0. [Query: '']\n",
      "WARNING:root:Applied processor reduces input query to empty string, all comparisons will have score 0. [Query: '']\n",
      "WARNING:root:Applied processor reduces input query to empty string, all comparisons will have score 0. [Query: '']\n",
      "WARNING:root:Applied processor reduces input query to empty string, all comparisons will have score 0. [Query: '']\n",
      "WARNING:root:Applied processor reduces input query to empty string, all comparisons will have score 0. [Query: '']\n"
     ]
    },
    {
     "data": {
      "text/plain": [
       "('Portfolio_Company',\n",
       " '',\n",
       " 'Spread_Above_Index',\n",
       " '',\n",
       " 'Interest_Rate',\n",
       " '',\n",
       " '',\n",
       " 'Aquisition_Date',\n",
       " '',\n",
       " 'Maturity',\n",
       " '',\n",
       " '',\n",
       " 'Principal/Shares',\n",
       " '',\n",
       " '',\n",
       " 'cost',\n",
       " 'cost',\n",
       " '',\n",
       " '',\n",
       " 'fair_value',\n",
       " 'fair_value',\n",
       " '',\n",
       " '',\n",
       " 'of_Net_Assets',\n",
       " '')"
      ]
     },
     "metadata": {},
     "output_type": "display_data"
    },
    {
     "data": {
      "text/plain": [
       "'2020-09-30\\\\Schedule_of_Investments_1.csv'"
      ]
     },
     "metadata": {},
     "output_type": "display_data"
    },
    {
     "data": {
      "text/plain": [
       "'2020-09-30\\\\Schedule_of_Investments_2.csv'"
      ]
     },
     "metadata": {},
     "output_type": "display_data"
    },
    {
     "data": {
      "text/plain": [
       "'2020-09-30\\\\Schedule_of_Investments_3.csv'"
      ]
     },
     "metadata": {},
     "output_type": "display_data"
    },
    {
     "data": {
      "text/plain": [
       "'2020-09-30\\\\Schedule_of_Investments_4.csv'"
      ]
     },
     "metadata": {},
     "output_type": "display_data"
    },
    {
     "data": {
      "text/plain": [
       "'2020-09-30\\\\Schedule_of_Investments_5.csv'"
      ]
     },
     "metadata": {},
     "output_type": "display_data"
    },
    {
     "data": {
      "text/plain": [
       "'2020-09-30\\\\Schedule_of_Investments_6.csv'"
      ]
     },
     "metadata": {},
     "output_type": "display_data"
    },
    {
     "data": {
      "text/plain": [
       "'2020-09-30\\\\Schedule_of_Investments_7.csv'"
      ]
     },
     "metadata": {},
     "output_type": "display_data"
    },
    {
     "data": {
      "text/plain": [
       "'2020-12-31'"
      ]
     },
     "metadata": {},
     "output_type": "display_data"
    },
    {
     "name": "stderr",
     "output_type": "stream",
     "text": [
      "WARNING:root:Applied processor reduces input query to empty string, all comparisons will have score 0. [Query: '']\n",
      "WARNING:root:Applied processor reduces input query to empty string, all comparisons will have score 0. [Query: '']\n",
      "WARNING:root:Applied processor reduces input query to empty string, all comparisons will have score 0. [Query: '']\n",
      "WARNING:root:Applied processor reduces input query to empty string, all comparisons will have score 0. [Query: '']\n",
      "WARNING:root:Applied processor reduces input query to empty string, all comparisons will have score 0. [Query: '']\n",
      "WARNING:root:Applied processor reduces input query to empty string, all comparisons will have score 0. [Query: '']\n",
      "WARNING:root:Applied processor reduces input query to empty string, all comparisons will have score 0. [Query: '']\n",
      "WARNING:root:Applied processor reduces input query to empty string, all comparisons will have score 0. [Query: '']\n",
      "WARNING:root:Applied processor reduces input query to empty string, all comparisons will have score 0. [Query: '']\n"
     ]
    },
    {
     "data": {
      "text/plain": [
       "('Portfolio_Company',\n",
       " '',\n",
       " 'Spread_Above_Index',\n",
       " '',\n",
       " 'Interest_Rate',\n",
       " 'Interest_Rate',\n",
       " '',\n",
       " '',\n",
       " 'Maturity',\n",
       " 'Maturity',\n",
       " '',\n",
       " '',\n",
       " 'Principal/Shares',\n",
       " 'Principal/Shares',\n",
       " '',\n",
       " '',\n",
       " 'fair_value',\n",
       " 'fair_value',\n",
       " '')"
      ]
     },
     "metadata": {},
     "output_type": "display_data"
    },
    {
     "data": {
      "text/plain": [
       "'2021-03-31'"
      ]
     },
     "metadata": {},
     "output_type": "display_data"
    },
    {
     "name": "stderr",
     "output_type": "stream",
     "text": [
      "WARNING:root:Applied processor reduces input query to empty string, all comparisons will have score 0. [Query: '']\n",
      "WARNING:root:Applied processor reduces input query to empty string, all comparisons will have score 0. [Query: '']\n",
      "WARNING:root:Applied processor reduces input query to empty string, all comparisons will have score 0. [Query: '']\n",
      "WARNING:root:Applied processor reduces input query to empty string, all comparisons will have score 0. [Query: '']\n",
      "WARNING:root:Applied processor reduces input query to empty string, all comparisons will have score 0. [Query: '']\n",
      "WARNING:root:Applied processor reduces input query to empty string, all comparisons will have score 0. [Query: '']\n",
      "WARNING:root:Applied processor reduces input query to empty string, all comparisons will have score 0. [Query: '']\n",
      "WARNING:root:Applied processor reduces input query to empty string, all comparisons will have score 0. [Query: '']\n",
      "WARNING:root:Applied processor reduces input query to empty string, all comparisons will have score 0. [Query: '']\n",
      "WARNING:root:Applied processor reduces input query to empty string, all comparisons will have score 0. [Query: '']\n",
      "WARNING:root:Applied processor reduces input query to empty string, all comparisons will have score 0. [Query: '']\n",
      "WARNING:root:Applied processor reduces input query to empty string, all comparisons will have score 0. [Query: '']\n",
      "WARNING:root:Applied processor reduces input query to empty string, all comparisons will have score 0. [Query: '']\n",
      "WARNING:root:Applied processor reduces input query to empty string, all comparisons will have score 0. [Query: '']\n"
     ]
    },
    {
     "data": {
      "text/plain": [
       "('Portfolio_Company',\n",
       " '',\n",
       " 'Spread_Above_Index',\n",
       " '',\n",
       " 'Interest_Rate',\n",
       " '',\n",
       " '',\n",
       " 'Aquisition_Date',\n",
       " '',\n",
       " 'Maturity',\n",
       " '',\n",
       " '',\n",
       " 'Principal/Shares',\n",
       " '',\n",
       " '',\n",
       " 'cost',\n",
       " 'cost',\n",
       " '',\n",
       " '',\n",
       " 'fair_value',\n",
       " 'fair_value',\n",
       " '',\n",
       " '',\n",
       " 'of_Net_Assets',\n",
       " '')"
      ]
     },
     "metadata": {},
     "output_type": "display_data"
    },
    {
     "data": {
      "text/plain": [
       "'2021-03-31\\\\Schedule_of_Investments_1.csv'"
      ]
     },
     "metadata": {},
     "output_type": "display_data"
    },
    {
     "data": {
      "text/plain": [
       "'2021-03-31\\\\Schedule_of_Investments_2.csv'"
      ]
     },
     "metadata": {},
     "output_type": "display_data"
    },
    {
     "data": {
      "text/plain": [
       "'2021-03-31\\\\Schedule_of_Investments_3.csv'"
      ]
     },
     "metadata": {},
     "output_type": "display_data"
    },
    {
     "data": {
      "text/plain": [
       "'2021-03-31\\\\Schedule_of_Investments_4.csv'"
      ]
     },
     "metadata": {},
     "output_type": "display_data"
    },
    {
     "data": {
      "text/plain": [
       "'2021-06-30'"
      ]
     },
     "metadata": {},
     "output_type": "display_data"
    },
    {
     "name": "stderr",
     "output_type": "stream",
     "text": [
      "WARNING:root:Applied processor reduces input query to empty string, all comparisons will have score 0. [Query: '']\n",
      "WARNING:root:Applied processor reduces input query to empty string, all comparisons will have score 0. [Query: '']\n",
      "WARNING:root:Applied processor reduces input query to empty string, all comparisons will have score 0. [Query: '']\n",
      "WARNING:root:Applied processor reduces input query to empty string, all comparisons will have score 0. [Query: '']\n",
      "WARNING:root:Applied processor reduces input query to empty string, all comparisons will have score 0. [Query: '']\n",
      "WARNING:root:Applied processor reduces input query to empty string, all comparisons will have score 0. [Query: '']\n",
      "WARNING:root:Applied processor reduces input query to empty string, all comparisons will have score 0. [Query: '']\n",
      "WARNING:root:Applied processor reduces input query to empty string, all comparisons will have score 0. [Query: '']\n",
      "WARNING:root:Applied processor reduces input query to empty string, all comparisons will have score 0. [Query: '']\n",
      "WARNING:root:Applied processor reduces input query to empty string, all comparisons will have score 0. [Query: '']\n"
     ]
    },
    {
     "data": {
      "text/plain": [
       "('Portfolio_Company',\n",
       " '',\n",
       " 'Spread_Above_Index',\n",
       " '',\n",
       " 'Interest_Rate',\n",
       " 'Interest_Rate',\n",
       " '',\n",
       " '',\n",
       " 'Aquisition_Date',\n",
       " '',\n",
       " 'Maturity',\n",
       " 'Maturity',\n",
       " '',\n",
       " 'Principal/Shares',\n",
       " 'Principal/Shares',\n",
       " '',\n",
       " 'cost',\n",
       " 'cost',\n",
       " '',\n",
       " 'fair_value',\n",
       " 'fair_value',\n",
       " '',\n",
       " 'of_Net_Assets',\n",
       " 'of_Net_Assets',\n",
       " '')"
      ]
     },
     "metadata": {},
     "output_type": "display_data"
    },
    {
     "data": {
      "text/plain": [
       "'2021-06-30\\\\Schedule_of_Investments_1.csv'"
      ]
     },
     "metadata": {},
     "output_type": "display_data"
    },
    {
     "data": {
      "text/plain": [
       "'2021-06-30\\\\Schedule_of_Investments_2.csv'"
      ]
     },
     "metadata": {},
     "output_type": "display_data"
    },
    {
     "data": {
      "text/plain": [
       "'2021-06-30\\\\Schedule_of_Investments_3.csv'"
      ]
     },
     "metadata": {},
     "output_type": "display_data"
    },
    {
     "data": {
      "text/plain": [
       "'2021-06-30\\\\Schedule_of_Investments_4.csv'"
      ]
     },
     "metadata": {},
     "output_type": "display_data"
    },
    {
     "data": {
      "text/plain": [
       "'2021-09-30'"
      ]
     },
     "metadata": {},
     "output_type": "display_data"
    },
    {
     "name": "stderr",
     "output_type": "stream",
     "text": [
      "WARNING:root:Applied processor reduces input query to empty string, all comparisons will have score 0. [Query: '']\n",
      "WARNING:root:Applied processor reduces input query to empty string, all comparisons will have score 0. [Query: '']\n",
      "WARNING:root:Applied processor reduces input query to empty string, all comparisons will have score 0. [Query: '']\n",
      "WARNING:root:Applied processor reduces input query to empty string, all comparisons will have score 0. [Query: '']\n",
      "WARNING:root:Applied processor reduces input query to empty string, all comparisons will have score 0. [Query: '']\n",
      "WARNING:root:Applied processor reduces input query to empty string, all comparisons will have score 0. [Query: '']\n",
      "WARNING:root:Applied processor reduces input query to empty string, all comparisons will have score 0. [Query: '']\n",
      "WARNING:root:Applied processor reduces input query to empty string, all comparisons will have score 0. [Query: '']\n",
      "WARNING:root:Applied processor reduces input query to empty string, all comparisons will have score 0. [Query: '']\n",
      "WARNING:root:Applied processor reduces input query to empty string, all comparisons will have score 0. [Query: '']\n"
     ]
    },
    {
     "data": {
      "text/plain": [
       "('Portfolio_Company',\n",
       " '',\n",
       " 'Spread_Above_Index',\n",
       " '',\n",
       " 'Interest_Rate',\n",
       " 'Interest_Rate',\n",
       " '',\n",
       " '',\n",
       " 'Aquisition_Date',\n",
       " '',\n",
       " 'Maturity',\n",
       " 'Maturity',\n",
       " '',\n",
       " 'Principal/Shares',\n",
       " 'Principal/Shares',\n",
       " '',\n",
       " 'cost',\n",
       " 'cost',\n",
       " '',\n",
       " 'fair_value',\n",
       " 'fair_value',\n",
       " '',\n",
       " 'of_Net_Assets',\n",
       " 'of_Net_Assets',\n",
       " '')"
      ]
     },
     "metadata": {},
     "output_type": "display_data"
    },
    {
     "data": {
      "text/plain": [
       "'2021-09-30\\\\Schedule_of_Investments_1.csv'"
      ]
     },
     "metadata": {},
     "output_type": "display_data"
    },
    {
     "data": {
      "text/plain": [
       "'2021-09-30\\\\Schedule_of_Investments_2.csv'"
      ]
     },
     "metadata": {},
     "output_type": "display_data"
    },
    {
     "data": {
      "text/plain": [
       "'2021-09-30\\\\Schedule_of_Investments_3.csv'"
      ]
     },
     "metadata": {},
     "output_type": "display_data"
    },
    {
     "data": {
      "text/plain": [
       "'2021-12-31'"
      ]
     },
     "metadata": {},
     "output_type": "display_data"
    },
    {
     "name": "stderr",
     "output_type": "stream",
     "text": [
      "WARNING:root:Applied processor reduces input query to empty string, all comparisons will have score 0. [Query: '']\n",
      "WARNING:root:Applied processor reduces input query to empty string, all comparisons will have score 0. [Query: '']\n",
      "WARNING:root:Applied processor reduces input query to empty string, all comparisons will have score 0. [Query: '']\n",
      "WARNING:root:Applied processor reduces input query to empty string, all comparisons will have score 0. [Query: '']\n",
      "WARNING:root:Applied processor reduces input query to empty string, all comparisons will have score 0. [Query: '']\n",
      "WARNING:root:Applied processor reduces input query to empty string, all comparisons will have score 0. [Query: '']\n",
      "WARNING:root:Applied processor reduces input query to empty string, all comparisons will have score 0. [Query: '']\n",
      "WARNING:root:Applied processor reduces input query to empty string, all comparisons will have score 0. [Query: '']\n",
      "WARNING:root:Applied processor reduces input query to empty string, all comparisons will have score 0. [Query: '']\n"
     ]
    },
    {
     "data": {
      "text/plain": [
       "('Portfolio_Company',\n",
       " '',\n",
       " 'Spread_Above_Index',\n",
       " '',\n",
       " 'Interest_Rate',\n",
       " 'Interest_Rate',\n",
       " '',\n",
       " '',\n",
       " 'Maturity',\n",
       " 'Maturity',\n",
       " '',\n",
       " '',\n",
       " 'Principal/Shares',\n",
       " 'Principal/Shares',\n",
       " '',\n",
       " '',\n",
       " 'fair_value',\n",
       " 'fair_value',\n",
       " '')"
      ]
     },
     "metadata": {},
     "output_type": "display_data"
    },
    {
     "data": {
      "text/plain": [
       "'2022-03-31'"
      ]
     },
     "metadata": {},
     "output_type": "display_data"
    },
    {
     "name": "stderr",
     "output_type": "stream",
     "text": [
      "WARNING:root:Applied processor reduces input query to empty string, all comparisons will have score 0. [Query: '']\n",
      "WARNING:root:Applied processor reduces input query to empty string, all comparisons will have score 0. [Query: '']\n",
      "WARNING:root:Applied processor reduces input query to empty string, all comparisons will have score 0. [Query: '']\n",
      "WARNING:root:Applied processor reduces input query to empty string, all comparisons will have score 0. [Query: '']\n",
      "WARNING:root:Applied processor reduces input query to empty string, all comparisons will have score 0. [Query: '']\n",
      "WARNING:root:Applied processor reduces input query to empty string, all comparisons will have score 0. [Query: '']\n",
      "WARNING:root:Applied processor reduces input query to empty string, all comparisons will have score 0. [Query: '']\n",
      "WARNING:root:Applied processor reduces input query to empty string, all comparisons will have score 0. [Query: '']\n",
      "WARNING:root:Applied processor reduces input query to empty string, all comparisons will have score 0. [Query: '']\n",
      "WARNING:root:Applied processor reduces input query to empty string, all comparisons will have score 0. [Query: '']\n"
     ]
    },
    {
     "data": {
      "text/plain": [
       "('Portfolio_Company',\n",
       " '',\n",
       " 'Spread_Above_Index',\n",
       " '',\n",
       " 'Interest_Rate',\n",
       " 'Interest_Rate',\n",
       " '',\n",
       " '',\n",
       " 'Aquisition_Date',\n",
       " '',\n",
       " 'Maturity',\n",
       " 'Maturity',\n",
       " '',\n",
       " 'Principal/Shares',\n",
       " 'Principal/Shares',\n",
       " '',\n",
       " 'cost',\n",
       " 'cost',\n",
       " '',\n",
       " 'fair_value',\n",
       " 'fair_value',\n",
       " '',\n",
       " 'of_Net_Assets',\n",
       " 'of_Net_Assets',\n",
       " '')"
      ]
     },
     "metadata": {},
     "output_type": "display_data"
    },
    {
     "data": {
      "text/plain": [
       "'2022-03-31\\\\Schedule_of_Investments_1.csv'"
      ]
     },
     "metadata": {},
     "output_type": "display_data"
    },
    {
     "data": {
      "text/plain": [
       "'2022-03-31\\\\Schedule_of_Investments_2.csv'"
      ]
     },
     "metadata": {},
     "output_type": "display_data"
    },
    {
     "data": {
      "text/plain": [
       "'2022-03-31\\\\Schedule_of_Investments_3.csv'"
      ]
     },
     "metadata": {},
     "output_type": "display_data"
    },
    {
     "data": {
      "text/plain": [
       "'2022-06-30'"
      ]
     },
     "metadata": {},
     "output_type": "display_data"
    },
    {
     "name": "stderr",
     "output_type": "stream",
     "text": [
      "WARNING:root:Applied processor reduces input query to empty string, all comparisons will have score 0. [Query: ' ']\n",
      "WARNING:root:Applied processor reduces input query to empty string, all comparisons will have score 0. [Query: ' ']\n",
      "WARNING:root:Applied processor reduces input query to empty string, all comparisons will have score 0. [Query: ' ']\n",
      "WARNING:root:Applied processor reduces input query to empty string, all comparisons will have score 0. [Query: ' ']\n",
      "WARNING:root:Applied processor reduces input query to empty string, all comparisons will have score 0. [Query: ' ']\n",
      "WARNING:root:Applied processor reduces input query to empty string, all comparisons will have score 0. [Query: ' ']\n",
      "WARNING:root:Applied processor reduces input query to empty string, all comparisons will have score 0. [Query: ' ']\n",
      "WARNING:root:Applied processor reduces input query to empty string, all comparisons will have score 0. [Query: ' ']\n",
      "WARNING:root:Applied processor reduces input query to empty string, all comparisons will have score 0. [Query: '  ']\n"
     ]
    },
    {
     "data": {
      "text/plain": [
       "('Portfolio_Company',\n",
       " '_',\n",
       " 'Spread_Above_Index',\n",
       " '_',\n",
       " 'Interest_Rate',\n",
       " '_',\n",
       " 'Aquisition_Date',\n",
       " '_',\n",
       " 'Maturity',\n",
       " '_',\n",
       " 'Principal/Shares',\n",
       " '_',\n",
       " 'cost',\n",
       " 'cost',\n",
       " '_',\n",
       " 'fair_value',\n",
       " 'fair_value',\n",
       " '_',\n",
       " 'of_Net_Assets',\n",
       " '_')"
      ]
     },
     "metadata": {},
     "output_type": "display_data"
    },
    {
     "data": {
      "text/plain": [
       "'2022-06-30\\\\Schedule_of_Investments_1.csv'"
      ]
     },
     "metadata": {},
     "output_type": "display_data"
    },
    {
     "data": {
      "text/plain": [
       "'2022-06-30\\\\Schedule_of_Investments_2.csv'"
      ]
     },
     "metadata": {},
     "output_type": "display_data"
    },
    {
     "data": {
      "text/plain": [
       "'2022-06-30\\\\Schedule_of_Investments_3.csv'"
      ]
     },
     "metadata": {},
     "output_type": "display_data"
    },
    {
     "data": {
      "text/plain": [
       "'2022-06-30\\\\Schedule_of_Investments_4.csv'"
      ]
     },
     "metadata": {},
     "output_type": "display_data"
    },
    {
     "data": {
      "text/plain": [
       "'2022-06-30\\\\Schedule_of_Investments_5.csv'"
      ]
     },
     "metadata": {},
     "output_type": "display_data"
    },
    {
     "data": {
      "text/plain": [
       "'2022-06-30\\\\Schedule_of_Investments_6.csv'"
      ]
     },
     "metadata": {},
     "output_type": "display_data"
    },
    {
     "data": {
      "text/plain": [
       "'2022-06-30\\\\Schedule_of_Investments_7.csv'"
      ]
     },
     "metadata": {},
     "output_type": "display_data"
    },
    {
     "data": {
      "text/plain": [
       "'2022-06-30\\\\Schedule_of_Investments_8.csv'"
      ]
     },
     "metadata": {},
     "output_type": "display_data"
    },
    {
     "data": {
      "text/plain": [
       "'2022-06-30\\\\Schedule_of_Investments_9.csv'"
      ]
     },
     "metadata": {},
     "output_type": "display_data"
    },
    {
     "data": {
      "text/plain": [
       "'2022-06-30\\\\Schedule_of_Investments_10.csv'"
      ]
     },
     "metadata": {},
     "output_type": "display_data"
    },
    {
     "data": {
      "text/plain": [
       "'2022-09-30'"
      ]
     },
     "metadata": {},
     "output_type": "display_data"
    },
    {
     "name": "stderr",
     "output_type": "stream",
     "text": [
      "WARNING:root:Applied processor reduces input query to empty string, all comparisons will have score 0. [Query: ' ']\n",
      "WARNING:root:Applied processor reduces input query to empty string, all comparisons will have score 0. [Query: ' ']\n",
      "WARNING:root:Applied processor reduces input query to empty string, all comparisons will have score 0. [Query: '   ']\n",
      "WARNING:root:Applied processor reduces input query to empty string, all comparisons will have score 0. [Query: ' ']\n",
      "WARNING:root:Applied processor reduces input query to empty string, all comparisons will have score 0. [Query: ' ']\n",
      "WARNING:root:Applied processor reduces input query to empty string, all comparisons will have score 0. [Query: ' ']\n",
      "WARNING:root:Applied processor reduces input query to empty string, all comparisons will have score 0. [Query: ' ']\n",
      "WARNING:root:Applied processor reduces input query to empty string, all comparisons will have score 0. [Query: ' ']\n",
      "WARNING:root:Applied processor reduces input query to empty string, all comparisons will have score 0. [Query: '    ']\n"
     ]
    },
    {
     "data": {
      "text/plain": [
       "('Portfolio_Company',\n",
       " '_',\n",
       " 'Spread_Above_Index',\n",
       " 'Spread_Above_Index',\n",
       " '_',\n",
       " 'Interest_Rate',\n",
       " 'Interest_Rate',\n",
       " '_',\n",
       " 'Aquisition_Date',\n",
       " '_',\n",
       " 'Maturity',\n",
       " '_',\n",
       " 'Principal/Shares',\n",
       " '_',\n",
       " 'cost',\n",
       " 'cost',\n",
       " '_',\n",
       " 'fair_value',\n",
       " 'fair_value',\n",
       " '_',\n",
       " 'of_Net_Assets',\n",
       " '_')"
      ]
     },
     "metadata": {},
     "output_type": "display_data"
    },
    {
     "data": {
      "text/plain": [
       "'2022-09-30\\\\Schedule_of_Investments_1.csv'"
      ]
     },
     "metadata": {},
     "output_type": "display_data"
    },
    {
     "data": {
      "text/plain": [
       "'2022-09-30\\\\Schedule_of_Investments_2.csv'"
      ]
     },
     "metadata": {},
     "output_type": "display_data"
    },
    {
     "data": {
      "text/plain": [
       "'2022-09-30\\\\Schedule_of_Investments_3.csv'"
      ]
     },
     "metadata": {},
     "output_type": "display_data"
    },
    {
     "data": {
      "text/plain": [
       "'2022-09-30\\\\Schedule_of_Investments_4.csv'"
      ]
     },
     "metadata": {},
     "output_type": "display_data"
    },
    {
     "data": {
      "text/plain": [
       "'2022-09-30\\\\Schedule_of_Investments_5.csv'"
      ]
     },
     "metadata": {},
     "output_type": "display_data"
    },
    {
     "data": {
      "text/plain": [
       "'2022-09-30\\\\Schedule_of_Investments_6.csv'"
      ]
     },
     "metadata": {},
     "output_type": "display_data"
    },
    {
     "data": {
      "text/plain": [
       "'2022-09-30\\\\Schedule_of_Investments_7.csv'"
      ]
     },
     "metadata": {},
     "output_type": "display_data"
    },
    {
     "name": "stderr",
     "output_type": "stream",
     "text": [
      "WARNING:root:Applied processor reduces input query to empty string, all comparisons will have score 0. [Query: ' ']\n",
      "WARNING:root:Applied processor reduces input query to empty string, all comparisons will have score 0. [Query: ' ']\n",
      "WARNING:root:Applied processor reduces input query to empty string, all comparisons will have score 0. [Query: ' ']\n",
      "WARNING:root:Applied processor reduces input query to empty string, all comparisons will have score 0. [Query: ' ']\n",
      "WARNING:root:Applied processor reduces input query to empty string, all comparisons will have score 0. [Query: ' ']\n",
      "WARNING:root:Applied processor reduces input query to empty string, all comparisons will have score 0. [Query: ' ']\n",
      "WARNING:root:Applied processor reduces input query to empty string, all comparisons will have score 0. [Query: ' ']\n",
      "WARNING:root:Applied processor reduces input query to empty string, all comparisons will have score 0. [Query: ' ']\n",
      "WARNING:root:Applied processor reduces input query to empty string, all comparisons will have score 0. [Query: ' ']\n"
     ]
    },
    {
     "data": {
      "text/plain": [
       "('Portfolio_Company',\n",
       " '_',\n",
       " 'Spread_Above_Index',\n",
       " '_',\n",
       " 'Interest_Rate',\n",
       " 'Interest_Rate',\n",
       " '_',\n",
       " 'Aquisition_Date',\n",
       " '_',\n",
       " 'Maturity',\n",
       " '_',\n",
       " 'Principal/Shares',\n",
       " '_',\n",
       " 'cost',\n",
       " 'cost',\n",
       " '_',\n",
       " 'fair_value',\n",
       " 'fair_value',\n",
       " '_',\n",
       " 'of_Net_Assets',\n",
       " '_')"
      ]
     },
     "metadata": {},
     "output_type": "display_data"
    },
    {
     "data": {
      "text/plain": [
       "'2022-09-30\\\\Schedule_of_Investments_8.csv'"
      ]
     },
     "metadata": {},
     "output_type": "display_data"
    },
    {
     "data": {
      "text/plain": [
       "'2022-09-30\\\\Schedule_of_Investments_9.csv'"
      ]
     },
     "metadata": {},
     "output_type": "display_data"
    },
    {
     "name": "stderr",
     "output_type": "stream",
     "text": [
      "WARNING:root:Applied processor reduces input query to empty string, all comparisons will have score 0. [Query: '   ']\n",
      "WARNING:root:Applied processor reduces input query to empty string, all comparisons will have score 0. [Query: ' ']\n",
      "WARNING:root:Applied processor reduces input query to empty string, all comparisons will have score 0. [Query: '   ']\n",
      "WARNING:root:Applied processor reduces input query to empty string, all comparisons will have score 0. [Query: ' ']\n",
      "WARNING:root:Applied processor reduces input query to empty string, all comparisons will have score 0. [Query: ' ']\n",
      "WARNING:root:Applied processor reduces input query to empty string, all comparisons will have score 0. [Query: ' ']\n",
      "WARNING:root:Applied processor reduces input query to empty string, all comparisons will have score 0. [Query: ' ']\n",
      "WARNING:root:Applied processor reduces input query to empty string, all comparisons will have score 0. [Query: ' ']\n",
      "WARNING:root:Applied processor reduces input query to empty string, all comparisons will have score 0. [Query: '']\n"
     ]
    },
    {
     "data": {
      "text/plain": [
       "('Portfolio_Company',\n",
       " '_',\n",
       " 'Spread_Above_Index',\n",
       " 'Spread_Above_Index',\n",
       " '_',\n",
       " 'Interest_Rate',\n",
       " 'Interest_Rate',\n",
       " '_',\n",
       " 'Aquisition_Date',\n",
       " '_',\n",
       " 'Maturity',\n",
       " '_',\n",
       " 'Principal/Shares',\n",
       " '_',\n",
       " 'cost',\n",
       " 'cost',\n",
       " '_',\n",
       " 'fair_value',\n",
       " 'fair_value',\n",
       " '_',\n",
       " 'of_Net_Assets',\n",
       " '')"
      ]
     },
     "metadata": {},
     "output_type": "display_data"
    },
    {
     "data": {
      "text/plain": [
       "'2022-09-30\\\\Schedule_of_Investments_10.csv'"
      ]
     },
     "metadata": {},
     "output_type": "display_data"
    },
    {
     "name": "stderr",
     "output_type": "stream",
     "text": [
      "WARNING:root:Applied processor reduces input query to empty string, all comparisons will have score 0. [Query: '  ']\n",
      "WARNING:root:Applied processor reduces input query to empty string, all comparisons will have score 0. [Query: ' ']\n",
      "WARNING:root:Applied processor reduces input query to empty string, all comparisons will have score 0. [Query: '  ']\n",
      "WARNING:root:Applied processor reduces input query to empty string, all comparisons will have score 0. [Query: ' ']\n",
      "WARNING:root:Applied processor reduces input query to empty string, all comparisons will have score 0. [Query: ' ']\n",
      "WARNING:root:Applied processor reduces input query to empty string, all comparisons will have score 0. [Query: ' ']\n",
      "WARNING:root:Applied processor reduces input query to empty string, all comparisons will have score 0. [Query: ' ']\n",
      "WARNING:root:Applied processor reduces input query to empty string, all comparisons will have score 0. [Query: ' ']\n",
      "WARNING:root:Applied processor reduces input query to empty string, all comparisons will have score 0. [Query: '']\n"
     ]
    },
    {
     "data": {
      "text/plain": [
       "('Portfolio_Company',\n",
       " '_',\n",
       " 'Spread_Above_Index',\n",
       " '_',\n",
       " 'Interest_Rate',\n",
       " 'Interest_Rate',\n",
       " '_',\n",
       " 'Aquisition_Date',\n",
       " '_',\n",
       " 'Maturity',\n",
       " '_',\n",
       " 'Principal/Shares',\n",
       " '_',\n",
       " 'cost',\n",
       " 'cost',\n",
       " '_',\n",
       " 'fair_value',\n",
       " 'fair_value',\n",
       " '_',\n",
       " 'of_Net_Assets',\n",
       " '')"
      ]
     },
     "metadata": {},
     "output_type": "display_data"
    },
    {
     "data": {
      "text/plain": [
       "'2022-12-31'"
      ]
     },
     "metadata": {},
     "output_type": "display_data"
    },
    {
     "name": "stderr",
     "output_type": "stream",
     "text": [
      "WARNING:root:Applied processor reduces input query to empty string, all comparisons will have score 0. [Query: '']\n",
      "WARNING:root:Applied processor reduces input query to empty string, all comparisons will have score 0. [Query: '']\n",
      "WARNING:root:Applied processor reduces input query to empty string, all comparisons will have score 0. [Query: '']\n",
      "WARNING:root:Applied processor reduces input query to empty string, all comparisons will have score 0. [Query: '   ']\n",
      "WARNING:root:Applied processor reduces input query to empty string, all comparisons will have score 0. [Query: '']\n",
      "WARNING:root:Applied processor reduces input query to empty string, all comparisons will have score 0. [Query: '']\n"
     ]
    },
    {
     "data": {
      "text/plain": [
       "('Portfolio_Company',\n",
       " '',\n",
       " 'Spread_Above_Index',\n",
       " '',\n",
       " 'Spread_Above_Index',\n",
       " '',\n",
       " 'Interest_Rate',\n",
       " '_',\n",
       " 'Maturity',\n",
       " '',\n",
       " 'Principal/Shares',\n",
       " '',\n",
       " 'fair_value',\n",
       " 'fair_value')"
      ]
     },
     "metadata": {},
     "output_type": "display_data"
    },
    {
     "data": {
      "text/plain": [
       "'2022-12-31\\\\Schedule_of_Investments_1.csv'"
      ]
     },
     "metadata": {},
     "output_type": "display_data"
    },
    {
     "name": "stderr",
     "output_type": "stream",
     "text": [
      "WARNING:root:Applied processor reduces input query to empty string, all comparisons will have score 0. [Query: '']\n",
      "WARNING:root:Applied processor reduces input query to empty string, all comparisons will have score 0. [Query: '']\n",
      "WARNING:root:Applied processor reduces input query to empty string, all comparisons will have score 0. [Query: '']\n",
      "WARNING:root:Applied processor reduces input query to empty string, all comparisons will have score 0. [Query: '']\n",
      "WARNING:root:Applied processor reduces input query to empty string, all comparisons will have score 0. [Query: '']\n",
      "WARNING:root:Applied processor reduces input query to empty string, all comparisons will have score 0. [Query: '']\n"
     ]
    },
    {
     "data": {
      "text/plain": [
       "('Portfolio_Company',\n",
       " '',\n",
       " 'Spread_Above_Index',\n",
       " '',\n",
       " 'Spread_Above_Index',\n",
       " '',\n",
       " 'Interest_Rate',\n",
       " 'Interest_Rate',\n",
       " '',\n",
       " 'Maturity',\n",
       " '',\n",
       " 'Principal/Shares',\n",
       " '',\n",
       " 'fair_value',\n",
       " 'fair_value')"
      ]
     },
     "metadata": {},
     "output_type": "display_data"
    },
    {
     "data": {
      "text/plain": [
       "'2023-03-31'"
      ]
     },
     "metadata": {},
     "output_type": "display_data"
    },
    {
     "name": "stderr",
     "output_type": "stream",
     "text": [
      "WARNING:root:Applied processor reduces input query to empty string, all comparisons will have score 0. [Query: '']\n",
      "WARNING:root:Applied processor reduces input query to empty string, all comparisons will have score 0. [Query: ' ']\n",
      "WARNING:root:Applied processor reduces input query to empty string, all comparisons will have score 0. [Query: ' ']\n",
      "WARNING:root:Applied processor reduces input query to empty string, all comparisons will have score 0. [Query: '  ']\n",
      "WARNING:root:Applied processor reduces input query to empty string, all comparisons will have score 0. [Query: ' ']\n",
      "WARNING:root:Applied processor reduces input query to empty string, all comparisons will have score 0. [Query: ' ']\n",
      "WARNING:root:Applied processor reduces input query to empty string, all comparisons will have score 0. [Query: ' ']\n",
      "WARNING:root:Applied processor reduces input query to empty string, all comparisons will have score 0. [Query: ' ']\n",
      "WARNING:root:Applied processor reduces input query to empty string, all comparisons will have score 0. [Query: ' ']\n",
      "WARNING:root:Applied processor reduces input query to empty string, all comparisons will have score 0. [Query: '   ']\n"
     ]
    },
    {
     "data": {
      "text/plain": [
       "('Portfolio_Company',\n",
       " '',\n",
       " 'Spread_Above_Index',\n",
       " '_',\n",
       " 'Spread_Above_Index',\n",
       " '_',\n",
       " 'Interest_Rate',\n",
       " '_',\n",
       " 'Aquisition_Date',\n",
       " '_',\n",
       " 'Maturity',\n",
       " '_',\n",
       " 'Principal/Shares',\n",
       " '_',\n",
       " 'cost',\n",
       " 'cost',\n",
       " '_',\n",
       " 'fair_value',\n",
       " 'fair_value',\n",
       " '_',\n",
       " 'of_Net_Assets',\n",
       " '_')"
      ]
     },
     "metadata": {},
     "output_type": "display_data"
    },
    {
     "data": {
      "text/plain": [
       "'2023-03-31\\\\Schedule_of_Investments_1.csv'"
      ]
     },
     "metadata": {},
     "output_type": "display_data"
    },
    {
     "name": "stderr",
     "output_type": "stream",
     "text": [
      "WARNING:root:Applied processor reduces input query to empty string, all comparisons will have score 0. [Query: '']\n",
      "WARNING:root:Applied processor reduces input query to empty string, all comparisons will have score 0. [Query: '  ']\n",
      "WARNING:root:Applied processor reduces input query to empty string, all comparisons will have score 0. [Query: ' ']\n",
      "WARNING:root:Applied processor reduces input query to empty string, all comparisons will have score 0. [Query: '  ']\n",
      "WARNING:root:Applied processor reduces input query to empty string, all comparisons will have score 0. [Query: ' ']\n",
      "WARNING:root:Applied processor reduces input query to empty string, all comparisons will have score 0. [Query: ' ']\n",
      "WARNING:root:Applied processor reduces input query to empty string, all comparisons will have score 0. [Query: ' ']\n",
      "WARNING:root:Applied processor reduces input query to empty string, all comparisons will have score 0. [Query: ' ']\n",
      "WARNING:root:Applied processor reduces input query to empty string, all comparisons will have score 0. [Query: ' ']\n",
      "WARNING:root:Applied processor reduces input query to empty string, all comparisons will have score 0. [Query: '  ']\n"
     ]
    },
    {
     "data": {
      "text/plain": [
       "('Portfolio_Company',\n",
       " '',\n",
       " 'Spread_Above_Index',\n",
       " '_',\n",
       " 'Spread_Above_Index',\n",
       " '_',\n",
       " 'Interest_Rate',\n",
       " 'Interest_Rate',\n",
       " '_',\n",
       " 'Aquisition_Date',\n",
       " '_',\n",
       " 'Maturity',\n",
       " '_',\n",
       " 'Principal/Shares',\n",
       " '_',\n",
       " 'cost',\n",
       " 'cost',\n",
       " '_',\n",
       " 'fair_value',\n",
       " 'fair_value',\n",
       " '_',\n",
       " 'of_Net_Assets',\n",
       " '_')"
      ]
     },
     "metadata": {},
     "output_type": "display_data"
    },
    {
     "data": {
      "text/plain": [
       "'2023-03-31\\\\Schedule_of_Investments_2.csv'"
      ]
     },
     "metadata": {},
     "output_type": "display_data"
    },
    {
     "data": {
      "text/plain": [
       "'2023-03-31\\\\Schedule_of_Investments_3.csv'"
      ]
     },
     "metadata": {},
     "output_type": "display_data"
    },
    {
     "data": {
      "text/plain": [
       "'2023-03-31\\\\Schedule_of_Investments_4.csv'"
      ]
     },
     "metadata": {},
     "output_type": "display_data"
    },
    {
     "data": {
      "text/plain": [
       "'2023-03-31\\\\Schedule_of_Investments_5.csv'"
      ]
     },
     "metadata": {},
     "output_type": "display_data"
    },
    {
     "data": {
      "text/plain": [
       "'2023-03-31\\\\Schedule_of_Investments_6.csv'"
      ]
     },
     "metadata": {},
     "output_type": "display_data"
    },
    {
     "data": {
      "text/plain": [
       "'2023-03-31\\\\Schedule_of_Investments_7.csv'"
      ]
     },
     "metadata": {},
     "output_type": "display_data"
    },
    {
     "data": {
      "text/plain": [
       "'2023-03-31\\\\Schedule_of_Investments_8.csv'"
      ]
     },
     "metadata": {},
     "output_type": "display_data"
    },
    {
     "data": {
      "text/plain": [
       "'2023-03-31\\\\Schedule_of_Investments_9.csv'"
      ]
     },
     "metadata": {},
     "output_type": "display_data"
    },
    {
     "data": {
      "text/plain": [
       "'2023-03-31\\\\Schedule_of_Investments_10.csv'"
      ]
     },
     "metadata": {},
     "output_type": "display_data"
    },
    {
     "data": {
      "text/plain": [
       "'2023-06-30'"
      ]
     },
     "metadata": {},
     "output_type": "display_data"
    },
    {
     "name": "stderr",
     "output_type": "stream",
     "text": [
      "WARNING:root:Applied processor reduces input query to empty string, all comparisons will have score 0. [Query: '']\n",
      "WARNING:root:Applied processor reduces input query to empty string, all comparisons will have score 0. [Query: ' ']\n",
      "WARNING:root:Applied processor reduces input query to empty string, all comparisons will have score 0. [Query: ' ']\n",
      "WARNING:root:Applied processor reduces input query to empty string, all comparisons will have score 0. [Query: '  ']\n",
      "WARNING:root:Applied processor reduces input query to empty string, all comparisons will have score 0. [Query: ' ']\n",
      "WARNING:root:Applied processor reduces input query to empty string, all comparisons will have score 0. [Query: ' ']\n",
      "WARNING:root:Applied processor reduces input query to empty string, all comparisons will have score 0. [Query: ' ']\n",
      "WARNING:root:Applied processor reduces input query to empty string, all comparisons will have score 0. [Query: ' ']\n",
      "WARNING:root:Applied processor reduces input query to empty string, all comparisons will have score 0. [Query: ' ']\n",
      "WARNING:root:Applied processor reduces input query to empty string, all comparisons will have score 0. [Query: '   ']\n"
     ]
    },
    {
     "data": {
      "text/plain": [
       "('Portfolio_Company',\n",
       " '',\n",
       " 'Spread_Above_Index',\n",
       " '_',\n",
       " 'Spread_Above_Index',\n",
       " '_',\n",
       " 'Interest_Rate',\n",
       " '_',\n",
       " 'Aquisition_Date',\n",
       " '_',\n",
       " 'Maturity',\n",
       " '_',\n",
       " 'Principal/Shares',\n",
       " '_',\n",
       " 'cost',\n",
       " 'cost',\n",
       " '_',\n",
       " 'fair_value',\n",
       " 'fair_value',\n",
       " '_',\n",
       " 'of_Net_Assets',\n",
       " '_')"
      ]
     },
     "metadata": {},
     "output_type": "display_data"
    },
    {
     "data": {
      "text/plain": [
       "'2023-06-30\\\\Schedule_of_Investments_1.csv'"
      ]
     },
     "metadata": {},
     "output_type": "display_data"
    },
    {
     "name": "stderr",
     "output_type": "stream",
     "text": [
      "WARNING:root:Applied processor reduces input query to empty string, all comparisons will have score 0. [Query: '']\n",
      "WARNING:root:Applied processor reduces input query to empty string, all comparisons will have score 0. [Query: '  ']\n",
      "WARNING:root:Applied processor reduces input query to empty string, all comparisons will have score 0. [Query: ' ']\n",
      "WARNING:root:Applied processor reduces input query to empty string, all comparisons will have score 0. [Query: '  ']\n",
      "WARNING:root:Applied processor reduces input query to empty string, all comparisons will have score 0. [Query: ' ']\n",
      "WARNING:root:Applied processor reduces input query to empty string, all comparisons will have score 0. [Query: ' ']\n",
      "WARNING:root:Applied processor reduces input query to empty string, all comparisons will have score 0. [Query: ' ']\n",
      "WARNING:root:Applied processor reduces input query to empty string, all comparisons will have score 0. [Query: ' ']\n",
      "WARNING:root:Applied processor reduces input query to empty string, all comparisons will have score 0. [Query: ' ']\n",
      "WARNING:root:Applied processor reduces input query to empty string, all comparisons will have score 0. [Query: '  ']\n"
     ]
    },
    {
     "data": {
      "text/plain": [
       "('Portfolio_Company',\n",
       " '',\n",
       " 'Spread_Above_Index',\n",
       " '_',\n",
       " 'Spread_Above_Index',\n",
       " '_',\n",
       " 'Interest_Rate',\n",
       " 'Interest_Rate',\n",
       " '_',\n",
       " 'Aquisition_Date',\n",
       " '_',\n",
       " 'Maturity',\n",
       " '_',\n",
       " 'Principal/Shares',\n",
       " '_',\n",
       " 'cost',\n",
       " 'cost',\n",
       " '_',\n",
       " 'fair_value',\n",
       " 'fair_value',\n",
       " '_',\n",
       " 'of_Net_Assets',\n",
       " '_')"
      ]
     },
     "metadata": {},
     "output_type": "display_data"
    },
    {
     "data": {
      "text/plain": [
       "'2023-06-30\\\\Schedule_of_Investments_2.csv'"
      ]
     },
     "metadata": {},
     "output_type": "display_data"
    },
    {
     "data": {
      "text/plain": [
       "'2023-06-30\\\\Schedule_of_Investments_3.csv'"
      ]
     },
     "metadata": {},
     "output_type": "display_data"
    },
    {
     "data": {
      "text/plain": [
       "'2023-06-30\\\\Schedule_of_Investments_4.csv'"
      ]
     },
     "metadata": {},
     "output_type": "display_data"
    },
    {
     "data": {
      "text/plain": [
       "'2023-06-30\\\\Schedule_of_Investments_5.csv'"
      ]
     },
     "metadata": {},
     "output_type": "display_data"
    },
    {
     "data": {
      "text/plain": [
       "'2023-06-30\\\\Schedule_of_Investments_6.csv'"
      ]
     },
     "metadata": {},
     "output_type": "display_data"
    },
    {
     "data": {
      "text/plain": [
       "'2023-06-30\\\\Schedule_of_Investments_7.csv'"
      ]
     },
     "metadata": {},
     "output_type": "display_data"
    },
    {
     "data": {
      "text/plain": [
       "'2023-06-30\\\\Schedule_of_Investments_8.csv'"
      ]
     },
     "metadata": {},
     "output_type": "display_data"
    },
    {
     "data": {
      "text/plain": [
       "'2023-06-30\\\\Schedule_of_Investments_9.csv'"
      ]
     },
     "metadata": {},
     "output_type": "display_data"
    },
    {
     "data": {
      "text/plain": [
       "'2023-06-30\\\\Schedule_of_Investments_10.csv'"
      ]
     },
     "metadata": {},
     "output_type": "display_data"
    },
    {
     "data": {
      "text/plain": [
       "'2023-09-30'"
      ]
     },
     "metadata": {},
     "output_type": "display_data"
    },
    {
     "name": "stderr",
     "output_type": "stream",
     "text": [
      "WARNING:root:Applied processor reduces input query to empty string, all comparisons will have score 0. [Query: '']\n",
      "WARNING:root:Applied processor reduces input query to empty string, all comparisons will have score 0. [Query: ' ']\n",
      "WARNING:root:Applied processor reduces input query to empty string, all comparisons will have score 0. [Query: ' ']\n",
      "WARNING:root:Applied processor reduces input query to empty string, all comparisons will have score 0. [Query: '  ']\n",
      "WARNING:root:Applied processor reduces input query to empty string, all comparisons will have score 0. [Query: ' ']\n",
      "WARNING:root:Applied processor reduces input query to empty string, all comparisons will have score 0. [Query: ' ']\n",
      "WARNING:root:Applied processor reduces input query to empty string, all comparisons will have score 0. [Query: ' ']\n",
      "WARNING:root:Applied processor reduces input query to empty string, all comparisons will have score 0. [Query: ' ']\n",
      "WARNING:root:Applied processor reduces input query to empty string, all comparisons will have score 0. [Query: ' ']\n",
      "WARNING:root:Applied processor reduces input query to empty string, all comparisons will have score 0. [Query: '   ']\n"
     ]
    },
    {
     "data": {
      "text/plain": [
       "('Portfolio_Company',\n",
       " '',\n",
       " 'Spread_Above_Index',\n",
       " '_',\n",
       " 'Spread_Above_Index',\n",
       " '_',\n",
       " 'Interest_Rate',\n",
       " '_',\n",
       " 'Aquisition_Date',\n",
       " '_',\n",
       " 'Maturity',\n",
       " '_',\n",
       " 'Principal/Shares',\n",
       " '_',\n",
       " 'cost',\n",
       " 'cost',\n",
       " '_',\n",
       " 'fair_value',\n",
       " 'fair_value',\n",
       " '_',\n",
       " 'of_Net_Assets',\n",
       " '_')"
      ]
     },
     "metadata": {},
     "output_type": "display_data"
    },
    {
     "data": {
      "text/plain": [
       "'2023-09-30\\\\Schedule_of_Investments_1.csv'"
      ]
     },
     "metadata": {},
     "output_type": "display_data"
    },
    {
     "name": "stderr",
     "output_type": "stream",
     "text": [
      "WARNING:root:Applied processor reduces input query to empty string, all comparisons will have score 0. [Query: '']\n",
      "WARNING:root:Applied processor reduces input query to empty string, all comparisons will have score 0. [Query: '  ']\n",
      "WARNING:root:Applied processor reduces input query to empty string, all comparisons will have score 0. [Query: ' ']\n",
      "WARNING:root:Applied processor reduces input query to empty string, all comparisons will have score 0. [Query: '  ']\n",
      "WARNING:root:Applied processor reduces input query to empty string, all comparisons will have score 0. [Query: ' ']\n",
      "WARNING:root:Applied processor reduces input query to empty string, all comparisons will have score 0. [Query: ' ']\n",
      "WARNING:root:Applied processor reduces input query to empty string, all comparisons will have score 0. [Query: ' ']\n",
      "WARNING:root:Applied processor reduces input query to empty string, all comparisons will have score 0. [Query: ' ']\n",
      "WARNING:root:Applied processor reduces input query to empty string, all comparisons will have score 0. [Query: ' ']\n",
      "WARNING:root:Applied processor reduces input query to empty string, all comparisons will have score 0. [Query: '  ']\n"
     ]
    },
    {
     "data": {
      "text/plain": [
       "('Portfolio_Company',\n",
       " '',\n",
       " 'Spread_Above_Index',\n",
       " '_',\n",
       " 'Spread_Above_Index',\n",
       " '_',\n",
       " 'Interest_Rate',\n",
       " 'Interest_Rate',\n",
       " '_',\n",
       " 'Aquisition_Date',\n",
       " '_',\n",
       " 'Maturity',\n",
       " '_',\n",
       " 'Principal/Shares',\n",
       " '_',\n",
       " 'cost',\n",
       " 'cost',\n",
       " '_',\n",
       " 'fair_value',\n",
       " 'fair_value',\n",
       " '_',\n",
       " 'of_Net_Assets',\n",
       " '_')"
      ]
     },
     "metadata": {},
     "output_type": "display_data"
    },
    {
     "data": {
      "text/plain": [
       "'2023-09-30\\\\Schedule_of_Investments_2.csv'"
      ]
     },
     "metadata": {},
     "output_type": "display_data"
    },
    {
     "data": {
      "text/plain": [
       "'2023-09-30\\\\Schedule_of_Investments_3.csv'"
      ]
     },
     "metadata": {},
     "output_type": "display_data"
    },
    {
     "data": {
      "text/plain": [
       "'2023-09-30\\\\Schedule_of_Investments_4.csv'"
      ]
     },
     "metadata": {},
     "output_type": "display_data"
    },
    {
     "data": {
      "text/plain": [
       "'2023-09-30\\\\Schedule_of_Investments_5.csv'"
      ]
     },
     "metadata": {},
     "output_type": "display_data"
    },
    {
     "data": {
      "text/plain": [
       "'2023-09-30\\\\Schedule_of_Investments_6.csv'"
      ]
     },
     "metadata": {},
     "output_type": "display_data"
    },
    {
     "data": {
      "text/plain": [
       "'2023-09-30\\\\Schedule_of_Investments_7.csv'"
      ]
     },
     "metadata": {},
     "output_type": "display_data"
    },
    {
     "data": {
      "text/plain": [
       "'2023-09-30\\\\Schedule_of_Investments_8.csv'"
      ]
     },
     "metadata": {},
     "output_type": "display_data"
    },
    {
     "data": {
      "text/plain": [
       "'2023-09-30\\\\Schedule_of_Investments_9.csv'"
      ]
     },
     "metadata": {},
     "output_type": "display_data"
    },
    {
     "data": {
      "text/plain": [
       "'2023-09-30\\\\Schedule_of_Investments_10.csv'"
      ]
     },
     "metadata": {},
     "output_type": "display_data"
    },
    {
     "data": {
      "text/plain": [
       "'2023-12-31'"
      ]
     },
     "metadata": {},
     "output_type": "display_data"
    },
    {
     "name": "stderr",
     "output_type": "stream",
     "text": [
      "WARNING:root:Applied processor reduces input query to empty string, all comparisons will have score 0. [Query: '']\n",
      "WARNING:root:Applied processor reduces input query to empty string, all comparisons will have score 0. [Query: '']\n",
      "WARNING:root:Applied processor reduces input query to empty string, all comparisons will have score 0. [Query: '']\n",
      "WARNING:root:Applied processor reduces input query to empty string, all comparisons will have score 0. [Query: '']\n",
      "WARNING:root:Applied processor reduces input query to empty string, all comparisons will have score 0. [Query: '']\n",
      "WARNING:root:Applied processor reduces input query to empty string, all comparisons will have score 0. [Query: '']\n",
      "WARNING:root:Applied processor reduces input query to empty string, all comparisons will have score 0. [Query: '']\n",
      "WARNING:root:Applied processor reduces input query to empty string, all comparisons will have score 0. [Query: '']\n",
      "WARNING:root:Applied processor reduces input query to empty string, all comparisons will have score 0. [Query: '']\n",
      "WARNING:root:Applied processor reduces input query to empty string, all comparisons will have score 0. [Query: '']\n",
      "WARNING:root:Applied processor reduces input query to empty string, all comparisons will have score 0. [Query: '']\n",
      "WARNING:root:Applied processor reduces input query to empty string, all comparisons will have score 0. [Query: '']\n",
      "WARNING:root:Applied processor reduces input query to empty string, all comparisons will have score 0. [Query: '']\n",
      "WARNING:root:Applied processor reduces input query to empty string, all comparisons will have score 0. [Query: '']\n",
      "WARNING:root:Applied processor reduces input query to empty string, all comparisons will have score 0. [Query: '']\n",
      "WARNING:root:Applied processor reduces input query to empty string, all comparisons will have score 0. [Query: '']\n",
      "WARNING:root:Applied processor reduces input query to empty string, all comparisons will have score 0. [Query: '']\n",
      "WARNING:root:Applied processor reduces input query to empty string, all comparisons will have score 0. [Query: '']\n"
     ]
    },
    {
     "data": {
      "text/plain": [
       "('Portfolio_Company',\n",
       " 'Portfolio_Company',\n",
       " 'Portfolio_Company',\n",
       " '',\n",
       " '',\n",
       " '',\n",
       " 'Spread_Above_Index',\n",
       " 'Spread_Above_Index',\n",
       " 'Spread_Above_Index',\n",
       " '',\n",
       " '',\n",
       " '',\n",
       " 'Spread_Above_Index',\n",
       " 'Spread_Above_Index',\n",
       " 'Spread_Above_Index',\n",
       " '',\n",
       " '',\n",
       " '',\n",
       " 'Interest_Rate',\n",
       " 'Interest_Rate',\n",
       " 'Interest_Rate',\n",
       " '',\n",
       " '',\n",
       " '',\n",
       " 'Maturity',\n",
       " 'Maturity',\n",
       " 'Maturity',\n",
       " '',\n",
       " '',\n",
       " '',\n",
       " 'Principal/Shares',\n",
       " 'Principal/Shares',\n",
       " 'Principal/Shares',\n",
       " '',\n",
       " '',\n",
       " '',\n",
       " 'fair_value',\n",
       " 'fair_value',\n",
       " 'fair_value')"
      ]
     },
     "metadata": {},
     "output_type": "display_data"
    },
    {
     "name": "stderr",
     "output_type": "stream",
     "text": [
      "C:\\Users\\pysol\\AppData\\Local\\Temp\\ipykernel_29532\\2227080500.py:189: SettingWithCopyWarning: \n",
      "A value is trying to be set on a copy of a slice from a DataFrame.\n",
      "Try using .loc[row_indexer,col_indexer] = value instead\n",
      "\n",
      "See the caveats in the documentation: https://pandas.pydata.org/pandas-docs/stable/user_guide/indexing.html#returning-a-view-versus-a-copy\n",
      "  df[col_name] = merged_data\n"
     ]
    },
    {
     "data": {
      "text/plain": [
       "'2023-12-31\\\\Schedule_of_Investments_1.csv'"
      ]
     },
     "metadata": {},
     "output_type": "display_data"
    },
    {
     "name": "stderr",
     "output_type": "stream",
     "text": [
      "C:\\Users\\pysol\\AppData\\Local\\Temp\\ipykernel_29532\\2227080500.py:189: SettingWithCopyWarning: \n",
      "A value is trying to be set on a copy of a slice from a DataFrame.\n",
      "Try using .loc[row_indexer,col_indexer] = value instead\n",
      "\n",
      "See the caveats in the documentation: https://pandas.pydata.org/pandas-docs/stable/user_guide/indexing.html#returning-a-view-versus-a-copy\n",
      "  df[col_name] = merged_data\n"
     ]
    },
    {
     "data": {
      "text/plain": [
       "'2023-12-31\\\\Schedule_of_Investments_2.csv'"
      ]
     },
     "metadata": {},
     "output_type": "display_data"
    },
    {
     "name": "stderr",
     "output_type": "stream",
     "text": [
      "C:\\Users\\pysol\\AppData\\Local\\Temp\\ipykernel_29532\\2227080500.py:189: SettingWithCopyWarning: \n",
      "A value is trying to be set on a copy of a slice from a DataFrame.\n",
      "Try using .loc[row_indexer,col_indexer] = value instead\n",
      "\n",
      "See the caveats in the documentation: https://pandas.pydata.org/pandas-docs/stable/user_guide/indexing.html#returning-a-view-versus-a-copy\n",
      "  df[col_name] = merged_data\n"
     ]
    },
    {
     "data": {
      "text/plain": [
       "'2023-12-31\\\\Schedule_of_Investments_3.csv'"
      ]
     },
     "metadata": {},
     "output_type": "display_data"
    },
    {
     "name": "stderr",
     "output_type": "stream",
     "text": [
      "C:\\Users\\pysol\\AppData\\Local\\Temp\\ipykernel_29532\\2227080500.py:189: SettingWithCopyWarning: \n",
      "A value is trying to be set on a copy of a slice from a DataFrame.\n",
      "Try using .loc[row_indexer,col_indexer] = value instead\n",
      "\n",
      "See the caveats in the documentation: https://pandas.pydata.org/pandas-docs/stable/user_guide/indexing.html#returning-a-view-versus-a-copy\n",
      "  df[col_name] = merged_data\n"
     ]
    },
    {
     "data": {
      "text/plain": [
       "'2024-03-31'"
      ]
     },
     "metadata": {},
     "output_type": "display_data"
    },
    {
     "name": "stderr",
     "output_type": "stream",
     "text": [
      "WARNING:root:Applied processor reduces input query to empty string, all comparisons will have score 0. [Query: '']\n",
      "WARNING:root:Applied processor reduces input query to empty string, all comparisons will have score 0. [Query: '']\n",
      "WARNING:root:Applied processor reduces input query to empty string, all comparisons will have score 0. [Query: '']\n",
      "WARNING:root:Applied processor reduces input query to empty string, all comparisons will have score 0. [Query: '']\n",
      "WARNING:root:Applied processor reduces input query to empty string, all comparisons will have score 0. [Query: '']\n",
      "WARNING:root:Applied processor reduces input query to empty string, all comparisons will have score 0. [Query: '']\n",
      "WARNING:root:Applied processor reduces input query to empty string, all comparisons will have score 0. [Query: '']\n",
      "WARNING:root:Applied processor reduces input query to empty string, all comparisons will have score 0. [Query: '']\n",
      "WARNING:root:Applied processor reduces input query to empty string, all comparisons will have score 0. [Query: '']\n",
      "WARNING:root:Applied processor reduces input query to empty string, all comparisons will have score 0. [Query: '']\n",
      "WARNING:root:Applied processor reduces input query to empty string, all comparisons will have score 0. [Query: '']\n",
      "WARNING:root:Applied processor reduces input query to empty string, all comparisons will have score 0. [Query: '']\n",
      "WARNING:root:Applied processor reduces input query to empty string, all comparisons will have score 0. [Query: '']\n",
      "WARNING:root:Applied processor reduces input query to empty string, all comparisons will have score 0. [Query: '']\n",
      "WARNING:root:Applied processor reduces input query to empty string, all comparisons will have score 0. [Query: '']\n",
      "WARNING:root:Applied processor reduces input query to empty string, all comparisons will have score 0. [Query: '']\n",
      "WARNING:root:Applied processor reduces input query to empty string, all comparisons will have score 0. [Query: '']\n",
      "WARNING:root:Applied processor reduces input query to empty string, all comparisons will have score 0. [Query: '']\n",
      "WARNING:root:Applied processor reduces input query to empty string, all comparisons will have score 0. [Query: '']\n",
      "WARNING:root:Applied processor reduces input query to empty string, all comparisons will have score 0. [Query: '']\n",
      "WARNING:root:Applied processor reduces input query to empty string, all comparisons will have score 0. [Query: '']\n",
      "WARNING:root:Applied processor reduces input query to empty string, all comparisons will have score 0. [Query: '']\n",
      "WARNING:root:Applied processor reduces input query to empty string, all comparisons will have score 0. [Query: '']\n",
      "WARNING:root:Applied processor reduces input query to empty string, all comparisons will have score 0. [Query: '']\n",
      "WARNING:root:Applied processor reduces input query to empty string, all comparisons will have score 0. [Query: '']\n",
      "WARNING:root:Applied processor reduces input query to empty string, all comparisons will have score 0. [Query: '']\n",
      "WARNING:root:Applied processor reduces input query to empty string, all comparisons will have score 0. [Query: '']\n"
     ]
    },
    {
     "data": {
      "text/plain": [
       "('Portfolio_Company',\n",
       " 'Portfolio_Company',\n",
       " 'Portfolio_Company',\n",
       " '',\n",
       " '',\n",
       " '',\n",
       " 'Spread_Above_Index',\n",
       " 'Spread_Above_Index',\n",
       " 'Spread_Above_Index',\n",
       " '',\n",
       " '',\n",
       " '',\n",
       " 'Spread_Above_Index',\n",
       " 'Spread_Above_Index',\n",
       " 'Spread_Above_Index',\n",
       " '',\n",
       " '',\n",
       " '',\n",
       " 'Interest_Rate',\n",
       " 'Interest_Rate',\n",
       " 'Interest_Rate',\n",
       " '',\n",
       " '',\n",
       " '',\n",
       " 'Aquisition_Date',\n",
       " 'Aquisition_Date',\n",
       " 'Aquisition_Date',\n",
       " '',\n",
       " '',\n",
       " '',\n",
       " 'Maturity',\n",
       " 'Maturity',\n",
       " 'Maturity',\n",
       " '',\n",
       " '',\n",
       " '',\n",
       " 'Principal/Shares',\n",
       " 'Principal/Shares',\n",
       " 'Principal/Shares',\n",
       " '',\n",
       " '',\n",
       " '',\n",
       " 'cost',\n",
       " 'cost',\n",
       " 'cost',\n",
       " '',\n",
       " '',\n",
       " '',\n",
       " 'fair_value',\n",
       " 'fair_value',\n",
       " 'fair_value',\n",
       " '',\n",
       " '',\n",
       " '',\n",
       " 'of_Net_Assets',\n",
       " 'of_Net_Assets',\n",
       " 'of_Net_Assets')"
      ]
     },
     "metadata": {},
     "output_type": "display_data"
    },
    {
     "name": "stderr",
     "output_type": "stream",
     "text": [
      "C:\\Users\\pysol\\AppData\\Local\\Temp\\ipykernel_29532\\2227080500.py:189: SettingWithCopyWarning: \n",
      "A value is trying to be set on a copy of a slice from a DataFrame.\n",
      "Try using .loc[row_indexer,col_indexer] = value instead\n",
      "\n",
      "See the caveats in the documentation: https://pandas.pydata.org/pandas-docs/stable/user_guide/indexing.html#returning-a-view-versus-a-copy\n",
      "  df[col_name] = merged_data\n"
     ]
    },
    {
     "data": {
      "text/plain": [
       "'2024-03-31\\\\Schedule_of_Investments_1.csv'"
      ]
     },
     "metadata": {},
     "output_type": "display_data"
    },
    {
     "name": "stderr",
     "output_type": "stream",
     "text": [
      "C:\\Users\\pysol\\AppData\\Local\\Temp\\ipykernel_29532\\2227080500.py:189: SettingWithCopyWarning: \n",
      "A value is trying to be set on a copy of a slice from a DataFrame.\n",
      "Try using .loc[row_indexer,col_indexer] = value instead\n",
      "\n",
      "See the caveats in the documentation: https://pandas.pydata.org/pandas-docs/stable/user_guide/indexing.html#returning-a-view-versus-a-copy\n",
      "  df[col_name] = merged_data\n"
     ]
    },
    {
     "data": {
      "text/plain": [
       "'2024-03-31\\\\Schedule_of_Investments_2.csv'"
      ]
     },
     "metadata": {},
     "output_type": "display_data"
    },
    {
     "name": "stderr",
     "output_type": "stream",
     "text": [
      "C:\\Users\\pysol\\AppData\\Local\\Temp\\ipykernel_29532\\2227080500.py:189: SettingWithCopyWarning: \n",
      "A value is trying to be set on a copy of a slice from a DataFrame.\n",
      "Try using .loc[row_indexer,col_indexer] = value instead\n",
      "\n",
      "See the caveats in the documentation: https://pandas.pydata.org/pandas-docs/stable/user_guide/indexing.html#returning-a-view-versus-a-copy\n",
      "  df[col_name] = merged_data\n"
     ]
    },
    {
     "data": {
      "text/plain": [
       "'2024-03-31\\\\Schedule_of_Investments_3.csv'"
      ]
     },
     "metadata": {},
     "output_type": "display_data"
    },
    {
     "name": "stderr",
     "output_type": "stream",
     "text": [
      "C:\\Users\\pysol\\AppData\\Local\\Temp\\ipykernel_29532\\2227080500.py:189: SettingWithCopyWarning: \n",
      "A value is trying to be set on a copy of a slice from a DataFrame.\n",
      "Try using .loc[row_indexer,col_indexer] = value instead\n",
      "\n",
      "See the caveats in the documentation: https://pandas.pydata.org/pandas-docs/stable/user_guide/indexing.html#returning-a-view-versus-a-copy\n",
      "  df[col_name] = merged_data\n"
     ]
    },
    {
     "data": {
      "text/plain": [
       "'2024-03-31\\\\Schedule_of_Investments_4.csv'"
      ]
     },
     "metadata": {},
     "output_type": "display_data"
    },
    {
     "name": "stderr",
     "output_type": "stream",
     "text": [
      "C:\\Users\\pysol\\AppData\\Local\\Temp\\ipykernel_29532\\2227080500.py:189: SettingWithCopyWarning: \n",
      "A value is trying to be set on a copy of a slice from a DataFrame.\n",
      "Try using .loc[row_indexer,col_indexer] = value instead\n",
      "\n",
      "See the caveats in the documentation: https://pandas.pydata.org/pandas-docs/stable/user_guide/indexing.html#returning-a-view-versus-a-copy\n",
      "  df[col_name] = merged_data\n"
     ]
    },
    {
     "data": {
      "text/plain": [
       "'2024-03-31\\\\Schedule_of_Investments_5.csv'"
      ]
     },
     "metadata": {},
     "output_type": "display_data"
    },
    {
     "name": "stderr",
     "output_type": "stream",
     "text": [
      "C:\\Users\\pysol\\AppData\\Local\\Temp\\ipykernel_29532\\2227080500.py:189: SettingWithCopyWarning: \n",
      "A value is trying to be set on a copy of a slice from a DataFrame.\n",
      "Try using .loc[row_indexer,col_indexer] = value instead\n",
      "\n",
      "See the caveats in the documentation: https://pandas.pydata.org/pandas-docs/stable/user_guide/indexing.html#returning-a-view-versus-a-copy\n",
      "  df[col_name] = merged_data\n"
     ]
    },
    {
     "data": {
      "text/plain": [
       "'2024-03-31\\\\Schedule_of_Investments_6.csv'"
      ]
     },
     "metadata": {},
     "output_type": "display_data"
    },
    {
     "name": "stderr",
     "output_type": "stream",
     "text": [
      "C:\\Users\\pysol\\AppData\\Local\\Temp\\ipykernel_29532\\2227080500.py:189: SettingWithCopyWarning: \n",
      "A value is trying to be set on a copy of a slice from a DataFrame.\n",
      "Try using .loc[row_indexer,col_indexer] = value instead\n",
      "\n",
      "See the caveats in the documentation: https://pandas.pydata.org/pandas-docs/stable/user_guide/indexing.html#returning-a-view-versus-a-copy\n",
      "  df[col_name] = merged_data\n"
     ]
    },
    {
     "data": {
      "text/plain": [
       "'2024-03-31\\\\Schedule_of_Investments_7.csv'"
      ]
     },
     "metadata": {},
     "output_type": "display_data"
    },
    {
     "name": "stderr",
     "output_type": "stream",
     "text": [
      "C:\\Users\\pysol\\AppData\\Local\\Temp\\ipykernel_29532\\2227080500.py:189: SettingWithCopyWarning: \n",
      "A value is trying to be set on a copy of a slice from a DataFrame.\n",
      "Try using .loc[row_indexer,col_indexer] = value instead\n",
      "\n",
      "See the caveats in the documentation: https://pandas.pydata.org/pandas-docs/stable/user_guide/indexing.html#returning-a-view-versus-a-copy\n",
      "  df[col_name] = merged_data\n"
     ]
    },
    {
     "data": {
      "text/plain": [
       "'2024-03-31\\\\Schedule_of_Investments_8.csv'"
      ]
     },
     "metadata": {},
     "output_type": "display_data"
    },
    {
     "name": "stderr",
     "output_type": "stream",
     "text": [
      "C:\\Users\\pysol\\AppData\\Local\\Temp\\ipykernel_29532\\2227080500.py:189: SettingWithCopyWarning: \n",
      "A value is trying to be set on a copy of a slice from a DataFrame.\n",
      "Try using .loc[row_indexer,col_indexer] = value instead\n",
      "\n",
      "See the caveats in the documentation: https://pandas.pydata.org/pandas-docs/stable/user_guide/indexing.html#returning-a-view-versus-a-copy\n",
      "  df[col_name] = merged_data\n"
     ]
    },
    {
     "data": {
      "text/plain": [
       "'2024-03-31\\\\Schedule_of_Investments_9.csv'"
      ]
     },
     "metadata": {},
     "output_type": "display_data"
    },
    {
     "name": "stderr",
     "output_type": "stream",
     "text": [
      "C:\\Users\\pysol\\AppData\\Local\\Temp\\ipykernel_29532\\2227080500.py:189: SettingWithCopyWarning: \n",
      "A value is trying to be set on a copy of a slice from a DataFrame.\n",
      "Try using .loc[row_indexer,col_indexer] = value instead\n",
      "\n",
      "See the caveats in the documentation: https://pandas.pydata.org/pandas-docs/stable/user_guide/indexing.html#returning-a-view-versus-a-copy\n",
      "  df[col_name] = merged_data\n"
     ]
    },
    {
     "data": {
      "text/plain": [
       "'2024-03-31\\\\Schedule_of_Investments_10.csv'"
      ]
     },
     "metadata": {},
     "output_type": "display_data"
    },
    {
     "name": "stderr",
     "output_type": "stream",
     "text": [
      "C:\\Users\\pysol\\AppData\\Local\\Temp\\ipykernel_29532\\2227080500.py:189: SettingWithCopyWarning: \n",
      "A value is trying to be set on a copy of a slice from a DataFrame.\n",
      "Try using .loc[row_indexer,col_indexer] = value instead\n",
      "\n",
      "See the caveats in the documentation: https://pandas.pydata.org/pandas-docs/stable/user_guide/indexing.html#returning-a-view-versus-a-copy\n",
      "  df[col_name] = merged_data\n"
     ]
    },
    {
     "data": {
      "text/plain": [
       "'2024-03-31\\\\Schedule_of_Investments_11.csv'"
      ]
     },
     "metadata": {},
     "output_type": "display_data"
    },
    {
     "name": "stderr",
     "output_type": "stream",
     "text": [
      "C:\\Users\\pysol\\AppData\\Local\\Temp\\ipykernel_29532\\2227080500.py:189: SettingWithCopyWarning: \n",
      "A value is trying to be set on a copy of a slice from a DataFrame.\n",
      "Try using .loc[row_indexer,col_indexer] = value instead\n",
      "\n",
      "See the caveats in the documentation: https://pandas.pydata.org/pandas-docs/stable/user_guide/indexing.html#returning-a-view-versus-a-copy\n",
      "  df[col_name] = merged_data\n"
     ]
    },
    {
     "data": {
      "text/plain": [
       "'2024-03-31\\\\Schedule_of_Investments_12.csv'"
      ]
     },
     "metadata": {},
     "output_type": "display_data"
    },
    {
     "name": "stderr",
     "output_type": "stream",
     "text": [
      "C:\\Users\\pysol\\AppData\\Local\\Temp\\ipykernel_29532\\2227080500.py:189: SettingWithCopyWarning: \n",
      "A value is trying to be set on a copy of a slice from a DataFrame.\n",
      "Try using .loc[row_indexer,col_indexer] = value instead\n",
      "\n",
      "See the caveats in the documentation: https://pandas.pydata.org/pandas-docs/stable/user_guide/indexing.html#returning-a-view-versus-a-copy\n",
      "  df[col_name] = merged_data\n"
     ]
    },
    {
     "data": {
      "text/plain": [
       "'2024-03-31\\\\Schedule_of_Investments_13.csv'"
      ]
     },
     "metadata": {},
     "output_type": "display_data"
    },
    {
     "name": "stderr",
     "output_type": "stream",
     "text": [
      "C:\\Users\\pysol\\AppData\\Local\\Temp\\ipykernel_29532\\2227080500.py:189: SettingWithCopyWarning: \n",
      "A value is trying to be set on a copy of a slice from a DataFrame.\n",
      "Try using .loc[row_indexer,col_indexer] = value instead\n",
      "\n",
      "See the caveats in the documentation: https://pandas.pydata.org/pandas-docs/stable/user_guide/indexing.html#returning-a-view-versus-a-copy\n",
      "  df[col_name] = merged_data\n"
     ]
    },
    {
     "data": {
      "text/plain": [
       "Index(['Portfolio_Company', 'Industry', 'Spread_Above_Index', 'Interest_Rate',\n",
       "       'Maturity', 'Principal/Shares', 'cost', 'fair_value', 'of_Net_Assets',\n",
       "       'qtr', 'principal_amount', 'Seniority', 'Aquisition_Date', '_'],\n",
       "      dtype='object')"
      ]
     },
     "metadata": {},
     "output_type": "display_data"
    }
   ],
   "source": [
    "import os\n",
    "import re\n",
    "import glob\n",
    "import datetime\n",
    "import warnings\n",
    "import pandas as pd\n",
    "import numpy as np\n",
    "from fuzzywuzzy import process\n",
    "\n",
    "import sys\n",
    "import warnings\n",
    "sys.path.insert(0, '../') \n",
    "# from utils import init_logger\n",
    "\n",
    "def common_subheaders()->tuple:\n",
    "    return tuple(map(lambda header:header.replace(' ', r'\\s*'),\n",
    "        ('Advertising, Public Relations and Marketing ',\n",
    "        'Air Transportation',\n",
    "        'Amusement and Recreation',\n",
    "        'Apparel Manufacturing',\n",
    "        'Building Equipment Contractors',\n",
    "        'Business Support Services',\n",
    "        'Chemicals',\n",
    "        'Communications Equipment Manufacturing',\n",
    "        'Credit Related Activities',\n",
    "        'Computer Systems Design and Related Services',\n",
    "        'Credit (Nondepository)',\n",
    "        'Data Processing and Hosting Services',\n",
    "        'Educational Support Services',\n",
    "        'Electronic Component Manufacturing',\n",
    "        'Equipment Leasing',\n",
    "        'Facilities Support Services',\n",
    "        'Grocery Stores',\n",
    "        'Hospitals',\n",
    "        'Insurance',\n",
    "        'Lessors of Nonfinancial Licenses',\n",
    "        'Management, Scientific, and Technical Consulting Services',\n",
    "        'Motion Picture and Video Industries',\n",
    "        'Other Information Services',\n",
    "        'Other Manufacturing',\n",
    "        'Other Publishing',\n",
    "        'Other Real Estate Activities',\n",
    "        'Other Telecommunications',\n",
    "        'Plastics Manufacturing',\n",
    "        'Radio and Television Broadcasting',\n",
    "        'Real Estate Leasing',\n",
    "        'Restaurants',\n",
    "        'Retail',\n",
    "        'Satellite Telecommunications',\n",
    "        'Scientific Research and Development Services',\n",
    "        'Texttile Furnishings Mills',\n",
    "        'Traveler Arrangement',\n",
    "        'Software Publishing',\n",
    "        'Utility System Construction',\n",
    "        'Wholesalers',\n",
    "        'Wired Telecommunications Carriers',\n",
    "        'Wireless Telecommunications Carriers',\n",
    "        )\n",
    "    ))\n",
    "\n",
    "\n",
    "def standard_field_names()->tuple:\n",
    "    return (\n",
    "        'Portfolio Company',\n",
    "        'Industry',\n",
    "        'Spread Above Index',\n",
    "        'Aquisition Date',\n",
    "        'Interest Rate',\n",
    "        'Maturity',\n",
    "        'Principal/Shares',\n",
    "        'Investment Type',\n",
    "        'of Net Assets',\n",
    "        'business description',\n",
    "        'type of investment',\n",
    "        'investment date',\n",
    "        'reference rate and spread',\n",
    "        'pik rate',\n",
    "        'maturity date',\n",
    "        'cost',\n",
    "        'footnotes',\n",
    "        'industry',\n",
    "        'principal amount', # TODO change stand names for more dynamic fuzzywuzzy matching\n",
    "        'fair value',\n",
    "    )\n",
    "\n",
    "    \n",
    "def company_control_headers()->tuple:\n",
    "    return tuple(map(lambda header:header.replace(' ', r'\\s*'),\n",
    "        (\n",
    "        'Debt Investments',\n",
    "        'Debt Investments (82.23%)',\n",
    "        'Debt Investments (A)',\n",
    "        'Debt Investments (continued)',\n",
    "        'Equity Securities',\n",
    "        'Equity Securities (continued)',\n",
    "        'Cash and Cash Equivalents',\n",
    "        )\n",
    "    ))\n",
    "\n",
    "def exceptions()->tuple:\n",
    "    return (\n",
    "       '2013-12-31\\Schedule_of_Investments_1.csv',\n",
    "       '2022-09-30\\Schedule_of_Investments_7.csv',\n",
    "       '2022-09-30\\Schedule_of_Investments_9.csv',\n",
    "       '2022-09-30\\Schedule_of_Investments_10.csv',\n",
    "       '2022-12-31\\Schedule_of_Investments_1.csv',\n",
    "       '2023-03-31\\Schedule_of_Investments_1.csv',\n",
    "       '2023-06-30\\Schedule_of_Investments_1.csv',\n",
    "       '2023-09-30\\Schedule_of_Investments_1.csv'\n",
    "    )\n",
    "\n",
    "def except_rows()->tuple:\n",
    "    return (\n",
    "        'As of',\n",
    "        'HMS Income Fund',\n",
    "        'schedule of investments'\n",
    "    )\n",
    "\n",
    "# https://www.sec.gov/robots.txt\n",
    "def get_standard_name(col, choices, score_cutoff=60):\n",
    "    best_match, score = process.extractOne(col, choices)\n",
    "    if score > score_cutoff:\n",
    "        return best_match\n",
    "    return col\n",
    "\n",
    "def stopping_criterion(qtr:str)->str:\n",
    "    return '{}'.format(r'Total\\s*Investments')\n",
    "\n",
    " \n",
    "def concat(*dfs)->list:\n",
    "    final = []\n",
    "    for df in dfs:\n",
    "        final.extend(df.values.tolist())\n",
    "    return final\n",
    "\n",
    "    \n",
    "def get_key_fields(\n",
    "    df_cur:pd.DataFrame,\n",
    ")->tuple:\n",
    "    important_fields = standard_field_names() + common_subheaders()\n",
    "    for idx,row in enumerate(df_cur.iterrows()):\n",
    "        found = any(any(\n",
    "            key in str(field).lower() \n",
    "            for key in important_fields)\n",
    "                    for field in row[-1].dropna().tolist()\n",
    "            )\n",
    "        if found and len(set(row[-1].dropna().tolist())) >= 6:\n",
    "            cols = df_cur.iloc[:idx + 1].apply(lambda row: ' '.join(row.dropna()), axis=0).tolist()\n",
    "            fields = strip_string(cols,standardize=found) \n",
    "            return fields\n",
    "    return strip_string(df_cur.iloc[0].tolist())\n",
    "\n",
    "def strip_string(\n",
    "    columns_names:list,\n",
    "    standardize:bool=False\n",
    ")->tuple:\n",
    "    # columns = tuple(map(lambda col:re.sub(r'[^a-z]', '', str(col).lower()),columns_names))\n",
    "    if standardize:\n",
    "        standard_fields = standard_field_names()\n",
    "        return tuple(\n",
    "            re.sub(r'\\s+', '_',get_standard_name(str(col),standard_fields)) for col in columns_names\n",
    "        )\n",
    "    return tuple(re.sub(r'\\s+', '_',str(col)) for col in columns_names)\n",
    "\n",
    "\n",
    "# Function to extract date and convert to datetime object\n",
    "def extract_date(file_path):\n",
    "    # Extract date from file path (assuming date is always in 'YYYY-MM-DD' format)\n",
    "    date_str = re.search(r'\\d{4}-\\d{2}-\\d{2}', file_path).group()\n",
    "    return datetime.datetime.strptime(date_str, '%Y-%m-%d')\n",
    "\n",
    "\n",
    "def merge_duplicate_columns(\n",
    "    df:pd.DataFrame,\n",
    "    merged_pair_idxs:dict={}\n",
    ")->pd.DataFrame:\n",
    "    duplicate_cols = merged_pair_idxs.keys()\n",
    "    flag = not merged_pair_idxs.keys()\n",
    "    if flag: \n",
    "        duplicate_cols = df.columns.unique() \n",
    "    for col_name in duplicate_cols:\n",
    "        mask = merged_pair_idxs.get(col_name)\n",
    "        if flag:\n",
    "            mask = df.columns == col_name\n",
    "            merged_pair_idxs[col_name] = mask\n",
    "        duplicate_data = df.loc[:, mask]\n",
    "        merged_data = duplicate_data.apply(lambda row: ' '.join(set(row.dropna().astype(str))), axis=1)\n",
    "        df = df.loc[:, ~mask]\n",
    "        df[col_name] = merged_data\n",
    "    return df.reset_index(drop=True),merged_pair_idxs\n",
    "\n",
    "def extract_subheaders(\n",
    "    df:pd.DataFrame,\n",
    "    control:bool,\n",
    ")->pd.DataFrame:\n",
    "    col_name = 'company_control' if control else 'Type_of_Investment'\n",
    "    if col_name in df.columns:\n",
    "        return df\n",
    "    include = df.apply(\n",
    "        lambda row: re.search('|'.join(company_control_headers() if control else common_subheaders()), str(row[0]), re.IGNORECASE) is not None,\n",
    "        axis=1\n",
    "    )  \n",
    "    \n",
    "    exclude = ~df.apply(\n",
    "        lambda row: row.astype(str).str.contains('total|Inc|Ltd|LLC|Holdings|LP|Co|Corporation', case=False, na=False).any(),\n",
    "        axis=1\n",
    "    )\n",
    "    idx = df[include & exclude].index.tolist()\n",
    "    df[col_name] = None\n",
    "    if not idx:\n",
    "        return df\n",
    "\n",
    "    prev_header = subheader = None\n",
    "    df.loc[idx[-1]:,col_name] = df.iloc[idx[-1],1] if isinstance(df.iloc[idx[-1],0],float)  else df.iloc[idx[-1],0]\n",
    "    for j,i in enumerate(idx[:-1]):\n",
    "        prev_header = subheader\n",
    "        subheader = df.iloc[i,1] if isinstance(df.iloc[i,0],float)  else df.iloc[i,0]\n",
    "        df.loc[idx[j]:idx[j+1],col_name] = subheader if subheader != '' else prev_header\n",
    "    return df\n",
    "\n",
    "\n",
    "def remove_row_duplicates(row:pd.Series)->pd.Series: \n",
    "    out = []\n",
    "    for v in row:\n",
    "        if v in out and not v.replace('$','').isnumeric():\n",
    "            out.append(np.nan)\n",
    "        else:\n",
    "            out.append(v)\n",
    "    return pd.Series(out)\n",
    "\n",
    "  \n",
    "\n",
    "def _clean(\n",
    "    file_path:str,\n",
    "    except_rows:str,\n",
    "    merged_pair_idxs:dict={},\n",
    ")->pd.DataFrame:\n",
    "    df = pd.read_csv(file_path,index_col=0,na_values=[' ', ''])\n",
    "    # df.replace(['\\xa0','\\u200b',r'^\\s$',r'^\\s%'],np.nan,regex=True,inplace=True) #':','$','%' r'^\\s*$',r'^\\s*%'\n",
    "    df.replace(['\\xa0','\\u200b',r'^\\s*$',r'^\\s*%',' ','˄'],'',regex=True,inplace=True)\n",
    "    df = df.applymap(lambda x: x.strip() if isinstance(x, str) else x)\n",
    "    df.dropna(axis=0,how='all',inplace=True)\n",
    "    df = df[~df.apply(lambda row:row.astype(str).str.contains(except_rows,case=False, na=False).any(),axis=1)]\n",
    "    if not merged_pair_idxs:\n",
    "        important_fields = strip_string(get_header_rows(df),standardize=True)#get_key_fields(df)\n",
    "        display(important_fields)\n",
    "        df.columns = important_fields\n",
    "\n",
    "    df,merge_pair_idxs = merge_duplicate_columns(df,merged_pair_idxs=merged_pair_idxs)\n",
    "    duplicate_idx = df.apply(lambda row:row[pd.to_numeric(row,errors='coerce').isna()].duplicated().sum() > 1 ,axis=1)\n",
    "    clean_rows = df.loc[duplicate_idx].apply(remove_row_duplicates, axis=1).reset_index(drop=True)\n",
    "    j = 0\n",
    "    for i,flag in enumerate(duplicate_idx):\n",
    "        if not flag:\n",
    "            continue\n",
    "        df.iloc[i,:] = clean_rows.loc[j,:]\n",
    "        j += 1\n",
    "    df.replace([r'^\\s*$'],np.nan,regex=True,inplace=True) #':','$','%'\n",
    "    df.dropna(axis=1,how='all',inplace=True)\n",
    "    \n",
    "    columns = (~df.isna()).sum(axis=0) <= 4  if df.shape[0] > 15 else 1\n",
    "    df.drop(columns=df.columns[columns],inplace=True)\n",
    "    return df.reset_index(drop=True),merge_pair_idxs\n",
    "\n",
    "\n",
    "\n",
    "def get_header_rows(\n",
    "    df_cur:pd.DataFrame,\n",
    ")->tuple:\n",
    "    for idx,row in df_cur.iterrows():\n",
    "        found = any(str(v).replace(\"$\",'').replace(\"%\",'').isnumeric() for v in row)\n",
    "        if found:\n",
    "            out = df_cur.iloc[:idx - 1,:].apply(lambda row: ' '.join(row[row.notna()].values), axis=0)\n",
    "            return out\n",
    "    \n",
    "    return strip_string(df_cur.iloc[0].tolist())\n",
    "\n",
    "\n",
    "def main()->None:\n",
    "    qtrs = os.listdir('.')\n",
    "    ex = exceptions()\n",
    "    ex_rows = '|'.join(except_rows())\n",
    "    for qtr in qtrs:\n",
    "        if '.csv' in qtr or not os.path.exists(os.path.join(qtr,f'Schedule_of_Investments_0.csv')):\n",
    "            continue\n",
    "        # qtr = '2013-03-31'\n",
    "        # logger.info(qtr)\n",
    "        display(qtr)\n",
    "        index_list_sum = i = 0\n",
    "        soi_files = sorted([\n",
    "            os.path.join(qtr,file) \n",
    "            for file in os.listdir(qtr)\n",
    "            if file.endswith('.csv')\n",
    "        ],key=lambda f: int(f.split('_')[-1].split('.')[0]))\n",
    "        # soi_files = [f for f in soi_files] # if f not in ex]\n",
    "        df,merged_pair_idxs = _clean(soi_files[i],except_rows=ex_rows,merged_pair_idxs={})\n",
    "        if soi_files[i] in ex:\n",
    "            merged_pair_idxs = {}\n",
    "\n",
    "        index_list = df.apply(\n",
    "            lambda row:row.astype(str).str.contains(stopping_criterion(qtr), case=False, na=False).any(),\n",
    "            axis=1\n",
    "        )\n",
    "        index_list_sum = index_list.sum()\n",
    "        dfs = [df]     \n",
    "        i += 1\n",
    "\n",
    "        while index_list_sum == 0:\n",
    "            # logger.info(soi_files[i])\n",
    "            display(soi_files[i])\n",
    "            df,merged_pair_idxs = _clean(soi_files[i],except_rows=ex_rows,merged_pair_idxs=merged_pair_idxs if soi_files[i] not in ex else {})\n",
    "            dfs.append(df)\n",
    "            index_list = df.apply(\n",
    "                lambda row:row.astype(str).str.contains(stopping_criterion(qtr), case=False, na=False).any(),\n",
    "                axis=1\n",
    "            )\n",
    "            index_list_sum = index_list.sum()\n",
    "            i += 1\n",
    "            \n",
    "        date_final = dfs[0]\n",
    "        if len(dfs) > 1:\n",
    "            date_final = pd.concat(dfs,axis=0,ignore_index=True)#pd.DataFrame(concat(*dfs))\n",
    "        # date_final = extract_subheaders(date_final,control=True)\n",
    "        # date_final = extract_subheaders(date_final,control=False)\n",
    "\n",
    "        date_final['qtr'] = qtr.split('\\\\')[-1]\n",
    "        if not os.path.exists(os.path.join(qtr,'output')):\n",
    "            os.makedirs(os.path.join(qtr,'output'))\n",
    "        columns_to_drop = date_final.notna().sum() <= 2\n",
    "        date_final.drop(columns=columns_to_drop[columns_to_drop].index)\n",
    "        date_final.to_csv(os.path.join(qtr,'output',f'{qtr}.csv'),index=False)\n",
    "        # break\n",
    "    \n",
    "    # Use glob to find files\n",
    "    files = sorted(glob.glob(f'*/output/*.csv'), key=extract_date)\n",
    "    single_truth = pd.concat([\n",
    "        pd.read_csv(df) for df in files\n",
    "    ],axis=0,ignore_index=True)\n",
    "    single_truth.drop(columns=single_truth.columns[['Unnamed' in col for col in single_truth.columns]],inplace=True)\n",
    "    display(single_truth.columns)\n",
    "    single_truth.to_csv(f'{cik}_soi_table.csv',index=False)\n",
    "    \n",
    "warnings.simplefilter(action='ignore', category=FutureWarning)\n",
    "cik = 1512931\n",
    "# logger = init_logger(cik)\n",
    "# logger.info(cik)\n",
    "\n",
    "main()\n",
    "    \n"
   ]
  },
  {
   "cell_type": "code",
   "execution_count": 12,
   "metadata": {},
   "outputs": [
    {
     "name": "stderr",
     "output_type": "stream",
     "text": [
      "WARNING:root:Applied processor reduces input query to empty string, all comparisons will have score 0. [Query: '']\n",
      "WARNING:root:Applied processor reduces input query to empty string, all comparisons will have score 0. [Query: '']\n",
      "WARNING:root:Applied processor reduces input query to empty string, all comparisons will have score 0. [Query: '']\n",
      "WARNING:root:Applied processor reduces input query to empty string, all comparisons will have score 0. [Query: '']\n",
      "WARNING:root:Applied processor reduces input query to empty string, all comparisons will have score 0. [Query: '']\n",
      "WARNING:root:Applied processor reduces input query to empty string, all comparisons will have score 0. [Query: '']\n",
      "WARNING:root:Applied processor reduces input query to empty string, all comparisons will have score 0. [Query: '']\n",
      "WARNING:root:Applied processor reduces input query to empty string, all comparisons will have score 0. [Query: '']\n",
      "WARNING:root:Applied processor reduces input query to empty string, all comparisons will have score 0. [Query: '']\n",
      "WARNING:root:Applied processor reduces input query to empty string, all comparisons will have score 0. [Query: '']\n"
     ]
    },
    {
     "data": {
      "text/plain": [
       "('Portfolio_Company',\n",
       " '',\n",
       " 'Spread_Above_Index',\n",
       " '',\n",
       " 'Interest_Rate',\n",
       " '',\n",
       " '',\n",
       " 'Aquisition_Date',\n",
       " '',\n",
       " 'Maturity',\n",
       " '',\n",
       " '',\n",
       " 'Principal/Shares',\n",
       " 'Principal/Shares',\n",
       " 'Principal/Shares',\n",
       " '',\n",
       " 'cost',\n",
       " 'cost',\n",
       " 'cost',\n",
       " '',\n",
       " 'fair_value',\n",
       " 'fair_value',\n",
       " 'fair_value',\n",
       " '',\n",
       " 'of_Net_Assets',\n",
       " 'of_Net_Assets',\n",
       " 'of_Net_Assets')"
      ]
     },
     "metadata": {},
     "output_type": "display_data"
    },
    {
     "data": {
      "text/html": [
       "<div>\n",
       "<style scoped>\n",
       "    .dataframe tbody tr th:only-of-type {\n",
       "        vertical-align: middle;\n",
       "    }\n",
       "\n",
       "    .dataframe tbody tr th {\n",
       "        vertical-align: top;\n",
       "    }\n",
       "\n",
       "    .dataframe thead th {\n",
       "        text-align: right;\n",
       "    }\n",
       "</style>\n",
       "<table border=\"1\" class=\"dataframe\">\n",
       "  <thead>\n",
       "    <tr style=\"text-align: right;\">\n",
       "      <th></th>\n",
       "      <th>Portfolio_Company</th>\n",
       "      <th>Spread_Above_Index</th>\n",
       "      <th>Interest_Rate</th>\n",
       "      <th>Aquisition_Date</th>\n",
       "      <th>Maturity</th>\n",
       "      <th>Principal/Shares</th>\n",
       "      <th>cost</th>\n",
       "      <th>fair_value</th>\n",
       "      <th>of_Net_Assets</th>\n",
       "    </tr>\n",
       "  </thead>\n",
       "  <tbody>\n",
       "    <tr>\n",
       "      <th>0</th>\n",
       "      <td>PortfolioCompany(a)</td>\n",
       "      <td>SpreadAboveIndex(b)</td>\n",
       "      <td>InterestRate</td>\n",
       "      <td>AcquisitionDate(c)</td>\n",
       "      <td>Maturity</td>\n",
       "      <td>Principal</td>\n",
       "      <td>AmortizedCost</td>\n",
       "      <td>FairValue(d)</td>\n",
       "      <td>ofNetAssets(e)</td>\n",
       "    </tr>\n",
       "    <tr>\n",
       "      <th>1</th>\n",
       "      <td>Non-Controlled/Non-AffiliateCompanyInvestments</td>\n",
       "      <td>NaN</td>\n",
       "      <td>NaN</td>\n",
       "      <td>NaN</td>\n",
       "      <td>NaN</td>\n",
       "      <td>NaN</td>\n",
       "      <td>NaN</td>\n",
       "      <td>NaN</td>\n",
       "      <td>NaN</td>\n",
       "    </tr>\n",
       "    <tr>\n",
       "      <th>2</th>\n",
       "      <td>SeniorSecuredLoans</td>\n",
       "      <td>NaN</td>\n",
       "      <td>NaN</td>\n",
       "      <td>NaN</td>\n",
       "      <td>NaN</td>\n",
       "      <td>NaN</td>\n",
       "      <td>NaN</td>\n",
       "      <td>NaN</td>\n",
       "      <td>NaN</td>\n",
       "    </tr>\n",
       "    <tr>\n",
       "      <th>3</th>\n",
       "      <td>Automotive</td>\n",
       "      <td>NaN</td>\n",
       "      <td>NaN</td>\n",
       "      <td>NaN</td>\n",
       "      <td>NaN</td>\n",
       "      <td>NaN</td>\n",
       "      <td>NaN</td>\n",
       "      <td>NaN</td>\n",
       "      <td>NaN</td>\n",
       "    </tr>\n",
       "    <tr>\n",
       "      <th>4</th>\n",
       "      <td>HastingsManufacturingCompany</td>\n",
       "      <td>L+8.25%</td>\n",
       "      <td>10.75%</td>\n",
       "      <td>4/24/2018</td>\n",
       "      <td>4/24/2023</td>\n",
       "      <td>2925</td>\n",
       "      <td>2875 $</td>\n",
       "      <td>2798 $</td>\n",
       "      <td>1.1</td>\n",
       "    </tr>\n",
       "    <tr>\n",
       "      <th>5</th>\n",
       "      <td>HastingsManufacturingCompany(DelayedDraw)(f)(g)</td>\n",
       "      <td>L+8.25%</td>\n",
       "      <td>10.75%</td>\n",
       "      <td>4/24/2018</td>\n",
       "      <td>4/24/2023</td>\n",
       "      <td>899</td>\n",
       "      <td>—</td>\n",
       "      <td>—</td>\n",
       "      <td>0.0</td>\n",
       "    </tr>\n",
       "    <tr>\n",
       "      <th>6</th>\n",
       "      <td>Magneto&amp;DieselAcquisition,Inc.</td>\n",
       "      <td>L+5.50%</td>\n",
       "      <td>8.00%</td>\n",
       "      <td>12/18/2018</td>\n",
       "      <td>12/18/2023</td>\n",
       "      <td>4987</td>\n",
       "      <td>4904</td>\n",
       "      <td>4965</td>\n",
       "      <td>1.9</td>\n",
       "    </tr>\n",
       "    <tr>\n",
       "      <th>7</th>\n",
       "      <td>Magneto&amp;DieselAcquisition,Inc.(Revolver)(f)</td>\n",
       "      <td>L+5.50%</td>\n",
       "      <td>8.00%</td>\n",
       "      <td>12/18/2018</td>\n",
       "      <td>12/18/2023</td>\n",
       "      <td>500</td>\n",
       "      <td>83</td>\n",
       "      <td>83</td>\n",
       "      <td>0.0</td>\n",
       "    </tr>\n",
       "    <tr>\n",
       "      <th>8</th>\n",
       "      <td>NaN</td>\n",
       "      <td>NaN</td>\n",
       "      <td>NaN</td>\n",
       "      <td>NaN</td>\n",
       "      <td>NaN</td>\n",
       "      <td>9311</td>\n",
       "      <td>7862</td>\n",
       "      <td>7846</td>\n",
       "      <td>3.0</td>\n",
       "    </tr>\n",
       "    <tr>\n",
       "      <th>9</th>\n",
       "      <td>Banking,Finance,Insurance&amp;RealEstate</td>\n",
       "      <td>NaN</td>\n",
       "      <td>NaN</td>\n",
       "      <td>NaN</td>\n",
       "      <td>NaN</td>\n",
       "      <td>NaN</td>\n",
       "      <td>NaN</td>\n",
       "      <td>NaN</td>\n",
       "      <td>NaN</td>\n",
       "    </tr>\n",
       "    <tr>\n",
       "      <th>10</th>\n",
       "      <td>EchelonFundingI,LLC(DelayedDraw)(f)(g)(h)</td>\n",
       "      <td>L+7.50%</td>\n",
       "      <td>9.99%</td>\n",
       "      <td>2/24/2017</td>\n",
       "      <td>2/24/2022</td>\n",
       "      <td>15750</td>\n",
       "      <td>15358</td>\n",
       "      <td>15374</td>\n",
       "      <td>5.9</td>\n",
       "    </tr>\n",
       "    <tr>\n",
       "      <th>11</th>\n",
       "      <td>HFZCapitalGroup,LLC(h)</td>\n",
       "      <td>L+10.17%</td>\n",
       "      <td>12.80%Cash/0.17%PIK</td>\n",
       "      <td>10/20/2017</td>\n",
       "      <td>10/21/2019</td>\n",
       "      <td>18000</td>\n",
       "      <td>17873</td>\n",
       "      <td>18000</td>\n",
       "      <td>6.9</td>\n",
       "    </tr>\n",
       "    <tr>\n",
       "      <th>12</th>\n",
       "      <td>HFZMemberRBPortfolioLLC(DelayedDraw)(f)(g)(h)</td>\n",
       "      <td>L+12.00%</td>\n",
       "      <td>14.62%</td>\n",
       "      <td>10/30/2018</td>\n",
       "      <td>10/29/2021</td>\n",
       "      <td>9000</td>\n",
       "      <td>4473</td>\n",
       "      <td>4469</td>\n",
       "      <td>1.7</td>\n",
       "    </tr>\n",
       "    <tr>\n",
       "      <th>13</th>\n",
       "      <td>LiftforwardSPVII,LLC(f)(h)</td>\n",
       "      <td>L+10.75%</td>\n",
       "      <td>13.25%</td>\n",
       "      <td>11/10/2016</td>\n",
       "      <td>11/10/2020</td>\n",
       "      <td>10000</td>\n",
       "      <td>4070</td>\n",
       "      <td>4105</td>\n",
       "      <td>1.6</td>\n",
       "    </tr>\n",
       "    <tr>\n",
       "      <th>14</th>\n",
       "      <td>PKSHoldings,LLC(h)</td>\n",
       "      <td>L+10.00%</td>\n",
       "      <td>12.49%</td>\n",
       "      <td>11/30/2017</td>\n",
       "      <td>11/30/2022</td>\n",
       "      <td>1733</td>\n",
       "      <td>1587</td>\n",
       "      <td>1712</td>\n",
       "      <td>0.8</td>\n",
       "    </tr>\n",
       "    <tr>\n",
       "      <th>15</th>\n",
       "      <td>PKSHoldings,LLC(Revolver)(f)(h)</td>\n",
       "      <td>L+10.00%</td>\n",
       "      <td>12.49%</td>\n",
       "      <td>11/30/2017</td>\n",
       "      <td>11/30/2022</td>\n",
       "      <td>80</td>\n",
       "      <td>—</td>\n",
       "      <td>—</td>\n",
       "      <td>0.0</td>\n",
       "    </tr>\n",
       "    <tr>\n",
       "      <th>16</th>\n",
       "      <td>NaN</td>\n",
       "      <td>NaN</td>\n",
       "      <td>NaN</td>\n",
       "      <td>NaN</td>\n",
       "      <td>NaN</td>\n",
       "      <td>54563</td>\n",
       "      <td>43361</td>\n",
       "      <td>43660</td>\n",
       "      <td>16.9</td>\n",
       "    </tr>\n",
       "    <tr>\n",
       "      <th>17</th>\n",
       "      <td>Beverage,Food&amp;Tobacco</td>\n",
       "      <td>NaN</td>\n",
       "      <td>NaN</td>\n",
       "      <td>NaN</td>\n",
       "      <td>NaN</td>\n",
       "      <td>NaN</td>\n",
       "      <td>NaN</td>\n",
       "      <td>NaN</td>\n",
       "      <td>NaN</td>\n",
       "    </tr>\n",
       "    <tr>\n",
       "      <th>18</th>\n",
       "      <td>CaliforniaPizzaKitchen,Inc.</td>\n",
       "      <td>L+6.00%</td>\n",
       "      <td>8.50%</td>\n",
       "      <td>8/19/2016</td>\n",
       "      <td>8/23/2022</td>\n",
       "      <td>6825</td>\n",
       "      <td>6778</td>\n",
       "      <td>6612</td>\n",
       "      <td>2.6</td>\n",
       "    </tr>\n",
       "    <tr>\n",
       "      <th>19</th>\n",
       "      <td>Toojay'sManagementLLC</td>\n",
       "      <td>L+5.50%</td>\n",
       "      <td>8.00%</td>\n",
       "      <td>10/26/2018</td>\n",
       "      <td>10/26/2022</td>\n",
       "      <td>3491</td>\n",
       "      <td>3428</td>\n",
       "      <td>3489</td>\n",
       "      <td>1.3</td>\n",
       "    </tr>\n",
       "    <tr>\n",
       "      <th>20</th>\n",
       "      <td>Toojay'sManagementLLC(DelayedDraw)(f)(g)</td>\n",
       "      <td>L+5.50%</td>\n",
       "      <td>8.00%</td>\n",
       "      <td>10/26/2018</td>\n",
       "      <td>10/26/2022</td>\n",
       "      <td>477</td>\n",
       "      <td>239</td>\n",
       "      <td>239</td>\n",
       "      <td>0.1</td>\n",
       "    </tr>\n",
       "    <tr>\n",
       "      <th>21</th>\n",
       "      <td>Toojay'sManagementLLC(Revolver)(f)</td>\n",
       "      <td>L+5.50%</td>\n",
       "      <td>8.00%</td>\n",
       "      <td>10/26/2018</td>\n",
       "      <td>10/26/2022</td>\n",
       "      <td>159</td>\n",
       "      <td>80</td>\n",
       "      <td>80</td>\n",
       "      <td>0.0</td>\n",
       "    </tr>\n",
       "    <tr>\n",
       "      <th>22</th>\n",
       "      <td>NaN</td>\n",
       "      <td>NaN</td>\n",
       "      <td>NaN</td>\n",
       "      <td>NaN</td>\n",
       "      <td>NaN</td>\n",
       "      <td>10952</td>\n",
       "      <td>10525</td>\n",
       "      <td>10420</td>\n",
       "      <td>4.0</td>\n",
       "    </tr>\n",
       "    <tr>\n",
       "      <th>23</th>\n",
       "      <td>Chemicals,Plastics&amp;Rubber</td>\n",
       "      <td>NaN</td>\n",
       "      <td>NaN</td>\n",
       "      <td>NaN</td>\n",
       "      <td>NaN</td>\n",
       "      <td>NaN</td>\n",
       "      <td>NaN</td>\n",
       "      <td>NaN</td>\n",
       "      <td>NaN</td>\n",
       "    </tr>\n",
       "    <tr>\n",
       "      <th>24</th>\n",
       "      <td>MidwestCompositeTechnologies,LLC</td>\n",
       "      <td>L+6.25%</td>\n",
       "      <td>8.75%</td>\n",
       "      <td>8/31/2018</td>\n",
       "      <td>8/31/2023</td>\n",
       "      <td>896</td>\n",
       "      <td>879</td>\n",
       "      <td>913</td>\n",
       "      <td>0.4</td>\n",
       "    </tr>\n",
       "    <tr>\n",
       "      <th>25</th>\n",
       "      <td>MidwestCompositeTechnologies,LLC(DelayedDraw)(...</td>\n",
       "      <td>L+6.25%</td>\n",
       "      <td>8.75%</td>\n",
       "      <td>8/31/2018</td>\n",
       "      <td>8/31/2023</td>\n",
       "      <td>600</td>\n",
       "      <td>—</td>\n",
       "      <td>—</td>\n",
       "      <td>0.0</td>\n",
       "    </tr>\n",
       "    <tr>\n",
       "      <th>26</th>\n",
       "      <td>MidwestCompositeTechnologies,LLC(Revolver)(f)</td>\n",
       "      <td>L+6.25%</td>\n",
       "      <td>8.75%</td>\n",
       "      <td>8/31/2018</td>\n",
       "      <td>8/31/2023</td>\n",
       "      <td>90</td>\n",
       "      <td>—</td>\n",
       "      <td>—</td>\n",
       "      <td>0.0</td>\n",
       "    </tr>\n",
       "    <tr>\n",
       "      <th>27</th>\n",
       "      <td>ValudorProductsLLC</td>\n",
       "      <td>L+7.50%</td>\n",
       "      <td>10.00%</td>\n",
       "      <td>6/18/2018</td>\n",
       "      <td>6/19/2023</td>\n",
       "      <td>1594</td>\n",
       "      <td>1566</td>\n",
       "      <td>1589</td>\n",
       "      <td>0.6</td>\n",
       "    </tr>\n",
       "    <tr>\n",
       "      <th>28</th>\n",
       "      <td>ValudorProductsLLC(j)</td>\n",
       "      <td>L+7.50%</td>\n",
       "      <td>10.00%</td>\n",
       "      <td>6/18/2018</td>\n",
       "      <td>6/19/2023</td>\n",
       "      <td>211</td>\n",
       "      <td>205</td>\n",
       "      <td>210</td>\n",
       "      <td>0.1</td>\n",
       "    </tr>\n",
       "    <tr>\n",
       "      <th>29</th>\n",
       "      <td>ValudorProductsLLC(Revolver)(f)</td>\n",
       "      <td>L+9.50%</td>\n",
       "      <td>12.00%</td>\n",
       "      <td>6/18/2018</td>\n",
       "      <td>6/19/2023</td>\n",
       "      <td>818</td>\n",
       "      <td>622</td>\n",
       "      <td>622</td>\n",
       "      <td>0.2</td>\n",
       "    </tr>\n",
       "    <tr>\n",
       "      <th>30</th>\n",
       "      <td>NaN</td>\n",
       "      <td>NaN</td>\n",
       "      <td>NaN</td>\n",
       "      <td>NaN</td>\n",
       "      <td>NaN</td>\n",
       "      <td>4209</td>\n",
       "      <td>3272</td>\n",
       "      <td>3334</td>\n",
       "      <td>1.3</td>\n",
       "    </tr>\n",
       "    <tr>\n",
       "      <th>31</th>\n",
       "      <td>Construction&amp;Building</td>\n",
       "      <td>NaN</td>\n",
       "      <td>NaN</td>\n",
       "      <td>NaN</td>\n",
       "      <td>NaN</td>\n",
       "      <td>NaN</td>\n",
       "      <td>NaN</td>\n",
       "      <td>NaN</td>\n",
       "      <td>NaN</td>\n",
       "    </tr>\n",
       "    <tr>\n",
       "      <th>32</th>\n",
       "      <td>CaliBamboo,LLC</td>\n",
       "      <td>L+6.25%</td>\n",
       "      <td>8.75%</td>\n",
       "      <td>7/10/2015</td>\n",
       "      <td>7/10/2020</td>\n",
       "      <td>7916</td>\n",
       "      <td>7843</td>\n",
       "      <td>7916</td>\n",
       "      <td>3.1</td>\n",
       "    </tr>\n",
       "    <tr>\n",
       "      <th>33</th>\n",
       "      <td>CaliBamboo,LLC(Revolver)(f)</td>\n",
       "      <td>L+6.25%</td>\n",
       "      <td>8.75%</td>\n",
       "      <td>7/10/2015</td>\n",
       "      <td>7/10/2020</td>\n",
       "      <td>2165</td>\n",
       "      <td>866</td>\n",
       "      <td>866</td>\n",
       "      <td>0.3</td>\n",
       "    </tr>\n",
       "    <tr>\n",
       "      <th>34</th>\n",
       "      <td>ConstructionSupplyAcquisition,LLC</td>\n",
       "      <td>L+6.00%</td>\n",
       "      <td>8.50%</td>\n",
       "      <td>11/27/2018</td>\n",
       "      <td>6/30/2023</td>\n",
       "      <td>4650</td>\n",
       "      <td>4628</td>\n",
       "      <td>4638</td>\n",
       "      <td>1.8</td>\n",
       "    </tr>\n",
       "    <tr>\n",
       "      <th>35</th>\n",
       "      <td>InlandPipeRehabilitationLLC</td>\n",
       "      <td>L+5.50%</td>\n",
       "      <td>8.10%</td>\n",
       "      <td>12/27/2018</td>\n",
       "      <td>12/26/2024</td>\n",
       "      <td>12469</td>\n",
       "      <td>12227</td>\n",
       "      <td>12431</td>\n",
       "      <td>4.8</td>\n",
       "    </tr>\n",
       "    <tr>\n",
       "      <th>36</th>\n",
       "      <td>InlandPipeRehabilitationLLC(Revolver)(f)</td>\n",
       "      <td>L+5.50%</td>\n",
       "      <td>8.00%</td>\n",
       "      <td>12/27/2018</td>\n",
       "      <td>12/26/2024</td>\n",
       "      <td>4118</td>\n",
       "      <td>2789</td>\n",
       "      <td>2789</td>\n",
       "      <td>1.1</td>\n",
       "    </tr>\n",
       "    <tr>\n",
       "      <th>37</th>\n",
       "      <td>NaN</td>\n",
       "      <td>NaN</td>\n",
       "      <td>NaN</td>\n",
       "      <td>NaN</td>\n",
       "      <td>NaN</td>\n",
       "      <td>31318</td>\n",
       "      <td>28353</td>\n",
       "      <td>28640</td>\n",
       "      <td>11.1</td>\n",
       "    </tr>\n",
       "    <tr>\n",
       "      <th>38</th>\n",
       "      <td>ConsumerGoods:Durable</td>\n",
       "      <td>NaN</td>\n",
       "      <td>NaN</td>\n",
       "      <td>NaN</td>\n",
       "      <td>NaN</td>\n",
       "      <td>NaN</td>\n",
       "      <td>NaN</td>\n",
       "      <td>NaN</td>\n",
       "      <td>NaN</td>\n",
       "    </tr>\n",
       "    <tr>\n",
       "      <th>39</th>\n",
       "      <td>NovaWildcatAmerock,LLC</td>\n",
       "      <td>L+5.75%</td>\n",
       "      <td>8.25%</td>\n",
       "      <td>10/12/2018</td>\n",
       "      <td>10/12/2023</td>\n",
       "      <td>9476</td>\n",
       "      <td>9301</td>\n",
       "      <td>9419</td>\n",
       "      <td>3.6</td>\n",
       "    </tr>\n",
       "    <tr>\n",
       "      <th>40</th>\n",
       "      <td>NovaWildcatAmerock,LLC(Revolver)(f)</td>\n",
       "      <td>L+5.75%</td>\n",
       "      <td>8.25%</td>\n",
       "      <td>10/12/2018</td>\n",
       "      <td>10/12/2023</td>\n",
       "      <td>931</td>\n",
       "      <td>106</td>\n",
       "      <td>106</td>\n",
       "      <td>0.0</td>\n",
       "    </tr>\n",
       "    <tr>\n",
       "      <th>41</th>\n",
       "      <td>ParterreFlooring&amp;SurfaceSystems,LLC(k)</td>\n",
       "      <td>L+7.25%</td>\n",
       "      <td>9.75%</td>\n",
       "      <td>8/22/2017</td>\n",
       "      <td>8/22/2022</td>\n",
       "      <td>11100</td>\n",
       "      <td>10938</td>\n",
       "      <td>10789</td>\n",
       "      <td>4.2</td>\n",
       "    </tr>\n",
       "    <tr>\n",
       "      <th>42</th>\n",
       "      <td>ParterreFlooring&amp;SurfaceSystems,LLC(Revolver)(f)</td>\n",
       "      <td>L+7.25%</td>\n",
       "      <td>9.75%</td>\n",
       "      <td>8/22/2017</td>\n",
       "      <td>8/22/2022</td>\n",
       "      <td>2400</td>\n",
       "      <td>696</td>\n",
       "      <td>675</td>\n",
       "      <td>0.3</td>\n",
       "    </tr>\n",
       "    <tr>\n",
       "      <th>43</th>\n",
       "      <td>NaN</td>\n",
       "      <td>NaN</td>\n",
       "      <td>NaN</td>\n",
       "      <td>NaN</td>\n",
       "      <td>NaN</td>\n",
       "      <td>23907</td>\n",
       "      <td>21041</td>\n",
       "      <td>20989</td>\n",
       "      <td>8.1</td>\n",
       "    </tr>\n",
       "    <tr>\n",
       "      <th>44</th>\n",
       "      <td>ConsumerGoods:Non-Durable</td>\n",
       "      <td>NaN</td>\n",
       "      <td>NaN</td>\n",
       "      <td>NaN</td>\n",
       "      <td>NaN</td>\n",
       "      <td>NaN</td>\n",
       "      <td>NaN</td>\n",
       "      <td>NaN</td>\n",
       "      <td>NaN</td>\n",
       "    </tr>\n",
       "    <tr>\n",
       "      <th>45</th>\n",
       "      <td>QuirchFoodsHoldings,LLC</td>\n",
       "      <td>L+6.00%</td>\n",
       "      <td>8.49%</td>\n",
       "      <td>2/14/2019</td>\n",
       "      <td>12/19/2025</td>\n",
       "      <td>1995</td>\n",
       "      <td>1975</td>\n",
       "      <td>2005</td>\n",
       "      <td>0.8</td>\n",
       "    </tr>\n",
       "    <tr>\n",
       "      <th>46</th>\n",
       "      <td>NaN</td>\n",
       "      <td>NaN</td>\n",
       "      <td>NaN</td>\n",
       "      <td>NaN</td>\n",
       "      <td>NaN</td>\n",
       "      <td>1995</td>\n",
       "      <td>1975</td>\n",
       "      <td>2005</td>\n",
       "      <td>0.8</td>\n",
       "    </tr>\n",
       "    <tr>\n",
       "      <th>47</th>\n",
       "      <td>Energy:Oil&amp;Gas</td>\n",
       "      <td>NaN</td>\n",
       "      <td>NaN</td>\n",
       "      <td>NaN</td>\n",
       "      <td>NaN</td>\n",
       "      <td>NaN</td>\n",
       "      <td>NaN</td>\n",
       "      <td>NaN</td>\n",
       "      <td>NaN</td>\n",
       "    </tr>\n",
       "    <tr>\n",
       "      <th>48</th>\n",
       "      <td>BJServices,LLC</td>\n",
       "      <td>L+7.00%</td>\n",
       "      <td>9.65%</td>\n",
       "      <td>1/28/2019</td>\n",
       "      <td>1/3/2023</td>\n",
       "      <td>4500</td>\n",
       "      <td>4458</td>\n",
       "      <td>4498</td>\n",
       "      <td>1.7</td>\n",
       "    </tr>\n",
       "    <tr>\n",
       "      <th>49</th>\n",
       "      <td>Landpoint,LLC</td>\n",
       "      <td>L+10.50%</td>\n",
       "      <td>13.00%</td>\n",
       "      <td>12/17/2013</td>\n",
       "      <td>12/20/2019</td>\n",
       "      <td>2256</td>\n",
       "      <td>2254</td>\n",
       "      <td>2251</td>\n",
       "      <td>0.9</td>\n",
       "    </tr>\n",
       "    <tr>\n",
       "      <th>50</th>\n",
       "      <td>Landpoint,LLC(Revolver)(f)</td>\n",
       "      <td>L+10.50%</td>\n",
       "      <td>13.00%</td>\n",
       "      <td>12/17/2013</td>\n",
       "      <td>12/20/2019</td>\n",
       "      <td>313</td>\n",
       "      <td>—</td>\n",
       "      <td>—</td>\n",
       "      <td>0.0</td>\n",
       "    </tr>\n",
       "    <tr>\n",
       "      <th>51</th>\n",
       "      <td>NaN</td>\n",
       "      <td>NaN</td>\n",
       "      <td>NaN</td>\n",
       "      <td>NaN</td>\n",
       "      <td>NaN</td>\n",
       "      <td>7069</td>\n",
       "      <td>6712</td>\n",
       "      <td>6749</td>\n",
       "      <td>2.6</td>\n",
       "    </tr>\n",
       "  </tbody>\n",
       "</table>\n",
       "</div>"
      ],
      "text/plain": [
       "                                    Portfolio_Company   Spread_Above_Index  \\\n",
       "0                                 PortfolioCompany(a)  SpreadAboveIndex(b)   \n",
       "1      Non-Controlled/Non-AffiliateCompanyInvestments                  NaN   \n",
       "2                                  SeniorSecuredLoans                  NaN   \n",
       "3                                          Automotive                  NaN   \n",
       "4                        HastingsManufacturingCompany              L+8.25%   \n",
       "5     HastingsManufacturingCompany(DelayedDraw)(f)(g)              L+8.25%   \n",
       "6                      Magneto&DieselAcquisition,Inc.              L+5.50%   \n",
       "7         Magneto&DieselAcquisition,Inc.(Revolver)(f)              L+5.50%   \n",
       "8                                                 NaN                  NaN   \n",
       "9                Banking,Finance,Insurance&RealEstate                  NaN   \n",
       "10          EchelonFundingI,LLC(DelayedDraw)(f)(g)(h)              L+7.50%   \n",
       "11                             HFZCapitalGroup,LLC(h)             L+10.17%   \n",
       "12      HFZMemberRBPortfolioLLC(DelayedDraw)(f)(g)(h)             L+12.00%   \n",
       "13                         LiftforwardSPVII,LLC(f)(h)             L+10.75%   \n",
       "14                                 PKSHoldings,LLC(h)             L+10.00%   \n",
       "15                    PKSHoldings,LLC(Revolver)(f)(h)             L+10.00%   \n",
       "16                                                NaN                  NaN   \n",
       "17                              Beverage,Food&Tobacco                  NaN   \n",
       "18                        CaliforniaPizzaKitchen,Inc.              L+6.00%   \n",
       "19                              Toojay'sManagementLLC              L+5.50%   \n",
       "20           Toojay'sManagementLLC(DelayedDraw)(f)(g)              L+5.50%   \n",
       "21                 Toojay'sManagementLLC(Revolver)(f)              L+5.50%   \n",
       "22                                                NaN                  NaN   \n",
       "23                          Chemicals,Plastics&Rubber                  NaN   \n",
       "24                   MidwestCompositeTechnologies,LLC              L+6.25%   \n",
       "25  MidwestCompositeTechnologies,LLC(DelayedDraw)(...              L+6.25%   \n",
       "26      MidwestCompositeTechnologies,LLC(Revolver)(f)              L+6.25%   \n",
       "27                                 ValudorProductsLLC              L+7.50%   \n",
       "28                              ValudorProductsLLC(j)              L+7.50%   \n",
       "29                    ValudorProductsLLC(Revolver)(f)              L+9.50%   \n",
       "30                                                NaN                  NaN   \n",
       "31                              Construction&Building                  NaN   \n",
       "32                                     CaliBamboo,LLC              L+6.25%   \n",
       "33                        CaliBamboo,LLC(Revolver)(f)              L+6.25%   \n",
       "34                  ConstructionSupplyAcquisition,LLC              L+6.00%   \n",
       "35                        InlandPipeRehabilitationLLC              L+5.50%   \n",
       "36           InlandPipeRehabilitationLLC(Revolver)(f)              L+5.50%   \n",
       "37                                                NaN                  NaN   \n",
       "38                              ConsumerGoods:Durable                  NaN   \n",
       "39                             NovaWildcatAmerock,LLC              L+5.75%   \n",
       "40                NovaWildcatAmerock,LLC(Revolver)(f)              L+5.75%   \n",
       "41             ParterreFlooring&SurfaceSystems,LLC(k)              L+7.25%   \n",
       "42   ParterreFlooring&SurfaceSystems,LLC(Revolver)(f)              L+7.25%   \n",
       "43                                                NaN                  NaN   \n",
       "44                          ConsumerGoods:Non-Durable                  NaN   \n",
       "45                            QuirchFoodsHoldings,LLC              L+6.00%   \n",
       "46                                                NaN                  NaN   \n",
       "47                                     Energy:Oil&Gas                  NaN   \n",
       "48                                     BJServices,LLC              L+7.00%   \n",
       "49                                      Landpoint,LLC             L+10.50%   \n",
       "50                         Landpoint,LLC(Revolver)(f)             L+10.50%   \n",
       "51                                                NaN                  NaN   \n",
       "\n",
       "          Interest_Rate     Aquisition_Date    Maturity Principal/Shares  \\\n",
       "0          InterestRate  AcquisitionDate(c)    Maturity        Principal   \n",
       "1                   NaN                 NaN         NaN              NaN   \n",
       "2                   NaN                 NaN         NaN              NaN   \n",
       "3                   NaN                 NaN         NaN              NaN   \n",
       "4                10.75%           4/24/2018   4/24/2023             2925   \n",
       "5                10.75%           4/24/2018   4/24/2023              899   \n",
       "6                 8.00%          12/18/2018  12/18/2023             4987   \n",
       "7                 8.00%          12/18/2018  12/18/2023              500   \n",
       "8                   NaN                 NaN         NaN             9311   \n",
       "9                   NaN                 NaN         NaN              NaN   \n",
       "10                9.99%           2/24/2017   2/24/2022            15750   \n",
       "11  12.80%Cash/0.17%PIK          10/20/2017  10/21/2019            18000   \n",
       "12               14.62%          10/30/2018  10/29/2021             9000   \n",
       "13               13.25%          11/10/2016  11/10/2020            10000   \n",
       "14               12.49%          11/30/2017  11/30/2022             1733   \n",
       "15               12.49%          11/30/2017  11/30/2022               80   \n",
       "16                  NaN                 NaN         NaN            54563   \n",
       "17                  NaN                 NaN         NaN              NaN   \n",
       "18                8.50%           8/19/2016   8/23/2022             6825   \n",
       "19                8.00%          10/26/2018  10/26/2022             3491   \n",
       "20                8.00%          10/26/2018  10/26/2022              477   \n",
       "21                8.00%          10/26/2018  10/26/2022              159   \n",
       "22                  NaN                 NaN         NaN            10952   \n",
       "23                  NaN                 NaN         NaN              NaN   \n",
       "24                8.75%           8/31/2018   8/31/2023              896   \n",
       "25                8.75%           8/31/2018   8/31/2023              600   \n",
       "26                8.75%           8/31/2018   8/31/2023               90   \n",
       "27               10.00%           6/18/2018   6/19/2023             1594   \n",
       "28               10.00%           6/18/2018   6/19/2023              211   \n",
       "29               12.00%           6/18/2018   6/19/2023              818   \n",
       "30                  NaN                 NaN         NaN             4209   \n",
       "31                  NaN                 NaN         NaN              NaN   \n",
       "32                8.75%           7/10/2015   7/10/2020             7916   \n",
       "33                8.75%           7/10/2015   7/10/2020             2165   \n",
       "34                8.50%          11/27/2018   6/30/2023             4650   \n",
       "35                8.10%          12/27/2018  12/26/2024            12469   \n",
       "36                8.00%          12/27/2018  12/26/2024             4118   \n",
       "37                  NaN                 NaN         NaN            31318   \n",
       "38                  NaN                 NaN         NaN              NaN   \n",
       "39                8.25%          10/12/2018  10/12/2023             9476   \n",
       "40                8.25%          10/12/2018  10/12/2023              931   \n",
       "41                9.75%           8/22/2017   8/22/2022            11100   \n",
       "42                9.75%           8/22/2017   8/22/2022             2400   \n",
       "43                  NaN                 NaN         NaN            23907   \n",
       "44                  NaN                 NaN         NaN              NaN   \n",
       "45                8.49%           2/14/2019  12/19/2025             1995   \n",
       "46                  NaN                 NaN         NaN             1995   \n",
       "47                  NaN                 NaN         NaN              NaN   \n",
       "48                9.65%           1/28/2019    1/3/2023             4500   \n",
       "49               13.00%          12/17/2013  12/20/2019             2256   \n",
       "50               13.00%          12/17/2013  12/20/2019              313   \n",
       "51                  NaN                 NaN         NaN             7069   \n",
       "\n",
       "             cost    fair_value   of_Net_Assets  \n",
       "0   AmortizedCost  FairValue(d)  ofNetAssets(e)  \n",
       "1             NaN           NaN             NaN  \n",
       "2             NaN           NaN             NaN  \n",
       "3             NaN           NaN             NaN  \n",
       "4          2875 $        2798 $             1.1  \n",
       "5               —             —             0.0  \n",
       "6            4904          4965             1.9  \n",
       "7              83            83             0.0  \n",
       "8            7862          7846             3.0  \n",
       "9             NaN           NaN             NaN  \n",
       "10          15358         15374             5.9  \n",
       "11          17873         18000             6.9  \n",
       "12           4473          4469             1.7  \n",
       "13           4070          4105             1.6  \n",
       "14           1587          1712             0.8  \n",
       "15              —             —             0.0  \n",
       "16          43361         43660            16.9  \n",
       "17            NaN           NaN             NaN  \n",
       "18           6778          6612            2.6   \n",
       "19           3428          3489             1.3  \n",
       "20            239           239             0.1  \n",
       "21             80            80             0.0  \n",
       "22          10525         10420             4.0  \n",
       "23            NaN           NaN             NaN  \n",
       "24            879           913             0.4  \n",
       "25              —             —             0.0  \n",
       "26              —             —             0.0  \n",
       "27           1566          1589             0.6  \n",
       "28            205           210             0.1  \n",
       "29            622           622             0.2  \n",
       "30           3272          3334             1.3  \n",
       "31            NaN           NaN             NaN  \n",
       "32           7843          7916             3.1  \n",
       "33            866           866             0.3  \n",
       "34           4628          4638             1.8  \n",
       "35          12227         12431             4.8  \n",
       "36           2789          2789             1.1  \n",
       "37          28353         28640            11.1  \n",
       "38            NaN           NaN             NaN  \n",
       "39           9301          9419             3.6  \n",
       "40            106           106             0.0  \n",
       "41          10938         10789             4.2  \n",
       "42            696           675             0.3  \n",
       "43          21041         20989             8.1  \n",
       "44            NaN           NaN             NaN  \n",
       "45           1975          2005             0.8  \n",
       "46           1975          2005             0.8  \n",
       "47            NaN           NaN             NaN  \n",
       "48           4458          4498             1.7  \n",
       "49           2254          2251             0.9  \n",
       "50              —             —             0.0  \n",
       "51           6712          6749            2.6   "
      ]
     },
     "metadata": {},
     "output_type": "display_data"
    },
    {
     "data": {
      "text/plain": [
       "0"
      ]
     },
     "execution_count": 12,
     "metadata": {},
     "output_type": "execute_result"
    }
   ],
   "source": [
    "file_path = r'2019-03-31\\Schedule_of_Investments_0.csv'\n",
    "\n",
    "\n",
    "def standard_field_names()->tuple:\n",
    "    return (\n",
    "        'Portfolio Company',\n",
    "        'Industry',\n",
    "        'Spread Above Index',\n",
    "        'Aquisition Date',\n",
    "        'Interest Rate',\n",
    "        'Maturity',\n",
    "        'Principal/Shares',\n",
    "        'Investment Type',\n",
    "        'of Net Assets',\n",
    "        'business description',\n",
    "        'type of investment',\n",
    "        'investment date',\n",
    "        'reference rate and spread',\n",
    "        'pik rate',\n",
    "        'maturity date',\n",
    "        'cost',\n",
    "        'footnotes',\n",
    "        'industry',\n",
    "        'principal amount', # TODO change stand names for more dynamic fuzzywuzzy matching\n",
    "        'fair value',\n",
    "    )\n",
    "\n",
    "\n",
    "def _clean(\n",
    "    file_path:str,\n",
    "    except_rows:str,\n",
    "    merged_pair_idxs:dict={},\n",
    ")->pd.DataFrame:\n",
    "    df = pd.read_csv(file_path,index_col=0,na_values=[' ', ''])\n",
    "    # df.replace(['\\xa0','\\u200b',r'^\\s$',r'^\\s%'],np.nan,regex=True,inplace=True) #':','$','%' r'^\\s*$',r'^\\s*%'\n",
    "    df.replace(['\\xa0','\\u200b',r'^\\s*$',r'^\\s*%',' ','˄'],'',regex=True,inplace=True)\n",
    "    df = df.applymap(lambda x: x.strip() if isinstance(x, str) else x)\n",
    "    df.dropna(axis=0,how='all',inplace=True)\n",
    "    df = df[~df.apply(lambda row:row.astype(str).str.contains(except_rows,case=False, na=False).any(),axis=1)]\n",
    "    if not merged_pair_idxs:\n",
    "        important_fields = strip_string(get_header_rows(df),standardize=True)#get_key_fields(df)\n",
    "        display(important_fields)\n",
    "        df.columns = important_fields\n",
    "\n",
    "    df,merge_pair_idxs = merge_duplicate_columns(df,merged_pair_idxs=merged_pair_idxs)\n",
    "    duplicate_idx = df.apply(lambda row:row[pd.to_numeric(row,errors='coerce').isna()].duplicated().sum() > 1 ,axis=1)\n",
    "    clean_rows = df.loc[duplicate_idx].apply(remove_row_duplicates, axis=1).reset_index(drop=True)\n",
    "    j = 0\n",
    "    for i,flag in enumerate(duplicate_idx):\n",
    "        if not flag:\n",
    "            continue\n",
    "        df.iloc[i,:] = clean_rows.loc[j,:]\n",
    "        j += 1\n",
    "    df.replace([r'^\\s*$'],np.nan,regex=True,inplace=True) #':','$','%'\n",
    "    df.dropna(axis=1,how='all',inplace=True)\n",
    "    \n",
    "    columns = (~df.isna()).sum(axis=0) <= 4  if df.shape[0] > 15 else 1\n",
    "    df.drop(columns=df.columns[columns],inplace=True)\n",
    "    return df.reset_index(drop=True),merge_pair_idxs\n",
    "\n",
    "\n",
    "def get_header_rows(\n",
    "    df_cur:pd.DataFrame,\n",
    ")->tuple:\n",
    "    for idx,row in df_cur.iterrows():\n",
    "        found = any(str(v).replace(\"$\",'').replace(\"%\",'').isnumeric() for v in row)\n",
    "        if found:\n",
    "            out = df_cur.iloc[:idx - 1,:].apply(lambda row: ' '.join(row[row.notna()].values), axis=0)\n",
    "            return out\n",
    "    \n",
    "    return strip_string(df_cur.iloc[0].tolist())\n",
    "\n",
    "ex = exceptions()\n",
    "ex_rows = '|'.join(except_rows())\n",
    "df,merged_pair_idxs = _clean(file_path,except_rows=ex_rows,merged_pair_idxs={})\n",
    "display(df)\n",
    "# display(merged_pair_idxs)\n",
    "index_list = df.apply(\n",
    "    lambda row:row.astype(str).str.contains(stopping_criterion(None), case=False, na=False).any(),\n",
    "    axis=1\n",
    ")\n",
    "index_list_sum = index_list.sum()\n",
    "index_list_sum"
   ]
  }
 ],
 "metadata": {
  "kernelspec": {
   "display_name": "sec_windows",
   "language": "python",
   "name": "python3"
  },
  "language_info": {
   "codemirror_mode": {
    "name": "ipython",
    "version": 3
   },
   "file_extension": ".py",
   "mimetype": "text/x-python",
   "name": "python",
   "nbconvert_exporter": "python",
   "pygments_lexer": "ipython3",
   "version": "3.10.11"
  }
 },
 "nbformat": 4,
 "nbformat_minor": 2
}
